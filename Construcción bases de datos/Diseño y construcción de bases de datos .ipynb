{
 "cells": [
  {
   "cell_type": "markdown",
   "id": "accompanied-knife",
   "metadata": {},
   "source": [
    "# Diseño y Construcción de Bases de Datos "
   ]
  },
  {
   "cell_type": "markdown",
   "id": "found-accounting",
   "metadata": {},
   "source": [
    "###  Tabla de contenido\n",
    "\n",
    "* [1. Introducción](#Introducción)\n",
    "* [2. Esquema Entidad-Relación](#Esquema)\n",
    "* [3. Descripción de procedimientos](#Descripcion)\n",
    "* [4. Consultas](#Consultas)\n",
    "* [Referencias](#Referencias)"
   ]
  },
  {
   "cell_type": "markdown",
   "id": "collaborative-offset",
   "metadata": {},
   "source": [
    "# Introducción "
   ]
  },
  {
   "cell_type": "markdown",
   "id": "actual-solomon",
   "metadata": {},
   "source": [
    "En el manejo de grandes volumenes de datos que se generan en redes sociales, mercados financieros, sensores y demás, es necesario diseñar y construir formas y algoritmos que nos permitan manejar esaa información. Esto con el fin de extraer conclusiones útiles para los procesos en donde se tomaron. Con esto en mente, en este ensayo se presenta una breve introducción al diseño y construcción de cinco bases de datos diferentes, que se pueden consultar en el [sitio web de mysql](https://dev.mysql.com/doc/index-other.html), las cuales son: \n",
    "\n",
    "> * [Employee data](https://dev.mysql.com/doc/employee/en/employees-introduction.html): Describe la base de datos de una parte de los empleados de una compañía.\n",
    "\n",
    "> * [World](https://dev.mysql.com/doc/world-setup/en/world-setup-preface.html): Describe una muestra de países del mundo, en donde se da información sobre una muestra de países, algunas ciudades y los idiomas que se hablan allí. \n",
    "\n",
    "> * [World_x](https://dev.mysql.com/doc/world-x-setup/en/world-x-setup-installation.html): Es una base similar a la anterior con otra muestra de países. \n",
    "\n",
    "> * [Sakila](https://dev.mysql.com/doc/sakila/en/sakila-introduction.html): Es una de las bases de datos de ejemplo más populares de Mysql. Contiene información de una empresa dedicada al alquiler de películas. \n",
    "\n",
    "> * [Menagerie](https://dev.mysql.com/doc/index-other.html): Contiene información sobre de mascotas."
   ]
  },
  {
   "cell_type": "markdown",
   "id": "written-integer",
   "metadata": {},
   "source": [
    "# Esquema Entidad-Relación <a id=\"Esquema\"></a> "
   ]
  },
  {
   "cell_type": "markdown",
   "id": "short-sentence",
   "metadata": {},
   "source": [
    "La cantidad de información y de  datos que se pueden recoger en diferentes instancias pueden tener gran variedad, es decir, puede tratarse de datos estructurados y no estructurados. Aquí nos restringuimos a datos estructurados donde se puede aplicar un tipo de esquema de entidad relación, los cuales se derivan de las relaciones de álgebra relacional. \n",
    "\n",
    "Una ventaja de los esquema de entidad relación es que nos permite ver graficamente como se establecen las relaciones entre las diferentes tablas de nuestra base de datos. Una herramienta que nos ayuda mucho en este proceso es [dbeaver](https://dbeaver.io/). De esta manera, primero veamos el esquema para la base de datos [Employee data](https://dev.mysql.com/doc/employee/en/employees-introduction.html)\n",
    "\n",
    "<img src=\"EmployeeER.png\">\n"
   ]
  },
  {
   "cell_type": "markdown",
   "id": "exclusive-corporation",
   "metadata": {},
   "source": [
    "En el diagrama anterior vemos que tenemos ocho entidades o tablas, cuyos nombres aparecen en la parte superior de cada recuadro, junto con la información disponible en cada tabla y su llave primaria; la cual sirve para identificar cada registro echo. De estas tablas, dos de ellas *dept_emp_lastesdate* y *current_dept_emp* no tienen relación con otras entidades. Por otro lado, la tabla *departaments* se relaciona con la tablas *dept_emp* y *dept_manager*. Por su parte *employees* se relaciona con *dept_emp, dept_manager, salaries* y *titles*. "
   ]
  },
  {
   "cell_type": "markdown",
   "id": "other-configuration",
   "metadata": {},
   "source": [
    "Ahora, para la siguiente base de datos [World](https://dev.mysql.com/doc/world-setup/en/world-setup-preface.html), se tienen tres entidades. La tabla *country* y *city* presentan una relación uno a muchos la cual no es obligatoria, esto se señala por la línea punteada. Por otro lado, *country* y *countrylanguage* presentan una relación uno a muchos y es obligatoria, esto se señala con la línea completa.\n",
    "\n",
    "\n",
    "<img src=\"world.png\">\n",
    "\n"
   ]
  },
  {
   "cell_type": "markdown",
   "id": "korean-decision",
   "metadata": {},
   "source": [
    "Para [World_x](https://dev.mysql.com/doc/world-x-setup/en/world-x-setup-installation.html), se tienen tres entidades; de las cuales *city* no se relaciona con ninguna otra y *countrylanguage* y *country* presentan una relación de uno a muchos. \n",
    "\n",
    "<img src=\"worldx.png\">"
   ]
  },
  {
   "cell_type": "markdown",
   "id": "collaborative-connectivity",
   "metadata": {},
   "source": [
    "Para la base de datos de [Sakila](https://dev.mysql.com/doc/sakila/en/sakila-introduction.html), se tiene un diagrama mucho más robusto, el cual se puede ver en la siguiente figura\n",
    "\n",
    "<img src=\"sakila.png\">"
   ]
  },
  {
   "cell_type": "markdown",
   "id": "metallic-valve",
   "metadata": {},
   "source": [
    "Para la última base de datos [Menagerie](https://dev.mysql.com/doc/index-other.html), se obtiene un diagrama más sencillo. Donde se tienen dos tablas sin ninguna relación entre ellas. \n",
    "\n",
    "<img src=\"mena.png\">"
   ]
  },
  {
   "cell_type": "markdown",
   "id": "blind-incentive",
   "metadata": {},
   "source": [
    "# Descripción de Procedimientos <a id=\"Descripcion\"></a> "
   ]
  },
  {
   "cell_type": "markdown",
   "id": "completed-green",
   "metadata": {},
   "source": [
    "Ahora, veamos tres conceptos importantes en el manejo de bases de datos:\n",
    "\n",
    "> * [Procedimiento Almacenado](https://www.neoguias.com/procedimientos-almacenados-mysql/): Porción de código que se guarda y se reutiliza. Es muy útil para se repite la misma tarea muchas veces. Su sintaxis \n",
    "es \n",
    "\n",
    "CREATE PROCEDURE nombre_procedimiento\n",
    "AS\n",
    "sentencias_sql\n",
    "GO;\n",
    "\n",
    "Para ejecutar se ejecuta el siguiente comando \n",
    "\n",
    "EXEC nombre_procedimiento (param1, param2, ....);\n",
    "\n",
    "> * [Función](http://appl.transexpress.com.sv/misdocs/dsiw1/Guia%20Funciones%20y%20Triggers.pdf): Por su parte una función es una rutina que se crea para tomar unos parámetros, procesarlos y devolver una salida. Son diferentes a los procedimientos porque solo pueden tener parámetros de entrada y no parámetros de salida, además devuelven un valor individual con un tipo de dato definido, mientras los procedimientos permiten la salida de un conjunto de registros sin necesidad de tener el tipo de datos definidos\n",
    "\n",
    "> * [Trigger o Disparador](http://appl.transexpress.com.sv/misdocs/dsiw1/Guia%20Funciones%20y%20Triggers.pdf): Es un programa almacenado que se ejecuta cuando sucede un evento en el desarrollo de nuestra base de datos. Estos sirven para proteger, restringir o preparar la información de nuestra base de datos"
   ]
  },
  {
   "cell_type": "markdown",
   "id": "guilty-letter",
   "metadata": {},
   "source": [
    "# Consultas <a id=\"Consultas\"></a> "
   ]
  },
  {
   "cell_type": "markdown",
   "id": "sized-scheme",
   "metadata": {},
   "source": [
    "Las consultas son operaciones del algebra relacional que hacemos en nuestra base de datos. Veamos algunos ejemplos en la base de datos [Sakila](https://dev.mysql.com/doc/sakila/en/sakila-introduction.html)."
   ]
  },
  {
   "cell_type": "markdown",
   "id": "unknown-frequency",
   "metadata": {},
   "source": [
    "Primero veamos las bases de datos existentes en nuestro repositorio local "
   ]
  },
  {
   "cell_type": "code",
   "execution_count": 2,
   "id": "clean-priority",
   "metadata": {},
   "outputs": [
    {
     "data": {
      "text/html": [
       "<html><body><table border=\"1\"><tr><th style=\"text-align:left;white-space:pre\">Database</th></tr><tr><td style=\"text-align:left;white-space:pre\">birdwatchers</td></tr><tr><td style=\"text-align:left;white-space:pre\">employees</td></tr><tr><td style=\"text-align:left;white-space:pre\">information_schema</td></tr><tr><td style=\"text-align:left;white-space:pre\">menagerie</td></tr><tr><td style=\"text-align:left;white-space:pre\">musica</td></tr><tr><td style=\"text-align:left;white-space:pre\">mysql</td></tr><tr><td style=\"text-align:left;white-space:pre\">performance_schema</td></tr><tr><td style=\"text-align:left;white-space:pre\">rookery</td></tr><tr><td style=\"text-align:left;white-space:pre\">sakila</td></tr><tr><td style=\"text-align:left;white-space:pre\">test</td></tr><tr><td style=\"text-align:left;white-space:pre\">world</td></tr><tr><td style=\"text-align:left;white-space:pre\">world_x</td></tr></table></body></html>"
      ]
     },
     "metadata": {},
     "output_type": "display_data"
    }
   ],
   "source": [
    "SHOW DATABASES;"
   ]
  },
  {
   "cell_type": "markdown",
   "id": "third-willow",
   "metadata": {},
   "source": [
    "Seleccionamos sakila"
   ]
  },
  {
   "cell_type": "code",
   "execution_count": 3,
   "id": "alike-matrix",
   "metadata": {},
   "outputs": [
    {
     "data": {
      "text/html": [
       "Query OK"
      ]
     },
     "metadata": {},
     "output_type": "display_data"
    }
   ],
   "source": [
    "USE sakila;"
   ]
  },
  {
   "cell_type": "markdown",
   "id": "crude-final",
   "metadata": {},
   "source": [
    "Pedimos que nos muestre todas las tablas, y el tipo de tabla. "
   ]
  },
  {
   "cell_type": "code",
   "execution_count": 4,
   "id": "twenty-confidence",
   "metadata": {},
   "outputs": [
    {
     "data": {
      "text/html": [
       "<html><body><table border=\"1\"><tr><th style=\"text-align:left;white-space:pre\">Tables_in_sakila</th><th style=\"text-align:left;white-space:pre\">Table_type</th></tr><tr><td style=\"text-align:left;white-space:pre\">actor</td><td style=\"text-align:left;white-space:pre\">BASE TABLE</td></tr><tr><td style=\"text-align:left;white-space:pre\">actor_info</td><td style=\"text-align:left;white-space:pre\">VIEW</td></tr><tr><td style=\"text-align:left;white-space:pre\">address</td><td style=\"text-align:left;white-space:pre\">BASE TABLE</td></tr><tr><td style=\"text-align:left;white-space:pre\">category</td><td style=\"text-align:left;white-space:pre\">BASE TABLE</td></tr><tr><td style=\"text-align:left;white-space:pre\">city</td><td style=\"text-align:left;white-space:pre\">BASE TABLE</td></tr><tr><td style=\"text-align:left;white-space:pre\">country</td><td style=\"text-align:left;white-space:pre\">BASE TABLE</td></tr><tr><td style=\"text-align:left;white-space:pre\">customer</td><td style=\"text-align:left;white-space:pre\">BASE TABLE</td></tr><tr><td style=\"text-align:left;white-space:pre\">customer_list</td><td style=\"text-align:left;white-space:pre\">VIEW</td></tr><tr><td style=\"text-align:left;white-space:pre\">film</td><td style=\"text-align:left;white-space:pre\">BASE TABLE</td></tr><tr><td style=\"text-align:left;white-space:pre\">film_actor</td><td style=\"text-align:left;white-space:pre\">BASE TABLE</td></tr><tr><td style=\"text-align:left;white-space:pre\">film_category</td><td style=\"text-align:left;white-space:pre\">BASE TABLE</td></tr><tr><td style=\"text-align:left;white-space:pre\">film_list</td><td style=\"text-align:left;white-space:pre\">VIEW</td></tr><tr><td style=\"text-align:left;white-space:pre\">film_text</td><td style=\"text-align:left;white-space:pre\">BASE TABLE</td></tr><tr><td style=\"text-align:left;white-space:pre\">inventory</td><td style=\"text-align:left;white-space:pre\">BASE TABLE</td></tr><tr><td style=\"text-align:left;white-space:pre\">language</td><td style=\"text-align:left;white-space:pre\">BASE TABLE</td></tr><tr><td style=\"text-align:left;white-space:pre\">nicer_but_slower_film_list</td><td style=\"text-align:left;white-space:pre\">VIEW</td></tr><tr><td style=\"text-align:left;white-space:pre\">payment</td><td style=\"text-align:left;white-space:pre\">BASE TABLE</td></tr><tr><td style=\"text-align:left;white-space:pre\">rental</td><td style=\"text-align:left;white-space:pre\">BASE TABLE</td></tr><tr><td style=\"text-align:left;white-space:pre\">sales_by_film_category</td><td style=\"text-align:left;white-space:pre\">VIEW</td></tr><tr><td style=\"text-align:left;white-space:pre\">sales_by_store</td><td style=\"text-align:left;white-space:pre\">VIEW</td></tr><tr><td style=\"text-align:left;white-space:pre\">staff</td><td style=\"text-align:left;white-space:pre\">BASE TABLE</td></tr><tr><td style=\"text-align:left;white-space:pre\">staff_list</td><td style=\"text-align:left;white-space:pre\">VIEW</td></tr><tr><td style=\"text-align:left;white-space:pre\">store</td><td style=\"text-align:left;white-space:pre\">BASE TABLE</td></tr></table></body></html>"
      ]
     },
     "metadata": {},
     "output_type": "display_data"
    }
   ],
   "source": [
    "SHOW FULL TABLES;"
   ]
  },
  {
   "cell_type": "markdown",
   "id": "strong-beaver",
   "metadata": {},
   "source": [
    "Ahora, contamos el número de películas totales "
   ]
  },
  {
   "cell_type": "code",
   "execution_count": 6,
   "id": "smoking-russell",
   "metadata": {},
   "outputs": [
    {
     "data": {
      "text/html": [
       "<html><body><table border=\"1\"><tr><th style=\"text-align:left;white-space:pre\">COUNT(*)</th></tr><tr><td style=\"text-align:left;white-space:pre\">1000</td></tr></table></body></html>"
      ]
     },
     "metadata": {},
     "output_type": "display_data"
    }
   ],
   "source": [
    "SELECT COUNT(*) FROM film;"
   ]
  },
  {
   "cell_type": "markdown",
   "id": "sacred-saint",
   "metadata": {},
   "source": [
    "Ahora hacemos una liste de nombre completo de actores ordenada por apellido"
   ]
  },
  {
   "cell_type": "code",
   "execution_count": 7,
   "id": "chicken-family",
   "metadata": {},
   "outputs": [
    {
     "data": {
      "text/html": [
       "<html><body><table border=\"1\"><tr><th style=\"text-align:left;white-space:pre\">Actor</th></tr><tr><td style=\"text-align:left;white-space:pre\">DEBBIE AKROYD</td></tr><tr><td style=\"text-align:left;white-space:pre\">KIRSTEN AKROYD</td></tr><tr><td style=\"text-align:left;white-space:pre\">CHRISTIAN AKROYD</td></tr><tr><td style=\"text-align:left;white-space:pre\">MERYL ALLEN</td></tr><tr><td style=\"text-align:left;white-space:pre\">CUBA ALLEN</td></tr><tr><td style=\"text-align:left;white-space:pre\">KIM ALLEN</td></tr><tr><td style=\"text-align:left;white-space:pre\">ANGELINA ASTAIRE</td></tr><tr><td style=\"text-align:left;white-space:pre\">RUSSELL BACALL</td></tr><tr><td style=\"text-align:left;white-space:pre\">JESSICA BAILEY</td></tr><tr><td style=\"text-align:left;white-space:pre\">AUDREY BAILEY</td></tr><tr><td style=\"text-align:left;white-space:pre\">HARRISON BALE</td></tr><tr><td style=\"text-align:left;white-space:pre\">RENEE BALL</td></tr><tr><td style=\"text-align:left;white-space:pre\">JULIA BARRYMORE</td></tr><tr><td style=\"text-align:left;white-space:pre\">VIVIEN BASINGER</td></tr><tr><td style=\"text-align:left;white-space:pre\">MICHAEL BENING</td></tr><tr><td style=\"text-align:left;white-space:pre\">SCARLETT BENING</td></tr><tr><td style=\"text-align:left;white-space:pre\">VIVIEN BERGEN</td></tr><tr><td style=\"text-align:left;white-space:pre\">LIZA BERGMAN</td></tr><tr><td style=\"text-align:left;white-space:pre\">HENRY BERRY</td></tr><tr><td style=\"text-align:left;white-space:pre\">CHRISTOPHER BERRY</td></tr><tr><td style=\"text-align:left;white-space:pre\">KARL BERRY</td></tr><tr><td style=\"text-align:left;white-space:pre\">CUBA BIRCH</td></tr><tr><td style=\"text-align:left;white-space:pre\">KEVIN BLOOM</td></tr><tr><td style=\"text-align:left;white-space:pre\">VAL BOLGER</td></tr><tr><td style=\"text-align:left;white-space:pre\">MICHAEL BOLGER</td></tr><tr><td style=\"text-align:left;white-space:pre\">CHRIS BRIDGES</td></tr><tr><td style=\"text-align:left;white-space:pre\">GOLDIE BRODY</td></tr><tr><td style=\"text-align:left;white-space:pre\">LAURA BRODY</td></tr><tr><td style=\"text-align:left;white-space:pre\">LAURENCE BULLOCK</td></tr><tr><td style=\"text-align:left;white-space:pre\">JOHNNY CAGE</td></tr><tr><td style=\"text-align:left;white-space:pre\">ZERO CAGE</td></tr><tr><td style=\"text-align:left;white-space:pre\">MATTHEW CARREY</td></tr><tr><td style=\"text-align:left;white-space:pre\">GREG CHAPLIN</td></tr><tr><td style=\"text-align:left;white-space:pre\">ED CHASE</td></tr><tr><td style=\"text-align:left;white-space:pre\">JON CHASE</td></tr><tr><td style=\"text-align:left;white-space:pre\">RUSSELL CLOSE</td></tr><tr><td style=\"text-align:left;white-space:pre\">FRED COSTNER</td></tr><tr><td style=\"text-align:left;white-space:pre\">RIP CRAWFORD</td></tr><tr><td style=\"text-align:left;white-space:pre\">DARYL CRAWFORD</td></tr><tr><td style=\"text-align:left;white-space:pre\">ANNE CRONYN</td></tr><tr><td style=\"text-align:left;white-space:pre\">PENELOPE CRONYN</td></tr><tr><td style=\"text-align:left;white-space:pre\">SIDNEY CROWE</td></tr><tr><td style=\"text-align:left;white-space:pre\">JUDE CRUISE</td></tr><tr><td style=\"text-align:left;white-space:pre\">RALPH CRUZ</td></tr><tr><td style=\"text-align:left;white-space:pre\">SCARLETT DAMON</td></tr><tr><td style=\"text-align:left;white-space:pre\">SUSAN DAVIS</td></tr><tr><td style=\"text-align:left;white-space:pre\">SUSAN DAVIS</td></tr><tr><td style=\"text-align:left;white-space:pre\">JENNIFER DAVIS</td></tr><tr><td style=\"text-align:left;white-space:pre\">FRANCES DAY-LEWIS</td></tr><tr><td style=\"text-align:left;white-space:pre\">RIVER DEAN</td></tr><tr><td style=\"text-align:left;white-space:pre\">JUDY DEAN</td></tr><tr><td style=\"text-align:left;white-space:pre\">LUCILLE DEE</td></tr><tr><td style=\"text-align:left;white-space:pre\">EMILY DEE</td></tr><tr><td style=\"text-align:left;white-space:pre\">JODIE DEGENERES</td></tr><tr><td style=\"text-align:left;white-space:pre\">NICK DEGENERES</td></tr><tr><td style=\"text-align:left;white-space:pre\">GINA DEGENERES</td></tr><tr><td style=\"text-align:left;white-space:pre\">JULIANNE DENCH</td></tr><tr><td style=\"text-align:left;white-space:pre\">CHARLIZE DENCH</td></tr><tr><td style=\"text-align:left;white-space:pre\">SPENCER DEPP</td></tr><tr><td style=\"text-align:left;white-space:pre\">CHRIS DEPP</td></tr><tr><td style=\"text-align:left;white-space:pre\">SYLVESTER DERN</td></tr><tr><td style=\"text-align:left;white-space:pre\">ALAN DREYFUSS</td></tr><tr><td style=\"text-align:left;white-space:pre\">ROCK DUKAKIS</td></tr><tr><td style=\"text-align:left;white-space:pre\">BURT DUKAKIS</td></tr><tr><td style=\"text-align:left;white-space:pre\">GROUCHO DUNST</td></tr><tr><td style=\"text-align:left;white-space:pre\">BOB FAWCETT</td></tr><tr><td style=\"text-align:left;white-space:pre\">JULIA FAWCETT</td></tr><tr><td style=\"text-align:left;white-space:pre\">CHRISTIAN GABLE</td></tr><tr><td style=\"text-align:left;white-space:pre\">HUMPHREY GARLAND</td></tr><tr><td style=\"text-align:left;white-space:pre\">KEVIN GARLAND</td></tr><tr><td style=\"text-align:left;white-space:pre\">AL GARLAND</td></tr><tr><td style=\"text-align:left;white-space:pre\">MERYL GIBSON</td></tr><tr><td style=\"text-align:left;white-space:pre\">PARKER GOLDBERG</td></tr><tr><td style=\"text-align:left;white-space:pre\">GREGORY GOODING</td></tr><tr><td style=\"text-align:left;white-space:pre\">EWAN GOODING</td></tr><tr><td style=\"text-align:left;white-space:pre\">ADAM GRANT</td></tr><tr><td style=\"text-align:left;white-space:pre\">SEAN GUINESS</td></tr><tr><td style=\"text-align:left;white-space:pre\">PENELOPE GUINESS</td></tr><tr><td style=\"text-align:left;white-space:pre\">ED GUINESS</td></tr><tr><td style=\"text-align:left;white-space:pre\">WILLIAM HACKMAN</td></tr><tr><td style=\"text-align:left;white-space:pre\">TIM HACKMAN</td></tr><tr><td style=\"text-align:left;white-space:pre\">BEN HARRIS</td></tr><tr><td style=\"text-align:left;white-space:pre\">CATE HARRIS</td></tr><tr><td style=\"text-align:left;white-space:pre\">DAN HARRIS</td></tr><tr><td style=\"text-align:left;white-space:pre\">MEG HAWKE</td></tr><tr><td style=\"text-align:left;white-space:pre\">GEOFFREY HESTON</td></tr><tr><td style=\"text-align:left;white-space:pre\">KENNETH HOFFMAN</td></tr><tr><td style=\"text-align:left;white-space:pre\">WOODY HOFFMAN</td></tr><tr><td style=\"text-align:left;white-space:pre\">MAE HOFFMAN</td></tr><tr><td style=\"text-align:left;white-space:pre\">HARVEY HOPE</td></tr><tr><td style=\"text-align:left;white-space:pre\">MORGAN HOPKINS</td></tr><tr><td style=\"text-align:left;white-space:pre\">GENE HOPKINS</td></tr><tr><td style=\"text-align:left;white-space:pre\">NATALIE HOPKINS</td></tr><tr><td style=\"text-align:left;white-space:pre\">MENA HOPPER</td></tr><tr><td style=\"text-align:left;white-space:pre\">ADAM HOPPER</td></tr><tr><td style=\"text-align:left;white-space:pre\">ANGELA HUDSON</td></tr><tr><td style=\"text-align:left;white-space:pre\">CARMEN HUNT</td></tr><tr><td style=\"text-align:left;white-space:pre\">WHOOPI HURT</td></tr><tr><td style=\"text-align:left;white-space:pre\">WARREN JACKMAN</td></tr><tr><td style=\"text-align:left;white-space:pre\">JANE JACKMAN</td></tr><tr><td style=\"text-align:left;white-space:pre\">ALBERT JOHANSSON</td></tr><tr><td style=\"text-align:left;white-space:pre\">MATTHEW JOHANSSON</td></tr><tr><td style=\"text-align:left;white-space:pre\">RAY JOHANSSON</td></tr><tr><td style=\"text-align:left;white-space:pre\">WOODY JOLIE</td></tr><tr><td style=\"text-align:left;white-space:pre\">KIRK JOVOVICH</td></tr><tr><td style=\"text-align:left;white-space:pre\">MARY KEITEL</td></tr><tr><td style=\"text-align:left;white-space:pre\">MILLA KEITEL</td></tr><tr><td style=\"text-align:left;white-space:pre\">GRETA KEITEL</td></tr><tr><td style=\"text-align:left;white-space:pre\">REESE KILMER</td></tr><tr><td style=\"text-align:left;white-space:pre\">OPRAH KILMER</td></tr><tr><td style=\"text-align:left;white-space:pre\">MINNIE KILMER</td></tr><tr><td style=\"text-align:left;white-space:pre\">FAY KILMER</td></tr><tr><td style=\"text-align:left;white-space:pre\">SANDRA KILMER</td></tr><tr><td style=\"text-align:left;white-space:pre\">MATTHEW LEIGH</td></tr><tr><td style=\"text-align:left;white-space:pre\">JOHNNY LOLLOBRIGIDA</td></tr><tr><td style=\"text-align:left;white-space:pre\">GRETA MALDEN</td></tr><tr><td style=\"text-align:left;white-space:pre\">ED MANSFIELD</td></tr><tr><td style=\"text-align:left;white-space:pre\">ELVIS MARX</td></tr><tr><td style=\"text-align:left;white-space:pre\">MICHELLE MCCONAUGHEY</td></tr><tr><td style=\"text-align:left;white-space:pre\">CARY MCCONAUGHEY</td></tr><tr><td style=\"text-align:left;white-space:pre\">MORGAN MCDORMAND</td></tr><tr><td style=\"text-align:left;white-space:pre\">GENE MCKELLEN</td></tr><tr><td style=\"text-align:left;white-space:pre\">TOM MCKELLEN</td></tr><tr><td style=\"text-align:left;white-space:pre\">JULIA MCQUEEN</td></tr><tr><td style=\"text-align:left;white-space:pre\">CATE MCQUEEN</td></tr><tr><td style=\"text-align:left;white-space:pre\">TOM MIRANDA</td></tr><tr><td style=\"text-align:left;white-space:pre\">PENELOPE MONROE</td></tr><tr><td style=\"text-align:left;white-space:pre\">LISA MONROE</td></tr><tr><td style=\"text-align:left;white-space:pre\">GRACE MOSTEL</td></tr><tr><td style=\"text-align:left;white-space:pre\">JIM MOSTEL</td></tr><tr><td style=\"text-align:left;white-space:pre\">JAYNE NEESON</td></tr><tr><td style=\"text-align:left;white-space:pre\">CHRISTIAN NEESON</td></tr><tr><td style=\"text-align:left;white-space:pre\">BETTE NICHOLSON</td></tr><tr><td style=\"text-align:left;white-space:pre\">ALBERT NOLTE</td></tr><tr><td style=\"text-align:left;white-space:pre\">JAYNE NOLTE</td></tr><tr><td style=\"text-align:left;white-space:pre\">SALMA NOLTE</td></tr><tr><td style=\"text-align:left;white-space:pre\">WARREN NOLTE</td></tr><tr><td style=\"text-align:left;white-space:pre\">AUDREY OLIVIER</td></tr><tr><td style=\"text-align:left;white-space:pre\">CUBA OLIVIER</td></tr><tr><td style=\"text-align:left;white-space:pre\">KIRSTEN PALTROW</td></tr><tr><td style=\"text-align:left;white-space:pre\">KENNETH PALTROW</td></tr><tr><td style=\"text-align:left;white-space:pre\">SANDRA PECK</td></tr><tr><td style=\"text-align:left;white-space:pre\">SPENCER PECK</td></tr><tr><td style=\"text-align:left;white-space:pre\">MILLA PECK</td></tr><tr><td style=\"text-align:left;white-space:pre\">RICHARD PENN</td></tr><tr><td style=\"text-align:left;white-space:pre\">GARY PENN</td></tr><tr><td style=\"text-align:left;white-space:pre\">KENNETH PESCI</td></tr><tr><td style=\"text-align:left;white-space:pre\">OLYMPIA PFEIFFER</td></tr><tr><td style=\"text-align:left;white-space:pre\">GARY PHOENIX</td></tr><tr><td style=\"text-align:left;white-space:pre\">PENELOPE PINKETT</td></tr><tr><td style=\"text-align:left;white-space:pre\">JAMES PITT</td></tr><tr><td style=\"text-align:left;white-space:pre\">BURT POSEY</td></tr><tr><td style=\"text-align:left;white-space:pre\">ELLEN PRESLEY</td></tr><tr><td style=\"text-align:left;white-space:pre\">RITA REYNOLDS</td></tr><tr><td style=\"text-align:left;white-space:pre\">JADA RYDER</td></tr><tr><td style=\"text-align:left;white-space:pre\">JAYNE SILVERSTONE</td></tr><tr><td style=\"text-align:left;white-space:pre\">JEFF SILVERSTONE</td></tr><tr><td style=\"text-align:left;white-space:pre\">GROUCHO SINATRA</td></tr><tr><td style=\"text-align:left;white-space:pre\">SISSY SOBIESKI</td></tr><tr><td style=\"text-align:left;white-space:pre\">NICK STALLONE</td></tr><tr><td style=\"text-align:left;white-space:pre\">DAN STREEP</td></tr><tr><td style=\"text-align:left;white-space:pre\">CAMERON STREEP</td></tr><tr><td style=\"text-align:left;white-space:pre\">JOHN SUVARI</td></tr><tr><td style=\"text-align:left;white-space:pre\">JOE SWANK</td></tr><tr><td style=\"text-align:left;white-space:pre\">IAN TANDY</td></tr><tr><td style=\"text-align:left;white-space:pre\">MARY TANDY</td></tr><tr><td style=\"text-align:left;white-space:pre\">DUSTIN TAUTOU</td></tr><tr><td style=\"text-align:left;white-space:pre\">MENA TEMPLE</td></tr><tr><td style=\"text-align:left;white-space:pre\">RUSSELL TEMPLE</td></tr><tr><td style=\"text-align:left;white-space:pre\">THORA TEMPLE</td></tr><tr><td style=\"text-align:left;white-space:pre\">BURT TEMPLE</td></tr><tr><td style=\"text-align:left;white-space:pre\">FRANCES TOMEI</td></tr><tr><td style=\"text-align:left;white-space:pre\">KENNETH TORN</td></tr><tr><td style=\"text-align:left;white-space:pre\">DAN TORN</td></tr><tr><td style=\"text-align:left;white-space:pre\">WALTER TORN</td></tr><tr><td style=\"text-align:left;white-space:pre\">LUCILLE TRACY</td></tr><tr><td style=\"text-align:left;white-space:pre\">RENEE TRACY</td></tr><tr><td style=\"text-align:left;white-space:pre\">HELEN VOIGHT</td></tr><tr><td style=\"text-align:left;white-space:pre\">NICK WAHLBERG</td></tr><tr><td style=\"text-align:left;white-space:pre\">DARYL WAHLBERG</td></tr><tr><td style=\"text-align:left;white-space:pre\">BELA WALKEN</td></tr><tr><td style=\"text-align:left;white-space:pre\">ALEC WAYNE</td></tr><tr><td style=\"text-align:left;white-space:pre\">REESE WEST</td></tr><tr><td style=\"text-align:left;white-space:pre\">CHRISTOPHER WEST</td></tr><tr><td style=\"text-align:left;white-space:pre\">MORGAN WILLIAMS</td></tr><tr><td style=\"text-align:left;white-space:pre\">GROUCHO WILLIAMS</td></tr><tr><td style=\"text-align:left;white-space:pre\">SEAN WILLIAMS</td></tr><tr><td style=\"text-align:left;white-space:pre\">HUMPHREY WILLIS</td></tr><tr><td style=\"text-align:left;white-space:pre\">BEN WILLIS</td></tr><tr><td style=\"text-align:left;white-space:pre\">GENE WILLIS</td></tr><tr><td style=\"text-align:left;white-space:pre\">WILL WILSON</td></tr><tr><td style=\"text-align:left;white-space:pre\">FAY WINSLET</td></tr><tr><td style=\"text-align:left;white-space:pre\">RIP WINSLET</td></tr><tr><td style=\"text-align:left;white-space:pre\">ANGELA WITHERSPOON</td></tr><tr><td style=\"text-align:left;white-space:pre\">UMA WOOD</td></tr><tr><td style=\"text-align:left;white-space:pre\">FAY WOOD</td></tr><tr><td style=\"text-align:left;white-space:pre\">CAMERON WRAY</td></tr><tr><td style=\"text-align:left;white-space:pre\">MINNIE ZELLWEGER</td></tr><tr><td style=\"text-align:left;white-space:pre\">JULIA ZELLWEGER</td></tr><tr><td style=\"text-align:left;white-space:pre\">CAMERON ZELLWEGER</td></tr></table></body></html>"
      ]
     },
     "metadata": {},
     "output_type": "display_data"
    }
   ],
   "source": [
    "SELECT CONCAT(s.first_name, _utf8' ',  s.last_name) AS Actor \n",
    "FROM actor as s\n",
    "order by s.last_name;"
   ]
  },
  {
   "cell_type": "markdown",
   "id": "flush-guest",
   "metadata": {},
   "source": [
    "Ahora, hacemos una consulta sobre el número de actores por categoría del film en orden descendiente"
   ]
  },
  {
   "cell_type": "code",
   "execution_count": 8,
   "id": "legendary-domestic",
   "metadata": {},
   "outputs": [
    {
     "data": {
      "text/html": [
       "<html><body><table border=\"1\"><tr><th style=\"text-align:left;white-space:pre\">categoria</th><th style=\"text-align:left;white-space:pre\">numero_actores</th></tr><tr><td style=\"text-align:left;white-space:pre\">Sports</td><td style=\"text-align:left;white-space:pre\">441</td></tr><tr><td style=\"text-align:left;white-space:pre\">Foreign</td><td style=\"text-align:left;white-space:pre\">397</td></tr><tr><td style=\"text-align:left;white-space:pre\">Documentary</td><td style=\"text-align:left;white-space:pre\">385</td></tr><tr><td style=\"text-align:left;white-space:pre\">Action</td><td style=\"text-align:left;white-space:pre\">363</td></tr><tr><td style=\"text-align:left;white-space:pre\">Animation</td><td style=\"text-align:left;white-space:pre\">361</td></tr><tr><td style=\"text-align:left;white-space:pre\">Drama</td><td style=\"text-align:left;white-space:pre\">350</td></tr><tr><td style=\"text-align:left;white-space:pre\">Family</td><td style=\"text-align:left;white-space:pre\">347</td></tr><tr><td style=\"text-align:left;white-space:pre\">Children</td><td style=\"text-align:left;white-space:pre\">344</td></tr><tr><td style=\"text-align:left;white-space:pre\">New</td><td style=\"text-align:left;white-space:pre\">343</td></tr><tr><td style=\"text-align:left;white-space:pre\">Sci-Fi</td><td style=\"text-align:left;white-space:pre\">326</td></tr><tr><td style=\"text-align:left;white-space:pre\">Travel</td><td style=\"text-align:left;white-space:pre\">321</td></tr><tr><td style=\"text-align:left;white-space:pre\">Horror</td><td style=\"text-align:left;white-space:pre\">317</td></tr><tr><td style=\"text-align:left;white-space:pre\">Classics</td><td style=\"text-align:left;white-space:pre\">307</td></tr><tr><td style=\"text-align:left;white-space:pre\">Games</td><td style=\"text-align:left;white-space:pre\">293</td></tr><tr><td style=\"text-align:left;white-space:pre\">Comedy</td><td style=\"text-align:left;white-space:pre\">286</td></tr><tr><td style=\"text-align:left;white-space:pre\">Music</td><td style=\"text-align:left;white-space:pre\">281</td></tr></table></body></html>"
      ]
     },
     "metadata": {},
     "output_type": "display_data"
    }
   ],
   "source": [
    "SELECT c.name as categoria, COUNT(actor_id) AS numero_actores\n",
    "FROM category AS c\n",
    "JOIN film_category as fc ON c.category_id = fc.category_id\n",
    "JOIN film as f ON fc.film_id = f.film_id\n",
    "JOIN film_actor as fa ON f.film_id = fa.film_id\n",
    "GROUP BY categoria\n",
    "ORDER BY numero_actores DESC;"
   ]
  },
  {
   "cell_type": "markdown",
   "id": "indian-pressing",
   "metadata": {},
   "source": [
    "Ahora, consultamos el actor qua más ventas genera por tienda (store)"
   ]
  },
  {
   "cell_type": "code",
   "execution_count": 9,
   "id": "available-think",
   "metadata": {},
   "outputs": [
    {
     "data": {
      "text/html": [
       "<html><body><table border=\"1\"><tr><th style=\"text-align:left;white-space:pre\">tienda</th><th style=\"text-align:left;white-space:pre\">actor_estrella</th><th style=\"text-align:left;white-space:pre\">valor</th></tr><tr><td style=\"text-align:left;white-space:pre\">28 MySQL Boulevard</td><td style=\"text-align:left;white-space:pre\">PENELOPE GUINESS</td><td style=\"text-align:left;white-space:pre\">11.99</td></tr><tr><td style=\"text-align:left;white-space:pre\">47 MySakila Drive</td><td style=\"text-align:left;white-space:pre\">PENELOPE GUINESS</td><td style=\"text-align:left;white-space:pre\">11.99</td></tr></table></body></html>"
      ]
     },
     "metadata": {},
     "output_type": "display_data"
    }
   ],
   "source": [
    "SELECT  d.address as tienda,\n",
    "        CONCAT(a.first_name, _utf8' ',  a.last_name) AS actor_estrella,\n",
    "        MAX(p.amount) as valor\n",
    "FROM actor AS a\n",
    "JOIN film_actor AS fa ON a.actor_id = fa.actor_id\n",
    "JOIN film AS f ON fa.film_id = f.film_id\n",
    "JOIN inventory AS i ON f.film_id = i.film_id\n",
    "JOIN rental AS r ON i.inventory_id = r.inventory_id\n",
    "JOIN payment AS p ON r.rental_id = p.rental_id\n",
    "JOIN store AS s ON i.store_id = s.store_id\n",
    "JOIN address AS d ON s.address_id = d.address_id\n",
    "GROUP BY tienda;"
   ]
  },
  {
   "cell_type": "markdown",
   "id": "diverse-music",
   "metadata": {},
   "source": [
    "Por último, consultamos las ventas totales por tienda "
   ]
  },
  {
   "cell_type": "code",
   "execution_count": 10,
   "id": "veterinary-density",
   "metadata": {},
   "outputs": [
    {
     "data": {
      "text/html": [
       "<html><body><table border=\"1\"><tr><th style=\"text-align:left;white-space:pre\">tienda</th><th style=\"text-align:left;white-space:pre\">valor</th></tr><tr><td style=\"text-align:left;white-space:pre\">28 MySQL Boulevard</td><td style=\"text-align:left;white-space:pre\">33726.77</td></tr><tr><td style=\"text-align:left;white-space:pre\">47 MySakila Drive</td><td style=\"text-align:left;white-space:pre\">33679.79</td></tr></table></body></html>"
      ]
     },
     "metadata": {},
     "output_type": "display_data"
    }
   ],
   "source": [
    "select  d.address as tienda,\n",
    "        SUM(p.amount) as valor\n",
    "from    address as d\n",
    "join    store as s on s.address_id = d.address_id\n",
    "join    inventory as i on i.store_id = s.store_id\n",
    "join    rental as r on r.inventory_id = i.inventory_id\n",
    "join    payment as p on p.rental_id = r.rental_id\n",
    "group by tienda;"
   ]
  },
  {
   "cell_type": "markdown",
   "id": "textile-thomas",
   "metadata": {},
   "source": [
    "# Referencias <a id=\"Referencias\"></a> "
   ]
  },
  {
   "cell_type": "markdown",
   "id": "mechanical-january",
   "metadata": {},
   "source": [
    "> *  MySQL Documentation. Recuperado el 11 de abril de 2021 20:45 de  https://dev.mysql.com/doc/index-other.html\n",
    "\n",
    "> * Dyer, R. J. (2015). Learning MySQL and MariaDB: Heading in the right direction with MySQL and MariaDB. \" O'Reilly Media, Inc.\".\n"
   ]
  },
  {
   "cell_type": "code",
   "execution_count": null,
   "id": "pretty-distance",
   "metadata": {},
   "outputs": [],
   "source": []
  }
 ],
 "metadata": {
  "kernelspec": {
   "display_name": "MariaDB",
   "language": "SQL",
   "name": "mariadb_kernel"
  },
  "language_info": {
   "file_extension": ".sql",
   "mimetype": "text/plain",
   "name": "SQL"
  }
 },
 "nbformat": 4,
 "nbformat_minor": 5
}
