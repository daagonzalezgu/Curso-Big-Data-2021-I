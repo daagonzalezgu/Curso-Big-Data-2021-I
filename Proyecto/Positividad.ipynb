{
  "nbformat": 4,
  "nbformat_minor": 0,
  "metadata": {
    "colab": {
      "name": "Positividad.ipynb",
      "provenance": []
    },
    "kernelspec": {
      "name": "python3",
      "display_name": "Python 3"
    },
    "language_info": {
      "name": "python"
    }
  },
  "cells": [
    {
      "cell_type": "code",
      "metadata": {
        "id": "hGWKW8p7ggmY"
      },
      "source": [
        "#Obtener el Top 200 semanal para un país en particular \n",
        "#Test 1: Japon \n",
        "#Instalar libreria de Spotify"
      ],
      "execution_count": 1,
      "outputs": []
    },
    {
      "cell_type": "code",
      "metadata": {
        "colab": {
          "base_uri": "https://localhost:8080/"
        },
        "id": "UjyA33Bqh-G-",
        "outputId": "94957d9b-539e-4169-c67e-65262047636c"
      },
      "source": [
        "pip install spotipy --upgrade"
      ],
      "execution_count": 2,
      "outputs": [
        {
          "output_type": "stream",
          "text": [
            "Requirement already up-to-date: spotipy in /usr/local/lib/python3.7/dist-packages (2.17.1)\n",
            "Requirement already satisfied, skipping upgrade: six>=1.15.0 in /usr/local/lib/python3.7/dist-packages (from spotipy) (1.15.0)\n",
            "Requirement already satisfied, skipping upgrade: urllib3>=1.26.0 in /usr/local/lib/python3.7/dist-packages (from spotipy) (1.26.4)\n",
            "Requirement already satisfied, skipping upgrade: requests>=2.25.0 in /usr/local/lib/python3.7/dist-packages (from spotipy) (2.25.1)\n",
            "Requirement already satisfied, skipping upgrade: chardet<5,>=3.0.2 in /usr/local/lib/python3.7/dist-packages (from requests>=2.25.0->spotipy) (3.0.4)\n",
            "Requirement already satisfied, skipping upgrade: idna<3,>=2.5 in /usr/local/lib/python3.7/dist-packages (from requests>=2.25.0->spotipy) (2.10)\n",
            "Requirement already satisfied, skipping upgrade: certifi>=2017.4.17 in /usr/local/lib/python3.7/dist-packages (from requests>=2.25.0->spotipy) (2020.12.5)\n"
          ],
          "name": "stdout"
        }
      ]
    },
    {
      "cell_type": "code",
      "metadata": {
        "id": "2sfGJoEkhw-I"
      },
      "source": [
        "#Credenciales Spotify\n",
        "import spotipy\n",
        "from spotipy.oauth2 import SpotifyClientCredentials\n",
        "\n",
        "sp = spotipy.Spotify(auth_manager=SpotifyClientCredentials(client_id=\"cc9a7bb857eb4282b846a1fe077003c4\",\n",
        "                                                           client_secret=\"817188bf767444ed8f6ca6f4080db1af\"))"
      ],
      "execution_count": 3,
      "outputs": []
    },
    {
      "cell_type": "code",
      "metadata": {
        "id": "vU6NseOJh2D_"
      },
      "source": [
        "#Funciones para extraer informacion de Spotify \n",
        "def get_artist(name):\n",
        "    results = sp.search(q='artist:' + name, type='artist')\n",
        "    items = results['artists']['items']\n",
        "    if len(items) > 0:\n",
        "        return items[0]\n",
        "    else:\n",
        "        return None\n",
        "\n",
        "\n",
        "def get_artist_album_ids(name):\n",
        "\tartist = get_artist(name)\n",
        "\tresults = sp.artist_albums(artist['id'], album_type='album', country='US')\n",
        "\talbums = results['items']\n",
        "\talbum_ids = []\n",
        "\tfor album in albums:\n",
        "\t\talbum_ids.append(album['id'])\n",
        "\n",
        "\treturn album_ids\n",
        "def get_artist_features(name, feature='valence'):\n",
        "\t# features: valence (default), acousticness, danceability,\n",
        "\t#           energy, instrumentalness, speechiness, & tempo\n",
        "\talbum_ids = get_artist_album_ids(name)\n",
        "\tfeatures = []\n",
        "\tfor album_id in album_ids:\n",
        "\t\tresults = sp.album_tracks(album_id)\n",
        "\t\ttracks = results['items']\n",
        "\n",
        "\t\tfor track in tracks:\n",
        "\t\t\taudioFeatures = sp.audio_features(track['id'])\n",
        "\t\t\tfeatures.append(audioFeatures[0][feature])\n",
        "\n",
        "\treturn features\n"
      ],
      "execution_count": 4,
      "outputs": []
    },
    {
      "cell_type": "code",
      "metadata": {
        "id": "9rWqojZmkt3t"
      },
      "source": [
        "#Funciones para obtener el Top200\n",
        "import io\n",
        "import pandas as pd\n",
        "import requests\n",
        "import time\n",
        "import tqdm\n",
        "\n",
        "\n",
        "def week_dates(date, weekday=0):\n",
        "    week_start = date - pd.DateOffset(weekday=weekday, weeks=1)\n",
        "    week_end = date + pd.DateOffset(weekday=weekday, weeks=0)\n",
        "    return week_start, week_end\n",
        "\n",
        "\n",
        "def get_chart(date, region='en', freq='weekly', chart='top200'):\n",
        "    chart = 'regional' if chart == 'top200' else 'viral'\n",
        "    date = pd.to_datetime(date)\n",
        "    if date.year < 2017:\n",
        "        raise ValueError('No chart data available from before 2017')\n",
        "    if freq == 'weekly':\n",
        "        start, end = week_dates(date, weekday=4)\n",
        "        date = f'{start.date()}--{end.date()}'\n",
        "    else:\n",
        "        date = f'{date.date()}'\n",
        "    url = f'https://spotifycharts.com/{chart}/{region}/{freq}/{date}/download'\n",
        "    data = io.StringIO(requests.get(url).text)\n",
        "    try:\n",
        "        df = pd.read_csv(data, skiprows=1) # Fix Spotify's Note\n",
        "    except pd.errors.ParserError:\n",
        "        df = None\n",
        "        print(data)\n",
        "    return df\n",
        "    #return url\n",
        "\n",
        "\n",
        "def get_charts(start, end, region='en', freq='daily', chart='top200', sleep=1):\n",
        "    sample = 'D' if freq == 'daily' else 'W'\n",
        "    dfs = []\n",
        "    for date in tqdm.tqdm(pd.date_range(start=start, end=end, freq=sample)):\n",
        "        df = get_chart(date, region=region, freq=freq, chart=chart)\n",
        "        if df is not None:\n",
        "            df['date'] = date\n",
        "            dfs.append(df)\n",
        "            time.sleep(sleep)\n",
        "    return pd.concat(dfs)"
      ],
      "execution_count": 8,
      "outputs": []
    },
    {
      "cell_type": "code",
      "metadata": {
        "id": "ar8Wkb4KkMTM"
      },
      "source": [
        "paises = ['Japan']"
      ],
      "execution_count": 9,
      "outputs": []
    },
    {
      "cell_type": "code",
      "metadata": {
        "colab": {
          "base_uri": "https://localhost:8080/"
        },
        "id": "W6Hq5Kp5k3Df",
        "outputId": "6d75d629-4748-4501-c239-95cc18894e07"
      },
      "source": [
        "df = get_chart('2021-03-11', region='jp')"
      ],
      "execution_count": 10,
      "outputs": [
        {
          "output_type": "stream",
          "text": [
            "<_io.StringIO object at 0x7f3f38d67a50>\n"
          ],
          "name": "stdout"
        }
      ]
    },
    {
      "cell_type": "code",
      "metadata": {
        "colab": {
          "base_uri": "https://localhost:8080/"
        },
        "id": "y9AxyegapXqj",
        "outputId": "97360736-2717-417a-cb2f-91b0d2d9f8ba"
      },
      "source": [
        "columns_names = df.columns.values\n",
        "columns_names"
      ],
      "execution_count": 8,
      "outputs": [
        {
          "output_type": "execute_result",
          "data": {
            "text/plain": [
              "array(['Position', 'Track Name', 'Artist', 'Streams', 'URL'], dtype=object)"
            ]
          },
          "metadata": {
            "tags": []
          },
          "execution_count": 8
        }
      ]
    },
    {
      "cell_type": "code",
      "metadata": {
        "colab": {
          "base_uri": "https://localhost:8080/"
        },
        "id": "45D_4WC0pkmD",
        "outputId": "ac3570c2-b58a-4186-cfa2-f698dd316567"
      },
      "source": [
        "Artistas = df['Artist'].values\n",
        "Canciones = df['Track Name'].values\n",
        "print(len(Artistas), len(Canciones))\n",
        "print(Canciones[199], Artistas[199])"
      ],
      "execution_count": 9,
      "outputs": [
        {
          "output_type": "stream",
          "text": [
            "200 200\n",
            "Hold Me While You Wait Lewis Capaldi\n"
          ],
          "name": "stdout"
        }
      ]
    },
    {
      "cell_type": "code",
      "metadata": {
        "id": "eQ7Xq8e1pvma"
      },
      "source": [
        "positividad = []\n",
        "for i in range(len(Artistas)):\n",
        "  query = Canciones[i] + '&' + Artistas[i]\n",
        "  results = sp.search(q=query , type= 'track', limit=3, offset=0)\n",
        "  #No todas las canciones tienen positividad identificada, por ello toca \n",
        "  #Poner una restriccion sobre la busqueda \n",
        "  b =  results['tracks']['items']\n",
        "  if (len(b) == 0):\n",
        "    continue\n",
        "  else:\n",
        "    a = results['tracks']['items'][0]['id']\n",
        "    positividad.append(sp.audio_features(a)[0]['valence'])\n",
        "\n"
      ],
      "execution_count": 10,
      "outputs": []
    },
    {
      "cell_type": "code",
      "metadata": {
        "colab": {
          "base_uri": "https://localhost:8080/"
        },
        "id": "6VrHmh3IyAmM",
        "outputId": "cd17fc22-ebcf-42ab-93a0-ebf7f26be4a0"
      },
      "source": [
        "len(positividad)"
      ],
      "execution_count": 11,
      "outputs": [
        {
          "output_type": "execute_result",
          "data": {
            "text/plain": [
              "160"
            ]
          },
          "metadata": {
            "tags": []
          },
          "execution_count": 11
        }
      ]
    },
    {
      "cell_type": "code",
      "metadata": {
        "colab": {
          "base_uri": "https://localhost:8080/"
        },
        "id": "fNGQ9HyNqtU0",
        "outputId": "86226c40-98a9-46ed-b51f-75e4dfcb5541"
      },
      "source": [
        "import numpy as np\n",
        "positividad= np.array(positividad)\n",
        "positividad.mean()"
      ],
      "execution_count": 12,
      "outputs": [
        {
          "output_type": "execute_result",
          "data": {
            "text/plain": [
              "0.5228093749999999"
            ]
          },
          "metadata": {
            "tags": []
          },
          "execution_count": 12
        }
      ]
    },
    {
      "cell_type": "code",
      "metadata": {
        "colab": {
          "base_uri": "https://localhost:8080/"
        },
        "id": "1ZDfr1fdusEt",
        "outputId": "d7649299-94a4-4b4f-ad1d-0cfdeb975d1e"
      },
      "source": [
        "j=16\n",
        "print(Canciones[j], Artistas[j])\n",
        "query = Canciones[j] + '&' + Artistas[j]\n",
        "results = sp.search(q=query , type= 'track', limit=3, offset=0)\n",
        "len(results['tracks']['items'])\n",
        "#a = results['tracks']['items'][0]['id']\n",
        "#sp.audio_features(a)[0]['valence']"
      ],
      "execution_count": null,
      "outputs": [
        {
          "output_type": "stream",
          "text": [
            "かくれんぼ 優里\n"
          ],
          "name": "stdout"
        },
        {
          "output_type": "execute_result",
          "data": {
            "text/plain": [
              "3"
            ]
          },
          "metadata": {
            "tags": []
          },
          "execution_count": 130
        }
      ]
    },
    {
      "cell_type": "code",
      "metadata": {
        "colab": {
          "base_uri": "https://localhost:8080/",
          "height": 592
        },
        "id": "16scwjVmvMAl",
        "outputId": "b6ce725d-fad6-46b2-af4a-4c5278da5c99"
      },
      "source": [
        "df"
      ],
      "execution_count": null,
      "outputs": [
        {
          "output_type": "execute_result",
          "data": {
            "text/html": [
              "<div>\n",
              "<style scoped>\n",
              "    .dataframe tbody tr th:only-of-type {\n",
              "        vertical-align: middle;\n",
              "    }\n",
              "\n",
              "    .dataframe tbody tr th {\n",
              "        vertical-align: top;\n",
              "    }\n",
              "\n",
              "    .dataframe thead th {\n",
              "        text-align: right;\n",
              "    }\n",
              "</style>\n",
              "<table border=\"1\" class=\"dataframe\">\n",
              "  <thead>\n",
              "    <tr style=\"text-align: right;\">\n",
              "      <th></th>\n",
              "      <th>Position</th>\n",
              "      <th>Track Name</th>\n",
              "      <th>Artist</th>\n",
              "      <th>Streams</th>\n",
              "      <th>URL</th>\n",
              "    </tr>\n",
              "  </thead>\n",
              "  <tbody>\n",
              "    <tr>\n",
              "      <th>0</th>\n",
              "      <td>1</td>\n",
              "      <td>ドライフラワー</td>\n",
              "      <td>優里</td>\n",
              "      <td>2387183</td>\n",
              "      <td>https://open.spotify.com/track/7dH0dpi751EoguD...</td>\n",
              "    </tr>\n",
              "    <tr>\n",
              "      <th>1</th>\n",
              "      <td>2</td>\n",
              "      <td>Dynamite</td>\n",
              "      <td>BTS</td>\n",
              "      <td>2036551</td>\n",
              "      <td>https://open.spotify.com/track/4saklk6nie3yiGe...</td>\n",
              "    </tr>\n",
              "    <tr>\n",
              "      <th>2</th>\n",
              "      <td>3</td>\n",
              "      <td>夜に駆ける</td>\n",
              "      <td>YOASOBI</td>\n",
              "      <td>1991730</td>\n",
              "      <td>https://open.spotify.com/track/6MCjmGYlw6mQVWR...</td>\n",
              "    </tr>\n",
              "    <tr>\n",
              "      <th>3</th>\n",
              "      <td>4</td>\n",
              "      <td>勿忘</td>\n",
              "      <td>Awesome City Club</td>\n",
              "      <td>1921045</td>\n",
              "      <td>https://open.spotify.com/track/0XZyF9lv6diMt4b...</td>\n",
              "    </tr>\n",
              "    <tr>\n",
              "      <th>4</th>\n",
              "      <td>5</td>\n",
              "      <td>怪物</td>\n",
              "      <td>YOASOBI</td>\n",
              "      <td>1723922</td>\n",
              "      <td>https://open.spotify.com/track/06XQvnJb53SUYml...</td>\n",
              "    </tr>\n",
              "    <tr>\n",
              "      <th>...</th>\n",
              "      <td>...</td>\n",
              "      <td>...</td>\n",
              "      <td>...</td>\n",
              "      <td>...</td>\n",
              "      <td>...</td>\n",
              "    </tr>\n",
              "    <tr>\n",
              "      <th>195</th>\n",
              "      <td>196</td>\n",
              "      <td>3月9日</td>\n",
              "      <td>Remioromen</td>\n",
              "      <td>166346</td>\n",
              "      <td>https://open.spotify.com/track/1Alsp6EVIAHTDor...</td>\n",
              "    </tr>\n",
              "    <tr>\n",
              "      <th>196</th>\n",
              "      <td>197</td>\n",
              "      <td>give it back</td>\n",
              "      <td>Cö Shu Nie</td>\n",
              "      <td>165685</td>\n",
              "      <td>https://open.spotify.com/track/6aHFdm58mPF4YPJ...</td>\n",
              "    </tr>\n",
              "    <tr>\n",
              "      <th>197</th>\n",
              "      <td>198</td>\n",
              "      <td>First Love</td>\n",
              "      <td>Hikaru Utada</td>\n",
              "      <td>165250</td>\n",
              "      <td>https://open.spotify.com/track/39HrUxcvKF3jtLz...</td>\n",
              "    </tr>\n",
              "    <tr>\n",
              "      <th>198</th>\n",
              "      <td>199</td>\n",
              "      <td>Love so sweet</td>\n",
              "      <td>ARASHI</td>\n",
              "      <td>164197</td>\n",
              "      <td>https://open.spotify.com/track/5I6JLJqnZICLvPe...</td>\n",
              "    </tr>\n",
              "    <tr>\n",
              "      <th>199</th>\n",
              "      <td>200</td>\n",
              "      <td>君の為のキミノウタ</td>\n",
              "      <td>Takaya Kawasaki</td>\n",
              "      <td>164162</td>\n",
              "      <td>https://open.spotify.com/track/4ofZyzzL2fGbrHn...</td>\n",
              "    </tr>\n",
              "  </tbody>\n",
              "</table>\n",
              "<p>200 rows × 5 columns</p>\n",
              "</div>"
            ],
            "text/plain": [
              "     Position  ...                                                URL\n",
              "0           1  ...  https://open.spotify.com/track/7dH0dpi751EoguD...\n",
              "1           2  ...  https://open.spotify.com/track/4saklk6nie3yiGe...\n",
              "2           3  ...  https://open.spotify.com/track/6MCjmGYlw6mQVWR...\n",
              "3           4  ...  https://open.spotify.com/track/0XZyF9lv6diMt4b...\n",
              "4           5  ...  https://open.spotify.com/track/06XQvnJb53SUYml...\n",
              "..        ...  ...                                                ...\n",
              "195       196  ...  https://open.spotify.com/track/1Alsp6EVIAHTDor...\n",
              "196       197  ...  https://open.spotify.com/track/6aHFdm58mPF4YPJ...\n",
              "197       198  ...  https://open.spotify.com/track/39HrUxcvKF3jtLz...\n",
              "198       199  ...  https://open.spotify.com/track/5I6JLJqnZICLvPe...\n",
              "199       200  ...  https://open.spotify.com/track/4ofZyzzL2fGbrHn...\n",
              "\n",
              "[200 rows x 5 columns]"
            ]
          },
          "metadata": {
            "tags": []
          },
          "execution_count": 137
        }
      ]
    },
    {
      "cell_type": "code",
      "metadata": {
        "id": "n9X-KlEaySxq"
      },
      "source": [
        ""
      ],
      "execution_count": null,
      "outputs": []
    }
  ]
}