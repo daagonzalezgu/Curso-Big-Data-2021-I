{
  "nbformat": 4,
  "nbformat_minor": 0,
  "metadata": {
    "colab": {
      "name": "Positividad.ipynb",
      "provenance": [],
      "collapsed_sections": []
    },
    "kernelspec": {
      "name": "python3",
      "display_name": "Python 3"
    },
    "language_info": {
      "name": "python"
    }
  },
  "cells": [
    {
      "cell_type": "code",
      "metadata": {
        "id": "hGWKW8p7ggmY"
      },
      "source": [
        "#Obtener el Top 200 semanal para un país en particular \n",
        "#Test 1: Japon \n",
        "#Instalar libreria de Spotify"
      ],
      "execution_count": 1,
      "outputs": []
    },
    {
      "cell_type": "code",
      "metadata": {
        "colab": {
          "base_uri": "https://localhost:8080/"
        },
        "id": "UjyA33Bqh-G-",
        "outputId": "d3349ebe-c2bd-4d25-9da9-ffab23b5a037"
      },
      "source": [
        "pip install spotipy --upgrade"
      ],
      "execution_count": 2,
      "outputs": [
        {
          "output_type": "stream",
          "text": [
            "Collecting spotipy\n",
            "  Downloading https://files.pythonhosted.org/packages/fb/69/21f1ccc881438bdfa1056ea131b6ac2b1cfbe656cf3676b6167d3cbc4d69/spotipy-2.17.1-py3-none-any.whl\n",
            "Collecting requests>=2.25.0\n",
            "\u001b[?25l  Downloading https://files.pythonhosted.org/packages/29/c1/24814557f1d22c56d50280771a17307e6bf87b70727d975fd6b2ce6b014a/requests-2.25.1-py2.py3-none-any.whl (61kB)\n",
            "\u001b[K     |████████████████████████████████| 61kB 3.2MB/s \n",
            "\u001b[?25hRequirement already satisfied, skipping upgrade: six>=1.15.0 in /usr/local/lib/python3.7/dist-packages (from spotipy) (1.15.0)\n",
            "Collecting urllib3>=1.26.0\n",
            "\u001b[?25l  Downloading https://files.pythonhosted.org/packages/09/c6/d3e3abe5b4f4f16cf0dfc9240ab7ce10c2baa0e268989a4e3ec19e90c84e/urllib3-1.26.4-py2.py3-none-any.whl (153kB)\n",
            "\u001b[K     |████████████████████████████████| 153kB 18.3MB/s \n",
            "\u001b[?25hRequirement already satisfied, skipping upgrade: certifi>=2017.4.17 in /usr/local/lib/python3.7/dist-packages (from requests>=2.25.0->spotipy) (2020.12.5)\n",
            "Requirement already satisfied, skipping upgrade: chardet<5,>=3.0.2 in /usr/local/lib/python3.7/dist-packages (from requests>=2.25.0->spotipy) (3.0.4)\n",
            "Requirement already satisfied, skipping upgrade: idna<3,>=2.5 in /usr/local/lib/python3.7/dist-packages (from requests>=2.25.0->spotipy) (2.10)\n",
            "\u001b[31mERROR: google-colab 1.0.0 has requirement requests~=2.23.0, but you'll have requests 2.25.1 which is incompatible.\u001b[0m\n",
            "\u001b[31mERROR: datascience 0.10.6 has requirement folium==0.2.1, but you'll have folium 0.8.3 which is incompatible.\u001b[0m\n",
            "Installing collected packages: urllib3, requests, spotipy\n",
            "  Found existing installation: urllib3 1.24.3\n",
            "    Uninstalling urllib3-1.24.3:\n",
            "      Successfully uninstalled urllib3-1.24.3\n",
            "  Found existing installation: requests 2.23.0\n",
            "    Uninstalling requests-2.23.0:\n",
            "      Successfully uninstalled requests-2.23.0\n",
            "Successfully installed requests-2.25.1 spotipy-2.17.1 urllib3-1.26.4\n"
          ],
          "name": "stdout"
        }
      ]
    },
    {
      "cell_type": "code",
      "metadata": {
        "id": "2sfGJoEkhw-I"
      },
      "source": [
        "#Credenciales Spotify\n",
        "import spotipy\n",
        "from spotipy.oauth2 import SpotifyClientCredentials\n",
        "\n",
        "sp = spotipy.Spotify(auth_manager=SpotifyClientCredentials(client_id=\"cc9a7bb857eb4282b846a1fe077003c4\",\n",
        "                                                           client_secret=\"817188bf767444ed8f6ca6f4080db1af\"))"
      ],
      "execution_count": 3,
      "outputs": []
    },
    {
      "cell_type": "code",
      "metadata": {
        "id": "vU6NseOJh2D_"
      },
      "source": [
        "#Funciones para extraer informacion de Spotify \n",
        "def get_artist(name):\n",
        "    results = sp.search(q='artist:' + name, type='artist')\n",
        "    items = results['artists']['items']\n",
        "    if len(items) > 0:\n",
        "        return items[0]\n",
        "    else:\n",
        "        return None\n",
        "\n",
        "\n",
        "def get_artist_album_ids(name):\n",
        "\tartist = get_artist(name)\n",
        "\tresults = sp.artist_albums(artist['id'], album_type='album', country='US')\n",
        "\talbums = results['items']\n",
        "\talbum_ids = []\n",
        "\tfor album in albums:\n",
        "\t\talbum_ids.append(album['id'])\n",
        "\n",
        "\treturn album_ids\n",
        "def get_artist_features(name, feature='valence'):\n",
        "\t# features: valence (default), acousticness, danceability,\n",
        "\t#           energy, instrumentalness, speechiness, & tempo\n",
        "\talbum_ids = get_artist_album_ids(name)\n",
        "\tfeatures = []\n",
        "\tfor album_id in album_ids:\n",
        "\t\tresults = sp.album_tracks(album_id)\n",
        "\t\ttracks = results['items']\n",
        "\n",
        "\t\tfor track in tracks:\n",
        "\t\t\taudioFeatures = sp.audio_features(track['id'])\n",
        "\t\t\tfeatures.append(audioFeatures[0][feature])\n",
        "\n",
        "\treturn features\n"
      ],
      "execution_count": 4,
      "outputs": []
    },
    {
      "cell_type": "code",
      "metadata": {
        "id": "9rWqojZmkt3t"
      },
      "source": [
        "#Funciones para obtener el Top200\n",
        "import io\n",
        "import pandas as pd\n",
        "import requests\n",
        "import time\n",
        "import tqdm\n",
        "\n",
        "\n",
        "def week_dates(date, weekday=0):\n",
        "    week_start = date - pd.DateOffset(weekday=weekday, weeks=1)\n",
        "    week_end = date + pd.DateOffset(weekday=weekday, weeks=0)\n",
        "    return week_start, week_end\n",
        "\n",
        "\n",
        "def get_chart(date, region='en', freq='weekly', chart='top200'):\n",
        "    chart = 'regional' if chart == 'top200' else 'viral'\n",
        "    date = pd.to_datetime(date)\n",
        "    if date.year < 2017:\n",
        "        raise ValueError('No chart data available from before 2017')\n",
        "    if freq == 'weekly':\n",
        "        start, end = week_dates(date, weekday=4)\n",
        "        date = f'{start.date()}--{end.date()}'\n",
        "    else:\n",
        "        date = f'{date.date()}'\n",
        "    url = f'https://spotifycharts.com/{chart}/{region}/{freq}/{date}/download'\n",
        "    data = io.StringIO(requests.get(url).text)\n",
        "    try:\n",
        "        df = pd.read_csv(data, skiprows=1) # Fix Spotify's Note\n",
        "    except pd.errors.ParserError:\n",
        "        df = None\n",
        "        print('No hay datos')\n",
        "    return df\n",
        "    #return url\n",
        "    #return data\n",
        "\n",
        "\n",
        "def get_charts(start, end, region='en', freq='daily', chart='top200', sleep=1):\n",
        "    sample = 'D' if freq == 'daily' else 'W'\n",
        "    dfs = []\n",
        "    for date in tqdm.tqdm(pd.date_range(start=start, end=end, freq=sample)):\n",
        "        df = get_chart(date, region=region, freq=freq, chart=chart)\n",
        "        if df is not None:\n",
        "            df['date'] = date\n",
        "            dfs.append(df)\n",
        "            time.sleep(sleep)\n",
        "    return pd.concat(dfs)"
      ],
      "execution_count": 38,
      "outputs": []
    },
    {
      "cell_type": "code",
      "metadata": {
        "id": "NVZk7YxWCl2k"
      },
      "source": [
        "#Positividad para un pais entre semanas\n",
        "import pandas as pd\n",
        "start_date = '2021-03-16'\n",
        "end_date = '2021-03-25'\n",
        "daterange = pd.date_range(start_date, end_date, freq='W-THU')\n",
        "#Artistas = []\n",
        "#Canciones = []\n",
        "positividad = []\n",
        "for single_date in daterange:\n",
        "    date = single_date.strftime(\"%Y-%m-%d\")\n",
        "    df1 = get_chart(date, region='jp')\n",
        "    Artistas = df1['Artist'].values\n",
        "    Canciones = df1['Track Name'].values\n",
        "    for i in range(len(Artistas)):\n",
        "      query = Canciones[i] + '&' + Artistas[i]\n",
        "      results = sp.search(q=query , type= 'track', limit=3, offset=0)\n",
        "      #No todas las canciones tienen positividad identificada, por ello toca \n",
        "      #Poner una restriccion sobre la busqueda \n",
        "      b =  results['tracks']['items']\n",
        "      if (len(b) == 0):\n",
        "        continue\n",
        "      else:\n",
        "        a = results['tracks']['items'][0]['id']\n",
        "        positividad.append(sp.audio_features(a)[0]['valence'])\n",
        "\n",
        "    "
      ],
      "execution_count": 54,
      "outputs": []
    },
    {
      "cell_type": "code",
      "metadata": {
        "colab": {
          "base_uri": "https://localhost:8080/"
        },
        "id": "9xBKjYr_LhAK",
        "outputId": "f99b0e2a-95e6-4ef8-fe77-4035b817d111"
      },
      "source": [
        "len(positividad)"
      ],
      "execution_count": 55,
      "outputs": [
        {
          "output_type": "execute_result",
          "data": {
            "text/plain": [
              "333"
            ]
          },
          "metadata": {
            "tags": []
          },
          "execution_count": 55
        }
      ]
    },
    {
      "cell_type": "code",
      "metadata": {
        "id": "gMtfDkuyI1Uw",
        "colab": {
          "base_uri": "https://localhost:8080/"
        },
        "outputId": "ef635df0-4d2c-485f-dcae-8b2f34b3c5a0"
      },
      "source": [
        "import numpy as np\n",
        "positividad= np.array(positividad)\n",
        "positividad.mean()"
      ],
      "execution_count": 56,
      "outputs": [
        {
          "output_type": "execute_result",
          "data": {
            "text/plain": [
              "0.5451861861861862"
            ]
          },
          "metadata": {
            "tags": []
          },
          "execution_count": 56
        }
      ]
    },
    {
      "cell_type": "code",
      "metadata": {
        "id": "8RwCFBO8O1CX"
      },
      "source": [
        ""
      ],
      "execution_count": null,
      "outputs": []
    }
  ]
}