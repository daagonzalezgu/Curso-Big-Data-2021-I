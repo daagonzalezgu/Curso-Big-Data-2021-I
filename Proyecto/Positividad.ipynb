{
  "nbformat": 4,
  "nbformat_minor": 0,
  "metadata": {
    "colab": {
      "name": "Positividad.ipynb",
      "provenance": [],
      "collapsed_sections": []
    },
    "kernelspec": {
      "name": "python3",
      "display_name": "Python 3"
    },
    "language_info": {
      "name": "python"
    }
  },
  "cells": [
    {
      "cell_type": "code",
      "metadata": {
        "id": "hGWKW8p7ggmY"
      },
      "source": [
        "#Obtener el Top 200 semanal para un país en particular \n",
        "#Test 1: Japon \n",
        "#Instalar libreria de Spotify"
      ],
      "execution_count": null,
      "outputs": []
    },
    {
      "cell_type": "code",
      "metadata": {
        "colab": {
          "base_uri": "https://localhost:8080/"
        },
        "id": "UjyA33Bqh-G-",
        "outputId": "5fa58d0d-9ed0-4660-912b-00fa50b6d7ac"
      },
      "source": [
        "pip install spotipy --upgrade"
      ],
      "execution_count": null,
      "outputs": [
        {
          "output_type": "stream",
          "text": [
            "Requirement already up-to-date: spotipy in /usr/local/lib/python3.7/dist-packages (2.17.1)\n",
            "Requirement already satisfied, skipping upgrade: urllib3>=1.26.0 in /usr/local/lib/python3.7/dist-packages (from spotipy) (1.26.4)\n",
            "Requirement already satisfied, skipping upgrade: six>=1.15.0 in /usr/local/lib/python3.7/dist-packages (from spotipy) (1.15.0)\n",
            "Requirement already satisfied, skipping upgrade: requests>=2.25.0 in /usr/local/lib/python3.7/dist-packages (from spotipy) (2.25.1)\n",
            "Requirement already satisfied, skipping upgrade: certifi>=2017.4.17 in /usr/local/lib/python3.7/dist-packages (from requests>=2.25.0->spotipy) (2020.12.5)\n",
            "Requirement already satisfied, skipping upgrade: idna<3,>=2.5 in /usr/local/lib/python3.7/dist-packages (from requests>=2.25.0->spotipy) (2.10)\n",
            "Requirement already satisfied, skipping upgrade: chardet<5,>=3.0.2 in /usr/local/lib/python3.7/dist-packages (from requests>=2.25.0->spotipy) (3.0.4)\n"
          ],
          "name": "stdout"
        }
      ]
    },
    {
      "cell_type": "code",
      "metadata": {
        "id": "2sfGJoEkhw-I"
      },
      "source": [
        "#Credenciales Spotify\n",
        "import spotipy\n",
        "from spotipy.oauth2 import SpotifyClientCredentials\n",
        "\n",
        "sp = spotipy.Spotify(auth_manager=SpotifyClientCredentials(client_id=\"cc9a7bb857eb4282b846a1fe077003c4\",\n",
        "                                                           client_secret=\"817188bf767444ed8f6ca6f4080db1af\"))"
      ],
      "execution_count": null,
      "outputs": []
    },
    {
      "cell_type": "code",
      "metadata": {
        "id": "vU6NseOJh2D_"
      },
      "source": [
        "#Funciones para extraer informacion de Spotify \n",
        "def get_artist(name):\n",
        "    results = sp.search(q='artist:' + name, type='artist')\n",
        "    items = results['artists']['items']\n",
        "    if len(items) > 0:\n",
        "        return items[0]\n",
        "    else:\n",
        "        return None\n",
        "\n",
        "\n",
        "def get_artist_album_ids(name):\n",
        "\tartist = get_artist(name)\n",
        "\tresults = sp.artist_albums(artist['id'], album_type='album', country='US')\n",
        "\talbums = results['items']\n",
        "\talbum_ids = []\n",
        "\tfor album in albums:\n",
        "\t\talbum_ids.append(album['id'])\n",
        "\n",
        "\treturn album_ids\n",
        "def get_artist_features(name, feature='valence'):\n",
        "\t# features: valence (default), acousticness, danceability,\n",
        "\t#           energy, instrumentalness, speechiness, & tempo\n",
        "\talbum_ids = get_artist_album_ids(name)\n",
        "\tfeatures = []\n",
        "\tfor album_id in album_ids:\n",
        "\t\tresults = sp.album_tracks(album_id)\n",
        "\t\ttracks = results['items']\n",
        "\n",
        "\t\tfor track in tracks:\n",
        "\t\t\taudioFeatures = sp.audio_features(track['id'])\n",
        "\t\t\tfeatures.append(audioFeatures[0][feature])\n",
        "\n",
        "\treturn features\n"
      ],
      "execution_count": null,
      "outputs": []
    },
    {
      "cell_type": "code",
      "metadata": {
        "id": "9rWqojZmkt3t"
      },
      "source": [
        "#Funciones para obtener el Top200\n",
        "import io\n",
        "import pandas as pd\n",
        "import requests\n",
        "import time\n",
        "import tqdm\n",
        "\n",
        "\n",
        "def week_dates(date, weekday=0):\n",
        "    week_start = date - pd.DateOffset(weekday=weekday, weeks=1)\n",
        "    week_end = date + pd.DateOffset(weekday=weekday, weeks=0)\n",
        "    return week_start, week_end\n",
        "\n",
        "\n",
        "def get_chart(date, region='en', freq='weekly', chart='top200'):\n",
        "    chart = 'regional' if chart == 'top200' else 'viral'\n",
        "    date = pd.to_datetime(date)\n",
        "    if date.year < 2017:\n",
        "        raise ValueError('No chart data available from before 2017')\n",
        "    if freq == 'weekly':\n",
        "        start, end = week_dates(date, weekday=4)\n",
        "        date = f'{start.date()}--{end.date()}'\n",
        "    else:\n",
        "        date = f'{date.date()}'\n",
        "    url = f'https://spotifycharts.com/{chart}/{region}/{freq}/{date}/download'\n",
        "    data = io.StringIO(requests.get(url).text)\n",
        "    try:\n",
        "        df = pd.read_csv(data, skiprows=1) # Fix Spotify's Note\n",
        "    except pd.errors.ParserError:\n",
        "        df = 'No hay datos'\n",
        "        #print('No hay datos')\n",
        "    return df\n",
        "    #return url\n",
        "    #return data\n",
        "\n",
        "\n",
        "def get_charts(start, end, region='en', freq='daily', chart='top200', sleep=1):\n",
        "    sample = 'D' if freq == 'daily' else 'W'\n",
        "    dfs = []\n",
        "    for date in tqdm.tqdm(pd.date_range(start=start, end=end, freq=sample)):\n",
        "        df = get_chart(date, region=region, freq=freq, chart=chart)\n",
        "        if df is not None:\n",
        "            df['date'] = date\n",
        "            dfs.append(df)\n",
        "            time.sleep(sleep)\n",
        "    return pd.concat(dfs)"
      ],
      "execution_count": null,
      "outputs": []
    },
    {
      "cell_type": "code",
      "metadata": {
        "id": "NVZk7YxWCl2k",
        "colab": {
          "base_uri": "https://localhost:8080/",
          "height": 80
        },
        "outputId": "2f2d6d00-0350-4e7a-fb4a-e82b83c63e3c"
      },
      "source": [
        "#Positividad promedio para un pais entre semanas\n",
        "import pandas as pd\n",
        "import numpy as np\n",
        "start_date = '2018-01-01'\n",
        "end_date = '2018-02-28'\n",
        "daterange = pd.date_range(start_date, end_date, freq='W-THU')\n",
        "#Artistas = []\n",
        "#Canciones = []\n",
        "positividad = []\n",
        "semanas = 0\n",
        "total_canciones = 0 \n",
        "for single_date in daterange:\n",
        "   date = single_date.strftime(\"%Y-%m-%d\")\n",
        "   df1 = get_chart(date, region='co')\n",
        "   if type(df1) is str:\n",
        "     print('No hay datos para la semana del ', date ) \n",
        "   else:\n",
        "     df1 = df1.dropna() # Quita los registros vacios\n",
        "     Artistas = df1['Artist'].values\n",
        "     Canciones = df1['Track Name'].values\n",
        "     semanas  += 1\n",
        "     for i in range(len(Artistas)):\n",
        "       total_canciones += 1\n",
        "       query = Canciones[i] + '&' + Artistas[i]\n",
        "       results = sp.search(q=query , type= 'track', limit=3, offset=0)\n",
        "       #No todas las canciones tienen positividad identificada, por ello toca \n",
        "       #Poner una restriccion sobre la busqueda\n",
        "       b =  results['tracks']['items']\n",
        "       if (len(b) == 0):\n",
        "         continue\n",
        "       else:\n",
        "         a = results['tracks']['items'][0]['id']\n",
        "         positividad.append(sp.audio_features(a)[0]['valence'])\n",
        "positividad= np.array(positividad) \n",
        "df = pd.DataFrame()\n",
        "df['pais'] = ['Colombia']\n",
        "df['Pos_19'] = [positividad.mean()]\n",
        "df"
      ],
      "execution_count": null,
      "outputs": [
        {
          "output_type": "execute_result",
          "data": {
            "text/html": [
              "<div>\n",
              "<style scoped>\n",
              "    .dataframe tbody tr th:only-of-type {\n",
              "        vertical-align: middle;\n",
              "    }\n",
              "\n",
              "    .dataframe tbody tr th {\n",
              "        vertical-align: top;\n",
              "    }\n",
              "\n",
              "    .dataframe thead th {\n",
              "        text-align: right;\n",
              "    }\n",
              "</style>\n",
              "<table border=\"1\" class=\"dataframe\">\n",
              "  <thead>\n",
              "    <tr style=\"text-align: right;\">\n",
              "      <th></th>\n",
              "      <th>pais</th>\n",
              "      <th>Pos_19</th>\n",
              "    </tr>\n",
              "  </thead>\n",
              "  <tbody>\n",
              "    <tr>\n",
              "      <th>0</th>\n",
              "      <td>Colombia</td>\n",
              "      <td>0.577688</td>\n",
              "    </tr>\n",
              "  </tbody>\n",
              "</table>\n",
              "</div>"
            ],
            "text/plain": [
              "       pais    Pos_19\n",
              "0  Colombia  0.577688"
            ]
          },
          "metadata": {
            "tags": []
          },
          "execution_count": 25
        }
      ]
    },
    {
      "cell_type": "code",
      "metadata": {
        "colab": {
          "base_uri": "https://localhost:8080/",
          "height": 80
        },
        "id": "hH5Y4JSx71Dr",
        "outputId": "25f7874c-286a-4659-eafb-b4f81f97391f"
      },
      "source": [
        "df = pd.DataFrame()\n",
        "df['pais'] = ['Colombia']\n",
        "df['Pos_18'] = [positividad.mean()]\n",
        "df.to_csv('PositividadC.csv', index=False)\n",
        "df"
      ],
      "execution_count": null,
      "outputs": [
        {
          "output_type": "execute_result",
          "data": {
            "text/html": [
              "<div>\n",
              "<style scoped>\n",
              "    .dataframe tbody tr th:only-of-type {\n",
              "        vertical-align: middle;\n",
              "    }\n",
              "\n",
              "    .dataframe tbody tr th {\n",
              "        vertical-align: top;\n",
              "    }\n",
              "\n",
              "    .dataframe thead th {\n",
              "        text-align: right;\n",
              "    }\n",
              "</style>\n",
              "<table border=\"1\" class=\"dataframe\">\n",
              "  <thead>\n",
              "    <tr style=\"text-align: right;\">\n",
              "      <th></th>\n",
              "      <th>pais</th>\n",
              "      <th>Pos_18</th>\n",
              "    </tr>\n",
              "  </thead>\n",
              "  <tbody>\n",
              "    <tr>\n",
              "      <th>0</th>\n",
              "      <td>Colombia</td>\n",
              "      <td>0.577688</td>\n",
              "    </tr>\n",
              "  </tbody>\n",
              "</table>\n",
              "</div>"
            ],
            "text/plain": [
              "       pais    Pos_18\n",
              "0  Colombia  0.577688"
            ]
          },
          "metadata": {
            "tags": []
          },
          "execution_count": 26
        }
      ]
    },
    {
      "cell_type": "code",
      "metadata": {
        "colab": {
          "base_uri": "https://localhost:8080/"
        },
        "id": "Mmv4t9lQVN7i",
        "outputId": "e94d8d18-bd49-4abb-aefc-ae0d6874b7c6"
      },
      "source": [
        "df1.columns\n",
        "df1['Streams'].values"
      ],
      "execution_count": null,
      "outputs": [
        {
          "output_type": "execute_result",
          "data": {
            "text/plain": [
              "array([547761, 532825, 397659, 349647, 343602, 321773, 309789, 296575,\n",
              "       293517, 290805, 290761, 290290, 267834, 245069, 236288, 226554,\n",
              "       219749, 215378, 207583, 206838, 200749, 196815, 191334, 186118,\n",
              "       180408, 177519, 171877, 163394, 163132, 161788, 161086, 160921,\n",
              "       160355, 159551, 156714, 155627, 149008, 148314, 145129, 144524,\n",
              "       144428, 144307, 141062, 140447, 138048, 132999, 132154, 128977,\n",
              "       125007, 120812, 110283, 105000, 102643, 102002, 101309, 100059,\n",
              "        98278,  95073,  93957,  88411,  88157,  88120,  85704,  84834,\n",
              "        84335,  83722,  79666,  79460,  78803,  76519,  73819,  70623,\n",
              "        69640,  69326,  68545,  67065,  66790,  66687,  66668,  65817,\n",
              "        64298,  63596,  63046,  62976,  62961,  62871,  62468,  61433,\n",
              "        60114,  60089,  59099,  58218,  58052,  57632,  56915,  55492,\n",
              "        55291,  54989,  54921,  54845,  54664,  54151,  54023,  53811,\n",
              "        53589,  52754,  51855,  50062,  49943,  49896,  49862,  49630,\n",
              "        49471,  49458,  48908,  48831,  48780,  48704,  48553,  47908,\n",
              "        47813,  47314,  47236,  46417,  46298,  45922,  45724,  45446,\n",
              "        45181,  45054,  44770,  44466,  44413,  44151,  43852,  43722,\n",
              "        43714,  43670,  43269,  42778,  42703,  42403,  42401,  41832,\n",
              "        41662,  41653,  41582,  41570,  41091,  40813,  40787,  40128,\n",
              "        39714,  39700,  39659,  39598,  39249,  39227,  39122,  39000,\n",
              "        38933,  38810,  38666,  38558,  38520,  38306,  38155,  38088,\n",
              "        38054,  37880,  37712,  37680,  37520,  37445,  37347,  37076,\n",
              "        37040,  36973,  36932,  36862,  36686,  36456,  36419,  36326,\n",
              "        36315,  36149,  36082,  35839,  35769,  35653,  35529,  35489,\n",
              "        35480,  35468,  35267,  35120,  35028,  34831,  34751,  34574])"
            ]
          },
          "metadata": {
            "tags": []
          },
          "execution_count": 28
        }
      ]
    },
    {
      "cell_type": "code",
      "metadata": {
        "colab": {
          "base_uri": "https://localhost:8080/"
        },
        "id": "KXJPBlQy1HDN",
        "outputId": "15cc0eb5-9d8e-458c-e335-8f79180eeb74"
      },
      "source": [
        "print(semanas, i)\n",
        "#print(query)\n",
        "df1 = get_chart('2017-11-09', region='jp')\n",
        "df1 = df1.dropna()\n",
        "Artistas = df1['Artist'].values\n",
        "Canciones = df1['Track Name'].values\n",
        "print(Canciones[187], Artistas[187])\n",
        "query = Canciones[187] + '&' + Artistas[187]\n",
        "#print(query)  \n",
        "#df1\n",
        "#results = sp.search(q=query , type= 'track', limit=3, offset=0)\n"
      ],
      "execution_count": null,
      "outputs": [
        {
          "output_type": "stream",
          "text": [
            "11 187\n",
            "Dirty Sexy Money (feat. Charli XCX & French Montana) David Guetta\n"
          ],
          "name": "stdout"
        }
      ]
    },
    {
      "cell_type": "code",
      "metadata": {
        "colab": {
          "base_uri": "https://localhost:8080/"
        },
        "id": "9xBKjYr_LhAK",
        "outputId": "779c4834-82be-4ff5-c5d5-0b0016f01c6f"
      },
      "source": [
        "len(positividad)"
      ],
      "execution_count": null,
      "outputs": [
        {
          "output_type": "execute_result",
          "data": {
            "text/plain": [
              "713"
            ]
          },
          "metadata": {
            "tags": []
          },
          "execution_count": 40
        }
      ]
    },
    {
      "cell_type": "code",
      "metadata": {
        "colab": {
          "base_uri": "https://localhost:8080/",
          "height": 35
        },
        "id": "x2n_j_r5bYsb",
        "outputId": "bb0723d1-7b45-4fb5-d182-f38d89cd8e13"
      },
      "source": [
        "df1 = get_chart('2017-01-31', region='jp')\n",
        "df1\n",
        "#if type(df1) is str:\n",
        "#  print('Esto puede funcionar')"
      ],
      "execution_count": null,
      "outputs": [
        {
          "output_type": "execute_result",
          "data": {
            "application/vnd.google.colaboratory.intrinsic+json": {
              "type": "string"
            },
            "text/plain": [
              "'No hay datos'"
            ]
          },
          "metadata": {
            "tags": []
          },
          "execution_count": 46
        }
      ]
    },
    {
      "cell_type": "code",
      "metadata": {
        "id": "gMtfDkuyI1Uw",
        "colab": {
          "base_uri": "https://localhost:8080/"
        },
        "outputId": "58e30c51-f514-4f12-e1e5-3b43cf299127"
      },
      "source": [
        "import numpy as np\n",
        "positividad= np.array(positividad)\n",
        "positividad.mean()"
      ],
      "execution_count": null,
      "outputs": [
        {
          "output_type": "execute_result",
          "data": {
            "text/plain": [
              "0.6046572230014026"
            ]
          },
          "metadata": {
            "tags": []
          },
          "execution_count": 42
        }
      ]
    },
    {
      "cell_type": "code",
      "metadata": {
        "colab": {
          "base_uri": "https://localhost:8080/"
        },
        "id": "8RwCFBO8O1CX",
        "outputId": "bfe28f3c-a867-46ce-db61-cefde6b0d6b0"
      },
      "source": [
        "print('Positividad : ', positividad.mean(), 'Semanas :' , semanas, 'Total canciones :', total_canciones)"
      ],
      "execution_count": null,
      "outputs": [
        {
          "output_type": "stream",
          "text": [
            "Positividad :  0.6046572230014026 Semanas : 4 Total canciones : 800\n"
          ],
          "name": "stdout"
        }
      ]
    },
    {
      "cell_type": "code",
      "metadata": {
        "id": "QdICgX6xVHCA"
      },
      "source": [
        ""
      ],
      "execution_count": null,
      "outputs": []
    },
    {
      "cell_type": "code",
      "metadata": {
        "id": "TN-pI6KtUyRH"
      },
      "source": [
        ""
      ],
      "execution_count": null,
      "outputs": []
    },
    {
      "cell_type": "code",
      "metadata": {
        "colab": {
          "base_uri": "https://localhost:8080/"
        },
        "id": "U_hgWlTVUy13",
        "outputId": "f7f718a8-ad6d-4d93-e378-129917a8ebaa"
      },
      "source": [
        "#Positividad ponderada para un pais entre semanas\n",
        "import pandas as pd\n",
        "import numpy as np\n",
        "start_date = '2018-01-01'\n",
        "end_date = '2018-02-28'\n",
        "daterange = pd.date_range(start_date, end_date, freq='W-THU')\n",
        "#Artistas = []\n",
        "#Canciones = []\n",
        "positividad = []\n",
        "streams =[]\n",
        "semanas = 0\n",
        "total_canciones = 0 \n",
        "for single_date in daterange:\n",
        "   date = single_date.strftime(\"%Y-%m-%d\")\n",
        "   df1 = get_chart(date, region='co')\n",
        "   if type(df1) is str:\n",
        "     print('No hay datos para la semana del ', date ) \n",
        "   else:\n",
        "     df1 = df1.dropna() # Quita los registros vacios\n",
        "     Artistas = df1['Artist'].values\n",
        "     Canciones = df1['Track Name'].values\n",
        "     Reproducciones = df1['Streams'].values\n",
        "     semanas  += 1\n",
        "     for i in range(len(Artistas)):\n",
        "       total_canciones += 1\n",
        "       query = Canciones[i] + '&' + Artistas[i]\n",
        "       results = sp.search(q=query , type= 'track', limit=3, offset=0)\n",
        "       #No todas las canciones tienen positividad identificada, por ello toca \n",
        "       #Poner una restriccion sobre la busqueda\n",
        "       b =  results['tracks']['items']\n",
        "       if (len(b) == 0):\n",
        "         continue\n",
        "       else:\n",
        "         a = results['tracks']['items'][0]['id']\n",
        "         positividad.append(sp.audio_features(a)[0]['valence'])\n",
        "         streams.append(Reproducciones[i])\n",
        "positividad= np.array(positividad)\n",
        "streams = np.array(streams) \n",
        "pos_pon = np.sum(np.multiply(positividad,streams))/np.sum(streams)\n",
        "pos_pon\n",
        "#df = pd.DataFrame()\n",
        "#df['pais'] = ['Colombia']\n",
        "#df['Pos_19'] = [positividad.mean()]\n",
        "#df"
      ],
      "execution_count": null,
      "outputs": [
        {
          "output_type": "execute_result",
          "data": {
            "text/plain": [
              "0.6035535437865012"
            ]
          },
          "metadata": {
            "tags": []
          },
          "execution_count": 31
        }
      ]
    },
    {
      "cell_type": "code",
      "metadata": {
        "id": "VZXdbvzdW6Sa"
      },
      "source": [
        ""
      ],
      "execution_count": null,
      "outputs": []
    }
  ]
}