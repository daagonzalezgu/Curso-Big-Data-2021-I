{
 "cells": [
  {
   "cell_type": "markdown",
   "id": "traditional-genius",
   "metadata": {},
   "source": [
    "# Regresión lineal"
   ]
  },
  {
   "cell_type": "markdown",
   "id": "ongoing-update",
   "metadata": {},
   "source": [
    "# Introducción"
   ]
  },
  {
   "cell_type": "code",
   "execution_count": 1,
   "id": "mobile-train",
   "metadata": {},
   "outputs": [],
   "source": [
    "import numpy as np"
   ]
  },
  {
   "cell_type": "code",
   "execution_count": null,
   "id": "assumed-staff",
   "metadata": {},
   "outputs": [],
   "source": []
  },
  {
   "cell_type": "markdown",
   "id": "relevant-response",
   "metadata": {},
   "source": [
    "# Antecedentes históricos"
   ]
  },
  {
   "cell_type": "code",
   "execution_count": null,
   "id": "christian-tourist",
   "metadata": {},
   "outputs": [],
   "source": []
  },
  {
   "cell_type": "markdown",
   "id": "little-player",
   "metadata": {},
   "source": [
    "# Presentación del algoritmo"
   ]
  },
  {
   "cell_type": "code",
   "execution_count": null,
   "id": "behind-malaysia",
   "metadata": {},
   "outputs": [],
   "source": []
  },
  {
   "cell_type": "markdown",
   "id": "material-student",
   "metadata": {},
   "source": [
    "# Ejercicio de aplicación"
   ]
  },
  {
   "cell_type": "code",
   "execution_count": null,
   "id": "hispanic-stanley",
   "metadata": {},
   "outputs": [],
   "source": []
  },
  {
   "cell_type": "markdown",
   "id": "interim-malpractice",
   "metadata": {},
   "source": [
    "# Conclusiones"
   ]
  },
  {
   "cell_type": "code",
   "execution_count": null,
   "id": "ethical-single",
   "metadata": {},
   "outputs": [],
   "source": []
  },
  {
   "cell_type": "markdown",
   "id": "concerned-jumping",
   "metadata": {},
   "source": [
    "# Referencias "
   ]
  },
  {
   "cell_type": "markdown",
   "id": "brilliant-frame",
   "metadata": {},
   "source": []
  }
 ],
 "metadata": {
  "kernelspec": {
   "display_name": "Python 3",
   "language": "python",
   "name": "python3"
  },
  "language_info": {
   "codemirror_mode": {
    "name": "ipython",
    "version": 3
   },
   "file_extension": ".py",
   "mimetype": "text/x-python",
   "name": "python",
   "nbconvert_exporter": "python",
   "pygments_lexer": "ipython3",
   "version": "3.7.10"
  }
 },
 "nbformat": 4,
 "nbformat_minor": 5
}
