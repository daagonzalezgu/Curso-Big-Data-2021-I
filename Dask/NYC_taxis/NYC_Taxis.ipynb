{
 "cells": [
  {
   "cell_type": "markdown",
   "id": "modified-original",
   "metadata": {},
   "source": [
    "# Análisis de viajes en taxi de 2013 en Nueva York "
   ]
  },
  {
   "cell_type": "markdown",
   "id": "supported-heaven",
   "metadata": {},
   "source": [
    "El objetivo de este cuaderno es explorar los datos de los viajes en taxi durante el año 2013 en la ciudad de Nueva York haciendo uso de la librería Dask. Para empezar, inicializamos dask e importamos el dataset"
   ]
  },
  {
   "cell_type": "code",
   "execution_count": 1,
   "id": "instant-tongue",
   "metadata": {},
   "outputs": [],
   "source": [
    "from dask.distributed import Client\n",
    "\n",
    "client = Client(n_workers=4)"
   ]
  },
  {
   "cell_type": "code",
   "execution_count": 2,
   "id": "useful-latvia",
   "metadata": {},
   "outputs": [
    {
     "name": "stdout",
     "output_type": "stream",
     "text": [
      "trip_data/*_1.csv\n",
      "dask.bag<bag-from-delayed, npartitions=1>\n"
     ]
    }
   ],
   "source": [
    "import dask.bag as db\n",
    "import os\n",
    "#files = [os.path.join('Datos','2015-01-0%d-*.json.gz' % i) for i in range(1,2)]\n",
    "files = os.path.join('trip_data', '*_1.csv')\n",
    "b = db.read_text(files)\n",
    "print(files)\n",
    "print(b)"
   ]
  },
  {
   "cell_type": "markdown",
   "id": "spatial-celebration",
   "metadata": {},
   "source": [
    "Ahora, miremos el primer archivo"
   ]
  },
  {
   "cell_type": "code",
   "execution_count": 3,
   "id": "russian-sunrise",
   "metadata": {},
   "outputs": [
    {
     "data": {
      "text/plain": [
       "('medallion,hack_license,vendor_id,rate_code,store_and_fwd_flag,pickup_datetime,dropoff_datetime,passenger_count,trip_time_in_secs,trip_distance,pickup_longitude,pickup_latitude,dropoff_longitude,dropoff_latitude\\n',\n",
       " '89D227B655E5C82AECF13C3F540D4CF4,BA96DE419E711691B9445D6A6307C170,CMT,1,N,2013-01-01 15:11:48,2013-01-01 15:18:10,4,382,1.00,-73.978165,40.757977,-73.989838,40.751171\\n')"
      ]
     },
     "execution_count": 3,
     "metadata": {},
     "output_type": "execute_result"
    }
   ],
   "source": [
    "b.take(2)"
   ]
  },
  {
   "cell_type": "markdown",
   "id": "according-attendance",
   "metadata": {},
   "source": [
    "Sin embargo,como los archivos están en formato csv se pueden leer y manejar en dataframes de una mejor manera"
   ]
  },
  {
   "cell_type": "code",
   "execution_count": 4,
   "id": "dimensional-mathematics",
   "metadata": {
    "scrolled": true
   },
   "outputs": [
    {
     "data": {
      "text/html": [
       "<div><strong>Dask DataFrame Structure:</strong></div>\n",
       "<div>\n",
       "<style scoped>\n",
       "    .dataframe tbody tr th:only-of-type {\n",
       "        vertical-align: middle;\n",
       "    }\n",
       "\n",
       "    .dataframe tbody tr th {\n",
       "        vertical-align: top;\n",
       "    }\n",
       "\n",
       "    .dataframe thead th {\n",
       "        text-align: right;\n",
       "    }\n",
       "</style>\n",
       "<table border=\"1\" class=\"dataframe\">\n",
       "  <thead>\n",
       "    <tr style=\"text-align: right;\">\n",
       "      <th></th>\n",
       "      <th>medallion</th>\n",
       "      <th>hack_license</th>\n",
       "      <th>vendor_id</th>\n",
       "      <th>rate_code</th>\n",
       "      <th>store_and_fwd_flag</th>\n",
       "      <th>pickup_datetime</th>\n",
       "      <th>dropoff_datetime</th>\n",
       "      <th>passenger_count</th>\n",
       "      <th>trip_time_in_secs</th>\n",
       "      <th>trip_distance</th>\n",
       "      <th>pickup_longitude</th>\n",
       "      <th>pickup_latitude</th>\n",
       "      <th>dropoff_longitude</th>\n",
       "      <th>dropoff_latitude</th>\n",
       "    </tr>\n",
       "    <tr>\n",
       "      <th>npartitions=27</th>\n",
       "      <th></th>\n",
       "      <th></th>\n",
       "      <th></th>\n",
       "      <th></th>\n",
       "      <th></th>\n",
       "      <th></th>\n",
       "      <th></th>\n",
       "      <th></th>\n",
       "      <th></th>\n",
       "      <th></th>\n",
       "      <th></th>\n",
       "      <th></th>\n",
       "      <th></th>\n",
       "      <th></th>\n",
       "    </tr>\n",
       "  </thead>\n",
       "  <tbody>\n",
       "    <tr>\n",
       "      <th></th>\n",
       "      <td>object</td>\n",
       "      <td>object</td>\n",
       "      <td>object</td>\n",
       "      <td>float64</td>\n",
       "      <td>object</td>\n",
       "      <td>object</td>\n",
       "      <td>object</td>\n",
       "      <td>float64</td>\n",
       "      <td>float64</td>\n",
       "      <td>float64</td>\n",
       "      <td>float64</td>\n",
       "      <td>float64</td>\n",
       "      <td>float64</td>\n",
       "      <td>float64</td>\n",
       "    </tr>\n",
       "    <tr>\n",
       "      <th></th>\n",
       "      <td>...</td>\n",
       "      <td>...</td>\n",
       "      <td>...</td>\n",
       "      <td>...</td>\n",
       "      <td>...</td>\n",
       "      <td>...</td>\n",
       "      <td>...</td>\n",
       "      <td>...</td>\n",
       "      <td>...</td>\n",
       "      <td>...</td>\n",
       "      <td>...</td>\n",
       "      <td>...</td>\n",
       "      <td>...</td>\n",
       "      <td>...</td>\n",
       "    </tr>\n",
       "    <tr>\n",
       "      <th>...</th>\n",
       "      <td>...</td>\n",
       "      <td>...</td>\n",
       "      <td>...</td>\n",
       "      <td>...</td>\n",
       "      <td>...</td>\n",
       "      <td>...</td>\n",
       "      <td>...</td>\n",
       "      <td>...</td>\n",
       "      <td>...</td>\n",
       "      <td>...</td>\n",
       "      <td>...</td>\n",
       "      <td>...</td>\n",
       "      <td>...</td>\n",
       "      <td>...</td>\n",
       "    </tr>\n",
       "    <tr>\n",
       "      <th></th>\n",
       "      <td>...</td>\n",
       "      <td>...</td>\n",
       "      <td>...</td>\n",
       "      <td>...</td>\n",
       "      <td>...</td>\n",
       "      <td>...</td>\n",
       "      <td>...</td>\n",
       "      <td>...</td>\n",
       "      <td>...</td>\n",
       "      <td>...</td>\n",
       "      <td>...</td>\n",
       "      <td>...</td>\n",
       "      <td>...</td>\n",
       "      <td>...</td>\n",
       "    </tr>\n",
       "    <tr>\n",
       "      <th></th>\n",
       "      <td>...</td>\n",
       "      <td>...</td>\n",
       "      <td>...</td>\n",
       "      <td>...</td>\n",
       "      <td>...</td>\n",
       "      <td>...</td>\n",
       "      <td>...</td>\n",
       "      <td>...</td>\n",
       "      <td>...</td>\n",
       "      <td>...</td>\n",
       "      <td>...</td>\n",
       "      <td>...</td>\n",
       "      <td>...</td>\n",
       "      <td>...</td>\n",
       "    </tr>\n",
       "  </tbody>\n",
       "</table>\n",
       "</div>\n",
       "<div>Dask Name: read-csv, 27 tasks</div>"
      ],
      "text/plain": [
       "Dask DataFrame Structure:\n",
       "               medallion  hack_license  vendor_id  rate_code  store_and_fwd_flag  pickup_datetime  dropoff_datetime  passenger_count  trip_time_in_secs  trip_distance  pickup_longitude  pickup_latitude  dropoff_longitude  dropoff_latitude\n",
       "npartitions=27                                                                                                                                                                                                                                \n",
       "                  object        object     object    float64              object           object            object          float64            float64        float64           float64          float64            float64           float64\n",
       "                     ...           ...        ...        ...                 ...              ...               ...              ...                ...            ...               ...              ...                ...               ...\n",
       "...                  ...           ...        ...        ...                 ...              ...               ...              ...                ...            ...               ...              ...                ...               ...\n",
       "                     ...           ...        ...        ...                 ...              ...               ...              ...                ...            ...               ...              ...                ...               ...\n",
       "                     ...           ...        ...        ...                 ...              ...               ...              ...                ...            ...               ...              ...                ...               ...\n",
       "Dask Name: read-csv, 27 tasks"
      ]
     },
     "execution_count": 4,
     "metadata": {},
     "output_type": "execute_result"
    }
   ],
   "source": [
    "import dask.dataframe as dd\n",
    "\n",
    "df = dd.read_csv('trip_data/*_8.csv',dtype={' passenger_count': 'float64',\n",
    "       ' rate_code': 'float64',\n",
    "       ' trip_time_in_secs': 'float64'})\n",
    "df"
   ]
  },
  {
   "cell_type": "markdown",
   "id": "informative-madagascar",
   "metadata": {},
   "source": [
    "Ahora, viendo la cabecera del primer dataframe"
   ]
  },
  {
   "cell_type": "code",
   "execution_count": 5,
   "id": "mounted-blackberry",
   "metadata": {
    "scrolled": true
   },
   "outputs": [
    {
     "data": {
      "text/html": [
       "<div>\n",
       "<style scoped>\n",
       "    .dataframe tbody tr th:only-of-type {\n",
       "        vertical-align: middle;\n",
       "    }\n",
       "\n",
       "    .dataframe tbody tr th {\n",
       "        vertical-align: top;\n",
       "    }\n",
       "\n",
       "    .dataframe thead th {\n",
       "        text-align: right;\n",
       "    }\n",
       "</style>\n",
       "<table border=\"1\" class=\"dataframe\">\n",
       "  <thead>\n",
       "    <tr style=\"text-align: right;\">\n",
       "      <th></th>\n",
       "      <th>medallion</th>\n",
       "      <th>hack_license</th>\n",
       "      <th>vendor_id</th>\n",
       "      <th>rate_code</th>\n",
       "      <th>store_and_fwd_flag</th>\n",
       "      <th>pickup_datetime</th>\n",
       "      <th>dropoff_datetime</th>\n",
       "      <th>passenger_count</th>\n",
       "      <th>trip_time_in_secs</th>\n",
       "      <th>trip_distance</th>\n",
       "      <th>pickup_longitude</th>\n",
       "      <th>pickup_latitude</th>\n",
       "      <th>dropoff_longitude</th>\n",
       "      <th>dropoff_latitude</th>\n",
       "    </tr>\n",
       "  </thead>\n",
       "  <tbody>\n",
       "    <tr>\n",
       "      <th>0</th>\n",
       "      <td>3418135604CD3F357DD9577AF978C5C0</td>\n",
       "      <td>B25386A1F259C87449430593E904FDBC</td>\n",
       "      <td>VTS</td>\n",
       "      <td>1.0</td>\n",
       "      <td>NaN</td>\n",
       "      <td>2013-08-30 07:57:00</td>\n",
       "      <td>2013-08-30 08:30:00</td>\n",
       "      <td>5.0</td>\n",
       "      <td>1980.0</td>\n",
       "      <td>14.58</td>\n",
       "      <td>-73.791359</td>\n",
       "      <td>40.645657</td>\n",
       "      <td>-73.922501</td>\n",
       "      <td>40.758766</td>\n",
       "    </tr>\n",
       "    <tr>\n",
       "      <th>1</th>\n",
       "      <td>6D3B2A7682C30DCF64F3F12976EF93B6</td>\n",
       "      <td>A603A9D5FAA46E8FF2A97A143328D938</td>\n",
       "      <td>CMT</td>\n",
       "      <td>1.0</td>\n",
       "      <td>N</td>\n",
       "      <td>2013-08-30 23:26:23</td>\n",
       "      <td>2013-08-30 23:46:01</td>\n",
       "      <td>2.0</td>\n",
       "      <td>1177.0</td>\n",
       "      <td>11.00</td>\n",
       "      <td>-73.862724</td>\n",
       "      <td>40.769062</td>\n",
       "      <td>-73.976845</td>\n",
       "      <td>40.764595</td>\n",
       "    </tr>\n",
       "    <tr>\n",
       "      <th>2</th>\n",
       "      <td>6D49E494913752B75B2685E0019FF3D5</td>\n",
       "      <td>3F0BFE90A5D71741840B25600A89E225</td>\n",
       "      <td>CMT</td>\n",
       "      <td>1.0</td>\n",
       "      <td>N</td>\n",
       "      <td>2013-08-30 09:18:10</td>\n",
       "      <td>2013-08-30 09:24:08</td>\n",
       "      <td>1.0</td>\n",
       "      <td>357.0</td>\n",
       "      <td>0.80</td>\n",
       "      <td>-73.991653</td>\n",
       "      <td>40.750324</td>\n",
       "      <td>-73.986420</td>\n",
       "      <td>40.742924</td>\n",
       "    </tr>\n",
       "    <tr>\n",
       "      <th>3</th>\n",
       "      <td>4C4A0AFC432A1A87E97ED8F18403FF6E</td>\n",
       "      <td>BA20A20E2CF85EF7B00162D711394C7E</td>\n",
       "      <td>CMT</td>\n",
       "      <td>1.0</td>\n",
       "      <td>N</td>\n",
       "      <td>2013-08-26 23:27:11</td>\n",
       "      <td>2013-08-26 23:42:49</td>\n",
       "      <td>4.0</td>\n",
       "      <td>938.0</td>\n",
       "      <td>7.70</td>\n",
       "      <td>-73.975372</td>\n",
       "      <td>40.756237</td>\n",
       "      <td>-73.867119</td>\n",
       "      <td>40.721886</td>\n",
       "    </tr>\n",
       "    <tr>\n",
       "      <th>4</th>\n",
       "      <td>1258CA1DF5E2A9E9A9F7848408A7AAEB</td>\n",
       "      <td>8C14DCF69CAA2A9A0DFAFD99E00536A1</td>\n",
       "      <td>CMT</td>\n",
       "      <td>1.0</td>\n",
       "      <td>N</td>\n",
       "      <td>2013-08-29 10:57:56</td>\n",
       "      <td>2013-08-29 11:19:06</td>\n",
       "      <td>2.0</td>\n",
       "      <td>1270.0</td>\n",
       "      <td>2.10</td>\n",
       "      <td>-73.991020</td>\n",
       "      <td>40.750912</td>\n",
       "      <td>-73.996727</td>\n",
       "      <td>40.767578</td>\n",
       "    </tr>\n",
       "  </tbody>\n",
       "</table>\n",
       "</div>"
      ],
      "text/plain": [
       "                          medallion                      hack_license  \\\n",
       "0  3418135604CD3F357DD9577AF978C5C0  B25386A1F259C87449430593E904FDBC   \n",
       "1  6D3B2A7682C30DCF64F3F12976EF93B6  A603A9D5FAA46E8FF2A97A143328D938   \n",
       "2  6D49E494913752B75B2685E0019FF3D5  3F0BFE90A5D71741840B25600A89E225   \n",
       "3  4C4A0AFC432A1A87E97ED8F18403FF6E  BA20A20E2CF85EF7B00162D711394C7E   \n",
       "4  1258CA1DF5E2A9E9A9F7848408A7AAEB  8C14DCF69CAA2A9A0DFAFD99E00536A1   \n",
       "\n",
       "   vendor_id   rate_code  store_and_fwd_flag      pickup_datetime  \\\n",
       "0        VTS         1.0                 NaN  2013-08-30 07:57:00   \n",
       "1        CMT         1.0                   N  2013-08-30 23:26:23   \n",
       "2        CMT         1.0                   N  2013-08-30 09:18:10   \n",
       "3        CMT         1.0                   N  2013-08-26 23:27:11   \n",
       "4        CMT         1.0                   N  2013-08-29 10:57:56   \n",
       "\n",
       "      dropoff_datetime   passenger_count   trip_time_in_secs   trip_distance  \\\n",
       "0  2013-08-30 08:30:00               5.0              1980.0           14.58   \n",
       "1  2013-08-30 23:46:01               2.0              1177.0           11.00   \n",
       "2  2013-08-30 09:24:08               1.0               357.0            0.80   \n",
       "3  2013-08-26 23:42:49               4.0               938.0            7.70   \n",
       "4  2013-08-29 11:19:06               2.0              1270.0            2.10   \n",
       "\n",
       "    pickup_longitude   pickup_latitude   dropoff_longitude   dropoff_latitude  \n",
       "0         -73.791359         40.645657          -73.922501          40.758766  \n",
       "1         -73.862724         40.769062          -73.976845          40.764595  \n",
       "2         -73.991653         40.750324          -73.986420          40.742924  \n",
       "3         -73.975372         40.756237          -73.867119          40.721886  \n",
       "4         -73.991020         40.750912          -73.996727          40.767578  "
      ]
     },
     "execution_count": 5,
     "metadata": {},
     "output_type": "execute_result"
    }
   ],
   "source": [
    "df.head()"
   ]
  },
  {
   "cell_type": "markdown",
   "id": "peripheral-gardening",
   "metadata": {},
   "source": [
    "Ahora miremos los tipos de datos almacenados "
   ]
  },
  {
   "cell_type": "code",
   "execution_count": 6,
   "id": "broke-aggregate",
   "metadata": {},
   "outputs": [
    {
     "data": {
      "text/plain": [
       "medallion               object\n",
       " hack_license           object\n",
       " vendor_id              object\n",
       " rate_code             float64\n",
       " store_and_fwd_flag     object\n",
       " pickup_datetime        object\n",
       " dropoff_datetime       object\n",
       " passenger_count       float64\n",
       " trip_time_in_secs     float64\n",
       " trip_distance         float64\n",
       " pickup_longitude      float64\n",
       " pickup_latitude       float64\n",
       " dropoff_longitude     float64\n",
       " dropoff_latitude      float64\n",
       "dtype: object"
      ]
     },
     "execution_count": 6,
     "metadata": {},
     "output_type": "execute_result"
    }
   ],
   "source": [
    "df.dtypes"
   ]
  },
  {
   "cell_type": "markdown",
   "id": "classical-joining",
   "metadata": {},
   "source": [
    "Y de paso, miremos la parte final del último dataframe"
   ]
  },
  {
   "cell_type": "code",
   "execution_count": 7,
   "id": "dried-blink",
   "metadata": {},
   "outputs": [
    {
     "data": {
      "text/html": [
       "<div>\n",
       "<style scoped>\n",
       "    .dataframe tbody tr th:only-of-type {\n",
       "        vertical-align: middle;\n",
       "    }\n",
       "\n",
       "    .dataframe tbody tr th {\n",
       "        vertical-align: top;\n",
       "    }\n",
       "\n",
       "    .dataframe thead th {\n",
       "        text-align: right;\n",
       "    }\n",
       "</style>\n",
       "<table border=\"1\" class=\"dataframe\">\n",
       "  <thead>\n",
       "    <tr style=\"text-align: right;\">\n",
       "      <th></th>\n",
       "      <th>medallion</th>\n",
       "      <th>hack_license</th>\n",
       "      <th>vendor_id</th>\n",
       "      <th>rate_code</th>\n",
       "      <th>store_and_fwd_flag</th>\n",
       "      <th>pickup_datetime</th>\n",
       "      <th>dropoff_datetime</th>\n",
       "      <th>passenger_count</th>\n",
       "      <th>trip_time_in_secs</th>\n",
       "      <th>trip_distance</th>\n",
       "      <th>pickup_longitude</th>\n",
       "      <th>pickup_latitude</th>\n",
       "      <th>dropoff_longitude</th>\n",
       "      <th>dropoff_latitude</th>\n",
       "    </tr>\n",
       "  </thead>\n",
       "  <tbody>\n",
       "    <tr>\n",
       "      <th>300912</th>\n",
       "      <td>0076C8327A95E988E721AC33B0FA9D67</td>\n",
       "      <td>7F29DC4519B93DA549E67576A6F1FA50</td>\n",
       "      <td>CMT</td>\n",
       "      <td>1.0</td>\n",
       "      <td>N</td>\n",
       "      <td>2013-08-25 08:37:32</td>\n",
       "      <td>2013-08-25 08:41:16</td>\n",
       "      <td>1.0</td>\n",
       "      <td>224.0</td>\n",
       "      <td>0.8</td>\n",
       "      <td>-73.987053</td>\n",
       "      <td>40.755119</td>\n",
       "      <td>-73.977295</td>\n",
       "      <td>40.753895</td>\n",
       "    </tr>\n",
       "    <tr>\n",
       "      <th>300913</th>\n",
       "      <td>6D2A7531278E37E98994C8A28D5934A4</td>\n",
       "      <td>439BF2C0D49D6F06DDE1F9ED43982ABC</td>\n",
       "      <td>CMT</td>\n",
       "      <td>1.0</td>\n",
       "      <td>N</td>\n",
       "      <td>2013-08-22 02:19:12</td>\n",
       "      <td>2013-08-22 02:23:40</td>\n",
       "      <td>1.0</td>\n",
       "      <td>267.0</td>\n",
       "      <td>0.9</td>\n",
       "      <td>-73.995468</td>\n",
       "      <td>40.744133</td>\n",
       "      <td>-74.007576</td>\n",
       "      <td>40.752285</td>\n",
       "    </tr>\n",
       "    <tr>\n",
       "      <th>300914</th>\n",
       "      <td>79B960341B970153F8158B5CA93D9A79</td>\n",
       "      <td>F50D473528362D478240517E4754C617</td>\n",
       "      <td>CMT</td>\n",
       "      <td>1.0</td>\n",
       "      <td>N</td>\n",
       "      <td>2013-08-24 22:43:19</td>\n",
       "      <td>2013-08-24 22:48:07</td>\n",
       "      <td>1.0</td>\n",
       "      <td>287.0</td>\n",
       "      <td>1.2</td>\n",
       "      <td>-73.965034</td>\n",
       "      <td>40.755943</td>\n",
       "      <td>-73.978951</td>\n",
       "      <td>40.747639</td>\n",
       "    </tr>\n",
       "    <tr>\n",
       "      <th>300915</th>\n",
       "      <td>22CD971B4E1D4B5D82B129D0232648AB</td>\n",
       "      <td>1A85E6E33CF0F153BE0F1A7FD0421CD5</td>\n",
       "      <td>CMT</td>\n",
       "      <td>1.0</td>\n",
       "      <td>N</td>\n",
       "      <td>2013-08-24 23:31:31</td>\n",
       "      <td>2013-08-24 23:38:52</td>\n",
       "      <td>1.0</td>\n",
       "      <td>440.0</td>\n",
       "      <td>1.4</td>\n",
       "      <td>-73.872673</td>\n",
       "      <td>40.774246</td>\n",
       "      <td>-73.874741</td>\n",
       "      <td>40.756763</td>\n",
       "    </tr>\n",
       "    <tr>\n",
       "      <th>300916</th>\n",
       "      <td>5B45A2FD44F343</td>\n",
       "      <td>NaN</td>\n",
       "      <td>NaN</td>\n",
       "      <td>NaN</td>\n",
       "      <td>NaN</td>\n",
       "      <td>NaN</td>\n",
       "      <td>NaN</td>\n",
       "      <td>NaN</td>\n",
       "      <td>NaN</td>\n",
       "      <td>NaN</td>\n",
       "      <td>NaN</td>\n",
       "      <td>NaN</td>\n",
       "      <td>NaN</td>\n",
       "      <td>NaN</td>\n",
       "    </tr>\n",
       "  </tbody>\n",
       "</table>\n",
       "</div>"
      ],
      "text/plain": [
       "                               medallion                      hack_license  \\\n",
       "300912  0076C8327A95E988E721AC33B0FA9D67  7F29DC4519B93DA549E67576A6F1FA50   \n",
       "300913  6D2A7531278E37E98994C8A28D5934A4  439BF2C0D49D6F06DDE1F9ED43982ABC   \n",
       "300914  79B960341B970153F8158B5CA93D9A79  F50D473528362D478240517E4754C617   \n",
       "300915  22CD971B4E1D4B5D82B129D0232648AB  1A85E6E33CF0F153BE0F1A7FD0421CD5   \n",
       "300916                    5B45A2FD44F343                               NaN   \n",
       "\n",
       "        vendor_id   rate_code  store_and_fwd_flag      pickup_datetime  \\\n",
       "300912        CMT         1.0                   N  2013-08-25 08:37:32   \n",
       "300913        CMT         1.0                   N  2013-08-22 02:19:12   \n",
       "300914        CMT         1.0                   N  2013-08-24 22:43:19   \n",
       "300915        CMT         1.0                   N  2013-08-24 23:31:31   \n",
       "300916        NaN         NaN                 NaN                  NaN   \n",
       "\n",
       "           dropoff_datetime   passenger_count   trip_time_in_secs  \\\n",
       "300912  2013-08-25 08:41:16               1.0               224.0   \n",
       "300913  2013-08-22 02:23:40               1.0               267.0   \n",
       "300914  2013-08-24 22:48:07               1.0               287.0   \n",
       "300915  2013-08-24 23:38:52               1.0               440.0   \n",
       "300916                  NaN               NaN                 NaN   \n",
       "\n",
       "         trip_distance   pickup_longitude   pickup_latitude  \\\n",
       "300912             0.8         -73.987053         40.755119   \n",
       "300913             0.9         -73.995468         40.744133   \n",
       "300914             1.2         -73.965034         40.755943   \n",
       "300915             1.4         -73.872673         40.774246   \n",
       "300916             NaN                NaN               NaN   \n",
       "\n",
       "         dropoff_longitude   dropoff_latitude  \n",
       "300912          -73.977295          40.753895  \n",
       "300913          -74.007576          40.752285  \n",
       "300914          -73.978951          40.747639  \n",
       "300915          -73.874741          40.756763  \n",
       "300916                 NaN                NaN  "
      ]
     },
     "execution_count": 7,
     "metadata": {},
     "output_type": "execute_result"
    }
   ],
   "source": [
    "df.tail()"
   ]
  },
  {
   "cell_type": "markdown",
   "id": "negative-secret",
   "metadata": {},
   "source": [
    "Como podemos ver el último registro tiene valores NaN, por ello, eliminamos este tipo de valores de la misma manera que lo hacemos en pandas"
   ]
  },
  {
   "cell_type": "code",
   "execution_count": 8,
   "id": "accomplished-senior",
   "metadata": {},
   "outputs": [
    {
     "data": {
      "text/html": [
       "<div>\n",
       "<style scoped>\n",
       "    .dataframe tbody tr th:only-of-type {\n",
       "        vertical-align: middle;\n",
       "    }\n",
       "\n",
       "    .dataframe tbody tr th {\n",
       "        vertical-align: top;\n",
       "    }\n",
       "\n",
       "    .dataframe thead th {\n",
       "        text-align: right;\n",
       "    }\n",
       "</style>\n",
       "<table border=\"1\" class=\"dataframe\">\n",
       "  <thead>\n",
       "    <tr style=\"text-align: right;\">\n",
       "      <th></th>\n",
       "      <th>medallion</th>\n",
       "      <th>hack_license</th>\n",
       "      <th>vendor_id</th>\n",
       "      <th>rate_code</th>\n",
       "      <th>store_and_fwd_flag</th>\n",
       "      <th>pickup_datetime</th>\n",
       "      <th>dropoff_datetime</th>\n",
       "      <th>passenger_count</th>\n",
       "      <th>trip_time_in_secs</th>\n",
       "      <th>trip_distance</th>\n",
       "      <th>pickup_longitude</th>\n",
       "      <th>pickup_latitude</th>\n",
       "      <th>dropoff_longitude</th>\n",
       "      <th>dropoff_latitude</th>\n",
       "    </tr>\n",
       "  </thead>\n",
       "  <tbody>\n",
       "    <tr>\n",
       "      <th>300911</th>\n",
       "      <td>05015CC5687C5A59BB9A1F8EB66A9DE7</td>\n",
       "      <td>88D37ED31BFD7A512DA4DA8B0D99B145</td>\n",
       "      <td>CMT</td>\n",
       "      <td>1.0</td>\n",
       "      <td>N</td>\n",
       "      <td>2013-08-21 19:25:21</td>\n",
       "      <td>2013-08-21 19:32:08</td>\n",
       "      <td>1.0</td>\n",
       "      <td>406.0</td>\n",
       "      <td>1.1</td>\n",
       "      <td>-74.004593</td>\n",
       "      <td>40.747158</td>\n",
       "      <td>-73.993080</td>\n",
       "      <td>40.757015</td>\n",
       "    </tr>\n",
       "    <tr>\n",
       "      <th>300912</th>\n",
       "      <td>0076C8327A95E988E721AC33B0FA9D67</td>\n",
       "      <td>7F29DC4519B93DA549E67576A6F1FA50</td>\n",
       "      <td>CMT</td>\n",
       "      <td>1.0</td>\n",
       "      <td>N</td>\n",
       "      <td>2013-08-25 08:37:32</td>\n",
       "      <td>2013-08-25 08:41:16</td>\n",
       "      <td>1.0</td>\n",
       "      <td>224.0</td>\n",
       "      <td>0.8</td>\n",
       "      <td>-73.987053</td>\n",
       "      <td>40.755119</td>\n",
       "      <td>-73.977295</td>\n",
       "      <td>40.753895</td>\n",
       "    </tr>\n",
       "    <tr>\n",
       "      <th>300913</th>\n",
       "      <td>6D2A7531278E37E98994C8A28D5934A4</td>\n",
       "      <td>439BF2C0D49D6F06DDE1F9ED43982ABC</td>\n",
       "      <td>CMT</td>\n",
       "      <td>1.0</td>\n",
       "      <td>N</td>\n",
       "      <td>2013-08-22 02:19:12</td>\n",
       "      <td>2013-08-22 02:23:40</td>\n",
       "      <td>1.0</td>\n",
       "      <td>267.0</td>\n",
       "      <td>0.9</td>\n",
       "      <td>-73.995468</td>\n",
       "      <td>40.744133</td>\n",
       "      <td>-74.007576</td>\n",
       "      <td>40.752285</td>\n",
       "    </tr>\n",
       "    <tr>\n",
       "      <th>300914</th>\n",
       "      <td>79B960341B970153F8158B5CA93D9A79</td>\n",
       "      <td>F50D473528362D478240517E4754C617</td>\n",
       "      <td>CMT</td>\n",
       "      <td>1.0</td>\n",
       "      <td>N</td>\n",
       "      <td>2013-08-24 22:43:19</td>\n",
       "      <td>2013-08-24 22:48:07</td>\n",
       "      <td>1.0</td>\n",
       "      <td>287.0</td>\n",
       "      <td>1.2</td>\n",
       "      <td>-73.965034</td>\n",
       "      <td>40.755943</td>\n",
       "      <td>-73.978951</td>\n",
       "      <td>40.747639</td>\n",
       "    </tr>\n",
       "    <tr>\n",
       "      <th>300915</th>\n",
       "      <td>22CD971B4E1D4B5D82B129D0232648AB</td>\n",
       "      <td>1A85E6E33CF0F153BE0F1A7FD0421CD5</td>\n",
       "      <td>CMT</td>\n",
       "      <td>1.0</td>\n",
       "      <td>N</td>\n",
       "      <td>2013-08-24 23:31:31</td>\n",
       "      <td>2013-08-24 23:38:52</td>\n",
       "      <td>1.0</td>\n",
       "      <td>440.0</td>\n",
       "      <td>1.4</td>\n",
       "      <td>-73.872673</td>\n",
       "      <td>40.774246</td>\n",
       "      <td>-73.874741</td>\n",
       "      <td>40.756763</td>\n",
       "    </tr>\n",
       "  </tbody>\n",
       "</table>\n",
       "</div>"
      ],
      "text/plain": [
       "                               medallion                      hack_license  \\\n",
       "300911  05015CC5687C5A59BB9A1F8EB66A9DE7  88D37ED31BFD7A512DA4DA8B0D99B145   \n",
       "300912  0076C8327A95E988E721AC33B0FA9D67  7F29DC4519B93DA549E67576A6F1FA50   \n",
       "300913  6D2A7531278E37E98994C8A28D5934A4  439BF2C0D49D6F06DDE1F9ED43982ABC   \n",
       "300914  79B960341B970153F8158B5CA93D9A79  F50D473528362D478240517E4754C617   \n",
       "300915  22CD971B4E1D4B5D82B129D0232648AB  1A85E6E33CF0F153BE0F1A7FD0421CD5   \n",
       "\n",
       "        vendor_id   rate_code  store_and_fwd_flag      pickup_datetime  \\\n",
       "300911        CMT         1.0                   N  2013-08-21 19:25:21   \n",
       "300912        CMT         1.0                   N  2013-08-25 08:37:32   \n",
       "300913        CMT         1.0                   N  2013-08-22 02:19:12   \n",
       "300914        CMT         1.0                   N  2013-08-24 22:43:19   \n",
       "300915        CMT         1.0                   N  2013-08-24 23:31:31   \n",
       "\n",
       "           dropoff_datetime   passenger_count   trip_time_in_secs  \\\n",
       "300911  2013-08-21 19:32:08               1.0               406.0   \n",
       "300912  2013-08-25 08:41:16               1.0               224.0   \n",
       "300913  2013-08-22 02:23:40               1.0               267.0   \n",
       "300914  2013-08-24 22:48:07               1.0               287.0   \n",
       "300915  2013-08-24 23:38:52               1.0               440.0   \n",
       "\n",
       "         trip_distance   pickup_longitude   pickup_latitude  \\\n",
       "300911             1.1         -74.004593         40.747158   \n",
       "300912             0.8         -73.987053         40.755119   \n",
       "300913             0.9         -73.995468         40.744133   \n",
       "300914             1.2         -73.965034         40.755943   \n",
       "300915             1.4         -73.872673         40.774246   \n",
       "\n",
       "         dropoff_longitude   dropoff_latitude  \n",
       "300911          -73.993080          40.757015  \n",
       "300912          -73.977295          40.753895  \n",
       "300913          -74.007576          40.752285  \n",
       "300914          -73.978951          40.747639  \n",
       "300915          -73.874741          40.756763  "
      ]
     },
     "execution_count": 8,
     "metadata": {},
     "output_type": "execute_result"
    }
   ],
   "source": [
    "df = df.dropna()\n",
    "df.tail()"
   ]
  },
  {
   "cell_type": "markdown",
   "id": "general-transfer",
   "metadata": {},
   "source": [
    "Luego, examinamos la estructura de los datos usando"
   ]
  },
  {
   "cell_type": "code",
   "execution_count": 9,
   "id": "martial-century",
   "metadata": {},
   "outputs": [
    {
     "data": {
      "text/html": [
       "<table>\n",
       "<tr>\n",
       "<td>\n",
       "<table>\n",
       "  <thead>\n",
       "    <tr><td> </td><th> Array </th><th> Chunk </th></tr>\n",
       "  </thead>\n",
       "  <tbody>\n",
       "    <tr><th> Bytes </th><td> unknown </td> <td> unknown </td></tr>\n",
       "    <tr><th> Shape </th><td> (nan, 14) </td> <td> (nan, 14) </td></tr>\n",
       "    <tr><th> Count </th><td> 81 Tasks </td><td> 27 Chunks </td></tr>\n",
       "    <tr><th> Type </th><td> object </td><td> numpy.ndarray </td></tr>\n",
       "  </tbody>\n",
       "</table>\n",
       "</td>\n",
       "<td>\n",
       "\n",
       "</td>\n",
       "</tr>\n",
       "</table>"
      ],
      "text/plain": [
       "dask.array<values, shape=(nan, 14), dtype=object, chunksize=(nan, 14), chunktype=numpy.ndarray>"
      ]
     },
     "execution_count": 9,
     "metadata": {},
     "output_type": "execute_result"
    }
   ],
   "source": [
    "df.values"
   ]
  },
  {
   "cell_type": "markdown",
   "id": "supreme-cleanup",
   "metadata": {},
   "source": [
    "Una vez con esto, comenzamos a hacer consultas y a extraer información. Primero miramos el número de registros"
   ]
  },
  {
   "cell_type": "code",
   "execution_count": 10,
   "id": "assigned-diameter",
   "metadata": {},
   "outputs": [
    {
     "name": "stdout",
     "output_type": "stream",
     "text": [
      "CPU times: user 7.41 s, sys: 944 ms, total: 8.35 s\n",
      "Wall time: 1min 38s\n"
     ]
    },
    {
     "data": {
      "text/plain": [
       "5183794"
      ]
     },
     "execution_count": 10,
     "metadata": {},
     "output_type": "execute_result"
    }
   ],
   "source": [
    "%%time\n",
    "len(df)"
   ]
  },
  {
   "cell_type": "markdown",
   "id": "handmade-ukraine",
   "metadata": {},
   "source": [
    "Ahora, extraemos la información relacionada con los pasajeros y calculamos el número máximo de pasajeros en un viaje. "
   ]
  },
  {
   "cell_type": "code",
   "execution_count": 11,
   "id": "colored-review",
   "metadata": {},
   "outputs": [
    {
     "name": "stdout",
     "output_type": "stream",
     "text": [
      "CPU times: user 6.77 s, sys: 791 ms, total: 7.56 s\n",
      "Wall time: 1min 26s\n"
     ]
    },
    {
     "data": {
      "text/plain": [
       "9.0"
      ]
     },
     "execution_count": 11,
     "metadata": {},
     "output_type": "execute_result"
    }
   ],
   "source": [
    "%%time\n",
    "pasajeros = df[' passenger_count']\n",
    "pasajeros.max().compute()"
   ]
  },
  {
   "cell_type": "markdown",
   "id": "everyday-library",
   "metadata": {},
   "source": [
    "Sin embargo, podemos hacer el calculo directamente y vemos que el tiempo es ligeramente menor"
   ]
  },
  {
   "cell_type": "code",
   "execution_count": 12,
   "id": "varying-chapter",
   "metadata": {},
   "outputs": [
    {
     "name": "stdout",
     "output_type": "stream",
     "text": [
      "CPU times: user 6.55 s, sys: 894 ms, total: 7.45 s\n",
      "Wall time: 1min 20s\n"
     ]
    },
    {
     "data": {
      "text/plain": [
       "9.0"
      ]
     },
     "execution_count": 12,
     "metadata": {},
     "output_type": "execute_result"
    }
   ],
   "source": [
    "%%time\n",
    "df[' passenger_count'].max().compute()"
   ]
  },
  {
   "cell_type": "markdown",
   "id": "comparable-kansas",
   "metadata": {},
   "source": [
    "Ahora, modifiquemos los nombres de las columnas"
   ]
  },
  {
   "cell_type": "code",
   "execution_count": 13,
   "id": "center-injection",
   "metadata": {},
   "outputs": [
    {
     "data": {
      "text/plain": [
       "array(['medallion', ' hack_license', ' vendor_id', ' rate_code',\n",
       "       ' store_and_fwd_flag', ' pickup_datetime', ' dropoff_datetime',\n",
       "       ' passenger_count', ' trip_time_in_secs', ' trip_distance',\n",
       "       ' pickup_longitude', ' pickup_latitude', ' dropoff_longitude',\n",
       "       ' dropoff_latitude'], dtype=object)"
      ]
     },
     "execution_count": 13,
     "metadata": {},
     "output_type": "execute_result"
    }
   ],
   "source": [
    "df.columns.values"
   ]
  },
  {
   "cell_type": "code",
   "execution_count": 14,
   "id": "permanent-finance",
   "metadata": {},
   "outputs": [],
   "source": [
    "df = df.rename(columns={' hack_license': 'hack_license',  ' trip_time_in_secs': 'trip_time_in_secs', ' trip_distance':'trip_distance'})"
   ]
  },
  {
   "cell_type": "markdown",
   "id": "proud-strap",
   "metadata": {},
   "source": [
    "Ahora, guardemos la información de las licencias y el tiempo de viaje"
   ]
  },
  {
   "cell_type": "code",
   "execution_count": 16,
   "id": "written-building",
   "metadata": {},
   "outputs": [
    {
     "data": {
      "text/html": [
       "<div><strong>Dask DataFrame Structure:</strong></div>\n",
       "<div>\n",
       "<style scoped>\n",
       "    .dataframe tbody tr th:only-of-type {\n",
       "        vertical-align: middle;\n",
       "    }\n",
       "\n",
       "    .dataframe tbody tr th {\n",
       "        vertical-align: top;\n",
       "    }\n",
       "\n",
       "    .dataframe thead th {\n",
       "        text-align: right;\n",
       "    }\n",
       "</style>\n",
       "<table border=\"1\" class=\"dataframe\">\n",
       "  <thead>\n",
       "    <tr style=\"text-align: right;\">\n",
       "      <th></th>\n",
       "      <th>hack_license</th>\n",
       "      <th>trip_time_in_secs</th>\n",
       "    </tr>\n",
       "    <tr>\n",
       "      <th>npartitions=27</th>\n",
       "      <th></th>\n",
       "      <th></th>\n",
       "    </tr>\n",
       "  </thead>\n",
       "  <tbody>\n",
       "    <tr>\n",
       "      <th></th>\n",
       "      <td>object</td>\n",
       "      <td>float64</td>\n",
       "    </tr>\n",
       "    <tr>\n",
       "      <th></th>\n",
       "      <td>...</td>\n",
       "      <td>...</td>\n",
       "    </tr>\n",
       "    <tr>\n",
       "      <th>...</th>\n",
       "      <td>...</td>\n",
       "      <td>...</td>\n",
       "    </tr>\n",
       "    <tr>\n",
       "      <th></th>\n",
       "      <td>...</td>\n",
       "      <td>...</td>\n",
       "    </tr>\n",
       "    <tr>\n",
       "      <th></th>\n",
       "      <td>...</td>\n",
       "      <td>...</td>\n",
       "    </tr>\n",
       "  </tbody>\n",
       "</table>\n",
       "</div>\n",
       "<div>Dask Name: getitem, 108 tasks</div>"
      ],
      "text/plain": [
       "Dask DataFrame Structure:\n",
       "               hack_license trip_time_in_secs\n",
       "npartitions=27                               \n",
       "                     object           float64\n",
       "                        ...               ...\n",
       "...                     ...               ...\n",
       "                        ...               ...\n",
       "                        ...               ...\n",
       "Dask Name: getitem, 108 tasks"
      ]
     },
     "execution_count": 16,
     "metadata": {},
     "output_type": "execute_result"
    }
   ],
   "source": [
    "df2 = df[['hack_license','trip_time_in_secs']]\n",
    "df2"
   ]
  },
  {
   "cell_type": "code",
   "execution_count": 17,
   "id": "banned-fever",
   "metadata": {},
   "outputs": [
    {
     "data": {
      "text/html": [
       "<div>\n",
       "<style scoped>\n",
       "    .dataframe tbody tr th:only-of-type {\n",
       "        vertical-align: middle;\n",
       "    }\n",
       "\n",
       "    .dataframe tbody tr th {\n",
       "        vertical-align: top;\n",
       "    }\n",
       "\n",
       "    .dataframe thead th {\n",
       "        text-align: right;\n",
       "    }\n",
       "</style>\n",
       "<table border=\"1\" class=\"dataframe\">\n",
       "  <thead>\n",
       "    <tr style=\"text-align: right;\">\n",
       "      <th></th>\n",
       "      <th>hack_license</th>\n",
       "      <th>trip_time_in_secs</th>\n",
       "    </tr>\n",
       "  </thead>\n",
       "  <tbody>\n",
       "    <tr>\n",
       "      <th>1</th>\n",
       "      <td>A603A9D5FAA46E8FF2A97A143328D938</td>\n",
       "      <td>1177.0</td>\n",
       "    </tr>\n",
       "    <tr>\n",
       "      <th>2</th>\n",
       "      <td>3F0BFE90A5D71741840B25600A89E225</td>\n",
       "      <td>357.0</td>\n",
       "    </tr>\n",
       "    <tr>\n",
       "      <th>3</th>\n",
       "      <td>BA20A20E2CF85EF7B00162D711394C7E</td>\n",
       "      <td>938.0</td>\n",
       "    </tr>\n",
       "    <tr>\n",
       "      <th>4</th>\n",
       "      <td>8C14DCF69CAA2A9A0DFAFD99E00536A1</td>\n",
       "      <td>1270.0</td>\n",
       "    </tr>\n",
       "    <tr>\n",
       "      <th>5</th>\n",
       "      <td>95E1B89BC718FB1DC76B939937E043F3</td>\n",
       "      <td>1392.0</td>\n",
       "    </tr>\n",
       "  </tbody>\n",
       "</table>\n",
       "</div>"
      ],
      "text/plain": [
       "                       hack_license  trip_time_in_secs\n",
       "1  A603A9D5FAA46E8FF2A97A143328D938             1177.0\n",
       "2  3F0BFE90A5D71741840B25600A89E225              357.0\n",
       "3  BA20A20E2CF85EF7B00162D711394C7E              938.0\n",
       "4  8C14DCF69CAA2A9A0DFAFD99E00536A1             1270.0\n",
       "5  95E1B89BC718FB1DC76B939937E043F3             1392.0"
      ]
     },
     "execution_count": 17,
     "metadata": {},
     "output_type": "execute_result"
    }
   ],
   "source": [
    "df2.head()"
   ]
  },
  {
   "cell_type": "markdown",
   "id": "appointed-calculator",
   "metadata": {},
   "source": [
    "Ahora, busquemos el viaje con más duración para cada uno de los conductores"
   ]
  },
  {
   "cell_type": "code",
   "execution_count": 10,
   "id": "incident-enzyme",
   "metadata": {},
   "outputs": [
    {
     "name": "stdout",
     "output_type": "stream",
     "text": [
      "CPU times: user 6.29 s, sys: 896 ms, total: 7.19 s\n",
      "Wall time: 1min 18s\n"
     ]
    },
    {
     "data": {
      "text/plain": [
       "hack_license\n",
       "0002555BBE359440D6CEB34B699D3932    3065.0\n",
       "0008B3E338CE8C3377E071A4D80D3694    4519.0\n",
       "000B8D660A329BBDBF888500E4BD8B98    5686.0\n",
       "000C15EFBDF58CAED528C09E597484EC    3009.0\n",
       "0011B1575B9F5398BBC0F27EA560D631    2961.0\n",
       "                                     ...  \n",
       "E0F8F0C8AF43ECC64472280CC007A91D     840.0\n",
       "EE5989A60E797496121E1C4BD9E6A974    1089.0\n",
       "F0934BDB0EBB147B32A821851F83FB0E    1570.0\n",
       "F84A7C01588C593BFBF4CCF1DA52DBD2     234.0\n",
       "FD959C247791E390F850ED2A979E82AE       9.0\n",
       "Name: trip_time_in_secs, Length: 17035, dtype: float64"
      ]
     },
     "execution_count": 10,
     "metadata": {},
     "output_type": "execute_result"
    }
   ],
   "source": [
    "%%time\n",
    "df2.groupby(\"hack_license\").trip_time_in_secs.max().compute()\n"
   ]
  },
  {
   "cell_type": "markdown",
   "id": "arbitrary-afghanistan",
   "metadata": {},
   "source": [
    "Esto también lo podemos calcular directamente y los tiempos son similares"
   ]
  },
  {
   "cell_type": "code",
   "execution_count": 18,
   "id": "adjacent-filter",
   "metadata": {},
   "outputs": [
    {
     "name": "stdout",
     "output_type": "stream",
     "text": [
      "CPU times: user 6.16 s, sys: 854 ms, total: 7.01 s\n",
      "Wall time: 1min 19s\n"
     ]
    },
    {
     "data": {
      "text/plain": [
       "hack_license\n",
       "0002555BBE359440D6CEB34B699D3932    3065.0\n",
       "0008B3E338CE8C3377E071A4D80D3694    4519.0\n",
       "000B8D660A329BBDBF888500E4BD8B98    5686.0\n",
       "000C15EFBDF58CAED528C09E597484EC    3009.0\n",
       "0011B1575B9F5398BBC0F27EA560D631    2961.0\n",
       "                                     ...  \n",
       "E0F8F0C8AF43ECC64472280CC007A91D     840.0\n",
       "EE5989A60E797496121E1C4BD9E6A974    1089.0\n",
       "F0934BDB0EBB147B32A821851F83FB0E    1570.0\n",
       "F84A7C01588C593BFBF4CCF1DA52DBD2     234.0\n",
       "FD959C247791E390F850ED2A979E82AE       9.0\n",
       "Name: trip_time_in_secs, Length: 17035, dtype: float64"
      ]
     },
     "execution_count": 18,
     "metadata": {},
     "output_type": "execute_result"
    }
   ],
   "source": [
    "%%time\n",
    "df.groupby(\"hack_license\").trip_time_in_secs.max().compute()"
   ]
  },
  {
   "cell_type": "code",
   "execution_count": null,
   "id": "separated-minnesota",
   "metadata": {},
   "outputs": [],
   "source": []
  },
  {
   "cell_type": "code",
   "execution_count": null,
   "id": "acoustic-pension",
   "metadata": {},
   "outputs": [],
   "source": []
  },
  {
   "cell_type": "code",
   "execution_count": null,
   "id": "muslim-miami",
   "metadata": {},
   "outputs": [],
   "source": []
  },
  {
   "cell_type": "code",
   "execution_count": null,
   "id": "accessory-amateur",
   "metadata": {},
   "outputs": [],
   "source": []
  },
  {
   "cell_type": "code",
   "execution_count": 23,
   "id": "dense-photography",
   "metadata": {},
   "outputs": [
    {
     "name": "stderr",
     "output_type": "stream",
     "text": [
      "distributed.client - ERROR - Failed to reconnect to scheduler after 10.00 seconds, closing client\n",
      "ERROR:asyncio:_GatheringFuture exception was never retrieved\n",
      "future: <_GatheringFuture finished exception=CancelledError()>\n",
      "concurrent.futures._base.CancelledError\n"
     ]
    }
   ],
   "source": [
    "client.shutdown()"
   ]
  },
  {
   "cell_type": "code",
   "execution_count": null,
   "id": "hired-pioneer",
   "metadata": {},
   "outputs": [],
   "source": []
  }
 ],
 "metadata": {
  "kernelspec": {
   "display_name": "Python 3",
   "language": "python",
   "name": "python3"
  },
  "language_info": {
   "codemirror_mode": {
    "name": "ipython",
    "version": 3
   },
   "file_extension": ".py",
   "mimetype": "text/x-python",
   "name": "python",
   "nbconvert_exporter": "python",
   "pygments_lexer": "ipython3",
   "version": "3.7.10"
  }
 },
 "nbformat": 4,
 "nbformat_minor": 5
}
