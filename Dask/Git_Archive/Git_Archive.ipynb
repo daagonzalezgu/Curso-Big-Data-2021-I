{
 "cells": [
  {
   "cell_type": "markdown",
   "id": "extensive-yahoo",
   "metadata": {},
   "source": [
    "# Identificar el usuario con mas commits en Git Hub"
   ]
  },
  {
   "cell_type": "markdown",
   "id": "inside-wesley",
   "metadata": {},
   "source": [
    "El objetivo de este cuaderno es idenfiticar el usuario con más commits durante enero de 2015. Para ello, primero iniciamos los comandos para trabajar con dask"
   ]
  },
  {
   "cell_type": "code",
   "execution_count": 1,
   "id": "macro-passport",
   "metadata": {},
   "outputs": [],
   "source": [
    "from dask.distributed import Client\n",
    "\n",
    "client = Client(n_workers=4)"
   ]
  },
  {
   "cell_type": "markdown",
   "id": "marked-lover",
   "metadata": {},
   "source": [
    "Luego, hacemos la lectura de los archivos tipo json en los cuales esta toda la información. Cada archivo contiene la información con los commits realizados durante el lapso de una hora. Es decir, para un día se tienen 24 archivos y para todo el mes 744 archivos"
   ]
  },
  {
   "cell_type": "code",
   "execution_count": 2,
   "id": "pursuant-treat",
   "metadata": {},
   "outputs": [
    {
     "name": "stdout",
     "output_type": "stream",
     "text": [
      "Datos/*.json.gz\n",
      "dask.bag<bag-from-delayed, npartitions=744>\n"
     ]
    }
   ],
   "source": [
    "import dask.bag as db\n",
    "import os\n",
    "#files = [os.path.join('Datos','2015-01-0%d-*.json.gz' % i) for i in range(1,2)]\n",
    "files = os.path.join('Datos','*.json.gz')\n",
    "b = db.read_text(files)\n",
    "print(files)\n",
    "print(b)"
   ]
  },
  {
   "cell_type": "markdown",
   "id": "assured-vegetarian",
   "metadata": {},
   "source": [
    "Ahora tomamos la primera entrada del primer archivo y la imprimimos para ver su estructura "
   ]
  },
  {
   "cell_type": "code",
   "execution_count": 3,
   "id": "voluntary-myrtle",
   "metadata": {},
   "outputs": [
    {
     "data": {
      "text/plain": [
       "('{\"id\":\"2489368070\",\"type\":\"PushEvent\",\"actor\":{\"id\":9152315,\"login\":\"davidjhulse\",\"gravatar_id\":\"\",\"url\":\"https://api.github.com/users/davidjhulse\",\"avatar_url\":\"https://avatars.githubusercontent.com/u/9152315?\"},\"repo\":{\"id\":28635890,\"name\":\"davidjhulse/davesbingrewardsbot\",\"url\":\"https://api.github.com/repos/davidjhulse/davesbingrewardsbot\"},\"payload\":{\"push_id\":536740396,\"size\":1,\"distinct_size\":1,\"ref\":\"refs/heads/master\",\"head\":\"a9b22a6d80c1e0bb49c1cf75a3c075b642c28f81\",\"before\":\"86ffa724b4d70fce46e760f8cc080f5ec3d7d85f\",\"commits\":[{\"sha\":\"a9b22a6d80c1e0bb49c1cf75a3c075b642c28f81\",\"author\":{\"email\":\"da8d7d1118ca5befd4d0d3e4f449c76ba6f1ee7e@live.com\",\"name\":\"davidjhulse\"},\"message\":\"Altered BingBot.jar\\\\n\\\\nFixed issue with multiple account support\",\"distinct\":true,\"url\":\"https://api.github.com/repos/davidjhulse/davesbingrewardsbot/commits/a9b22a6d80c1e0bb49c1cf75a3c075b642c28f81\"}]},\"public\":true,\"created_at\":\"2015-01-01T00:00:00Z\"}\\n',)"
      ]
     },
     "execution_count": 3,
     "metadata": {},
     "output_type": "execute_result"
    }
   ],
   "source": [
    "b.take(1)"
   ]
  },
  {
   "cell_type": "markdown",
   "id": "extreme-membrane",
   "metadata": {},
   "source": [
    "Ahora, imprimimos esta registro de una mejor manera usando la librería json"
   ]
  },
  {
   "cell_type": "code",
   "execution_count": 4,
   "id": "ideal-crystal",
   "metadata": {},
   "outputs": [
    {
     "data": {
      "text/plain": [
       "({'id': '2489368070',\n",
       "  'type': 'PushEvent',\n",
       "  'actor': {'id': 9152315,\n",
       "   'login': 'davidjhulse',\n",
       "   'gravatar_id': '',\n",
       "   'url': 'https://api.github.com/users/davidjhulse',\n",
       "   'avatar_url': 'https://avatars.githubusercontent.com/u/9152315?'},\n",
       "  'repo': {'id': 28635890,\n",
       "   'name': 'davidjhulse/davesbingrewardsbot',\n",
       "   'url': 'https://api.github.com/repos/davidjhulse/davesbingrewardsbot'},\n",
       "  'payload': {'push_id': 536740396,\n",
       "   'size': 1,\n",
       "   'distinct_size': 1,\n",
       "   'ref': 'refs/heads/master',\n",
       "   'head': 'a9b22a6d80c1e0bb49c1cf75a3c075b642c28f81',\n",
       "   'before': '86ffa724b4d70fce46e760f8cc080f5ec3d7d85f',\n",
       "   'commits': [{'sha': 'a9b22a6d80c1e0bb49c1cf75a3c075b642c28f81',\n",
       "     'author': {'email': 'da8d7d1118ca5befd4d0d3e4f449c76ba6f1ee7e@live.com',\n",
       "      'name': 'davidjhulse'},\n",
       "     'message': 'Altered BingBot.jar\\n\\nFixed issue with multiple account support',\n",
       "     'distinct': True,\n",
       "     'url': 'https://api.github.com/repos/davidjhulse/davesbingrewardsbot/commits/a9b22a6d80c1e0bb49c1cf75a3c075b642c28f81'}]},\n",
       "  'public': True,\n",
       "  'created_at': '2015-01-01T00:00:00Z'},)"
      ]
     },
     "execution_count": 4,
     "metadata": {},
     "output_type": "execute_result"
    }
   ],
   "source": [
    "import json\n",
    "js = b.map(json.loads)\n",
    "js.take(1)"
   ]
  },
  {
   "cell_type": "markdown",
   "id": "little-gender",
   "metadata": {},
   "source": [
    "Aquí podemos observar toda la información relacionada con un commit realizado el 1 de enero de 2015. Ahora, guardamos la información dataframes y miramos la cabecera del primero de ellos"
   ]
  },
  {
   "cell_type": "code",
   "execution_count": 5,
   "id": "considerable-native",
   "metadata": {},
   "outputs": [
    {
     "data": {
      "text/html": [
       "<div>\n",
       "<style scoped>\n",
       "    .dataframe tbody tr th:only-of-type {\n",
       "        vertical-align: middle;\n",
       "    }\n",
       "\n",
       "    .dataframe tbody tr th {\n",
       "        vertical-align: top;\n",
       "    }\n",
       "\n",
       "    .dataframe thead th {\n",
       "        text-align: right;\n",
       "    }\n",
       "</style>\n",
       "<table border=\"1\" class=\"dataframe\">\n",
       "  <thead>\n",
       "    <tr style=\"text-align: right;\">\n",
       "      <th></th>\n",
       "      <th>id</th>\n",
       "      <th>type</th>\n",
       "      <th>actor</th>\n",
       "      <th>repo</th>\n",
       "      <th>payload</th>\n",
       "      <th>public</th>\n",
       "      <th>created_at</th>\n",
       "    </tr>\n",
       "  </thead>\n",
       "  <tbody>\n",
       "    <tr>\n",
       "      <th>0</th>\n",
       "      <td>2489368070</td>\n",
       "      <td>PushEvent</td>\n",
       "      <td>{'id': 9152315, 'login': 'davidjhulse', 'grava...</td>\n",
       "      <td>{'id': 28635890, 'name': 'davidjhulse/davesbin...</td>\n",
       "      <td>{'push_id': 536740396, 'size': 1, 'distinct_si...</td>\n",
       "      <td>True</td>\n",
       "      <td>2015-01-01T00:00:00Z</td>\n",
       "    </tr>\n",
       "    <tr>\n",
       "      <th>1</th>\n",
       "      <td>2489368072</td>\n",
       "      <td>PushEvent</td>\n",
       "      <td>{'id': 5581438, 'login': 'jmoon018', 'gravatar...</td>\n",
       "      <td>{'id': 26392647, 'name': 'jmoon018/rshell-unit...</td>\n",
       "      <td>{'push_id': 536740397, 'size': 1, 'distinct_si...</td>\n",
       "      <td>True</td>\n",
       "      <td>2015-01-01T00:00:00Z</td>\n",
       "    </tr>\n",
       "    <tr>\n",
       "      <th>2</th>\n",
       "      <td>2489368089</td>\n",
       "      <td>CreateEvent</td>\n",
       "      <td>{'id': 6352424, 'login': 'christoferpeterson',...</td>\n",
       "      <td>{'id': 28677542, 'name': 'christoferpeterson/V...</td>\n",
       "      <td>{'ref': 'master', 'ref_type': 'branch', 'maste...</td>\n",
       "      <td>True</td>\n",
       "      <td>2015-01-01T00:00:01Z</td>\n",
       "    </tr>\n",
       "    <tr>\n",
       "      <th>3</th>\n",
       "      <td>2489368095</td>\n",
       "      <td>PushEvent</td>\n",
       "      <td>{'id': 66577, 'login': 'JakeWharton', 'gravata...</td>\n",
       "      <td>{'id': 5152285, 'name': 'square/okhttp', 'url'...</td>\n",
       "      <td>{'push_id': 536740405, 'size': 8, 'distinct_si...</td>\n",
       "      <td>True</td>\n",
       "      <td>2015-01-01T00:00:01Z</td>\n",
       "    </tr>\n",
       "    <tr>\n",
       "      <th>4</th>\n",
       "      <td>2489368104</td>\n",
       "      <td>PushEvent</td>\n",
       "      <td>{'id': 9221683, 'login': 'git4ruby', 'gravatar...</td>\n",
       "      <td>{'id': 28520835, 'name': 'git4ruby/movie_revie...</td>\n",
       "      <td>{'push_id': 536740413, 'size': 1, 'distinct_si...</td>\n",
       "      <td>True</td>\n",
       "      <td>2015-01-01T00:00:03Z</td>\n",
       "    </tr>\n",
       "  </tbody>\n",
       "</table>\n",
       "</div>"
      ],
      "text/plain": [
       "           id         type                                              actor  \\\n",
       "0  2489368070    PushEvent  {'id': 9152315, 'login': 'davidjhulse', 'grava...   \n",
       "1  2489368072    PushEvent  {'id': 5581438, 'login': 'jmoon018', 'gravatar...   \n",
       "2  2489368089  CreateEvent  {'id': 6352424, 'login': 'christoferpeterson',...   \n",
       "3  2489368095    PushEvent  {'id': 66577, 'login': 'JakeWharton', 'gravata...   \n",
       "4  2489368104    PushEvent  {'id': 9221683, 'login': 'git4ruby', 'gravatar...   \n",
       "\n",
       "                                                repo  \\\n",
       "0  {'id': 28635890, 'name': 'davidjhulse/davesbin...   \n",
       "1  {'id': 26392647, 'name': 'jmoon018/rshell-unit...   \n",
       "2  {'id': 28677542, 'name': 'christoferpeterson/V...   \n",
       "3  {'id': 5152285, 'name': 'square/okhttp', 'url'...   \n",
       "4  {'id': 28520835, 'name': 'git4ruby/movie_revie...   \n",
       "\n",
       "                                             payload  public  \\\n",
       "0  {'push_id': 536740396, 'size': 1, 'distinct_si...    True   \n",
       "1  {'push_id': 536740397, 'size': 1, 'distinct_si...    True   \n",
       "2  {'ref': 'master', 'ref_type': 'branch', 'maste...    True   \n",
       "3  {'push_id': 536740405, 'size': 8, 'distinct_si...    True   \n",
       "4  {'push_id': 536740413, 'size': 1, 'distinct_si...    True   \n",
       "\n",
       "             created_at  \n",
       "0  2015-01-01T00:00:00Z  \n",
       "1  2015-01-01T00:00:00Z  \n",
       "2  2015-01-01T00:00:01Z  \n",
       "3  2015-01-01T00:00:01Z  \n",
       "4  2015-01-01T00:00:03Z  "
      ]
     },
     "execution_count": 5,
     "metadata": {},
     "output_type": "execute_result"
    }
   ],
   "source": [
    "df1 = js.to_dataframe()\n",
    "df1.head()"
   ]
  },
  {
   "cell_type": "markdown",
   "id": "uniform-publisher",
   "metadata": {},
   "source": [
    "En este caso los commits fueron realizados el 1 de enero de 2015. Ahora si miramos la parte final de los dataframes"
   ]
  },
  {
   "cell_type": "code",
   "execution_count": 6,
   "id": "irish-burlington",
   "metadata": {},
   "outputs": [
    {
     "data": {
      "text/html": [
       "<div>\n",
       "<style scoped>\n",
       "    .dataframe tbody tr th:only-of-type {\n",
       "        vertical-align: middle;\n",
       "    }\n",
       "\n",
       "    .dataframe tbody tr th {\n",
       "        vertical-align: top;\n",
       "    }\n",
       "\n",
       "    .dataframe thead th {\n",
       "        text-align: right;\n",
       "    }\n",
       "</style>\n",
       "<table border=\"1\" class=\"dataframe\">\n",
       "  <thead>\n",
       "    <tr style=\"text-align: right;\">\n",
       "      <th></th>\n",
       "      <th>id</th>\n",
       "      <th>type</th>\n",
       "      <th>actor</th>\n",
       "      <th>repo</th>\n",
       "      <th>payload</th>\n",
       "      <th>public</th>\n",
       "      <th>created_at</th>\n",
       "    </tr>\n",
       "  </thead>\n",
       "  <tbody>\n",
       "    <tr>\n",
       "      <th>11651</th>\n",
       "      <td>2549408785</td>\n",
       "      <td>DeleteEvent</td>\n",
       "      <td>{'id': 7644715, 'login': 'ReChavers', 'gravata...</td>\n",
       "      <td>{'id': 27151277, 'name': 'coding-the-humanitie...</td>\n",
       "      <td>{'ref': 'style', 'ref_type': 'branch', 'pusher...</td>\n",
       "      <td>True</td>\n",
       "      <td>2015-01-31T09:59:58Z</td>\n",
       "    </tr>\n",
       "    <tr>\n",
       "      <th>11652</th>\n",
       "      <td>2549408786</td>\n",
       "      <td>IssueCommentEvent</td>\n",
       "      <td>{'id': 1847482, 'login': 'HallofFamer', 'grava...</td>\n",
       "      <td>{'id': 1903522, 'name': 'php/php-src', 'url': ...</td>\n",
       "      <td>{'action': 'created', 'issue': {'url': 'https:...</td>\n",
       "      <td>True</td>\n",
       "      <td>2015-01-31T09:59:59Z</td>\n",
       "    </tr>\n",
       "    <tr>\n",
       "      <th>11653</th>\n",
       "      <td>2549408787</td>\n",
       "      <td>WatchEvent</td>\n",
       "      <td>{'id': 2791964, 'login': 'fangj', 'gravatar_id...</td>\n",
       "      <td>{'id': 17762755, 'name': 'Semantic-Org/Semanti...</td>\n",
       "      <td>{'action': 'started'}</td>\n",
       "      <td>True</td>\n",
       "      <td>2015-01-31T09:59:59Z</td>\n",
       "    </tr>\n",
       "    <tr>\n",
       "      <th>11654</th>\n",
       "      <td>2549408789</td>\n",
       "      <td>CreateEvent</td>\n",
       "      <td>{'id': 797382, 'login': 'gitahinganga', 'grava...</td>\n",
       "      <td>{'id': 30108408, 'name': 'gitahinganga/openmrs...</td>\n",
       "      <td>{'ref': 'RA-569', 'ref_type': 'branch', 'maste...</td>\n",
       "      <td>True</td>\n",
       "      <td>2015-01-31T09:59:59Z</td>\n",
       "    </tr>\n",
       "    <tr>\n",
       "      <th>11655</th>\n",
       "      <td>2549408790</td>\n",
       "      <td>PushEvent</td>\n",
       "      <td>{'id': 3426586, 'login': 'pekkalanger', 'grava...</td>\n",
       "      <td>{'id': 29687735, 'name': 'pekkalanger/PekkersL...</td>\n",
       "      <td>{'push_id': 561497280, 'size': 1, 'distinct_si...</td>\n",
       "      <td>True</td>\n",
       "      <td>2015-01-31T09:59:59Z</td>\n",
       "    </tr>\n",
       "  </tbody>\n",
       "</table>\n",
       "</div>"
      ],
      "text/plain": [
       "               id               type  \\\n",
       "11651  2549408785        DeleteEvent   \n",
       "11652  2549408786  IssueCommentEvent   \n",
       "11653  2549408787         WatchEvent   \n",
       "11654  2549408789        CreateEvent   \n",
       "11655  2549408790          PushEvent   \n",
       "\n",
       "                                                   actor  \\\n",
       "11651  {'id': 7644715, 'login': 'ReChavers', 'gravata...   \n",
       "11652  {'id': 1847482, 'login': 'HallofFamer', 'grava...   \n",
       "11653  {'id': 2791964, 'login': 'fangj', 'gravatar_id...   \n",
       "11654  {'id': 797382, 'login': 'gitahinganga', 'grava...   \n",
       "11655  {'id': 3426586, 'login': 'pekkalanger', 'grava...   \n",
       "\n",
       "                                                    repo  \\\n",
       "11651  {'id': 27151277, 'name': 'coding-the-humanitie...   \n",
       "11652  {'id': 1903522, 'name': 'php/php-src', 'url': ...   \n",
       "11653  {'id': 17762755, 'name': 'Semantic-Org/Semanti...   \n",
       "11654  {'id': 30108408, 'name': 'gitahinganga/openmrs...   \n",
       "11655  {'id': 29687735, 'name': 'pekkalanger/PekkersL...   \n",
       "\n",
       "                                                 payload  public  \\\n",
       "11651  {'ref': 'style', 'ref_type': 'branch', 'pusher...    True   \n",
       "11652  {'action': 'created', 'issue': {'url': 'https:...    True   \n",
       "11653                              {'action': 'started'}    True   \n",
       "11654  {'ref': 'RA-569', 'ref_type': 'branch', 'maste...    True   \n",
       "11655  {'push_id': 561497280, 'size': 1, 'distinct_si...    True   \n",
       "\n",
       "                 created_at  \n",
       "11651  2015-01-31T09:59:58Z  \n",
       "11652  2015-01-31T09:59:59Z  \n",
       "11653  2015-01-31T09:59:59Z  \n",
       "11654  2015-01-31T09:59:59Z  \n",
       "11655  2015-01-31T09:59:59Z  "
      ]
     },
     "execution_count": 6,
     "metadata": {},
     "output_type": "execute_result"
    }
   ],
   "source": [
    "df1 = js.to_dataframe()\n",
    "df1.tail()\n"
   ]
  },
  {
   "cell_type": "markdown",
   "id": "ethical-endorsement",
   "metadata": {},
   "source": [
    "Aquí observamos que los commits fueron realizados el 31 de enero de 2015. De esta manera, tenemos en 744 dataframes. Para examinar esto y otra información sobre la estructura de estos dataframes usamos el siguiente comando "
   ]
  },
  {
   "cell_type": "code",
   "execution_count": 7,
   "id": "broad-sweden",
   "metadata": {},
   "outputs": [
    {
     "data": {
      "text/html": [
       "<table>\n",
       "<tr>\n",
       "<td>\n",
       "<table>\n",
       "  <thead>\n",
       "    <tr><td> </td><th> Array </th><th> Chunk </th></tr>\n",
       "  </thead>\n",
       "  <tbody>\n",
       "    <tr><th> Bytes </th><td> unknown </td> <td> unknown </td></tr>\n",
       "    <tr><th> Shape </th><td> (nan, 7) </td> <td> (nan, 7) </td></tr>\n",
       "    <tr><th> Count </th><td> 2976 Tasks </td><td> 744 Chunks </td></tr>\n",
       "    <tr><th> Type </th><td> object </td><td> numpy.ndarray </td></tr>\n",
       "  </tbody>\n",
       "</table>\n",
       "</td>\n",
       "<td>\n",
       "\n",
       "</td>\n",
       "</tr>\n",
       "</table>"
      ],
      "text/plain": [
       "dask.array<values, shape=(nan, 7), dtype=object, chunksize=(nan, 7), chunktype=numpy.ndarray>"
      ]
     },
     "execution_count": 7,
     "metadata": {},
     "output_type": "execute_result"
    }
   ],
   "source": [
    "df1.values"
   ]
  },
  {
   "cell_type": "markdown",
   "id": "french-disability",
   "metadata": {},
   "source": [
    "Además, miramos el tipo de datos almacenados "
   ]
  },
  {
   "cell_type": "code",
   "execution_count": 8,
   "id": "smaller-premises",
   "metadata": {},
   "outputs": [
    {
     "data": {
      "text/plain": [
       "id            object\n",
       "type          object\n",
       "actor         object\n",
       "repo          object\n",
       "payload       object\n",
       "public          bool\n",
       "created_at    object\n",
       "dtype: object"
      ]
     },
     "execution_count": 8,
     "metadata": {},
     "output_type": "execute_result"
    }
   ],
   "source": [
    "df1.dtypes"
   ]
  },
  {
   "cell_type": "markdown",
   "id": "promotional-handbook",
   "metadata": {},
   "source": [
    "Además, podemos obtener información sobre la forma como está indexado."
   ]
  },
  {
   "cell_type": "code",
   "execution_count": 9,
   "id": "raised-adventure",
   "metadata": {},
   "outputs": [
    {
     "data": {
      "text/plain": [
       "Dask Index Structure:\n",
       "npartitions=744\n",
       "    int64\n",
       "      ...\n",
       "    ...  \n",
       "      ...\n",
       "      ...\n",
       "dtype: int64\n",
       "Dask Name: to_dataframe, 2976 tasks"
      ]
     },
     "execution_count": 9,
     "metadata": {},
     "output_type": "execute_result"
    }
   ],
   "source": [
    "df1.index"
   ]
  },
  {
   "cell_type": "markdown",
   "id": "south-understanding",
   "metadata": {},
   "source": [
    "Por otro lado, podemos ver el número de particiones y de divisiones. Las particiones corresponden al número de archivos tipos json que tenemos, y estos a su vez son iguales al número de dataframes que tenemos. Las divisiones nos dicen si dentro de cada archivo los datos están divididos y como, en este caso no tenemos divisiones"
   ]
  },
  {
   "cell_type": "code",
   "execution_count": 10,
   "id": "working-planning",
   "metadata": {},
   "outputs": [
    {
     "name": "stdout",
     "output_type": "stream",
     "text": [
      "744\n"
     ]
    }
   ],
   "source": [
    "print(df1.npartitions)"
   ]
  },
  {
   "cell_type": "code",
   "execution_count": 11,
   "id": "corporate-theology",
   "metadata": {},
   "outputs": [
    {
     "name": "stdout",
     "output_type": "stream",
     "text": [
      "(None, None, None, None, None, None, None, None, None, None, None, None, None, None, None, None, None, None, None, None, None, None, None, None, None, None, None, None, None, None, None, None, None, None, None, None, None, None, None, None, None, None, None, None, None, None, None, None, None, None, None, None, None, None, None, None, None, None, None, None, None, None, None, None, None, None, None, None, None, None, None, None, None, None, None, None, None, None, None, None, None, None, None, None, None, None, None, None, None, None, None, None, None, None, None, None, None, None, None, None, None, None, None, None, None, None, None, None, None, None, None, None, None, None, None, None, None, None, None, None, None, None, None, None, None, None, None, None, None, None, None, None, None, None, None, None, None, None, None, None, None, None, None, None, None, None, None, None, None, None, None, None, None, None, None, None, None, None, None, None, None, None, None, None, None, None, None, None, None, None, None, None, None, None, None, None, None, None, None, None, None, None, None, None, None, None, None, None, None, None, None, None, None, None, None, None, None, None, None, None, None, None, None, None, None, None, None, None, None, None, None, None, None, None, None, None, None, None, None, None, None, None, None, None, None, None, None, None, None, None, None, None, None, None, None, None, None, None, None, None, None, None, None, None, None, None, None, None, None, None, None, None, None, None, None, None, None, None, None, None, None, None, None, None, None, None, None, None, None, None, None, None, None, None, None, None, None, None, None, None, None, None, None, None, None, None, None, None, None, None, None, None, None, None, None, None, None, None, None, None, None, None, None, None, None, None, None, None, None, None, None, None, None, None, None, None, None, None, None, None, None, None, None, None, None, None, None, None, None, None, None, None, None, None, None, None, None, None, None, None, None, None, None, None, None, None, None, None, None, None, None, None, None, None, None, None, None, None, None, None, None, None, None, None, None, None, None, None, None, None, None, None, None, None, None, None, None, None, None, None, None, None, None, None, None, None, None, None, None, None, None, None, None, None, None, None, None, None, None, None, None, None, None, None, None, None, None, None, None, None, None, None, None, None, None, None, None, None, None, None, None, None, None, None, None, None, None, None, None, None, None, None, None, None, None, None, None, None, None, None, None, None, None, None, None, None, None, None, None, None, None, None, None, None, None, None, None, None, None, None, None, None, None, None, None, None, None, None, None, None, None, None, None, None, None, None, None, None, None, None, None, None, None, None, None, None, None, None, None, None, None, None, None, None, None, None, None, None, None, None, None, None, None, None, None, None, None, None, None, None, None, None, None, None, None, None, None, None, None, None, None, None, None, None, None, None, None, None, None, None, None, None, None, None, None, None, None, None, None, None, None, None, None, None, None, None, None, None, None, None, None, None, None, None, None, None, None, None, None, None, None, None, None, None, None, None, None, None, None, None, None, None, None, None, None, None, None, None, None, None, None, None, None, None, None, None, None, None, None, None, None, None, None, None, None, None, None, None, None, None, None, None, None, None, None, None, None, None, None, None, None, None, None, None, None, None, None, None, None, None, None, None, None, None, None, None, None, None, None, None, None, None, None, None, None, None, None, None, None, None, None, None, None, None, None, None, None, None, None, None, None, None, None, None, None, None, None, None, None, None, None, None, None, None, None, None, None, None, None, None, None, None, None, None, None, None, None, None, None, None, None, None, None, None, None, None, None, None, None, None, None, None, None, None, None, None, None, None, None, None, None, None, None, None, None, None, None, None, None, None, None, None, None, None, None, None, None, None, None, None, None, None, None, None, None, None, None, None, None, None, None, None, None, None, None, None, None, None, None, None, None, None, None, None, None)\n"
     ]
    }
   ],
   "source": [
    "print(df1.divisions)"
   ]
  },
  {
   "cell_type": "markdown",
   "id": "working-surrey",
   "metadata": {},
   "source": [
    "Ahora, filtremos los commits que crean algún tipo de archivo o proyecto y miremos los primeros cinco"
   ]
  },
  {
   "cell_type": "code",
   "execution_count": 12,
   "id": "impressed-manufacturer",
   "metadata": {},
   "outputs": [
    {
     "data": {
      "text/plain": [
       "({'id': '2489368089',\n",
       "  'type': 'CreateEvent',\n",
       "  'actor': {'id': 6352424,\n",
       "   'login': 'christoferpeterson',\n",
       "   'gravatar_id': '',\n",
       "   'url': 'https://api.github.com/users/christoferpeterson',\n",
       "   'avatar_url': 'https://avatars.githubusercontent.com/u/6352424?'},\n",
       "  'repo': {'id': 28677542,\n",
       "   'name': 'christoferpeterson/Vadek',\n",
       "   'url': 'https://api.github.com/repos/christoferpeterson/Vadek'},\n",
       "  'payload': {'ref': 'master',\n",
       "   'ref_type': 'branch',\n",
       "   'master_branch': 'master',\n",
       "   'description': 'Making an HTML5 game from scratch.',\n",
       "   'pusher_type': 'user'},\n",
       "  'public': True,\n",
       "  'created_at': '2015-01-01T00:00:01Z'},\n",
       " {'id': '2489368129',\n",
       "  'type': 'CreateEvent',\n",
       "  'actor': {'id': 6329667,\n",
       "   'login': 'greyia',\n",
       "   'gravatar_id': '',\n",
       "   'url': 'https://api.github.com/users/greyia',\n",
       "   'avatar_url': 'https://avatars.githubusercontent.com/u/6329667?'},\n",
       "  'repo': {'id': 27156833,\n",
       "   'name': 'greyia/port2container',\n",
       "   'url': 'https://api.github.com/repos/greyia/port2container'},\n",
       "  'payload': {'ref': 'master2',\n",
       "   'ref_type': 'branch',\n",
       "   'master_branch': 'master',\n",
       "   'description': 'Deploy and Manage Docker Container',\n",
       "   'pusher_type': 'user'},\n",
       "  'public': True,\n",
       "  'created_at': '2015-01-01T00:00:04Z'},\n",
       " {'id': '2489368166',\n",
       "  'type': 'CreateEvent',\n",
       "  'actor': {'id': 1442810,\n",
       "   'login': 'stones',\n",
       "   'gravatar_id': '',\n",
       "   'url': 'https://api.github.com/users/stones',\n",
       "   'avatar_url': 'https://avatars.githubusercontent.com/u/1442810?'},\n",
       "  'repo': {'id': 28677545,\n",
       "   'name': 'stones/ansible-role-wordpress-nginx',\n",
       "   'url': 'https://api.github.com/repos/stones/ansible-role-wordpress-nginx'},\n",
       "  'payload': {'ref': None,\n",
       "   'ref_type': 'repository',\n",
       "   'master_branch': 'master',\n",
       "   'description': 'An ansible role for setting up Wordpress Nginx website',\n",
       "   'pusher_type': 'user'},\n",
       "  'public': True,\n",
       "  'created_at': '2015-01-01T00:00:08Z'},\n",
       " {'id': '2489368195',\n",
       "  'type': 'CreateEvent',\n",
       "  'actor': {'id': 21826,\n",
       "   'login': 'ingydotnet',\n",
       "   'gravatar_id': '',\n",
       "   'url': 'https://api.github.com/users/ingydotnet',\n",
       "   'avatar_url': 'https://avatars.githubusercontent.com/u/21826?'},\n",
       "  'repo': {'id': 20117626,\n",
       "   'name': 'ingydotnet/zilla-dist-pm',\n",
       "   'url': 'https://api.github.com/repos/ingydotnet/zilla-dist-pm'},\n",
       "  'payload': {'ref': '0.0.184',\n",
       "   'ref_type': 'tag',\n",
       "   'master_branch': 'master',\n",
       "   'description': None,\n",
       "   'pusher_type': 'user'},\n",
       "  'public': True,\n",
       "  'created_at': '2015-01-01T00:00:10Z'},\n",
       " {'id': '2489368213',\n",
       "  'type': 'CreateEvent',\n",
       "  'actor': {'id': 21826,\n",
       "   'login': 'ingydotnet',\n",
       "   'gravatar_id': '',\n",
       "   'url': 'https://api.github.com/users/ingydotnet',\n",
       "   'avatar_url': 'https://avatars.githubusercontent.com/u/21826?'},\n",
       "  'repo': {'id': 18904157,\n",
       "   'name': 'ingydotnet/swim-pm',\n",
       "   'url': 'https://api.github.com/repos/ingydotnet/swim-pm'},\n",
       "  'payload': {'ref': '0.1.32',\n",
       "   'ref_type': 'tag',\n",
       "   'master_branch': 'master',\n",
       "   'description': None,\n",
       "   'pusher_type': 'user'},\n",
       "  'public': True,\n",
       "  'created_at': '2015-01-01T00:00:10Z'})"
      ]
     },
     "execution_count": 12,
     "metadata": {},
     "output_type": "execute_result"
    }
   ],
   "source": [
    "js.filter(lambda record: record['type'] == 'CreateEvent').take(5)"
   ]
  },
  {
   "cell_type": "markdown",
   "id": "inclusive-material",
   "metadata": {},
   "source": [
    "Ahora, contamos el total de commits en donde se crean archivos o proyectos"
   ]
  },
  {
   "cell_type": "code",
   "execution_count": 13,
   "id": "early-mercury",
   "metadata": {},
   "outputs": [
    {
     "name": "stdout",
     "output_type": "stream",
     "text": [
      "CPU times: user 38 s, sys: 3.87 s, total: 41.8 s\n",
      "Wall time: 8min 2s\n"
     ]
    },
    {
     "data": {
      "text/plain": [
       "1651300"
      ]
     },
     "execution_count": 13,
     "metadata": {},
     "output_type": "execute_result"
    }
   ],
   "source": [
    "%%time\n",
    "(js.filter(lambda record: record['type'] == 'CreateEvent').count().compute())"
   ]
  },
  {
   "cell_type": "markdown",
   "id": "varied-aggregate",
   "metadata": {},
   "source": [
    "Todo lo anterior fue para hacer una breve exploración de los datos. Ahora, vamos a buscar la información relacionada con los autores de los commits que esta en la columna actor en forma de diccionario"
   ]
  },
  {
   "cell_type": "code",
   "execution_count": 14,
   "id": "minor-headline",
   "metadata": {},
   "outputs": [
    {
     "data": {
      "text/plain": [
       "({'actor': {'id': 9152315,\n",
       "   'login': 'davidjhulse',\n",
       "   'gravatar_id': '',\n",
       "   'url': 'https://api.github.com/users/davidjhulse',\n",
       "   'avatar_url': 'https://avatars.githubusercontent.com/u/9152315?'}},\n",
       " {'actor': {'id': 5581438,\n",
       "   'login': 'jmoon018',\n",
       "   'gravatar_id': '',\n",
       "   'url': 'https://api.github.com/users/jmoon018',\n",
       "   'avatar_url': 'https://avatars.githubusercontent.com/u/5581438?'}})"
      ]
     },
     "execution_count": 14,
     "metadata": {},
     "output_type": "execute_result"
    }
   ],
   "source": [
    "def actor(d):\n",
    "    return {'actor': d['actor']}\n",
    "\n",
    "(js.filter(lambda record: record)\n",
    "   .map(actor)\n",
    "   .take(2))"
   ]
  },
  {
   "cell_type": "markdown",
   "id": "compliant-radio",
   "metadata": {},
   "source": [
    "Esto se puede hacer de una mejor manera usando la característica pluck, pues permite extraer la información de actor como un diccionario"
   ]
  },
  {
   "cell_type": "code",
   "execution_count": 15,
   "id": "danish-wrapping",
   "metadata": {},
   "outputs": [
    {
     "data": {
      "text/plain": [
       "({'id': 9152315,\n",
       "  'login': 'davidjhulse',\n",
       "  'gravatar_id': '',\n",
       "  'url': 'https://api.github.com/users/davidjhulse',\n",
       "  'avatar_url': 'https://avatars.githubusercontent.com/u/9152315?'},\n",
       " {'id': 5581438,\n",
       "  'login': 'jmoon018',\n",
       "  'gravatar_id': '',\n",
       "  'url': 'https://api.github.com/users/jmoon018',\n",
       "  'avatar_url': 'https://avatars.githubusercontent.com/u/5581438?'})"
      ]
     },
     "execution_count": 15,
     "metadata": {},
     "output_type": "execute_result"
    }
   ],
   "source": [
    "(js.filter(lambda record: record)\n",
    "   .pluck('actor')\n",
    "   .take(2))"
   ]
  },
  {
   "cell_type": "markdown",
   "id": "desperate-washer",
   "metadata": {},
   "source": [
    "Con ello podemos encontrar el id y el login de los usuarios que hicieron commits. Sin embargo, vamos a implementar otra manera usando el comando flatten. Primero definimos una función para extraer las características que queremos y luego guardamos la información de los autores en una bolsa"
   ]
  },
  {
   "cell_type": "code",
   "execution_count": 16,
   "id": "dried-effect",
   "metadata": {},
   "outputs": [
    {
     "data": {
      "text/plain": [
       "({'id': 9152315, 'login': 'davidjhulse'},\n",
       " {'id': 9152315, 'login': 'davidjhulse'})"
      ]
     },
     "execution_count": 16,
     "metadata": {},
     "output_type": "execute_result"
    }
   ],
   "source": [
    "def denormalize(record):\n",
    "    return [{'id': record['actor']['id'],\n",
    "            'login': record['actor']['login']}\n",
    "            for id in record['id']]\n",
    "\n",
    "autores = js.map(denormalize).flatten()\n",
    "autores.take(2)"
   ]
  },
  {
   "cell_type": "markdown",
   "id": "floral-parker",
   "metadata": {},
   "source": [
    "Luego, guardamos esto en un dataframe"
   ]
  },
  {
   "cell_type": "code",
   "execution_count": 17,
   "id": "published-niagara",
   "metadata": {},
   "outputs": [
    {
     "data": {
      "text/html": [
       "<div>\n",
       "<style scoped>\n",
       "    .dataframe tbody tr th:only-of-type {\n",
       "        vertical-align: middle;\n",
       "    }\n",
       "\n",
       "    .dataframe tbody tr th {\n",
       "        vertical-align: top;\n",
       "    }\n",
       "\n",
       "    .dataframe thead th {\n",
       "        text-align: right;\n",
       "    }\n",
       "</style>\n",
       "<table border=\"1\" class=\"dataframe\">\n",
       "  <thead>\n",
       "    <tr style=\"text-align: right;\">\n",
       "      <th></th>\n",
       "      <th>id</th>\n",
       "      <th>login</th>\n",
       "    </tr>\n",
       "  </thead>\n",
       "  <tbody>\n",
       "    <tr>\n",
       "      <th>0</th>\n",
       "      <td>9152315</td>\n",
       "      <td>davidjhulse</td>\n",
       "    </tr>\n",
       "    <tr>\n",
       "      <th>1</th>\n",
       "      <td>9152315</td>\n",
       "      <td>davidjhulse</td>\n",
       "    </tr>\n",
       "    <tr>\n",
       "      <th>2</th>\n",
       "      <td>9152315</td>\n",
       "      <td>davidjhulse</td>\n",
       "    </tr>\n",
       "    <tr>\n",
       "      <th>3</th>\n",
       "      <td>9152315</td>\n",
       "      <td>davidjhulse</td>\n",
       "    </tr>\n",
       "    <tr>\n",
       "      <th>4</th>\n",
       "      <td>9152315</td>\n",
       "      <td>davidjhulse</td>\n",
       "    </tr>\n",
       "  </tbody>\n",
       "</table>\n",
       "</div>"
      ],
      "text/plain": [
       "        id        login\n",
       "0  9152315  davidjhulse\n",
       "1  9152315  davidjhulse\n",
       "2  9152315  davidjhulse\n",
       "3  9152315  davidjhulse\n",
       "4  9152315  davidjhulse"
      ]
     },
     "execution_count": 17,
     "metadata": {},
     "output_type": "execute_result"
    }
   ],
   "source": [
    "df2 = autores.to_dataframe()\n",
    "df2.head()"
   ]
  },
  {
   "cell_type": "markdown",
   "id": "green-ivory",
   "metadata": {},
   "source": [
    "Examinamos su estructura"
   ]
  },
  {
   "cell_type": "code",
   "execution_count": 18,
   "id": "conceptual-campaign",
   "metadata": {},
   "outputs": [
    {
     "data": {
      "text/html": [
       "<table>\n",
       "<tr>\n",
       "<td>\n",
       "<table>\n",
       "  <thead>\n",
       "    <tr><td> </td><th> Array </th><th> Chunk </th></tr>\n",
       "  </thead>\n",
       "  <tbody>\n",
       "    <tr><th> Bytes </th><td> unknown </td> <td> unknown </td></tr>\n",
       "    <tr><th> Shape </th><td> (nan, 2) </td> <td> (nan, 2) </td></tr>\n",
       "    <tr><th> Count </th><td> 2232 Tasks </td><td> 744 Chunks </td></tr>\n",
       "    <tr><th> Type </th><td> object </td><td> numpy.ndarray </td></tr>\n",
       "  </tbody>\n",
       "</table>\n",
       "</td>\n",
       "<td>\n",
       "\n",
       "</td>\n",
       "</tr>\n",
       "</table>"
      ],
      "text/plain": [
       "dask.array<values, shape=(nan, 2), dtype=object, chunksize=(nan, 2), chunktype=numpy.ndarray>"
      ]
     },
     "execution_count": 18,
     "metadata": {},
     "output_type": "execute_result"
    }
   ],
   "source": [
    "df2.values"
   ]
  },
  {
   "cell_type": "markdown",
   "id": "dominant-michael",
   "metadata": {},
   "source": [
    "Ahora, contamos cuantos commits hizo cada usuario"
   ]
  },
  {
   "cell_type": "code",
   "execution_count": 19,
   "id": "marked-plaza",
   "metadata": {},
   "outputs": [
    {
     "name": "stdout",
     "output_type": "stream",
     "text": [
      "CPU times: user 50.5 s, sys: 5.36 s, total: 55.9 s\n",
      "Wall time: 10min 52s\n"
     ]
    },
    {
     "data": {
      "text/html": [
       "<div>\n",
       "<style scoped>\n",
       "    .dataframe tbody tr th:only-of-type {\n",
       "        vertical-align: middle;\n",
       "    }\n",
       "\n",
       "    .dataframe tbody tr th {\n",
       "        vertical-align: top;\n",
       "    }\n",
       "\n",
       "    .dataframe thead th {\n",
       "        text-align: right;\n",
       "    }\n",
       "</style>\n",
       "<table border=\"1\" class=\"dataframe\">\n",
       "  <thead>\n",
       "    <tr style=\"text-align: right;\">\n",
       "      <th></th>\n",
       "      <th>id</th>\n",
       "    </tr>\n",
       "    <tr>\n",
       "      <th>login</th>\n",
       "      <th></th>\n",
       "    </tr>\n",
       "  </thead>\n",
       "  <tbody>\n",
       "    <tr>\n",
       "      <th>12finger</th>\n",
       "      <td>50</td>\n",
       "    </tr>\n",
       "    <tr>\n",
       "      <th>130s</th>\n",
       "      <td>3000</td>\n",
       "    </tr>\n",
       "    <tr>\n",
       "      <th>1j01</th>\n",
       "      <td>1060</td>\n",
       "    </tr>\n",
       "    <tr>\n",
       "      <th>309624472</th>\n",
       "      <td>40</td>\n",
       "    </tr>\n",
       "    <tr>\n",
       "      <th>3ft9</th>\n",
       "      <td>70</td>\n",
       "    </tr>\n",
       "    <tr>\n",
       "      <th>...</th>\n",
       "      <td>...</td>\n",
       "    </tr>\n",
       "    <tr>\n",
       "      <th>zahraebrahimi</th>\n",
       "      <td>50</td>\n",
       "    </tr>\n",
       "    <tr>\n",
       "      <th>zed-0xff</th>\n",
       "      <td>10</td>\n",
       "    </tr>\n",
       "    <tr>\n",
       "      <th>ziggyke</th>\n",
       "      <td>10</td>\n",
       "    </tr>\n",
       "    <tr>\n",
       "      <th>zling70</th>\n",
       "      <td>10</td>\n",
       "    </tr>\n",
       "    <tr>\n",
       "      <th>zzhbestsh</th>\n",
       "      <td>10</td>\n",
       "    </tr>\n",
       "  </tbody>\n",
       "</table>\n",
       "<p>902488 rows × 1 columns</p>\n",
       "</div>"
      ],
      "text/plain": [
       "                 id\n",
       "login              \n",
       "12finger         50\n",
       "130s           3000\n",
       "1j01           1060\n",
       "309624472        40\n",
       "3ft9             70\n",
       "...             ...\n",
       "zahraebrahimi    50\n",
       "zed-0xff         10\n",
       "ziggyke          10\n",
       "zling70          10\n",
       "zzhbestsh        10\n",
       "\n",
       "[902488 rows x 1 columns]"
      ]
     },
     "execution_count": 19,
     "metadata": {},
     "output_type": "execute_result"
    }
   ],
   "source": [
    "%%time\n",
    "df2.groupby('login').count().compute()"
   ]
  },
  {
   "cell_type": "markdown",
   "id": "random-prospect",
   "metadata": {},
   "source": [
    "Ahora, podemos buscar la información de cada usuario para verificar. Por ejemplo el primer usuario "
   ]
  },
  {
   "cell_type": "code",
   "execution_count": 20,
   "id": "resistant-burner",
   "metadata": {},
   "outputs": [
    {
     "name": "stdout",
     "output_type": "stream",
     "text": [
      "({'id': 1730022, 'login': '12finger'},) 50\n"
     ]
    }
   ],
   "source": [
    "a = autores.filter(lambda record: record['login'] == '12finger').take(1)\n",
    "b = autores.filter(lambda record: record['login'] == '12finger').count().compute()\n",
    "print(a,b)"
   ]
  },
  {
   "cell_type": "markdown",
   "id": "affiliated-liabilities",
   "metadata": {},
   "source": [
    "Con esto, guardamos esta información en un dataframe y cambiamos el nombre de la columna id a Frecuencia"
   ]
  },
  {
   "cell_type": "code",
   "execution_count": 21,
   "id": "sapphire-textbook",
   "metadata": {},
   "outputs": [
    {
     "name": "stdout",
     "output_type": "stream",
     "text": [
      "CPU times: user 1min 2s, sys: 6.59 s, total: 1min 9s\n",
      "Wall time: 12min 42s\n"
     ]
    },
    {
     "data": {
      "text/html": [
       "<div>\n",
       "<style scoped>\n",
       "    .dataframe tbody tr th:only-of-type {\n",
       "        vertical-align: middle;\n",
       "    }\n",
       "\n",
       "    .dataframe tbody tr th {\n",
       "        vertical-align: top;\n",
       "    }\n",
       "\n",
       "    .dataframe thead th {\n",
       "        text-align: right;\n",
       "    }\n",
       "</style>\n",
       "<table border=\"1\" class=\"dataframe\">\n",
       "  <thead>\n",
       "    <tr style=\"text-align: right;\">\n",
       "      <th></th>\n",
       "      <th>Frecuencia</th>\n",
       "    </tr>\n",
       "    <tr>\n",
       "      <th>login</th>\n",
       "      <th></th>\n",
       "    </tr>\n",
       "  </thead>\n",
       "  <tbody>\n",
       "    <tr>\n",
       "      <th>12finger</th>\n",
       "      <td>50</td>\n",
       "    </tr>\n",
       "    <tr>\n",
       "      <th>130s</th>\n",
       "      <td>3000</td>\n",
       "    </tr>\n",
       "    <tr>\n",
       "      <th>1j01</th>\n",
       "      <td>1060</td>\n",
       "    </tr>\n",
       "    <tr>\n",
       "      <th>309624472</th>\n",
       "      <td>40</td>\n",
       "    </tr>\n",
       "    <tr>\n",
       "      <th>3ft9</th>\n",
       "      <td>70</td>\n",
       "    </tr>\n",
       "    <tr>\n",
       "      <th>...</th>\n",
       "      <td>...</td>\n",
       "    </tr>\n",
       "    <tr>\n",
       "      <th>zahraebrahimi</th>\n",
       "      <td>50</td>\n",
       "    </tr>\n",
       "    <tr>\n",
       "      <th>zed-0xff</th>\n",
       "      <td>10</td>\n",
       "    </tr>\n",
       "    <tr>\n",
       "      <th>ziggyke</th>\n",
       "      <td>10</td>\n",
       "    </tr>\n",
       "    <tr>\n",
       "      <th>zling70</th>\n",
       "      <td>10</td>\n",
       "    </tr>\n",
       "    <tr>\n",
       "      <th>zzhbestsh</th>\n",
       "      <td>10</td>\n",
       "    </tr>\n",
       "  </tbody>\n",
       "</table>\n",
       "<p>902488 rows × 1 columns</p>\n",
       "</div>"
      ],
      "text/plain": [
       "               Frecuencia\n",
       "login                    \n",
       "12finger               50\n",
       "130s                 3000\n",
       "1j01                 1060\n",
       "309624472              40\n",
       "3ft9                   70\n",
       "...                   ...\n",
       "zahraebrahimi          50\n",
       "zed-0xff               10\n",
       "ziggyke                10\n",
       "zling70                10\n",
       "zzhbestsh              10\n",
       "\n",
       "[902488 rows x 1 columns]"
      ]
     },
     "execution_count": 21,
     "metadata": {},
     "output_type": "execute_result"
    }
   ],
   "source": [
    "%%time\n",
    "commits = df2.groupby('login').count().compute()\n",
    "commits = commits.rename(columns={'id': 'Frecuencia'})\n",
    "commits"
   ]
  },
  {
   "cell_type": "markdown",
   "id": "provincial-butler",
   "metadata": {},
   "source": [
    "Finalmente, podemos encontrar el usuario con más commits durante de enero de 2015 en Git-Hub con el siguiente comando"
   ]
  },
  {
   "cell_type": "code",
   "execution_count": 22,
   "id": "respective-master",
   "metadata": {},
   "outputs": [
    {
     "data": {
      "text/plain": [
       "'KenanSulayman'"
      ]
     },
     "execution_count": 22,
     "metadata": {},
     "output_type": "execute_result"
    }
   ],
   "source": [
    "commits['Frecuencia'].idxmax()\n"
   ]
  },
  {
   "cell_type": "code",
   "execution_count": 23,
   "id": "willing-french",
   "metadata": {},
   "outputs": [
    {
     "name": "stderr",
     "output_type": "stream",
     "text": [
      "distributed.nanny - WARNING - Worker process still alive after 3 seconds, killing\n",
      "distributed.nanny - WARNING - Worker process still alive after 3 seconds, killing\n",
      "distributed.nanny - WARNING - Worker process still alive after 3 seconds, killing\n",
      "distributed.nanny - WARNING - Worker process still alive after 3 seconds, killing\n",
      "distributed.client - ERROR - Failed to reconnect to scheduler after 10.00 seconds, closing client\n",
      "_GatheringFuture exception was never retrieved\n",
      "future: <_GatheringFuture finished exception=CancelledError()>\n",
      "concurrent.futures._base.CancelledError\n"
     ]
    }
   ],
   "source": [
    "client.shutdown()"
   ]
  },
  {
   "cell_type": "code",
   "execution_count": null,
   "id": "scenic-hawaiian",
   "metadata": {},
   "outputs": [],
   "source": []
  }
 ],
 "metadata": {
  "kernelspec": {
   "display_name": "Python 3",
   "language": "python",
   "name": "python3"
  },
  "language_info": {
   "codemirror_mode": {
    "name": "ipython",
    "version": 3
   },
   "file_extension": ".py",
   "mimetype": "text/x-python",
   "name": "python",
   "nbconvert_exporter": "python",
   "pygments_lexer": "ipython3",
   "version": "3.7.10"
  }
 },
 "nbformat": 4,
 "nbformat_minor": 5
}
