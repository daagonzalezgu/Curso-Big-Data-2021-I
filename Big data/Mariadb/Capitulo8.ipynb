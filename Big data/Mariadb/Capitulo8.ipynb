{
 "cells": [
  {
   "cell_type": "markdown",
   "id": "silver-health",
   "metadata": {},
   "source": [
    "# Actualizando y borrando datos"
   ]
  },
  {
   "cell_type": "code",
   "execution_count": 23,
   "id": "genuine-passenger",
   "metadata": {},
   "outputs": [
    {
     "data": {
      "text/html": [
       "Query OK"
      ]
     },
     "metadata": {},
     "output_type": "display_data"
    }
   ],
   "source": [
    "USE birdwatchers;"
   ]
  },
  {
   "cell_type": "code",
   "execution_count": 24,
   "id": "constitutional-salvation",
   "metadata": {},
   "outputs": [
    {
     "data": {
      "text/html": [
       "Query OK"
      ]
     },
     "metadata": {},
     "output_type": "display_data"
    }
   ],
   "source": [
    "DROP TABLE IF EXISTS humans;\n",
    "CREATE TABLE humans (\n",
    "  human_id int(11) NOT NULL AUTO_INCREMENT,\n",
    "  formal_title enum('Mr','Ms') COLLATE latin1_bin DEFAULT NULL,\n",
    "  name_first varchar(25) COLLATE latin1_bin DEFAULT NULL,\n",
    "  name_last varchar(25) COLLATE latin1_bin DEFAULT NULL,\n",
    "  email_address varchar(255) COLLATE latin1_bin DEFAULT NULL,\n",
    "  street_address varchar(255) COLLATE latin1_bin DEFAULT NULL,\n",
    "  city varchar(100) COLLATE latin1_bin DEFAULT NULL,\n",
    "  state_province varchar(100) COLLATE latin1_bin DEFAULT NULL,\n",
    "  postal_code varchar(10) COLLATE latin1_bin DEFAULT NULL,\n",
    "  country_id char(2) COLLATE latin1_bin DEFAULT NULL,\n",
    "  join_date date DEFAULT NULL,\n",
    "  membership_type enum('basic','premium') COLLATE latin1_bin DEFAULT NULL,\n",
    "  membership_expiration date DEFAULT NULL,\n",
    "  better_birders_site tinyint(4) DEFAULT '0',\n",
    "  possible_duplicate tinyint(4) DEFAULT '0',\n",
    "  birding_background blob,\n",
    "  skill_level enum('Backyard Birder','Street Noticer','Field Spotter','Expert') COLLATE latin1_bin DEFAULT NULL,\n",
    "  PRIMARY KEY (human_id),\n",
    "  UNIQUE KEY email_address (email_address),\n",
    "  KEY human_names (name_last,name_first)\n",
    ") ENGINE=MyISAM AUTO_INCREMENT=37 DEFAULT CHARSET=latin1 COLLATE=latin1_bin;\n"
   ]
  },
  {
   "cell_type": "code",
   "execution_count": 25,
   "id": "alpine-edition",
   "metadata": {},
   "outputs": [
    {
     "data": {
      "text/html": [
       "Query OK"
      ]
     },
     "metadata": {},
     "output_type": "display_data"
    }
   ],
   "source": [
    "LOCK TABLES humans WRITE;\n",
    "INSERT INTO humans VALUES (1,'Mr','Russell','Dyer','russell@mysqlresources.com',NULL,NULL,NULL,NULL,'uk','2013-10-01','premium','2013-09-22',0,1,NULL,'Street Noticer'),(2,'Mr','Richard','Stringer','richard@mysqlresources.com',NULL,NULL,NULL,NULL,'uk','2013-10-01','premium','2013-09-22',0,0,NULL,'Field Spotter'),(3,'Ms','Rusty','Osborne','rusty@mysqlresources.com',NULL,NULL,NULL,NULL,'ch','2013-10-01','premium','2013-12-22',0,0,NULL,'Street Noticer'),(4,'Ms','Lexi','Hollar','alexandra@mysqlresources.com',NULL,NULL,NULL,NULL,'uk','2013-10-01','premium','2013-09-22',0,0,NULL,'Backyard Birder'),(15,'Mr','Barry','Pilson','barry@gomail.com',NULL,NULL,NULL,NULL,NULL,'2013-10-01',NULL,NULL,0,0,NULL,'Expert'),(16,'Mr','Ricky','Adams','ricky@gomail.com',NULL,NULL,NULL,NULL,NULL,'2013-10-01',NULL,NULL,0,0,NULL,'Backyard Birder'),(17,'Mr','Rusell','Dyer','russell@dyerhouse.com',NULL,NULL,NULL,NULL,'us','2013-10-01','basic',NULL,0,1,NULL,'Field Spotter'),(25,'Ms','Elena','Bokova','elena.bokova@yahoo.com',NULL,NULL,NULL,NULL,'ru','2013-10-01','basic',NULL,0,1,NULL,'Backyard Birder'),(19,'Ms','Elena','Bokova','ebokova@gmail.com',NULL,NULL,NULL,NULL,'ru','2011-05-21','premium','2016-10-01',1,1,NULL,'Backyard Birder'),(26,'Ms','Katerina','Smirnova','katya@mail.ru',NULL,NULL,NULL,NULL,'ru','2012-02-01','basic',NULL,0,0,NULL,'Field Spotter'),(27,'Ms','Anahit','Vanetsyan','anahit@gmail.com',NULL,NULL,NULL,NULL,'ru','2011-10-01','basic',NULL,0,0,NULL,'Backyard Birder'),(28,'Ms','Marie','Dyer','marie@gmail.com',NULL,NULL,NULL,NULL,'us','2012-12-07','basic',NULL,0,0,NULL,'Expert'),(29,'Ms','Geoffrey','Dyer','',NULL,NULL,'Ocean Beach','NJ','us','2012-04-12','basic',NULL,0,0,NULL,'Backyard Birder'),(30,'Ms','MICHAEL','STONE',NULL,NULL,NULL,'San Diego','CA','us','2012-04-12','basic',NULL,0,0,NULL,'Backyard Birder'),(34,'Ms','Melissa','Lee',NULL,NULL,NULL,NULL,NULL,NULL,'2013-10-15',NULL,NULL,0,0,'\u0015\\0\\0\\0xIK/ɨTHJLN//K\u0003\\0Z\u0007','Street Noticer'),(35,'Mr','andy','oram',NULL,NULL,'Cambridge','MA','02140','us','2013-10-16','basic',NULL,0,0,NULL,'Expert'),(36,'Mr','Michael','Zabalaoui',NULL,NULL,'New Orleans','LA','70130','us','2013-10-16','basic',NULL,0,0,NULL,'Street Noticer');\n",
    "UNLOCK TABLES;\n"
   ]
  },
  {
   "cell_type": "code",
   "execution_count": 26,
   "id": "sharp-walker",
   "metadata": {},
   "outputs": [
    {
     "data": {
      "text/html": [
       "Query OK"
      ]
     },
     "metadata": {},
     "output_type": "display_data"
    }
   ],
   "source": [
    "UPDATE birdwatchers.humans\n",
    "SET country_id = 'us';"
   ]
  },
  {
   "cell_type": "code",
   "execution_count": 27,
   "id": "challenging-funds",
   "metadata": {},
   "outputs": [
    {
     "data": {
      "text/html": [
       "<html><body><table border=\"1\"><tr><th style=\"text-align:left;white-space:pre\">human_id</th><th style=\"text-align:left;white-space:pre\">name_first</th><th style=\"text-align:left;white-space:pre\">name_last</th></tr><tr><td style=\"text-align:left;white-space:pre\">3</td><td style=\"text-align:left;white-space:pre\">Rusty</td><td style=\"text-align:left;white-space:pre\">Osborne</td></tr></table></body></html>"
      ]
     },
     "metadata": {},
     "output_type": "display_data"
    }
   ],
   "source": [
    "SELECT human_id, name_first, name_last\n",
    "FROM humans\n",
    "WHERE name_first = 'Rusty'\n",
    "AND name_last = 'Osborne';"
   ]
  },
  {
   "cell_type": "code",
   "execution_count": 28,
   "id": "chemical-calendar",
   "metadata": {},
   "outputs": [
    {
     "data": {
      "text/html": [
       "<html><body><table border=\"1\"><tr><th style=\"text-align:left;white-space:pre\">human_id</th><th style=\"text-align:left;white-space:pre\">name_first</th><th style=\"text-align:left;white-space:pre\">name_last</th></tr><tr><td style=\"text-align:left;white-space:pre\">3</td><td style=\"text-align:left;white-space:pre\">Rusty</td><td style=\"text-align:left;white-space:pre\">Johnson</td></tr></table></body></html>"
      ]
     },
     "metadata": {},
     "output_type": "display_data"
    }
   ],
   "source": [
    "UPDATE humans\n",
    "SET name_last = 'Johnson'\n",
    "WHERE human_id = 3;\n",
    "SELECT human_id, name_first, name_last\n",
    "FROM humans\n",
    "WHERE human_id = 3;"
   ]
  },
  {
   "cell_type": "code",
   "execution_count": 29,
   "id": "endless-patrick",
   "metadata": {},
   "outputs": [
    {
     "data": {
      "text/html": [
       "Query OK"
      ]
     },
     "metadata": {},
     "output_type": "display_data"
    }
   ],
   "source": [
    "UPDATE humans\n",
    "SET formal_title = 'Ms.'\n",
    "WHERE human_id IN(24, 32);"
   ]
  },
  {
   "cell_type": "code",
   "execution_count": 30,
   "id": "checked-brisbane",
   "metadata": {},
   "outputs": [
    {
     "data": {
      "text/html": [
       "<html><body><table border=\"1\"><tr><th style=\"text-align:left;white-space:pre\">Field</th><th style=\"text-align:left;white-space:pre\">Type</th><th style=\"text-align:left;white-space:pre\">Collation</th><th style=\"text-align:left;white-space:pre\">Null</th><th style=\"text-align:left;white-space:pre\">Key</th><th style=\"text-align:left;white-space:pre\">Default</th><th style=\"text-align:left;white-space:pre\">Extra</th><th style=\"text-align:left;white-space:pre\">Privileges</th><th style=\"text-align:left;white-space:pre\">Comment</th></tr><tr><td style=\"text-align:left;white-space:pre\">formal_title</td><td style=\"text-align:left;white-space:pre\">enum('Mr','Ms')</td><td style=\"text-align:left;white-space:pre\">latin1_bin</td><td style=\"text-align:left;white-space:pre\">YES</td><td style=\"text-align:left;white-space:pre\"></td><td style=\"text-align:left;white-space:pre\">NULL</td><td style=\"text-align:left;white-space:pre\"></td><td style=\"text-align:left;white-space:pre\">select,insert,update,references</td><td style=\"text-align:left;white-space:pre\"></td></tr></table></body></html>"
      ]
     },
     "metadata": {},
     "output_type": "display_data"
    }
   ],
   "source": [
    "SHOW FULL COLUMNS\n",
    "FROM humans\n",
    "LIKE 'formal_title' ;"
   ]
  },
  {
   "cell_type": "code",
   "execution_count": 31,
   "id": "catholic-anniversary",
   "metadata": {},
   "outputs": [
    {
     "data": {
      "text/html": [
       "Query OK"
      ]
     },
     "metadata": {},
     "output_type": "display_data"
    }
   ],
   "source": [
    "UPDATE humans\n",
    "SET formal_title = 'Ms.'\n",
    "WHERE formal_title IN('Miss','Mrs.');"
   ]
  },
  {
   "cell_type": "code",
   "execution_count": null,
   "id": "plain-moscow",
   "metadata": {},
   "outputs": [],
   "source": []
  },
  {
   "cell_type": "code",
   "execution_count": 12,
   "id": "about-jewel",
   "metadata": {
    "scrolled": true
   },
   "outputs": [
    {
     "data": {
      "text/html": [
       "<html><body><table border=\"1\"><tr><th style=\"text-align:left;white-space:pre\">human_id</th><th style=\"text-align:left;white-space:pre\">formal_title</th><th style=\"text-align:left;white-space:pre\">name_first</th><th style=\"text-align:left;white-space:pre\">name_last</th><th style=\"text-align:left;white-space:pre\">email_address</th><th style=\"text-align:left;white-space:pre\">street_address</th><th style=\"text-align:left;white-space:pre\">city</th><th style=\"text-align:left;white-space:pre\">state_province</th><th style=\"text-align:left;white-space:pre\">postal_code</th><th style=\"text-align:left;white-space:pre\">country_id</th><th style=\"text-align:left;white-space:pre\">join_date</th><th style=\"text-align:left;white-space:pre\">membership_type</th><th style=\"text-align:left;white-space:pre\">membership_expiration</th><th style=\"text-align:left;white-space:pre\">better_birders_site</th><th style=\"text-align:left;white-space:pre\">possible_duplicate</th><th style=\"text-align:left;white-space:pre\">birding_background</th><th style=\"text-align:left;white-space:pre\">skill_level</th></tr><tr><td style=\"text-align:left;white-space:pre\">1</td><td style=\"text-align:left;white-space:pre\">Mr</td><td style=\"text-align:left;white-space:pre\">Russell</td><td style=\"text-align:left;white-space:pre\">Dyer</td><td style=\"text-align:left;white-space:pre\">russell@mysqlresources.com</td><td style=\"text-align:left;white-space:pre\">NULL</td><td style=\"text-align:left;white-space:pre\">NULL</td><td style=\"text-align:left;white-space:pre\">NULL</td><td style=\"text-align:left;white-space:pre\">NULL</td><td style=\"text-align:left;white-space:pre\">us</td><td style=\"text-align:left;white-space:pre\">2013-10-01</td><td style=\"text-align:left;white-space:pre\">premium</td><td style=\"text-align:left;white-space:pre\">2013-09-22</td><td style=\"text-align:left;white-space:pre\">0</td><td style=\"text-align:left;white-space:pre\">1</td><td style=\"text-align:left;white-space:pre\">NULL</td><td style=\"text-align:left;white-space:pre\">Street Noticer</td></tr><tr><td style=\"text-align:left;white-space:pre\">2</td><td style=\"text-align:left;white-space:pre\">Mr</td><td style=\"text-align:left;white-space:pre\">Richard</td><td style=\"text-align:left;white-space:pre\">Stringer</td><td style=\"text-align:left;white-space:pre\">richard@mysqlresources.com</td><td style=\"text-align:left;white-space:pre\">NULL</td><td style=\"text-align:left;white-space:pre\">NULL</td><td style=\"text-align:left;white-space:pre\">NULL</td><td style=\"text-align:left;white-space:pre\">NULL</td><td style=\"text-align:left;white-space:pre\">us</td><td style=\"text-align:left;white-space:pre\">2013-10-01</td><td style=\"text-align:left;white-space:pre\">premium</td><td style=\"text-align:left;white-space:pre\">2013-09-22</td><td style=\"text-align:left;white-space:pre\">0</td><td style=\"text-align:left;white-space:pre\">0</td><td style=\"text-align:left;white-space:pre\">NULL</td><td style=\"text-align:left;white-space:pre\">Field Spotter</td></tr><tr><td style=\"text-align:left;white-space:pre\">3</td><td style=\"text-align:left;white-space:pre\">Ms</td><td style=\"text-align:left;white-space:pre\">Rusty</td><td style=\"text-align:left;white-space:pre\">Johnson</td><td style=\"text-align:left;white-space:pre\">rusty@mysqlresources.com</td><td style=\"text-align:left;white-space:pre\">NULL</td><td style=\"text-align:left;white-space:pre\">NULL</td><td style=\"text-align:left;white-space:pre\">NULL</td><td style=\"text-align:left;white-space:pre\">NULL</td><td style=\"text-align:left;white-space:pre\">us</td><td style=\"text-align:left;white-space:pre\">2013-10-01</td><td style=\"text-align:left;white-space:pre\">premium</td><td style=\"text-align:left;white-space:pre\">2013-12-22</td><td style=\"text-align:left;white-space:pre\">0</td><td style=\"text-align:left;white-space:pre\">0</td><td style=\"text-align:left;white-space:pre\">NULL</td><td style=\"text-align:left;white-space:pre\">Street Noticer</td></tr><tr><td style=\"text-align:left;white-space:pre\">4</td><td style=\"text-align:left;white-space:pre\">Ms</td><td style=\"text-align:left;white-space:pre\">Lexi</td><td style=\"text-align:left;white-space:pre\">Hollar</td><td style=\"text-align:left;white-space:pre\">alexandra@mysqlresources.com</td><td style=\"text-align:left;white-space:pre\">NULL</td><td style=\"text-align:left;white-space:pre\">NULL</td><td style=\"text-align:left;white-space:pre\">NULL</td><td style=\"text-align:left;white-space:pre\">NULL</td><td style=\"text-align:left;white-space:pre\">us</td><td style=\"text-align:left;white-space:pre\">2013-10-01</td><td style=\"text-align:left;white-space:pre\">premium</td><td style=\"text-align:left;white-space:pre\">2013-09-22</td><td style=\"text-align:left;white-space:pre\">0</td><td style=\"text-align:left;white-space:pre\">0</td><td style=\"text-align:left;white-space:pre\">NULL</td><td style=\"text-align:left;white-space:pre\">Backyard Birder</td></tr><tr><td style=\"text-align:left;white-space:pre\">15</td><td style=\"text-align:left;white-space:pre\">Mr</td><td style=\"text-align:left;white-space:pre\">Barry</td><td style=\"text-align:left;white-space:pre\">Pilson</td><td style=\"text-align:left;white-space:pre\">barry@gomail.com</td><td style=\"text-align:left;white-space:pre\">NULL</td><td style=\"text-align:left;white-space:pre\">NULL</td><td style=\"text-align:left;white-space:pre\">NULL</td><td style=\"text-align:left;white-space:pre\">NULL</td><td style=\"text-align:left;white-space:pre\">us</td><td style=\"text-align:left;white-space:pre\">2013-10-01</td><td style=\"text-align:left;white-space:pre\">NULL</td><td style=\"text-align:left;white-space:pre\">NULL</td><td style=\"text-align:left;white-space:pre\">0</td><td style=\"text-align:left;white-space:pre\">0</td><td style=\"text-align:left;white-space:pre\">NULL</td><td style=\"text-align:left;white-space:pre\">Expert</td></tr><tr><td style=\"text-align:left;white-space:pre\">16</td><td style=\"text-align:left;white-space:pre\">Mr</td><td style=\"text-align:left;white-space:pre\">Ricky</td><td style=\"text-align:left;white-space:pre\">Adams</td><td style=\"text-align:left;white-space:pre\">ricky@gomail.com</td><td style=\"text-align:left;white-space:pre\">NULL</td><td style=\"text-align:left;white-space:pre\">NULL</td><td style=\"text-align:left;white-space:pre\">NULL</td><td style=\"text-align:left;white-space:pre\">NULL</td><td style=\"text-align:left;white-space:pre\">us</td><td style=\"text-align:left;white-space:pre\">2013-10-01</td><td style=\"text-align:left;white-space:pre\">NULL</td><td style=\"text-align:left;white-space:pre\">NULL</td><td style=\"text-align:left;white-space:pre\">0</td><td style=\"text-align:left;white-space:pre\">0</td><td style=\"text-align:left;white-space:pre\">NULL</td><td style=\"text-align:left;white-space:pre\">Backyard Birder</td></tr><tr><td style=\"text-align:left;white-space:pre\">17</td><td style=\"text-align:left;white-space:pre\">Mr</td><td style=\"text-align:left;white-space:pre\">Rusell</td><td style=\"text-align:left;white-space:pre\">Dyer</td><td style=\"text-align:left;white-space:pre\">russell@dyerhouse.com</td><td style=\"text-align:left;white-space:pre\">NULL</td><td style=\"text-align:left;white-space:pre\">NULL</td><td style=\"text-align:left;white-space:pre\">NULL</td><td style=\"text-align:left;white-space:pre\">NULL</td><td style=\"text-align:left;white-space:pre\">us</td><td style=\"text-align:left;white-space:pre\">2013-10-01</td><td style=\"text-align:left;white-space:pre\">basic</td><td style=\"text-align:left;white-space:pre\">NULL</td><td style=\"text-align:left;white-space:pre\">0</td><td style=\"text-align:left;white-space:pre\">1</td><td style=\"text-align:left;white-space:pre\">NULL</td><td style=\"text-align:left;white-space:pre\">Field Spotter</td></tr><tr><td style=\"text-align:left;white-space:pre\">25</td><td style=\"text-align:left;white-space:pre\">Ms</td><td style=\"text-align:left;white-space:pre\">Elena</td><td style=\"text-align:left;white-space:pre\">Bokova</td><td style=\"text-align:left;white-space:pre\">elena.bokova@yahoo.com</td><td style=\"text-align:left;white-space:pre\">NULL</td><td style=\"text-align:left;white-space:pre\">NULL</td><td style=\"text-align:left;white-space:pre\">NULL</td><td style=\"text-align:left;white-space:pre\">NULL</td><td style=\"text-align:left;white-space:pre\">us</td><td style=\"text-align:left;white-space:pre\">2013-10-01</td><td style=\"text-align:left;white-space:pre\">basic</td><td style=\"text-align:left;white-space:pre\">NULL</td><td style=\"text-align:left;white-space:pre\">0</td><td style=\"text-align:left;white-space:pre\">1</td><td style=\"text-align:left;white-space:pre\">NULL</td><td style=\"text-align:left;white-space:pre\">Backyard Birder</td></tr><tr><td style=\"text-align:left;white-space:pre\">19</td><td style=\"text-align:left;white-space:pre\">Ms</td><td style=\"text-align:left;white-space:pre\">Elena</td><td style=\"text-align:left;white-space:pre\">Bokova</td><td style=\"text-align:left;white-space:pre\">ebokova@gmail.com</td><td style=\"text-align:left;white-space:pre\">NULL</td><td style=\"text-align:left;white-space:pre\">NULL</td><td style=\"text-align:left;white-space:pre\">NULL</td><td style=\"text-align:left;white-space:pre\">NULL</td><td style=\"text-align:left;white-space:pre\">us</td><td style=\"text-align:left;white-space:pre\">2011-05-21</td><td style=\"text-align:left;white-space:pre\">premium</td><td style=\"text-align:left;white-space:pre\">2016-10-01</td><td style=\"text-align:left;white-space:pre\">1</td><td style=\"text-align:left;white-space:pre\">1</td><td style=\"text-align:left;white-space:pre\">NULL</td><td style=\"text-align:left;white-space:pre\">Backyard Birder</td></tr><tr><td style=\"text-align:left;white-space:pre\">26</td><td style=\"text-align:left;white-space:pre\">Ms</td><td style=\"text-align:left;white-space:pre\">Katerina</td><td style=\"text-align:left;white-space:pre\">Smirnova</td><td style=\"text-align:left;white-space:pre\">katya@mail.ru</td><td style=\"text-align:left;white-space:pre\">NULL</td><td style=\"text-align:left;white-space:pre\">NULL</td><td style=\"text-align:left;white-space:pre\">NULL</td><td style=\"text-align:left;white-space:pre\">NULL</td><td style=\"text-align:left;white-space:pre\">us</td><td style=\"text-align:left;white-space:pre\">2012-02-01</td><td style=\"text-align:left;white-space:pre\">basic</td><td style=\"text-align:left;white-space:pre\">NULL</td><td style=\"text-align:left;white-space:pre\">0</td><td style=\"text-align:left;white-space:pre\">0</td><td style=\"text-align:left;white-space:pre\">NULL</td><td style=\"text-align:left;white-space:pre\">Field Spotter</td></tr><tr><td style=\"text-align:left;white-space:pre\">27</td><td style=\"text-align:left;white-space:pre\">Ms</td><td style=\"text-align:left;white-space:pre\">Anahit</td><td style=\"text-align:left;white-space:pre\">Vanetsyan</td><td style=\"text-align:left;white-space:pre\">anahit@gmail.com</td><td style=\"text-align:left;white-space:pre\">NULL</td><td style=\"text-align:left;white-space:pre\">NULL</td><td style=\"text-align:left;white-space:pre\">NULL</td><td style=\"text-align:left;white-space:pre\">NULL</td><td style=\"text-align:left;white-space:pre\">us</td><td style=\"text-align:left;white-space:pre\">2011-10-01</td><td style=\"text-align:left;white-space:pre\">basic</td><td style=\"text-align:left;white-space:pre\">NULL</td><td style=\"text-align:left;white-space:pre\">0</td><td style=\"text-align:left;white-space:pre\">0</td><td style=\"text-align:left;white-space:pre\">NULL</td><td style=\"text-align:left;white-space:pre\">Backyard Birder</td></tr><tr><td style=\"text-align:left;white-space:pre\">28</td><td style=\"text-align:left;white-space:pre\">Ms</td><td style=\"text-align:left;white-space:pre\">Marie</td><td style=\"text-align:left;white-space:pre\">Dyer</td><td style=\"text-align:left;white-space:pre\">marie@gmail.com</td><td style=\"text-align:left;white-space:pre\">NULL</td><td style=\"text-align:left;white-space:pre\">NULL</td><td style=\"text-align:left;white-space:pre\">NULL</td><td style=\"text-align:left;white-space:pre\">NULL</td><td style=\"text-align:left;white-space:pre\">us</td><td style=\"text-align:left;white-space:pre\">2012-12-07</td><td style=\"text-align:left;white-space:pre\">basic</td><td style=\"text-align:left;white-space:pre\">NULL</td><td style=\"text-align:left;white-space:pre\">0</td><td style=\"text-align:left;white-space:pre\">0</td><td style=\"text-align:left;white-space:pre\">NULL</td><td style=\"text-align:left;white-space:pre\">Expert</td></tr><tr><td style=\"text-align:left;white-space:pre\">29</td><td style=\"text-align:left;white-space:pre\">Ms</td><td style=\"text-align:left;white-space:pre\">Geoffrey</td><td style=\"text-align:left;white-space:pre\">Dyer</td><td style=\"text-align:left;white-space:pre\"></td><td style=\"text-align:left;white-space:pre\">NULL</td><td style=\"text-align:left;white-space:pre\">NULL</td><td style=\"text-align:left;white-space:pre\">Ocean Beach</td><td style=\"text-align:left;white-space:pre\">NJ</td><td style=\"text-align:left;white-space:pre\">us</td><td style=\"text-align:left;white-space:pre\">2012-04-12</td><td style=\"text-align:left;white-space:pre\">basic</td><td style=\"text-align:left;white-space:pre\">NULL</td><td style=\"text-align:left;white-space:pre\">0</td><td style=\"text-align:left;white-space:pre\">0</td><td style=\"text-align:left;white-space:pre\">NULL</td><td style=\"text-align:left;white-space:pre\">Backyard Birder</td></tr><tr><td style=\"text-align:left;white-space:pre\">30</td><td style=\"text-align:left;white-space:pre\">Ms</td><td style=\"text-align:left;white-space:pre\">MICHAEL</td><td style=\"text-align:left;white-space:pre\">STONE</td><td style=\"text-align:left;white-space:pre\">NULL</td><td style=\"text-align:left;white-space:pre\">NULL</td><td style=\"text-align:left;white-space:pre\">NULL</td><td style=\"text-align:left;white-space:pre\">San Diego</td><td style=\"text-align:left;white-space:pre\">CA</td><td style=\"text-align:left;white-space:pre\">us</td><td style=\"text-align:left;white-space:pre\">2012-04-12</td><td style=\"text-align:left;white-space:pre\">basic</td><td style=\"text-align:left;white-space:pre\">NULL</td><td style=\"text-align:left;white-space:pre\">0</td><td style=\"text-align:left;white-space:pre\">0</td><td style=\"text-align:left;white-space:pre\">NULL</td><td style=\"text-align:left;white-space:pre\">Backyard Birder</td></tr><tr><td style=\"text-align:left;white-space:pre\">34</td><td style=\"text-align:left;white-space:pre\">Ms</td><td style=\"text-align:left;white-space:pre\">Melissa</td><td style=\"text-align:left;white-space:pre\">Lee</td><td style=\"text-align:left;white-space:pre\">NULL</td><td style=\"text-align:left;white-space:pre\">NULL</td><td style=\"text-align:left;white-space:pre\">NULL</td><td style=\"text-align:left;white-space:pre\">NULL</td><td style=\"text-align:left;white-space:pre\">NULL</td><td style=\"text-align:left;white-space:pre\">us</td><td style=\"text-align:left;white-space:pre\">2013-10-15</td><td style=\"text-align:left;white-space:pre\">NULL</td><td style=\"text-align:left;white-space:pre\">NULL</td><td style=\"text-align:left;white-space:pre\">0</td><td style=\"text-align:left;white-space:pre\">0</td><td style=\"text-align:left;white-space:pre\">   xIK/ɨTHJLN//K Z</td><td style=\"text-align:left;white-space:pre\">Street Noticer</td></tr><tr><td style=\"text-align:left;white-space:pre\">35</td><td style=\"text-align:left;white-space:pre\">Mr</td><td style=\"text-align:left;white-space:pre\">andy</td><td style=\"text-align:left;white-space:pre\">oram</td><td style=\"text-align:left;white-space:pre\">NULL</td><td style=\"text-align:left;white-space:pre\">NULL</td><td style=\"text-align:left;white-space:pre\">Cambridge</td><td style=\"text-align:left;white-space:pre\">MA</td><td style=\"text-align:left;white-space:pre\">02140</td><td style=\"text-align:left;white-space:pre\">us</td><td style=\"text-align:left;white-space:pre\">2013-10-16</td><td style=\"text-align:left;white-space:pre\">basic</td><td style=\"text-align:left;white-space:pre\">NULL</td><td style=\"text-align:left;white-space:pre\">0</td><td style=\"text-align:left;white-space:pre\">0</td><td style=\"text-align:left;white-space:pre\">NULL</td><td style=\"text-align:left;white-space:pre\">Expert</td></tr><tr><td style=\"text-align:left;white-space:pre\">36</td><td style=\"text-align:left;white-space:pre\">Mr</td><td style=\"text-align:left;white-space:pre\">Michael</td><td style=\"text-align:left;white-space:pre\">Zabalaoui</td><td style=\"text-align:left;white-space:pre\">NULL</td><td style=\"text-align:left;white-space:pre\">NULL</td><td style=\"text-align:left;white-space:pre\">New Orleans</td><td style=\"text-align:left;white-space:pre\">LA</td><td style=\"text-align:left;white-space:pre\">70130</td><td style=\"text-align:left;white-space:pre\">us</td><td style=\"text-align:left;white-space:pre\">2013-10-16</td><td style=\"text-align:left;white-space:pre\">basic</td><td style=\"text-align:left;white-space:pre\">NULL</td><td style=\"text-align:left;white-space:pre\">0</td><td style=\"text-align:left;white-space:pre\">0</td><td style=\"text-align:left;white-space:pre\">NULL</td><td style=\"text-align:left;white-space:pre\">Street Noticer</td></tr></table></body></html>"
      ]
     },
     "metadata": {},
     "output_type": "display_data"
    }
   ],
   "source": [
    "select * from humans;"
   ]
  },
  {
   "cell_type": "code",
   "execution_count": 32,
   "id": "thrown-visibility",
   "metadata": {},
   "outputs": [
    {
     "name": "stderr",
     "output_type": "stream",
     "text": [
      "Data truncated for column 'formal_title' at row 1\r\n",
      "\u0007\u001b(B\u001b[0;7m\u001b(B\u001b[m\n"
     ]
    }
   ],
   "source": [
    "ALTER TABLE humans\n",
    "CHANGE COLUMN formal_title formal_title ENUM('Mr.','Ms.');"
   ]
  },
  {
   "cell_type": "code",
   "execution_count": 33,
   "id": "enclosed-singles",
   "metadata": {},
   "outputs": [
    {
     "data": {
      "text/html": [
       "Stage: 2 of 2 'Enabling keys'      0% of stage done\r",
       "                                                   \r",
       "Stage: 2 of 2 'Enabling keys'      0% of stage done\r",
       "                                                   \r"
      ]
     },
     "metadata": {},
     "output_type": "display_data"
    }
   ],
   "source": [
    "ALTER TABLE humans\n",
    "CHANGE COLUMN formal_title formal_title ENUM('Mr.','Ms.','Mr','Ms');\n",
    "UPDATE humans\n",
    "SET formal_title = SUBSTRING(formal_title, 1, 2);\n",
    "ALTER TABLE humans\n",
    "CHANGE COLUMN formal_title formal_title ENUM('Mr','Ms');"
   ]
  },
  {
   "cell_type": "code",
   "execution_count": 34,
   "id": "waiting-ratio",
   "metadata": {},
   "outputs": [
    {
     "data": {
      "text/html": [
       "<html><body><table border=\"1\"><tr><th style=\"text-align:left;white-space:pre\">human_id</th><th style=\"text-align:left;white-space:pre\">formal_title</th><th style=\"text-align:left;white-space:pre\">name_first</th><th style=\"text-align:left;white-space:pre\">name_last</th><th style=\"text-align:left;white-space:pre\">email_address</th><th style=\"text-align:left;white-space:pre\">street_address</th><th style=\"text-align:left;white-space:pre\">city</th><th style=\"text-align:left;white-space:pre\">state_province</th><th style=\"text-align:left;white-space:pre\">postal_code</th><th style=\"text-align:left;white-space:pre\">country_id</th><th style=\"text-align:left;white-space:pre\">join_date</th><th style=\"text-align:left;white-space:pre\">membership_type</th><th style=\"text-align:left;white-space:pre\">membership_expiration</th><th style=\"text-align:left;white-space:pre\">better_birders_site</th><th style=\"text-align:left;white-space:pre\">possible_duplicate</th><th style=\"text-align:left;white-space:pre\">birding_background</th><th style=\"text-align:left;white-space:pre\">skill_level</th></tr><tr><td style=\"text-align:left;white-space:pre\">1</td><td style=\"text-align:left;white-space:pre\">Mr</td><td style=\"text-align:left;white-space:pre\">Russell</td><td style=\"text-align:left;white-space:pre\">Dyer</td><td style=\"text-align:left;white-space:pre\">russell@mysqlresources.com</td><td style=\"text-align:left;white-space:pre\">NULL</td><td style=\"text-align:left;white-space:pre\">NULL</td><td style=\"text-align:left;white-space:pre\">NULL</td><td style=\"text-align:left;white-space:pre\">NULL</td><td style=\"text-align:left;white-space:pre\">us</td><td style=\"text-align:left;white-space:pre\">2013-10-01</td><td style=\"text-align:left;white-space:pre\">premium</td><td style=\"text-align:left;white-space:pre\">2013-09-22</td><td style=\"text-align:left;white-space:pre\">0</td><td style=\"text-align:left;white-space:pre\">1</td><td style=\"text-align:left;white-space:pre\">NULL</td><td style=\"text-align:left;white-space:pre\">Street Noticer</td></tr><tr><td style=\"text-align:left;white-space:pre\">2</td><td style=\"text-align:left;white-space:pre\">Mr</td><td style=\"text-align:left;white-space:pre\">Richard</td><td style=\"text-align:left;white-space:pre\">Stringer</td><td style=\"text-align:left;white-space:pre\">richard@mysqlresources.com</td><td style=\"text-align:left;white-space:pre\">NULL</td><td style=\"text-align:left;white-space:pre\">NULL</td><td style=\"text-align:left;white-space:pre\">NULL</td><td style=\"text-align:left;white-space:pre\">NULL</td><td style=\"text-align:left;white-space:pre\">us</td><td style=\"text-align:left;white-space:pre\">2013-10-01</td><td style=\"text-align:left;white-space:pre\">premium</td><td style=\"text-align:left;white-space:pre\">2013-09-22</td><td style=\"text-align:left;white-space:pre\">0</td><td style=\"text-align:left;white-space:pre\">0</td><td style=\"text-align:left;white-space:pre\">NULL</td><td style=\"text-align:left;white-space:pre\">Field Spotter</td></tr><tr><td style=\"text-align:left;white-space:pre\">3</td><td style=\"text-align:left;white-space:pre\">Ms</td><td style=\"text-align:left;white-space:pre\">Rusty</td><td style=\"text-align:left;white-space:pre\">Johnson</td><td style=\"text-align:left;white-space:pre\">rusty@mysqlresources.com</td><td style=\"text-align:left;white-space:pre\">NULL</td><td style=\"text-align:left;white-space:pre\">NULL</td><td style=\"text-align:left;white-space:pre\">NULL</td><td style=\"text-align:left;white-space:pre\">NULL</td><td style=\"text-align:left;white-space:pre\">us</td><td style=\"text-align:left;white-space:pre\">2013-10-01</td><td style=\"text-align:left;white-space:pre\">premium</td><td style=\"text-align:left;white-space:pre\">2013-12-22</td><td style=\"text-align:left;white-space:pre\">0</td><td style=\"text-align:left;white-space:pre\">0</td><td style=\"text-align:left;white-space:pre\">NULL</td><td style=\"text-align:left;white-space:pre\">Street Noticer</td></tr><tr><td style=\"text-align:left;white-space:pre\">4</td><td style=\"text-align:left;white-space:pre\">Ms</td><td style=\"text-align:left;white-space:pre\">Lexi</td><td style=\"text-align:left;white-space:pre\">Hollar</td><td style=\"text-align:left;white-space:pre\">alexandra@mysqlresources.com</td><td style=\"text-align:left;white-space:pre\">NULL</td><td style=\"text-align:left;white-space:pre\">NULL</td><td style=\"text-align:left;white-space:pre\">NULL</td><td style=\"text-align:left;white-space:pre\">NULL</td><td style=\"text-align:left;white-space:pre\">us</td><td style=\"text-align:left;white-space:pre\">2013-10-01</td><td style=\"text-align:left;white-space:pre\">premium</td><td style=\"text-align:left;white-space:pre\">2013-09-22</td><td style=\"text-align:left;white-space:pre\">0</td><td style=\"text-align:left;white-space:pre\">0</td><td style=\"text-align:left;white-space:pre\">NULL</td><td style=\"text-align:left;white-space:pre\">Backyard Birder</td></tr><tr><td style=\"text-align:left;white-space:pre\">15</td><td style=\"text-align:left;white-space:pre\">Mr</td><td style=\"text-align:left;white-space:pre\">Barry</td><td style=\"text-align:left;white-space:pre\">Pilson</td><td style=\"text-align:left;white-space:pre\">barry@gomail.com</td><td style=\"text-align:left;white-space:pre\">NULL</td><td style=\"text-align:left;white-space:pre\">NULL</td><td style=\"text-align:left;white-space:pre\">NULL</td><td style=\"text-align:left;white-space:pre\">NULL</td><td style=\"text-align:left;white-space:pre\">us</td><td style=\"text-align:left;white-space:pre\">2013-10-01</td><td style=\"text-align:left;white-space:pre\">NULL</td><td style=\"text-align:left;white-space:pre\">NULL</td><td style=\"text-align:left;white-space:pre\">0</td><td style=\"text-align:left;white-space:pre\">0</td><td style=\"text-align:left;white-space:pre\">NULL</td><td style=\"text-align:left;white-space:pre\">Expert</td></tr><tr><td style=\"text-align:left;white-space:pre\">16</td><td style=\"text-align:left;white-space:pre\">Mr</td><td style=\"text-align:left;white-space:pre\">Ricky</td><td style=\"text-align:left;white-space:pre\">Adams</td><td style=\"text-align:left;white-space:pre\">ricky@gomail.com</td><td style=\"text-align:left;white-space:pre\">NULL</td><td style=\"text-align:left;white-space:pre\">NULL</td><td style=\"text-align:left;white-space:pre\">NULL</td><td style=\"text-align:left;white-space:pre\">NULL</td><td style=\"text-align:left;white-space:pre\">us</td><td style=\"text-align:left;white-space:pre\">2013-10-01</td><td style=\"text-align:left;white-space:pre\">NULL</td><td style=\"text-align:left;white-space:pre\">NULL</td><td style=\"text-align:left;white-space:pre\">0</td><td style=\"text-align:left;white-space:pre\">0</td><td style=\"text-align:left;white-space:pre\">NULL</td><td style=\"text-align:left;white-space:pre\">Backyard Birder</td></tr><tr><td style=\"text-align:left;white-space:pre\">17</td><td style=\"text-align:left;white-space:pre\">Mr</td><td style=\"text-align:left;white-space:pre\">Rusell</td><td style=\"text-align:left;white-space:pre\">Dyer</td><td style=\"text-align:left;white-space:pre\">russell@dyerhouse.com</td><td style=\"text-align:left;white-space:pre\">NULL</td><td style=\"text-align:left;white-space:pre\">NULL</td><td style=\"text-align:left;white-space:pre\">NULL</td><td style=\"text-align:left;white-space:pre\">NULL</td><td style=\"text-align:left;white-space:pre\">us</td><td style=\"text-align:left;white-space:pre\">2013-10-01</td><td style=\"text-align:left;white-space:pre\">basic</td><td style=\"text-align:left;white-space:pre\">NULL</td><td style=\"text-align:left;white-space:pre\">0</td><td style=\"text-align:left;white-space:pre\">1</td><td style=\"text-align:left;white-space:pre\">NULL</td><td style=\"text-align:left;white-space:pre\">Field Spotter</td></tr><tr><td style=\"text-align:left;white-space:pre\">25</td><td style=\"text-align:left;white-space:pre\">Ms</td><td style=\"text-align:left;white-space:pre\">Elena</td><td style=\"text-align:left;white-space:pre\">Bokova</td><td style=\"text-align:left;white-space:pre\">elena.bokova@yahoo.com</td><td style=\"text-align:left;white-space:pre\">NULL</td><td style=\"text-align:left;white-space:pre\">NULL</td><td style=\"text-align:left;white-space:pre\">NULL</td><td style=\"text-align:left;white-space:pre\">NULL</td><td style=\"text-align:left;white-space:pre\">us</td><td style=\"text-align:left;white-space:pre\">2013-10-01</td><td style=\"text-align:left;white-space:pre\">basic</td><td style=\"text-align:left;white-space:pre\">NULL</td><td style=\"text-align:left;white-space:pre\">0</td><td style=\"text-align:left;white-space:pre\">1</td><td style=\"text-align:left;white-space:pre\">NULL</td><td style=\"text-align:left;white-space:pre\">Backyard Birder</td></tr><tr><td style=\"text-align:left;white-space:pre\">19</td><td style=\"text-align:left;white-space:pre\">Ms</td><td style=\"text-align:left;white-space:pre\">Elena</td><td style=\"text-align:left;white-space:pre\">Bokova</td><td style=\"text-align:left;white-space:pre\">ebokova@gmail.com</td><td style=\"text-align:left;white-space:pre\">NULL</td><td style=\"text-align:left;white-space:pre\">NULL</td><td style=\"text-align:left;white-space:pre\">NULL</td><td style=\"text-align:left;white-space:pre\">NULL</td><td style=\"text-align:left;white-space:pre\">us</td><td style=\"text-align:left;white-space:pre\">2011-05-21</td><td style=\"text-align:left;white-space:pre\">premium</td><td style=\"text-align:left;white-space:pre\">2016-10-01</td><td style=\"text-align:left;white-space:pre\">1</td><td style=\"text-align:left;white-space:pre\">1</td><td style=\"text-align:left;white-space:pre\">NULL</td><td style=\"text-align:left;white-space:pre\">Backyard Birder</td></tr><tr><td style=\"text-align:left;white-space:pre\">26</td><td style=\"text-align:left;white-space:pre\">Ms</td><td style=\"text-align:left;white-space:pre\">Katerina</td><td style=\"text-align:left;white-space:pre\">Smirnova</td><td style=\"text-align:left;white-space:pre\">katya@mail.ru</td><td style=\"text-align:left;white-space:pre\">NULL</td><td style=\"text-align:left;white-space:pre\">NULL</td><td style=\"text-align:left;white-space:pre\">NULL</td><td style=\"text-align:left;white-space:pre\">NULL</td><td style=\"text-align:left;white-space:pre\">us</td><td style=\"text-align:left;white-space:pre\">2012-02-01</td><td style=\"text-align:left;white-space:pre\">basic</td><td style=\"text-align:left;white-space:pre\">NULL</td><td style=\"text-align:left;white-space:pre\">0</td><td style=\"text-align:left;white-space:pre\">0</td><td style=\"text-align:left;white-space:pre\">NULL</td><td style=\"text-align:left;white-space:pre\">Field Spotter</td></tr><tr><td style=\"text-align:left;white-space:pre\">27</td><td style=\"text-align:left;white-space:pre\">Ms</td><td style=\"text-align:left;white-space:pre\">Anahit</td><td style=\"text-align:left;white-space:pre\">Vanetsyan</td><td style=\"text-align:left;white-space:pre\">anahit@gmail.com</td><td style=\"text-align:left;white-space:pre\">NULL</td><td style=\"text-align:left;white-space:pre\">NULL</td><td style=\"text-align:left;white-space:pre\">NULL</td><td style=\"text-align:left;white-space:pre\">NULL</td><td style=\"text-align:left;white-space:pre\">us</td><td style=\"text-align:left;white-space:pre\">2011-10-01</td><td style=\"text-align:left;white-space:pre\">basic</td><td style=\"text-align:left;white-space:pre\">NULL</td><td style=\"text-align:left;white-space:pre\">0</td><td style=\"text-align:left;white-space:pre\">0</td><td style=\"text-align:left;white-space:pre\">NULL</td><td style=\"text-align:left;white-space:pre\">Backyard Birder</td></tr><tr><td style=\"text-align:left;white-space:pre\">28</td><td style=\"text-align:left;white-space:pre\">Ms</td><td style=\"text-align:left;white-space:pre\">Marie</td><td style=\"text-align:left;white-space:pre\">Dyer</td><td style=\"text-align:left;white-space:pre\">marie@gmail.com</td><td style=\"text-align:left;white-space:pre\">NULL</td><td style=\"text-align:left;white-space:pre\">NULL</td><td style=\"text-align:left;white-space:pre\">NULL</td><td style=\"text-align:left;white-space:pre\">NULL</td><td style=\"text-align:left;white-space:pre\">us</td><td style=\"text-align:left;white-space:pre\">2012-12-07</td><td style=\"text-align:left;white-space:pre\">basic</td><td style=\"text-align:left;white-space:pre\">NULL</td><td style=\"text-align:left;white-space:pre\">0</td><td style=\"text-align:left;white-space:pre\">0</td><td style=\"text-align:left;white-space:pre\">NULL</td><td style=\"text-align:left;white-space:pre\">Expert</td></tr><tr><td style=\"text-align:left;white-space:pre\">29</td><td style=\"text-align:left;white-space:pre\">Ms</td><td style=\"text-align:left;white-space:pre\">Geoffrey</td><td style=\"text-align:left;white-space:pre\">Dyer</td><td style=\"text-align:left;white-space:pre\"></td><td style=\"text-align:left;white-space:pre\">NULL</td><td style=\"text-align:left;white-space:pre\">NULL</td><td style=\"text-align:left;white-space:pre\">Ocean Beach</td><td style=\"text-align:left;white-space:pre\">NJ</td><td style=\"text-align:left;white-space:pre\">us</td><td style=\"text-align:left;white-space:pre\">2012-04-12</td><td style=\"text-align:left;white-space:pre\">basic</td><td style=\"text-align:left;white-space:pre\">NULL</td><td style=\"text-align:left;white-space:pre\">0</td><td style=\"text-align:left;white-space:pre\">0</td><td style=\"text-align:left;white-space:pre\">NULL</td><td style=\"text-align:left;white-space:pre\">Backyard Birder</td></tr><tr><td style=\"text-align:left;white-space:pre\">30</td><td style=\"text-align:left;white-space:pre\">Ms</td><td style=\"text-align:left;white-space:pre\">MICHAEL</td><td style=\"text-align:left;white-space:pre\">STONE</td><td style=\"text-align:left;white-space:pre\">NULL</td><td style=\"text-align:left;white-space:pre\">NULL</td><td style=\"text-align:left;white-space:pre\">NULL</td><td style=\"text-align:left;white-space:pre\">San Diego</td><td style=\"text-align:left;white-space:pre\">CA</td><td style=\"text-align:left;white-space:pre\">us</td><td style=\"text-align:left;white-space:pre\">2012-04-12</td><td style=\"text-align:left;white-space:pre\">basic</td><td style=\"text-align:left;white-space:pre\">NULL</td><td style=\"text-align:left;white-space:pre\">0</td><td style=\"text-align:left;white-space:pre\">0</td><td style=\"text-align:left;white-space:pre\">NULL</td><td style=\"text-align:left;white-space:pre\">Backyard Birder</td></tr><tr><td style=\"text-align:left;white-space:pre\">34</td><td style=\"text-align:left;white-space:pre\">Ms</td><td style=\"text-align:left;white-space:pre\">Melissa</td><td style=\"text-align:left;white-space:pre\">Lee</td><td style=\"text-align:left;white-space:pre\">NULL</td><td style=\"text-align:left;white-space:pre\">NULL</td><td style=\"text-align:left;white-space:pre\">NULL</td><td style=\"text-align:left;white-space:pre\">NULL</td><td style=\"text-align:left;white-space:pre\">NULL</td><td style=\"text-align:left;white-space:pre\">us</td><td style=\"text-align:left;white-space:pre\">2013-10-15</td><td style=\"text-align:left;white-space:pre\">NULL</td><td style=\"text-align:left;white-space:pre\">NULL</td><td style=\"text-align:left;white-space:pre\">0</td><td style=\"text-align:left;white-space:pre\">0</td><td style=\"text-align:left;white-space:pre\">   xIK/ɨTHJLN//K Z</td><td style=\"text-align:left;white-space:pre\">Street Noticer</td></tr><tr><td style=\"text-align:left;white-space:pre\">35</td><td style=\"text-align:left;white-space:pre\">Mr</td><td style=\"text-align:left;white-space:pre\">andy</td><td style=\"text-align:left;white-space:pre\">oram</td><td style=\"text-align:left;white-space:pre\">NULL</td><td style=\"text-align:left;white-space:pre\">NULL</td><td style=\"text-align:left;white-space:pre\">Cambridge</td><td style=\"text-align:left;white-space:pre\">MA</td><td style=\"text-align:left;white-space:pre\">02140</td><td style=\"text-align:left;white-space:pre\">us</td><td style=\"text-align:left;white-space:pre\">2013-10-16</td><td style=\"text-align:left;white-space:pre\">basic</td><td style=\"text-align:left;white-space:pre\">NULL</td><td style=\"text-align:left;white-space:pre\">0</td><td style=\"text-align:left;white-space:pre\">0</td><td style=\"text-align:left;white-space:pre\">NULL</td><td style=\"text-align:left;white-space:pre\">Expert</td></tr><tr><td style=\"text-align:left;white-space:pre\">36</td><td style=\"text-align:left;white-space:pre\">Mr</td><td style=\"text-align:left;white-space:pre\">Michael</td><td style=\"text-align:left;white-space:pre\">Zabalaoui</td><td style=\"text-align:left;white-space:pre\">NULL</td><td style=\"text-align:left;white-space:pre\">NULL</td><td style=\"text-align:left;white-space:pre\">New Orleans</td><td style=\"text-align:left;white-space:pre\">LA</td><td style=\"text-align:left;white-space:pre\">70130</td><td style=\"text-align:left;white-space:pre\">us</td><td style=\"text-align:left;white-space:pre\">2013-10-16</td><td style=\"text-align:left;white-space:pre\">basic</td><td style=\"text-align:left;white-space:pre\">NULL</td><td style=\"text-align:left;white-space:pre\">0</td><td style=\"text-align:left;white-space:pre\">0</td><td style=\"text-align:left;white-space:pre\">NULL</td><td style=\"text-align:left;white-space:pre\">Street Noticer</td></tr></table></body></html>"
      ]
     },
     "metadata": {},
     "output_type": "display_data"
    }
   ],
   "source": [
    "select * from humans;"
   ]
  },
  {
   "cell_type": "code",
   "execution_count": 38,
   "id": "revolutionary-payment",
   "metadata": {},
   "outputs": [
    {
     "data": {
      "text/html": [
       "Query OK"
      ]
     },
     "metadata": {},
     "output_type": "display_data"
    }
   ],
   "source": [
    "CREATE TABLE prize_winners\n",
    "(winner_id INT AUTO_INCREMENT PRIMARY KEY,\n",
    "human_id INT,\n",
    "winner_date DATE,\n",
    "prize_chosen VARCHAR(255),\n",
    "prize_sent DATE);"
   ]
  },
  {
   "cell_type": "code",
   "execution_count": 39,
   "id": "restricted-graham",
   "metadata": {},
   "outputs": [
    {
     "data": {
      "text/html": [
       "Query OK"
      ]
     },
     "metadata": {},
     "output_type": "display_data"
    }
   ],
   "source": [
    "INSERT INTO prize_winners\n",
    "(human_id)\n",
    "SELECT human_id\n",
    "FROM humans;"
   ]
  },
  {
   "cell_type": "code",
   "execution_count": 40,
   "id": "express-plasma",
   "metadata": {},
   "outputs": [
    {
     "data": {
      "text/html": [
       "<html><body><table border=\"1\"><tr><th style=\"text-align:left;white-space:pre\">winner_id</th><th style=\"text-align:left;white-space:pre\">human_id</th><th style=\"text-align:left;white-space:pre\">winner_date</th><th style=\"text-align:left;white-space:pre\">prize_chosen</th><th style=\"text-align:left;white-space:pre\">prize_sent</th></tr><tr><td style=\"text-align:left;white-space:pre\">1</td><td style=\"text-align:left;white-space:pre\">1</td><td style=\"text-align:left;white-space:pre\">NULL</td><td style=\"text-align:left;white-space:pre\">NULL</td><td style=\"text-align:left;white-space:pre\">NULL</td></tr><tr><td style=\"text-align:left;white-space:pre\">2</td><td style=\"text-align:left;white-space:pre\">2</td><td style=\"text-align:left;white-space:pre\">NULL</td><td style=\"text-align:left;white-space:pre\">NULL</td><td style=\"text-align:left;white-space:pre\">NULL</td></tr><tr><td style=\"text-align:left;white-space:pre\">3</td><td style=\"text-align:left;white-space:pre\">3</td><td style=\"text-align:left;white-space:pre\">NULL</td><td style=\"text-align:left;white-space:pre\">NULL</td><td style=\"text-align:left;white-space:pre\">NULL</td></tr><tr><td style=\"text-align:left;white-space:pre\">4</td><td style=\"text-align:left;white-space:pre\">4</td><td style=\"text-align:left;white-space:pre\">NULL</td><td style=\"text-align:left;white-space:pre\">NULL</td><td style=\"text-align:left;white-space:pre\">NULL</td></tr><tr><td style=\"text-align:left;white-space:pre\">5</td><td style=\"text-align:left;white-space:pre\">15</td><td style=\"text-align:left;white-space:pre\">NULL</td><td style=\"text-align:left;white-space:pre\">NULL</td><td style=\"text-align:left;white-space:pre\">NULL</td></tr><tr><td style=\"text-align:left;white-space:pre\">6</td><td style=\"text-align:left;white-space:pre\">16</td><td style=\"text-align:left;white-space:pre\">NULL</td><td style=\"text-align:left;white-space:pre\">NULL</td><td style=\"text-align:left;white-space:pre\">NULL</td></tr><tr><td style=\"text-align:left;white-space:pre\">7</td><td style=\"text-align:left;white-space:pre\">17</td><td style=\"text-align:left;white-space:pre\">NULL</td><td style=\"text-align:left;white-space:pre\">NULL</td><td style=\"text-align:left;white-space:pre\">NULL</td></tr><tr><td style=\"text-align:left;white-space:pre\">8</td><td style=\"text-align:left;white-space:pre\">19</td><td style=\"text-align:left;white-space:pre\">NULL</td><td style=\"text-align:left;white-space:pre\">NULL</td><td style=\"text-align:left;white-space:pre\">NULL</td></tr><tr><td style=\"text-align:left;white-space:pre\">9</td><td style=\"text-align:left;white-space:pre\">25</td><td style=\"text-align:left;white-space:pre\">NULL</td><td style=\"text-align:left;white-space:pre\">NULL</td><td style=\"text-align:left;white-space:pre\">NULL</td></tr><tr><td style=\"text-align:left;white-space:pre\">10</td><td style=\"text-align:left;white-space:pre\">26</td><td style=\"text-align:left;white-space:pre\">NULL</td><td style=\"text-align:left;white-space:pre\">NULL</td><td style=\"text-align:left;white-space:pre\">NULL</td></tr><tr><td style=\"text-align:left;white-space:pre\">11</td><td style=\"text-align:left;white-space:pre\">27</td><td style=\"text-align:left;white-space:pre\">NULL</td><td style=\"text-align:left;white-space:pre\">NULL</td><td style=\"text-align:left;white-space:pre\">NULL</td></tr><tr><td style=\"text-align:left;white-space:pre\">12</td><td style=\"text-align:left;white-space:pre\">28</td><td style=\"text-align:left;white-space:pre\">NULL</td><td style=\"text-align:left;white-space:pre\">NULL</td><td style=\"text-align:left;white-space:pre\">NULL</td></tr><tr><td style=\"text-align:left;white-space:pre\">13</td><td style=\"text-align:left;white-space:pre\">29</td><td style=\"text-align:left;white-space:pre\">NULL</td><td style=\"text-align:left;white-space:pre\">NULL</td><td style=\"text-align:left;white-space:pre\">NULL</td></tr><tr><td style=\"text-align:left;white-space:pre\">14</td><td style=\"text-align:left;white-space:pre\">30</td><td style=\"text-align:left;white-space:pre\">NULL</td><td style=\"text-align:left;white-space:pre\">NULL</td><td style=\"text-align:left;white-space:pre\">NULL</td></tr><tr><td style=\"text-align:left;white-space:pre\">15</td><td style=\"text-align:left;white-space:pre\">34</td><td style=\"text-align:left;white-space:pre\">NULL</td><td style=\"text-align:left;white-space:pre\">NULL</td><td style=\"text-align:left;white-space:pre\">NULL</td></tr><tr><td style=\"text-align:left;white-space:pre\">16</td><td style=\"text-align:left;white-space:pre\">35</td><td style=\"text-align:left;white-space:pre\">NULL</td><td style=\"text-align:left;white-space:pre\">NULL</td><td style=\"text-align:left;white-space:pre\">NULL</td></tr><tr><td style=\"text-align:left;white-space:pre\">17</td><td style=\"text-align:left;white-space:pre\">36</td><td style=\"text-align:left;white-space:pre\">NULL</td><td style=\"text-align:left;white-space:pre\">NULL</td><td style=\"text-align:left;white-space:pre\">NULL</td></tr></table></body></html>"
      ]
     },
     "metadata": {},
     "output_type": "display_data"
    }
   ],
   "source": [
    "select * from prize_winners;"
   ]
  },
  {
   "cell_type": "code",
   "execution_count": 41,
   "id": "after-volunteer",
   "metadata": {},
   "outputs": [
    {
     "data": {
      "text/html": [
       "Query OK"
      ]
     },
     "metadata": {},
     "output_type": "display_data"
    }
   ],
   "source": [
    "UPDATE prize_winners\n",
    "SET winner_date = CURDATE()\n",
    "WHERE winner_date IS NULL\n",
    "ORDER BY RAND()\n",
    "LIMIT 2;"
   ]
  },
  {
   "cell_type": "code",
   "execution_count": 42,
   "id": "growing-image",
   "metadata": {},
   "outputs": [
    {
     "data": {
      "text/html": [
       "Query OK"
      ]
     },
     "metadata": {},
     "output_type": "display_data"
    }
   ],
   "source": [
    "SHOW WARNINGS;"
   ]
  },
  {
   "cell_type": "code",
   "execution_count": 43,
   "id": "difficult-device",
   "metadata": {},
   "outputs": [
    {
     "data": {
      "text/html": [
       "Query OK"
      ]
     },
     "metadata": {},
     "output_type": "display_data"
    }
   ],
   "source": [
    "UPDATE prize_winners, humans\n",
    "SET winner_date = NULL,\n",
    "prize_chosen = NULL,\n",
    "prize_sent = NULL\n",
    "WHERE country_id = 'uk'\n",
    "AND prize_winners.human_id = humans.human_id;"
   ]
  },
  {
   "cell_type": "code",
   "execution_count": 44,
   "id": "sophisticated-genesis",
   "metadata": {},
   "outputs": [
    {
     "data": {
      "text/html": [
       "Query OK"
      ]
     },
     "metadata": {},
     "output_type": "display_data"
    }
   ],
   "source": [
    "UPDATE prize_winners, humans\n",
    "SET winner_date = CURDATE()\n",
    "WHERE winner_date IS NULL\n",
    "AND country_id = 'uk'\n",
    "AND prize_winners.human_id = humans.human_id\n",
    "ORDER BY RAND()\n",
    "LIMIT 2;"
   ]
  },
  {
   "cell_type": "code",
   "execution_count": 45,
   "id": "guilty-memorial",
   "metadata": {},
   "outputs": [
    {
     "data": {
      "text/html": [
       "Query OK"
      ]
     },
     "metadata": {},
     "output_type": "display_data"
    }
   ],
   "source": [
    "UPDATE prize_winners\n",
    "SET winner_date = CURDATE()\n",
    "WHERE winner_date IS NULL\n",
    "AND human_id IN\n",
    "(SELECT human_id\n",
    "FROM humans\n",
    "WHERE country_id = 'uk'\n",
    "ORDER BY RAND())\n",
    "LIMIT 2;"
   ]
  },
  {
   "cell_type": "code",
   "execution_count": 46,
   "id": "retained-liechtenstein",
   "metadata": {},
   "outputs": [
    {
     "name": "stderr",
     "output_type": "stream",
     "text": [
      "Duplicate column name 'better_birders_site'\r\n",
      "\u0007\u001b(B\u001b[0;7m\u001b(B\u001b[m\n"
     ]
    }
   ],
   "source": [
    "ALTER TABLE humans\n",
    "ADD COLUMN better_birders_site TINYINT DEFAULT 0;"
   ]
  },
  {
   "cell_type": "code",
   "execution_count": 47,
   "id": "exotic-analysis",
   "metadata": {},
   "outputs": [
    {
     "data": {
      "text/html": [
       "Query OK"
      ]
     },
     "metadata": {},
     "output_type": "display_data"
    }
   ],
   "source": [
    "INSERT INTO humans\n",
    "(formal_title, name_first, name_last, email_address, better_birders_site)\n",
    "VALUES('Mr','Barry','Pilson', 'barry@gomail.com', 1),\n",
    "('Ms','Lexi','Hollar', 'alexandra@mysqlresources.com', 1),\n",
    "('Mr','Ricky','Adams', 'ricky@gomail.com', 1)\n",
    "ON DUPLICATE KEY\n",
    "UPDATE better_birders_site = 2;"
   ]
  },
  {
   "cell_type": "code",
   "execution_count": 48,
   "id": "racial-heath",
   "metadata": {},
   "outputs": [
    {
     "data": {
      "text/html": [
       "<html><body><table border=\"1\"><tr><th style=\"text-align:left;white-space:pre\">human_id</th><th style=\"text-align:left;white-space:pre\">formal_title</th><th style=\"text-align:left;white-space:pre\">name_first</th><th style=\"text-align:left;white-space:pre\">name_last</th><th style=\"text-align:left;white-space:pre\">email_address</th><th style=\"text-align:left;white-space:pre\">street_address</th><th style=\"text-align:left;white-space:pre\">city</th><th style=\"text-align:left;white-space:pre\">state_province</th><th style=\"text-align:left;white-space:pre\">postal_code</th><th style=\"text-align:left;white-space:pre\">country_id</th><th style=\"text-align:left;white-space:pre\">join_date</th><th style=\"text-align:left;white-space:pre\">membership_type</th><th style=\"text-align:left;white-space:pre\">membership_expiration</th><th style=\"text-align:left;white-space:pre\">better_birders_site</th><th style=\"text-align:left;white-space:pre\">possible_duplicate</th><th style=\"text-align:left;white-space:pre\">birding_background</th><th style=\"text-align:left;white-space:pre\">skill_level</th></tr><tr><td style=\"text-align:left;white-space:pre\">1</td><td style=\"text-align:left;white-space:pre\">Mr</td><td style=\"text-align:left;white-space:pre\">Russell</td><td style=\"text-align:left;white-space:pre\">Dyer</td><td style=\"text-align:left;white-space:pre\">russell@mysqlresources.com</td><td style=\"text-align:left;white-space:pre\">NULL</td><td style=\"text-align:left;white-space:pre\">NULL</td><td style=\"text-align:left;white-space:pre\">NULL</td><td style=\"text-align:left;white-space:pre\">NULL</td><td style=\"text-align:left;white-space:pre\">us</td><td style=\"text-align:left;white-space:pre\">2013-10-01</td><td style=\"text-align:left;white-space:pre\">premium</td><td style=\"text-align:left;white-space:pre\">2013-09-22</td><td style=\"text-align:left;white-space:pre\">0</td><td style=\"text-align:left;white-space:pre\">1</td><td style=\"text-align:left;white-space:pre\">NULL</td><td style=\"text-align:left;white-space:pre\">Street Noticer</td></tr><tr><td style=\"text-align:left;white-space:pre\">2</td><td style=\"text-align:left;white-space:pre\">Mr</td><td style=\"text-align:left;white-space:pre\">Richard</td><td style=\"text-align:left;white-space:pre\">Stringer</td><td style=\"text-align:left;white-space:pre\">richard@mysqlresources.com</td><td style=\"text-align:left;white-space:pre\">NULL</td><td style=\"text-align:left;white-space:pre\">NULL</td><td style=\"text-align:left;white-space:pre\">NULL</td><td style=\"text-align:left;white-space:pre\">NULL</td><td style=\"text-align:left;white-space:pre\">us</td><td style=\"text-align:left;white-space:pre\">2013-10-01</td><td style=\"text-align:left;white-space:pre\">premium</td><td style=\"text-align:left;white-space:pre\">2013-09-22</td><td style=\"text-align:left;white-space:pre\">0</td><td style=\"text-align:left;white-space:pre\">0</td><td style=\"text-align:left;white-space:pre\">NULL</td><td style=\"text-align:left;white-space:pre\">Field Spotter</td></tr><tr><td style=\"text-align:left;white-space:pre\">3</td><td style=\"text-align:left;white-space:pre\">Ms</td><td style=\"text-align:left;white-space:pre\">Rusty</td><td style=\"text-align:left;white-space:pre\">Johnson</td><td style=\"text-align:left;white-space:pre\">rusty@mysqlresources.com</td><td style=\"text-align:left;white-space:pre\">NULL</td><td style=\"text-align:left;white-space:pre\">NULL</td><td style=\"text-align:left;white-space:pre\">NULL</td><td style=\"text-align:left;white-space:pre\">NULL</td><td style=\"text-align:left;white-space:pre\">us</td><td style=\"text-align:left;white-space:pre\">2013-10-01</td><td style=\"text-align:left;white-space:pre\">premium</td><td style=\"text-align:left;white-space:pre\">2013-12-22</td><td style=\"text-align:left;white-space:pre\">0</td><td style=\"text-align:left;white-space:pre\">0</td><td style=\"text-align:left;white-space:pre\">NULL</td><td style=\"text-align:left;white-space:pre\">Street Noticer</td></tr><tr><td style=\"text-align:left;white-space:pre\">4</td><td style=\"text-align:left;white-space:pre\">Ms</td><td style=\"text-align:left;white-space:pre\">Lexi</td><td style=\"text-align:left;white-space:pre\">Hollar</td><td style=\"text-align:left;white-space:pre\">alexandra@mysqlresources.com</td><td style=\"text-align:left;white-space:pre\">NULL</td><td style=\"text-align:left;white-space:pre\">NULL</td><td style=\"text-align:left;white-space:pre\">NULL</td><td style=\"text-align:left;white-space:pre\">NULL</td><td style=\"text-align:left;white-space:pre\">us</td><td style=\"text-align:left;white-space:pre\">2013-10-01</td><td style=\"text-align:left;white-space:pre\">premium</td><td style=\"text-align:left;white-space:pre\">2013-09-22</td><td style=\"text-align:left;white-space:pre\">2</td><td style=\"text-align:left;white-space:pre\">0</td><td style=\"text-align:left;white-space:pre\">NULL</td><td style=\"text-align:left;white-space:pre\">Backyard Birder</td></tr><tr><td style=\"text-align:left;white-space:pre\">15</td><td style=\"text-align:left;white-space:pre\">Mr</td><td style=\"text-align:left;white-space:pre\">Barry</td><td style=\"text-align:left;white-space:pre\">Pilson</td><td style=\"text-align:left;white-space:pre\">barry@gomail.com</td><td style=\"text-align:left;white-space:pre\">NULL</td><td style=\"text-align:left;white-space:pre\">NULL</td><td style=\"text-align:left;white-space:pre\">NULL</td><td style=\"text-align:left;white-space:pre\">NULL</td><td style=\"text-align:left;white-space:pre\">us</td><td style=\"text-align:left;white-space:pre\">2013-10-01</td><td style=\"text-align:left;white-space:pre\">NULL</td><td style=\"text-align:left;white-space:pre\">NULL</td><td style=\"text-align:left;white-space:pre\">2</td><td style=\"text-align:left;white-space:pre\">0</td><td style=\"text-align:left;white-space:pre\">NULL</td><td style=\"text-align:left;white-space:pre\">Expert</td></tr><tr><td style=\"text-align:left;white-space:pre\">16</td><td style=\"text-align:left;white-space:pre\">Mr</td><td style=\"text-align:left;white-space:pre\">Ricky</td><td style=\"text-align:left;white-space:pre\">Adams</td><td style=\"text-align:left;white-space:pre\">ricky@gomail.com</td><td style=\"text-align:left;white-space:pre\">NULL</td><td style=\"text-align:left;white-space:pre\">NULL</td><td style=\"text-align:left;white-space:pre\">NULL</td><td style=\"text-align:left;white-space:pre\">NULL</td><td style=\"text-align:left;white-space:pre\">us</td><td style=\"text-align:left;white-space:pre\">2013-10-01</td><td style=\"text-align:left;white-space:pre\">NULL</td><td style=\"text-align:left;white-space:pre\">NULL</td><td style=\"text-align:left;white-space:pre\">2</td><td style=\"text-align:left;white-space:pre\">0</td><td style=\"text-align:left;white-space:pre\">NULL</td><td style=\"text-align:left;white-space:pre\">Backyard Birder</td></tr><tr><td style=\"text-align:left;white-space:pre\">17</td><td style=\"text-align:left;white-space:pre\">Mr</td><td style=\"text-align:left;white-space:pre\">Rusell</td><td style=\"text-align:left;white-space:pre\">Dyer</td><td style=\"text-align:left;white-space:pre\">russell@dyerhouse.com</td><td style=\"text-align:left;white-space:pre\">NULL</td><td style=\"text-align:left;white-space:pre\">NULL</td><td style=\"text-align:left;white-space:pre\">NULL</td><td style=\"text-align:left;white-space:pre\">NULL</td><td style=\"text-align:left;white-space:pre\">us</td><td style=\"text-align:left;white-space:pre\">2013-10-01</td><td style=\"text-align:left;white-space:pre\">basic</td><td style=\"text-align:left;white-space:pre\">NULL</td><td style=\"text-align:left;white-space:pre\">0</td><td style=\"text-align:left;white-space:pre\">1</td><td style=\"text-align:left;white-space:pre\">NULL</td><td style=\"text-align:left;white-space:pre\">Field Spotter</td></tr><tr><td style=\"text-align:left;white-space:pre\">25</td><td style=\"text-align:left;white-space:pre\">Ms</td><td style=\"text-align:left;white-space:pre\">Elena</td><td style=\"text-align:left;white-space:pre\">Bokova</td><td style=\"text-align:left;white-space:pre\">elena.bokova@yahoo.com</td><td style=\"text-align:left;white-space:pre\">NULL</td><td style=\"text-align:left;white-space:pre\">NULL</td><td style=\"text-align:left;white-space:pre\">NULL</td><td style=\"text-align:left;white-space:pre\">NULL</td><td style=\"text-align:left;white-space:pre\">us</td><td style=\"text-align:left;white-space:pre\">2013-10-01</td><td style=\"text-align:left;white-space:pre\">basic</td><td style=\"text-align:left;white-space:pre\">NULL</td><td style=\"text-align:left;white-space:pre\">0</td><td style=\"text-align:left;white-space:pre\">1</td><td style=\"text-align:left;white-space:pre\">NULL</td><td style=\"text-align:left;white-space:pre\">Backyard Birder</td></tr><tr><td style=\"text-align:left;white-space:pre\">19</td><td style=\"text-align:left;white-space:pre\">Ms</td><td style=\"text-align:left;white-space:pre\">Elena</td><td style=\"text-align:left;white-space:pre\">Bokova</td><td style=\"text-align:left;white-space:pre\">ebokova@gmail.com</td><td style=\"text-align:left;white-space:pre\">NULL</td><td style=\"text-align:left;white-space:pre\">NULL</td><td style=\"text-align:left;white-space:pre\">NULL</td><td style=\"text-align:left;white-space:pre\">NULL</td><td style=\"text-align:left;white-space:pre\">us</td><td style=\"text-align:left;white-space:pre\">2011-05-21</td><td style=\"text-align:left;white-space:pre\">premium</td><td style=\"text-align:left;white-space:pre\">2016-10-01</td><td style=\"text-align:left;white-space:pre\">1</td><td style=\"text-align:left;white-space:pre\">1</td><td style=\"text-align:left;white-space:pre\">NULL</td><td style=\"text-align:left;white-space:pre\">Backyard Birder</td></tr><tr><td style=\"text-align:left;white-space:pre\">26</td><td style=\"text-align:left;white-space:pre\">Ms</td><td style=\"text-align:left;white-space:pre\">Katerina</td><td style=\"text-align:left;white-space:pre\">Smirnova</td><td style=\"text-align:left;white-space:pre\">katya@mail.ru</td><td style=\"text-align:left;white-space:pre\">NULL</td><td style=\"text-align:left;white-space:pre\">NULL</td><td style=\"text-align:left;white-space:pre\">NULL</td><td style=\"text-align:left;white-space:pre\">NULL</td><td style=\"text-align:left;white-space:pre\">us</td><td style=\"text-align:left;white-space:pre\">2012-02-01</td><td style=\"text-align:left;white-space:pre\">basic</td><td style=\"text-align:left;white-space:pre\">NULL</td><td style=\"text-align:left;white-space:pre\">0</td><td style=\"text-align:left;white-space:pre\">0</td><td style=\"text-align:left;white-space:pre\">NULL</td><td style=\"text-align:left;white-space:pre\">Field Spotter</td></tr><tr><td style=\"text-align:left;white-space:pre\">27</td><td style=\"text-align:left;white-space:pre\">Ms</td><td style=\"text-align:left;white-space:pre\">Anahit</td><td style=\"text-align:left;white-space:pre\">Vanetsyan</td><td style=\"text-align:left;white-space:pre\">anahit@gmail.com</td><td style=\"text-align:left;white-space:pre\">NULL</td><td style=\"text-align:left;white-space:pre\">NULL</td><td style=\"text-align:left;white-space:pre\">NULL</td><td style=\"text-align:left;white-space:pre\">NULL</td><td style=\"text-align:left;white-space:pre\">us</td><td style=\"text-align:left;white-space:pre\">2011-10-01</td><td style=\"text-align:left;white-space:pre\">basic</td><td style=\"text-align:left;white-space:pre\">NULL</td><td style=\"text-align:left;white-space:pre\">0</td><td style=\"text-align:left;white-space:pre\">0</td><td style=\"text-align:left;white-space:pre\">NULL</td><td style=\"text-align:left;white-space:pre\">Backyard Birder</td></tr><tr><td style=\"text-align:left;white-space:pre\">28</td><td style=\"text-align:left;white-space:pre\">Ms</td><td style=\"text-align:left;white-space:pre\">Marie</td><td style=\"text-align:left;white-space:pre\">Dyer</td><td style=\"text-align:left;white-space:pre\">marie@gmail.com</td><td style=\"text-align:left;white-space:pre\">NULL</td><td style=\"text-align:left;white-space:pre\">NULL</td><td style=\"text-align:left;white-space:pre\">NULL</td><td style=\"text-align:left;white-space:pre\">NULL</td><td style=\"text-align:left;white-space:pre\">us</td><td style=\"text-align:left;white-space:pre\">2012-12-07</td><td style=\"text-align:left;white-space:pre\">basic</td><td style=\"text-align:left;white-space:pre\">NULL</td><td style=\"text-align:left;white-space:pre\">0</td><td style=\"text-align:left;white-space:pre\">0</td><td style=\"text-align:left;white-space:pre\">NULL</td><td style=\"text-align:left;white-space:pre\">Expert</td></tr><tr><td style=\"text-align:left;white-space:pre\">29</td><td style=\"text-align:left;white-space:pre\">Ms</td><td style=\"text-align:left;white-space:pre\">Geoffrey</td><td style=\"text-align:left;white-space:pre\">Dyer</td><td style=\"text-align:left;white-space:pre\"></td><td style=\"text-align:left;white-space:pre\">NULL</td><td style=\"text-align:left;white-space:pre\">NULL</td><td style=\"text-align:left;white-space:pre\">Ocean Beach</td><td style=\"text-align:left;white-space:pre\">NJ</td><td style=\"text-align:left;white-space:pre\">us</td><td style=\"text-align:left;white-space:pre\">2012-04-12</td><td style=\"text-align:left;white-space:pre\">basic</td><td style=\"text-align:left;white-space:pre\">NULL</td><td style=\"text-align:left;white-space:pre\">0</td><td style=\"text-align:left;white-space:pre\">0</td><td style=\"text-align:left;white-space:pre\">NULL</td><td style=\"text-align:left;white-space:pre\">Backyard Birder</td></tr><tr><td style=\"text-align:left;white-space:pre\">30</td><td style=\"text-align:left;white-space:pre\">Ms</td><td style=\"text-align:left;white-space:pre\">MICHAEL</td><td style=\"text-align:left;white-space:pre\">STONE</td><td style=\"text-align:left;white-space:pre\">NULL</td><td style=\"text-align:left;white-space:pre\">NULL</td><td style=\"text-align:left;white-space:pre\">NULL</td><td style=\"text-align:left;white-space:pre\">San Diego</td><td style=\"text-align:left;white-space:pre\">CA</td><td style=\"text-align:left;white-space:pre\">us</td><td style=\"text-align:left;white-space:pre\">2012-04-12</td><td style=\"text-align:left;white-space:pre\">basic</td><td style=\"text-align:left;white-space:pre\">NULL</td><td style=\"text-align:left;white-space:pre\">0</td><td style=\"text-align:left;white-space:pre\">0</td><td style=\"text-align:left;white-space:pre\">NULL</td><td style=\"text-align:left;white-space:pre\">Backyard Birder</td></tr><tr><td style=\"text-align:left;white-space:pre\">34</td><td style=\"text-align:left;white-space:pre\">Ms</td><td style=\"text-align:left;white-space:pre\">Melissa</td><td style=\"text-align:left;white-space:pre\">Lee</td><td style=\"text-align:left;white-space:pre\">NULL</td><td style=\"text-align:left;white-space:pre\">NULL</td><td style=\"text-align:left;white-space:pre\">NULL</td><td style=\"text-align:left;white-space:pre\">NULL</td><td style=\"text-align:left;white-space:pre\">NULL</td><td style=\"text-align:left;white-space:pre\">us</td><td style=\"text-align:left;white-space:pre\">2013-10-15</td><td style=\"text-align:left;white-space:pre\">NULL</td><td style=\"text-align:left;white-space:pre\">NULL</td><td style=\"text-align:left;white-space:pre\">0</td><td style=\"text-align:left;white-space:pre\">0</td><td style=\"text-align:left;white-space:pre\">   xIK/ɨTHJLN//K Z</td><td style=\"text-align:left;white-space:pre\">Street Noticer</td></tr><tr><td style=\"text-align:left;white-space:pre\">35</td><td style=\"text-align:left;white-space:pre\">Mr</td><td style=\"text-align:left;white-space:pre\">andy</td><td style=\"text-align:left;white-space:pre\">oram</td><td style=\"text-align:left;white-space:pre\">NULL</td><td style=\"text-align:left;white-space:pre\">NULL</td><td style=\"text-align:left;white-space:pre\">Cambridge</td><td style=\"text-align:left;white-space:pre\">MA</td><td style=\"text-align:left;white-space:pre\">02140</td><td style=\"text-align:left;white-space:pre\">us</td><td style=\"text-align:left;white-space:pre\">2013-10-16</td><td style=\"text-align:left;white-space:pre\">basic</td><td style=\"text-align:left;white-space:pre\">NULL</td><td style=\"text-align:left;white-space:pre\">0</td><td style=\"text-align:left;white-space:pre\">0</td><td style=\"text-align:left;white-space:pre\">NULL</td><td style=\"text-align:left;white-space:pre\">Expert</td></tr><tr><td style=\"text-align:left;white-space:pre\">36</td><td style=\"text-align:left;white-space:pre\">Mr</td><td style=\"text-align:left;white-space:pre\">Michael</td><td style=\"text-align:left;white-space:pre\">Zabalaoui</td><td style=\"text-align:left;white-space:pre\">NULL</td><td style=\"text-align:left;white-space:pre\">NULL</td><td style=\"text-align:left;white-space:pre\">New Orleans</td><td style=\"text-align:left;white-space:pre\">LA</td><td style=\"text-align:left;white-space:pre\">70130</td><td style=\"text-align:left;white-space:pre\">us</td><td style=\"text-align:left;white-space:pre\">2013-10-16</td><td style=\"text-align:left;white-space:pre\">basic</td><td style=\"text-align:left;white-space:pre\">NULL</td><td style=\"text-align:left;white-space:pre\">0</td><td style=\"text-align:left;white-space:pre\">0</td><td style=\"text-align:left;white-space:pre\">NULL</td><td style=\"text-align:left;white-space:pre\">Street Noticer</td></tr></table></body></html>"
      ]
     },
     "metadata": {},
     "output_type": "display_data"
    }
   ],
   "source": [
    "select * from humans;"
   ]
  },
  {
   "cell_type": "code",
   "execution_count": 49,
   "id": "racial-house",
   "metadata": {},
   "outputs": [
    {
     "data": {
      "text/html": [
       "Query OK"
      ]
     },
     "metadata": {},
     "output_type": "display_data"
    }
   ],
   "source": [
    "INSERT INTO prize_winners\n",
    "(human_id)\n",
    "SELECT human_id\n",
    "FROM humans\n",
    "WHERE better_birders_site = 1;"
   ]
  },
  {
   "cell_type": "code",
   "execution_count": 50,
   "id": "dense-architecture",
   "metadata": {},
   "outputs": [
    {
     "name": "stderr",
     "output_type": "stream",
     "text": [
      "Duplicate column name 'possible_duplicate'\r\n",
      "\u0007\u001b(B\u001b[0;7m\u001b(B\u001b[m\n"
     ]
    }
   ],
   "source": [
    "ALTER TABLE humans\n",
    "ADD COLUMN possible_duplicate TINYINT DEFAULT 0;\n",
    "CREATE TEMPORARY TABLE possible_duplicates\n",
    "(name_1 varchar(25), name_2 varchar(25));"
   ]
  },
  {
   "cell_type": "code",
   "execution_count": 51,
   "id": "impressive-pursuit",
   "metadata": {},
   "outputs": [
    {
     "data": {
      "text/html": [
       "Query OK"
      ]
     },
     "metadata": {},
     "output_type": "display_data"
    }
   ],
   "source": [
    "INSERT INTO possible_duplicates\n",
    "SELECT name_first, name_last\n",
    "FROM\n",
    "(SELECT name_first, name_last, COUNT(*) AS nbr_entries\n",
    "FROM humans\n",
    "GROUP BY name_first, name_last) AS derived_table\n",
    "WHERE nbr_entries > 1;"
   ]
  },
  {
   "cell_type": "code",
   "execution_count": 53,
   "id": "ruled-composer",
   "metadata": {},
   "outputs": [
    {
     "data": {
      "text/html": [
       "Query OK"
      ]
     },
     "metadata": {},
     "output_type": "display_data"
    }
   ],
   "source": [
    "UPDATE humans, possible_duplicates\n",
    "SET possible_duplicate = 1\n",
    "WHERE name_first = name_1\n",
    "AND name_last = name_2;"
   ]
  },
  {
   "cell_type": "code",
   "execution_count": 54,
   "id": "oriented-martin",
   "metadata": {},
   "outputs": [
    {
     "data": {
      "text/html": [
       "Query OK"
      ]
     },
     "metadata": {},
     "output_type": "display_data"
    }
   ],
   "source": [
    "DELETE FROM humans\n",
    "WHERE name_first = 'Elena'\n",
    "AND name_last = 'Bokova'\n",
    "AND email_address LIKE '%yahoo.com';"
   ]
  },
  {
   "cell_type": "code",
   "execution_count": 56,
   "id": "sophisticated-glass",
   "metadata": {},
   "outputs": [
    {
     "data": {
      "text/html": [
       "Query OK"
      ]
     },
     "metadata": {},
     "output_type": "display_data"
    }
   ],
   "source": [
    "DELETE FROM humans, prize_winners\n",
    "USING humans JOIN prize_winners\n",
    "WHERE name_first = 'Elena'\n",
    "AND name_last = 'Bokova'\n",
    "AND email_address LIKE '%yahoo.com'\n",
    "AND humans.human_id = prize_winners.human_id;"
   ]
  },
  {
   "cell_type": "code",
   "execution_count": null,
   "id": "official-embassy",
   "metadata": {},
   "outputs": [],
   "source": []
  }
 ],
 "metadata": {
  "kernelspec": {
   "display_name": "MariaDB",
   "language": "SQL",
   "name": "mariadb_kernel"
  },
  "language_info": {
   "file_extension": ".sql",
   "mimetype": "text/plain",
   "name": "SQL"
  }
 },
 "nbformat": 4,
 "nbformat_minor": 5
}
