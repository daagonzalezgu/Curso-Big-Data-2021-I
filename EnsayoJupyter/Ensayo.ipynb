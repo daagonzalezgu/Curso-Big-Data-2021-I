{
 "cells": [
  {
   "cell_type": "markdown",
   "id": "traditional-genius",
   "metadata": {},
   "source": [
    "## Una mirada al concepto de Regresión lineal"
   ]
  },
  {
   "cell_type": "markdown",
   "id": "inappropriate-fusion",
   "metadata": {},
   "source": [
    "# Introducción"
   ]
  },
  {
   "cell_type": "markdown",
   "id": "generous-thumbnail",
   "metadata": {},
   "source": [
    "En el análisis y modelamiento de datos es importante el uso de diferentes herramientas matemáticas, esto con el fin de describir el comportamiento de los mismos. Con esto en mente, uno de los métodos más populares en medio de la estadística y de la ciencia de datos es la [*regresión lineal*](https://es.wikipedia.org/wiki/Regresi%C3%B3n_lineal)"
   ]
  },
  {
   "cell_type": "markdown",
   "id": "quality-banana",
   "metadata": {},
   "source": [
    "En medio de  los diferentes usos, podemos encontrar metodos de clasificación "
   ]
  },
  {
   "cell_type": "markdown",
   "id": "statutory-version",
   "metadata": {},
   "source": [
    "[Explicación](https://www.youtube.com/watch?v=SsFBnvkoZa4&ab_channel=EstimadosEstadisticos)\n",
    "[Gradiente Descendiente](https://www.iartificial.net/gradiente-descendiente-para-aprendizaje-automatico/)\n"
   ]
  },
  {
   "cell_type": "code",
   "execution_count": 1,
   "id": "mobile-train",
   "metadata": {},
   "outputs": [],
   "source": [
    "import numpy as np"
   ]
  },
  {
   "cell_type": "code",
   "execution_count": null,
   "id": "assumed-staff",
   "metadata": {},
   "outputs": [],
   "source": []
  },
  {
   "cell_type": "markdown",
   "id": "thorough-plane",
   "metadata": {},
   "source": [
    "# Antecedentes históricos"
   ]
  },
  {
   "cell_type": "code",
   "execution_count": null,
   "id": "geographic-signal",
   "metadata": {},
   "outputs": [],
   "source": []
  },
  {
   "cell_type": "markdown",
   "id": "enclosed-religion",
   "metadata": {},
   "source": [
    "# Presentación del algoritmo"
   ]
  },
  {
   "cell_type": "code",
   "execution_count": null,
   "id": "proper-medicare",
   "metadata": {},
   "outputs": [],
   "source": []
  },
  {
   "cell_type": "markdown",
   "id": "reserved-burner",
   "metadata": {},
   "source": [
    "Si bien es cierto que hay cursos universitarios completos de regresión lineal, lo que vamos a abordar constituye las bases para modelos más elaborados. Si el lector se quiere familiarizar más con ello, puede ver los [usos de la regresión en el aprendizaje profundo](https://www.youtube.com/watch?v=E5RjzSK0fvY&ab_channel=edureka%21) y también [lecciones sobre el formalismo matemático mas detallado](https://www.youtube.com/watch?v=4b4MUYve_U8&ab_channel=stanfordonline)"
   ]
  },
  {
   "cell_type": "markdown",
   "id": "roman-hollywood",
   "metadata": {},
   "source": [
    "# Ejercicio de aplicación"
   ]
  },
  {
   "cell_type": "code",
   "execution_count": null,
   "id": "ranging-victoria",
   "metadata": {},
   "outputs": [],
   "source": []
  },
  {
   "cell_type": "markdown",
   "id": "bound-analysis",
   "metadata": {},
   "source": [
    "# Conclusiones"
   ]
  },
  {
   "cell_type": "code",
   "execution_count": null,
   "id": "precious-mercury",
   "metadata": {},
   "outputs": [],
   "source": []
  },
  {
   "cell_type": "markdown",
   "id": "linear-windsor",
   "metadata": {},
   "source": [
    "# Referencias "
   ]
  },
  {
   "cell_type": "markdown",
   "id": "isolated-concentration",
   "metadata": {},
   "source": []
  }
 ],
 "metadata": {
  "kernelspec": {
   "display_name": "Python 3",
   "language": "python",
   "name": "python3"
  },
  "language_info": {
   "codemirror_mode": {
    "name": "ipython",
    "version": 3
   },
   "file_extension": ".py",
   "mimetype": "text/x-python",
   "name": "python",
   "nbconvert_exporter": "python",
   "pygments_lexer": "ipython3",
   "version": "3.7.10"
  }
 },
 "nbformat": 4,
 "nbformat_minor": 5
}
