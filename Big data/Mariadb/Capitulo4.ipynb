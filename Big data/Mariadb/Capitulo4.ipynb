{
 "cells": [
  {
   "cell_type": "markdown",
   "id": "crucial-leonard",
   "metadata": {},
   "source": [
    "# Creando bases de datos y tablas"
   ]
  },
  {
   "cell_type": "code",
   "execution_count": 1,
   "id": "ordered-underground",
   "metadata": {},
   "outputs": [
    {
     "data": {
      "text/html": [
       "Query OK"
      ]
     },
     "metadata": {},
     "output_type": "display_data"
    }
   ],
   "source": [
    "CREATE DATABASE rookery; "
   ]
  },
  {
   "cell_type": "code",
   "execution_count": 2,
   "id": "blocked-hypothesis",
   "metadata": {},
   "outputs": [
    {
     "data": {
      "text/html": [
       "<html><body><table border=\"1\"><tr><th style=\"text-align:left;white-space:pre\">Database</th></tr><tr><td style=\"text-align:left;white-space:pre\">information_schema</td></tr><tr><td style=\"text-align:left;white-space:pre\">mysql</td></tr><tr><td style=\"text-align:left;white-space:pre\">performance_schema</td></tr><tr><td style=\"text-align:left;white-space:pre\">rookery</td></tr><tr><td style=\"text-align:left;white-space:pre\">test</td></tr></table></body></html>"
      ]
     },
     "metadata": {},
     "output_type": "display_data"
    }
   ],
   "source": [
    "SHOW DATABASES; "
   ]
  },
  {
   "cell_type": "code",
   "execution_count": 3,
   "id": "logical-elizabeth",
   "metadata": {},
   "outputs": [
    {
     "data": {
      "text/html": [
       "Query OK"
      ]
     },
     "metadata": {},
     "output_type": "display_data"
    }
   ],
   "source": [
    "DROP DATABASE rookery; \n",
    "CREATE DATABASE rookery\n",
    "CHARACTER SET latin1\n",
    "COLLATE latin1_bin;"
   ]
  },
  {
   "cell_type": "code",
   "execution_count": 4,
   "id": "diagnostic-trade",
   "metadata": {},
   "outputs": [
    {
     "data": {
      "text/html": [
       "<html><body><table border=\"1\"><tr><th style=\"text-align:left;white-space:pre\">Database</th></tr><tr><td style=\"text-align:left;white-space:pre\">information_schema</td></tr><tr><td style=\"text-align:left;white-space:pre\">mysql</td></tr><tr><td style=\"text-align:left;white-space:pre\">performance_schema</td></tr><tr><td style=\"text-align:left;white-space:pre\">rookery</td></tr><tr><td style=\"text-align:left;white-space:pre\">test</td></tr></table></body></html>"
      ]
     },
     "metadata": {},
     "output_type": "display_data"
    }
   ],
   "source": [
    "SHOW DATABASES; "
   ]
  },
  {
   "cell_type": "code",
   "execution_count": 6,
   "id": "authorized-spencer",
   "metadata": {},
   "outputs": [
    {
     "data": {
      "text/html": [
       "Query OK"
      ]
     },
     "metadata": {},
     "output_type": "display_data"
    }
   ],
   "source": [
    "USE rookery;"
   ]
  },
  {
   "cell_type": "code",
   "execution_count": 7,
   "id": "precious-minneapolis",
   "metadata": {},
   "outputs": [
    {
     "data": {
      "text/html": [
       "Query OK"
      ]
     },
     "metadata": {},
     "output_type": "display_data"
    }
   ],
   "source": [
    "CREATE TABLE birds (\n",
    "bird_id INT AUTO_INCREMENT PRIMARY KEY,\n",
    "scientific_name VARCHAR(255) UNIQUE,\n",
    "common_name VARCHAR(50),\n",
    "family_id INT,\n",
    "description TEXT\n",
    ");"
   ]
  },
  {
   "cell_type": "code",
   "execution_count": 8,
   "id": "northern-specification",
   "metadata": {},
   "outputs": [
    {
     "data": {
      "text/html": [
       "<html><body><table border=\"1\"><tr><th style=\"text-align:left;white-space:pre\">Field</th><th style=\"text-align:left;white-space:pre\">Type</th><th style=\"text-align:left;white-space:pre\">Null</th><th style=\"text-align:left;white-space:pre\">Key</th><th style=\"text-align:left;white-space:pre\">Default</th><th style=\"text-align:left;white-space:pre\">Extra</th></tr><tr><td style=\"text-align:left;white-space:pre\">bird_id</td><td style=\"text-align:left;white-space:pre\">int(11)</td><td style=\"text-align:left;white-space:pre\">NO</td><td style=\"text-align:left;white-space:pre\">PRI</td><td style=\"text-align:left;white-space:pre\">NULL</td><td style=\"text-align:left;white-space:pre\">auto_increment</td></tr><tr><td style=\"text-align:left;white-space:pre\">scientific_name</td><td style=\"text-align:left;white-space:pre\">varchar(255)</td><td style=\"text-align:left;white-space:pre\">YES</td><td style=\"text-align:left;white-space:pre\">UNI</td><td style=\"text-align:left;white-space:pre\">NULL</td><td style=\"text-align:left;white-space:pre\"></td></tr><tr><td style=\"text-align:left;white-space:pre\">common_name</td><td style=\"text-align:left;white-space:pre\">varchar(50)</td><td style=\"text-align:left;white-space:pre\">YES</td><td style=\"text-align:left;white-space:pre\"></td><td style=\"text-align:left;white-space:pre\">NULL</td><td style=\"text-align:left;white-space:pre\"></td></tr><tr><td style=\"text-align:left;white-space:pre\">family_id</td><td style=\"text-align:left;white-space:pre\">int(11)</td><td style=\"text-align:left;white-space:pre\">YES</td><td style=\"text-align:left;white-space:pre\"></td><td style=\"text-align:left;white-space:pre\">NULL</td><td style=\"text-align:left;white-space:pre\"></td></tr><tr><td style=\"text-align:left;white-space:pre\">description</td><td style=\"text-align:left;white-space:pre\">text</td><td style=\"text-align:left;white-space:pre\">YES</td><td style=\"text-align:left;white-space:pre\"></td><td style=\"text-align:left;white-space:pre\">NULL</td><td style=\"text-align:left;white-space:pre\"></td></tr></table></body></html>"
      ]
     },
     "metadata": {},
     "output_type": "display_data"
    }
   ],
   "source": [
    "DESCRIBE birds;"
   ]
  },
  {
   "cell_type": "code",
   "execution_count": 9,
   "id": "checked-billion",
   "metadata": {},
   "outputs": [
    {
     "data": {
      "text/html": [
       "Query OK"
      ]
     },
     "metadata": {},
     "output_type": "display_data"
    }
   ],
   "source": [
    "INSERT INTO birds (scientific_name, common_name)\n",
    "VALUES ('Charadrius vociferus', 'Killdeer'),\n",
    "('Gavia immer', 'Great Northern Loon'),\n",
    "('Aix sponsa', 'Wood Duck'),\n",
    "('Chordeiles minor', 'Common Nighthawk'),\n",
    "('Sitta carolinensis', ' White-breasted Nuthatch'),\n",
    "('Apteryx mantelli', 'North Island Brown Kiwi');"
   ]
  },
  {
   "cell_type": "code",
   "execution_count": 10,
   "id": "macro-rabbit",
   "metadata": {},
   "outputs": [
    {
     "data": {
      "text/html": [
       "<html><body><table border=\"1\"><tr><th style=\"text-align:left;white-space:pre\">bird_id</th><th style=\"text-align:left;white-space:pre\">scientific_name</th><th style=\"text-align:left;white-space:pre\">common_name</th><th style=\"text-align:left;white-space:pre\">family_id</th><th style=\"text-align:left;white-space:pre\">description</th></tr><tr><td style=\"text-align:left;white-space:pre\">1</td><td style=\"text-align:left;white-space:pre\">Charadrius vociferus</td><td style=\"text-align:left;white-space:pre\">Killdeer</td><td style=\"text-align:left;white-space:pre\">NULL</td><td style=\"text-align:left;white-space:pre\">NULL</td></tr><tr><td style=\"text-align:left;white-space:pre\">2</td><td style=\"text-align:left;white-space:pre\">Gavia immer</td><td style=\"text-align:left;white-space:pre\">Great Northern Loon</td><td style=\"text-align:left;white-space:pre\">NULL</td><td style=\"text-align:left;white-space:pre\">NULL</td></tr><tr><td style=\"text-align:left;white-space:pre\">3</td><td style=\"text-align:left;white-space:pre\">Aix sponsa</td><td style=\"text-align:left;white-space:pre\">Wood Duck</td><td style=\"text-align:left;white-space:pre\">NULL</td><td style=\"text-align:left;white-space:pre\">NULL</td></tr><tr><td style=\"text-align:left;white-space:pre\">4</td><td style=\"text-align:left;white-space:pre\">Chordeiles minor</td><td style=\"text-align:left;white-space:pre\">Common Nighthawk</td><td style=\"text-align:left;white-space:pre\">NULL</td><td style=\"text-align:left;white-space:pre\">NULL</td></tr><tr><td style=\"text-align:left;white-space:pre\">5</td><td style=\"text-align:left;white-space:pre\">Sitta carolinensis</td><td style=\"text-align:left;white-space:pre\"> White-breasted Nuthatch</td><td style=\"text-align:left;white-space:pre\">NULL</td><td style=\"text-align:left;white-space:pre\">NULL</td></tr><tr><td style=\"text-align:left;white-space:pre\">6</td><td style=\"text-align:left;white-space:pre\">Apteryx mantelli</td><td style=\"text-align:left;white-space:pre\">North Island Brown Kiwi</td><td style=\"text-align:left;white-space:pre\">NULL</td><td style=\"text-align:left;white-space:pre\">NULL</td></tr></table></body></html>"
      ]
     },
     "metadata": {},
     "output_type": "display_data"
    }
   ],
   "source": [
    "SELECT * FROM birds; "
   ]
  },
  {
   "cell_type": "code",
   "execution_count": 11,
   "id": "economic-ministry",
   "metadata": {},
   "outputs": [
    {
     "data": {
      "text/html": [
       "Query OK"
      ]
     },
     "metadata": {},
     "output_type": "display_data"
    }
   ],
   "source": [
    "CREATE DATABASE birdwatchers;\n",
    "\n",
    "CREATE TABLE birdwatchers.humans(\n",
    "human_id INT AUTO_INCREMENT PRIMARY KEY,\n",
    "formal_title VARCHAR(25),\n",
    "name_first VARCHAR(25),\n",
    "name_last VARCHAR(25),\n",
    "email_address VARCHAR(255)\n",
    ");"
   ]
  },
  {
   "cell_type": "code",
   "execution_count": 13,
   "id": "historical-arizona",
   "metadata": {},
   "outputs": [
    {
     "data": {
      "text/html": [
       "Query OK"
      ]
     },
     "metadata": {},
     "output_type": "display_data"
    }
   ],
   "source": [
    "INSERT INTO birdwatchers.humans\n",
    "(formal_title, name_first, name_last, email_address)\n",
    "VALUES\n",
    "('Mr.', 'Russell', 'Dyer', 'russell@mysqlresources.com'),\n",
    "('Mr.', 'Richard', 'Stringer', 'richard@mysqlresources.com'),\n",
    "('Ms.', 'Rusty', 'Osborne', 'rusty@mysqlresources.com'),\n",
    "('Ms.', 'Lexi', 'Hollar', 'alexandra@mysqlresources.com');"
   ]
  },
  {
   "cell_type": "code",
   "execution_count": 15,
   "id": "different-liver",
   "metadata": {},
   "outputs": [
    {
     "data": {
      "text/html": [
       "<html><body><table border=\"1\"><tr><th style=\"text-align:left;white-space:pre\">human_id</th><th style=\"text-align:left;white-space:pre\">formal_title</th><th style=\"text-align:left;white-space:pre\">name_first</th><th style=\"text-align:left;white-space:pre\">name_last</th><th style=\"text-align:left;white-space:pre\">email_address</th></tr><tr><td style=\"text-align:left;white-space:pre\">1</td><td style=\"text-align:left;white-space:pre\">Mr.</td><td style=\"text-align:left;white-space:pre\">Russell</td><td style=\"text-align:left;white-space:pre\">Dyer</td><td style=\"text-align:left;white-space:pre\">russell@mysqlresources.com</td></tr><tr><td style=\"text-align:left;white-space:pre\">2</td><td style=\"text-align:left;white-space:pre\">Mr.</td><td style=\"text-align:left;white-space:pre\">Richard</td><td style=\"text-align:left;white-space:pre\">Stringer</td><td style=\"text-align:left;white-space:pre\">richard@mysqlresources.com</td></tr><tr><td style=\"text-align:left;white-space:pre\">3</td><td style=\"text-align:left;white-space:pre\">Ms.</td><td style=\"text-align:left;white-space:pre\">Rusty</td><td style=\"text-align:left;white-space:pre\">Osborne</td><td style=\"text-align:left;white-space:pre\">rusty@mysqlresources.com</td></tr><tr><td style=\"text-align:left;white-space:pre\">4</td><td style=\"text-align:left;white-space:pre\">Ms.</td><td style=\"text-align:left;white-space:pre\">Lexi</td><td style=\"text-align:left;white-space:pre\">Hollar</td><td style=\"text-align:left;white-space:pre\">alexandra@mysqlresources.com</td></tr></table></body></html>"
      ]
     },
     "metadata": {},
     "output_type": "display_data"
    }
   ],
   "source": [
    "SELECT * FROM birdwatchers.humans;"
   ]
  },
  {
   "cell_type": "code",
   "execution_count": 16,
   "id": "critical-bandwidth",
   "metadata": {},
   "outputs": [
    {
     "data": {
      "text/html": [
       "Query OK"
      ]
     },
     "metadata": {},
     "output_type": "display_data"
    }
   ],
   "source": [
    "USE birdwatchers;"
   ]
  },
  {
   "cell_type": "code",
   "execution_count": 17,
   "id": "stuck-extraction",
   "metadata": {},
   "outputs": [
    {
     "data": {
      "text/html": [
       "<html><body><table border=\"1\"><tr><th style=\"text-align:left;white-space:pre\">human_id</th><th style=\"text-align:left;white-space:pre\">formal_title</th><th style=\"text-align:left;white-space:pre\">name_first</th><th style=\"text-align:left;white-space:pre\">name_last</th><th style=\"text-align:left;white-space:pre\">email_address</th></tr><tr><td style=\"text-align:left;white-space:pre\">1</td><td style=\"text-align:left;white-space:pre\">Mr.</td><td style=\"text-align:left;white-space:pre\">Russell</td><td style=\"text-align:left;white-space:pre\">Dyer</td><td style=\"text-align:left;white-space:pre\">russell@mysqlresources.com</td></tr><tr><td style=\"text-align:left;white-space:pre\">2</td><td style=\"text-align:left;white-space:pre\">Mr.</td><td style=\"text-align:left;white-space:pre\">Richard</td><td style=\"text-align:left;white-space:pre\">Stringer</td><td style=\"text-align:left;white-space:pre\">richard@mysqlresources.com</td></tr><tr><td style=\"text-align:left;white-space:pre\">3</td><td style=\"text-align:left;white-space:pre\">Ms.</td><td style=\"text-align:left;white-space:pre\">Rusty</td><td style=\"text-align:left;white-space:pre\">Osborne</td><td style=\"text-align:left;white-space:pre\">rusty@mysqlresources.com</td></tr><tr><td style=\"text-align:left;white-space:pre\">4</td><td style=\"text-align:left;white-space:pre\">Ms.</td><td style=\"text-align:left;white-space:pre\">Lexi</td><td style=\"text-align:left;white-space:pre\">Hollar</td><td style=\"text-align:left;white-space:pre\">alexandra@mysqlresources.com</td></tr></table></body></html>"
      ]
     },
     "metadata": {},
     "output_type": "display_data"
    }
   ],
   "source": [
    "SELECT * FROM humans;"
   ]
  },
  {
   "cell_type": "code",
   "execution_count": 19,
   "id": "heard-analysis",
   "metadata": {},
   "outputs": [
    {
     "data": {
      "text/html": [
       "<html><body><table border=\"1\"><tr><th style=\"text-align:left;white-space:pre\">Table</th><th style=\"text-align:left;white-space:pre\">Create Table</th></tr><tr><td style=\"text-align:left;white-space:pre\">birds</td><td style=\"text-align:left;white-space:pre\">CREATE TABLE `birds` (\r\n",
       "  `bird_id` int(11) NOT NULL AUTO_INCREMENT,\r\n",
       "  `scientific_name` varchar(255) COLLATE latin1_bin DEFAULT NULL,\r\n",
       "  `common_name` varchar(50) COLLATE latin1_bin DEFAULT NULL,\r\n",
       "  `family_id` int(11) DEFAULT NULL,\r\n",
       "  `description` text COLLATE latin1_bin DEFAULT NULL,\r\n",
       "  PRIMARY KEY (`bird_id`),\r\n",
       "  UNIQUE KEY `scientific_name` (`scientific_name`)\r\n",
       ") ENGINE=InnoDB AUTO_INCREMENT=7 DEFAULT CHARSET=latin1 COLLATE=latin1_bin</td></tr></table></body></html>"
      ]
     },
     "metadata": {},
     "output_type": "display_data"
    }
   ],
   "source": [
    "USE rookery;\n",
    "SHOW CREATE TABLE birds;"
   ]
  },
  {
   "cell_type": "code",
   "execution_count": 20,
   "id": "narrative-amount",
   "metadata": {},
   "outputs": [
    {
     "data": {
      "text/html": [
       "<html><body><table border=\"1\"><tr><th style=\"text-align:left;white-space:pre\">bird_id</th><th style=\"text-align:left;white-space:pre\">scientific_name</th><th style=\"text-align:left;white-space:pre\">common_name</th><th style=\"text-align:left;white-space:pre\">family_id</th><th style=\"text-align:left;white-space:pre\">description</th></tr><tr><td style=\"text-align:left;white-space:pre\">1</td><td style=\"text-align:left;white-space:pre\">Charadrius vociferus</td><td style=\"text-align:left;white-space:pre\">Killdeer</td><td style=\"text-align:left;white-space:pre\">NULL</td><td style=\"text-align:left;white-space:pre\">NULL</td></tr><tr><td style=\"text-align:left;white-space:pre\">2</td><td style=\"text-align:left;white-space:pre\">Gavia immer</td><td style=\"text-align:left;white-space:pre\">Great Northern Loon</td><td style=\"text-align:left;white-space:pre\">NULL</td><td style=\"text-align:left;white-space:pre\">NULL</td></tr><tr><td style=\"text-align:left;white-space:pre\">3</td><td style=\"text-align:left;white-space:pre\">Aix sponsa</td><td style=\"text-align:left;white-space:pre\">Wood Duck</td><td style=\"text-align:left;white-space:pre\">NULL</td><td style=\"text-align:left;white-space:pre\">NULL</td></tr><tr><td style=\"text-align:left;white-space:pre\">4</td><td style=\"text-align:left;white-space:pre\">Chordeiles minor</td><td style=\"text-align:left;white-space:pre\">Common Nighthawk</td><td style=\"text-align:left;white-space:pre\">NULL</td><td style=\"text-align:left;white-space:pre\">NULL</td></tr><tr><td style=\"text-align:left;white-space:pre\">5</td><td style=\"text-align:left;white-space:pre\">Sitta carolinensis</td><td style=\"text-align:left;white-space:pre\"> White-breasted Nuthatch</td><td style=\"text-align:left;white-space:pre\">NULL</td><td style=\"text-align:left;white-space:pre\">NULL</td></tr><tr><td style=\"text-align:left;white-space:pre\">6</td><td style=\"text-align:left;white-space:pre\">Apteryx mantelli</td><td style=\"text-align:left;white-space:pre\">North Island Brown Kiwi</td><td style=\"text-align:left;white-space:pre\">NULL</td><td style=\"text-align:left;white-space:pre\">NULL</td></tr></table></body></html>"
      ]
     },
     "metadata": {},
     "output_type": "display_data"
    }
   ],
   "source": [
    "SELECT * FROM birds;"
   ]
  },
  {
   "cell_type": "code",
   "execution_count": 21,
   "id": "satellite-mining",
   "metadata": {},
   "outputs": [
    {
     "data": {
      "text/html": [
       "Query OK"
      ]
     },
     "metadata": {},
     "output_type": "display_data"
    }
   ],
   "source": [
    "CREATE TABLE bird_families (\n",
    "family_id INT AUTO_INCREMENT PRIMARY KEY,\n",
    "scientific_name VARCHAR(255) UNIQUE,\n",
    "brief_description VARCHAR(255)\n",
    ");"
   ]
  },
  {
   "cell_type": "code",
   "execution_count": 22,
   "id": "modular-three",
   "metadata": {},
   "outputs": [
    {
     "data": {
      "text/html": [
       "<html><body><table border=\"1\"><tr><th style=\"text-align:left;white-space:pre\">Field</th><th style=\"text-align:left;white-space:pre\">Type</th><th style=\"text-align:left;white-space:pre\">Null</th><th style=\"text-align:left;white-space:pre\">Key</th><th style=\"text-align:left;white-space:pre\">Default</th><th style=\"text-align:left;white-space:pre\">Extra</th></tr><tr><td style=\"text-align:left;white-space:pre\">family_id</td><td style=\"text-align:left;white-space:pre\">int(11)</td><td style=\"text-align:left;white-space:pre\">NO</td><td style=\"text-align:left;white-space:pre\">PRI</td><td style=\"text-align:left;white-space:pre\">NULL</td><td style=\"text-align:left;white-space:pre\">auto_increment</td></tr><tr><td style=\"text-align:left;white-space:pre\">scientific_name</td><td style=\"text-align:left;white-space:pre\">varchar(255)</td><td style=\"text-align:left;white-space:pre\">YES</td><td style=\"text-align:left;white-space:pre\">UNI</td><td style=\"text-align:left;white-space:pre\">NULL</td><td style=\"text-align:left;white-space:pre\"></td></tr><tr><td style=\"text-align:left;white-space:pre\">brief_description</td><td style=\"text-align:left;white-space:pre\">varchar(255)</td><td style=\"text-align:left;white-space:pre\">YES</td><td style=\"text-align:left;white-space:pre\"></td><td style=\"text-align:left;white-space:pre\">NULL</td><td style=\"text-align:left;white-space:pre\"></td></tr></table></body></html>"
      ]
     },
     "metadata": {},
     "output_type": "display_data"
    }
   ],
   "source": [
    "DESCRIBE bird_families;"
   ]
  },
  {
   "cell_type": "code",
   "execution_count": 23,
   "id": "every-combining",
   "metadata": {},
   "outputs": [
    {
     "data": {
      "text/html": [
       "Query OK"
      ]
     },
     "metadata": {},
     "output_type": "display_data"
    }
   ],
   "source": [
    "CREATE TABLE bird_orders (\n",
    "order_id INT AUTO_INCREMENT PRIMARY KEY,\n",
    "scientific_name VARCHAR(255) UNIQUE,\n",
    "brief_description VARCHAR(255),\n",
    "order_image BLOB\n",
    ") DEFAULT CHARSET=utf8 COLLATE = utf8_general_ci;"
   ]
  },
  {
   "cell_type": "code",
   "execution_count": 25,
   "id": "removed-black",
   "metadata": {},
   "outputs": [
    {
     "data": {
      "text/html": [
       "<html><body><table border=\"1\"><tr><th style=\"text-align:left;white-space:pre\">Field</th><th style=\"text-align:left;white-space:pre\">Type</th><th style=\"text-align:left;white-space:pre\">Null</th><th style=\"text-align:left;white-space:pre\">Key</th><th style=\"text-align:left;white-space:pre\">Default</th><th style=\"text-align:left;white-space:pre\">Extra</th></tr><tr><td style=\"text-align:left;white-space:pre\">order_id</td><td style=\"text-align:left;white-space:pre\">int(11)</td><td style=\"text-align:left;white-space:pre\">NO</td><td style=\"text-align:left;white-space:pre\">PRI</td><td style=\"text-align:left;white-space:pre\">NULL</td><td style=\"text-align:left;white-space:pre\">auto_increment</td></tr><tr><td style=\"text-align:left;white-space:pre\">scientific_name</td><td style=\"text-align:left;white-space:pre\">varchar(255)</td><td style=\"text-align:left;white-space:pre\">YES</td><td style=\"text-align:left;white-space:pre\">UNI</td><td style=\"text-align:left;white-space:pre\">NULL</td><td style=\"text-align:left;white-space:pre\"></td></tr><tr><td style=\"text-align:left;white-space:pre\">brief_description</td><td style=\"text-align:left;white-space:pre\">varchar(255)</td><td style=\"text-align:left;white-space:pre\">YES</td><td style=\"text-align:left;white-space:pre\"></td><td style=\"text-align:left;white-space:pre\">NULL</td><td style=\"text-align:left;white-space:pre\"></td></tr><tr><td style=\"text-align:left;white-space:pre\">order_image</td><td style=\"text-align:left;white-space:pre\">blob</td><td style=\"text-align:left;white-space:pre\">YES</td><td style=\"text-align:left;white-space:pre\"></td><td style=\"text-align:left;white-space:pre\">NULL</td><td style=\"text-align:left;white-space:pre\"></td></tr></table></body></html>"
      ]
     },
     "metadata": {},
     "output_type": "display_data"
    }
   ],
   "source": [
    "DESCRIBE bird_orders;"
   ]
  },
  {
   "cell_type": "code",
   "execution_count": null,
   "id": "worthy-thursday",
   "metadata": {},
   "outputs": [],
   "source": []
  }
 ],
 "metadata": {
  "kernelspec": {
   "display_name": "MariaDB",
   "language": "SQL",
   "name": "mariadb_kernel"
  },
  "language_info": {
   "file_extension": ".sql",
   "mimetype": "text/plain",
   "name": "SQL"
  }
 },
 "nbformat": 4,
 "nbformat_minor": 5
}
