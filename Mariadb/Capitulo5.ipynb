{
 "cells": [
  {
   "cell_type": "markdown",
   "id": "bizarre-islam",
   "metadata": {},
   "source": [
    "# Altering Tables"
   ]
  },
  {
   "cell_type": "code",
   "execution_count": 1,
   "id": "communist-conjunction",
   "metadata": {},
   "outputs": [
    {
     "data": {
      "text/html": [
       "Query OK"
      ]
     },
     "metadata": {},
     "output_type": "display_data"
    }
   ],
   "source": [
    "use rookery;"
   ]
  },
  {
   "cell_type": "code",
   "execution_count": 3,
   "id": "animated-typing",
   "metadata": {},
   "outputs": [
    {
     "data": {
      "text/html": [
       "<html><body><table border=\"1\"><tr><th style=\"text-align:left;white-space:pre\">Field</th><th style=\"text-align:left;white-space:pre\">Type</th><th style=\"text-align:left;white-space:pre\">Null</th><th style=\"text-align:left;white-space:pre\">Key</th><th style=\"text-align:left;white-space:pre\">Default</th><th style=\"text-align:left;white-space:pre\">Extra</th></tr><tr><td style=\"text-align:left;white-space:pre\">family_id</td><td style=\"text-align:left;white-space:pre\">int(11)</td><td style=\"text-align:left;white-space:pre\">NO</td><td style=\"text-align:left;white-space:pre\">PRI</td><td style=\"text-align:left;white-space:pre\">NULL</td><td style=\"text-align:left;white-space:pre\">auto_increment</td></tr><tr><td style=\"text-align:left;white-space:pre\">scientific_name</td><td style=\"text-align:left;white-space:pre\">varchar(255)</td><td style=\"text-align:left;white-space:pre\">YES</td><td style=\"text-align:left;white-space:pre\">UNI</td><td style=\"text-align:left;white-space:pre\">NULL</td><td style=\"text-align:left;white-space:pre\"></td></tr><tr><td style=\"text-align:left;white-space:pre\">brief_description</td><td style=\"text-align:left;white-space:pre\">varchar(255)</td><td style=\"text-align:left;white-space:pre\">YES</td><td style=\"text-align:left;white-space:pre\"></td><td style=\"text-align:left;white-space:pre\">NULL</td><td style=\"text-align:left;white-space:pre\"></td></tr></table></body></html>"
      ]
     },
     "metadata": {},
     "output_type": "display_data"
    }
   ],
   "source": [
    "DESCRIBE bird_families;"
   ]
  },
  {
   "cell_type": "code",
   "execution_count": 4,
   "id": "essential-watch",
   "metadata": {},
   "outputs": [
    {
     "data": {
      "text/html": [
       "Query OK"
      ]
     },
     "metadata": {},
     "output_type": "display_data"
    }
   ],
   "source": [
    "ALTER TABLE bird_families\n",
    "ADD COLUMN order_id INT;"
   ]
  },
  {
   "cell_type": "code",
   "execution_count": 5,
   "id": "specific-sydney",
   "metadata": {},
   "outputs": [
    {
     "data": {
      "text/html": [
       "<html><body><table border=\"1\"><tr><th style=\"text-align:left;white-space:pre\">Field</th><th style=\"text-align:left;white-space:pre\">Type</th><th style=\"text-align:left;white-space:pre\">Null</th><th style=\"text-align:left;white-space:pre\">Key</th><th style=\"text-align:left;white-space:pre\">Default</th><th style=\"text-align:left;white-space:pre\">Extra</th></tr><tr><td style=\"text-align:left;white-space:pre\">family_id</td><td style=\"text-align:left;white-space:pre\">int(11)</td><td style=\"text-align:left;white-space:pre\">NO</td><td style=\"text-align:left;white-space:pre\">PRI</td><td style=\"text-align:left;white-space:pre\">NULL</td><td style=\"text-align:left;white-space:pre\">auto_increment</td></tr><tr><td style=\"text-align:left;white-space:pre\">scientific_name</td><td style=\"text-align:left;white-space:pre\">varchar(255)</td><td style=\"text-align:left;white-space:pre\">YES</td><td style=\"text-align:left;white-space:pre\">UNI</td><td style=\"text-align:left;white-space:pre\">NULL</td><td style=\"text-align:left;white-space:pre\"></td></tr><tr><td style=\"text-align:left;white-space:pre\">brief_description</td><td style=\"text-align:left;white-space:pre\">varchar(255)</td><td style=\"text-align:left;white-space:pre\">YES</td><td style=\"text-align:left;white-space:pre\"></td><td style=\"text-align:left;white-space:pre\">NULL</td><td style=\"text-align:left;white-space:pre\"></td></tr><tr><td style=\"text-align:left;white-space:pre\">order_id</td><td style=\"text-align:left;white-space:pre\">int(11)</td><td style=\"text-align:left;white-space:pre\">YES</td><td style=\"text-align:left;white-space:pre\"></td><td style=\"text-align:left;white-space:pre\">NULL</td><td style=\"text-align:left;white-space:pre\"></td></tr></table></body></html>"
      ]
     },
     "metadata": {},
     "output_type": "display_data"
    }
   ],
   "source": [
    "DESCRIBE bird_families;"
   ]
  },
  {
   "cell_type": "markdown",
   "id": "olive-appearance",
   "metadata": {},
   "source": [
    "Crea una copia del formato la tabla en otra base de datos"
   ]
  },
  {
   "cell_type": "code",
   "execution_count": 6,
   "id": "historical-penguin",
   "metadata": {},
   "outputs": [
    {
     "data": {
      "text/html": [
       "Query OK"
      ]
     },
     "metadata": {},
     "output_type": "display_data"
    }
   ],
   "source": [
    "CREATE TABLE test.birds_new LIKE birds;"
   ]
  },
  {
   "cell_type": "code",
   "execution_count": 7,
   "id": "instant-diary",
   "metadata": {},
   "outputs": [
    {
     "data": {
      "text/html": [
       "<html><body><table border=\"1\"><tr><th style=\"text-align:left;white-space:pre\">Field</th><th style=\"text-align:left;white-space:pre\">Type</th><th style=\"text-align:left;white-space:pre\">Null</th><th style=\"text-align:left;white-space:pre\">Key</th><th style=\"text-align:left;white-space:pre\">Default</th><th style=\"text-align:left;white-space:pre\">Extra</th></tr><tr><td style=\"text-align:left;white-space:pre\">bird_id</td><td style=\"text-align:left;white-space:pre\">int(11)</td><td style=\"text-align:left;white-space:pre\">NO</td><td style=\"text-align:left;white-space:pre\">PRI</td><td style=\"text-align:left;white-space:pre\">NULL</td><td style=\"text-align:left;white-space:pre\">auto_increment</td></tr><tr><td style=\"text-align:left;white-space:pre\">scientific_name</td><td style=\"text-align:left;white-space:pre\">varchar(255)</td><td style=\"text-align:left;white-space:pre\">YES</td><td style=\"text-align:left;white-space:pre\">UNI</td><td style=\"text-align:left;white-space:pre\">NULL</td><td style=\"text-align:left;white-space:pre\"></td></tr><tr><td style=\"text-align:left;white-space:pre\">common_name</td><td style=\"text-align:left;white-space:pre\">varchar(50)</td><td style=\"text-align:left;white-space:pre\">YES</td><td style=\"text-align:left;white-space:pre\"></td><td style=\"text-align:left;white-space:pre\">NULL</td><td style=\"text-align:left;white-space:pre\"></td></tr><tr><td style=\"text-align:left;white-space:pre\">family_id</td><td style=\"text-align:left;white-space:pre\">int(11)</td><td style=\"text-align:left;white-space:pre\">YES</td><td style=\"text-align:left;white-space:pre\"></td><td style=\"text-align:left;white-space:pre\">NULL</td><td style=\"text-align:left;white-space:pre\"></td></tr><tr><td style=\"text-align:left;white-space:pre\">description</td><td style=\"text-align:left;white-space:pre\">text</td><td style=\"text-align:left;white-space:pre\">YES</td><td style=\"text-align:left;white-space:pre\"></td><td style=\"text-align:left;white-space:pre\">NULL</td><td style=\"text-align:left;white-space:pre\"></td></tr></table></body></html>"
      ]
     },
     "metadata": {},
     "output_type": "display_data"
    }
   ],
   "source": [
    "USE test\n",
    "DESCRIBE birds_new;"
   ]
  },
  {
   "cell_type": "markdown",
   "id": "scheduled-breakfast",
   "metadata": {},
   "source": [
    "Hasta ahora no hay datos. Ahora se copian los datos de la tabla"
   ]
  },
  {
   "cell_type": "code",
   "execution_count": 8,
   "id": "independent-leader",
   "metadata": {},
   "outputs": [
    {
     "data": {
      "text/html": [
       "Query OK"
      ]
     },
     "metadata": {},
     "output_type": "display_data"
    }
   ],
   "source": [
    "INSERT INTO birds_new\n",
    "SELECT * FROM rookery.birds;"
   ]
  },
  {
   "cell_type": "code",
   "execution_count": 9,
   "id": "sorted-worry",
   "metadata": {},
   "outputs": [
    {
     "data": {
      "text/html": [
       "<html><body><table border=\"1\"><tr><th style=\"text-align:left;white-space:pre\">bird_id</th><th style=\"text-align:left;white-space:pre\">scientific_name</th><th style=\"text-align:left;white-space:pre\">common_name</th><th style=\"text-align:left;white-space:pre\">family_id</th><th style=\"text-align:left;white-space:pre\">description</th></tr><tr><td style=\"text-align:left;white-space:pre\">1</td><td style=\"text-align:left;white-space:pre\">Charadrius vociferus</td><td style=\"text-align:left;white-space:pre\">Killdeer</td><td style=\"text-align:left;white-space:pre\">NULL</td><td style=\"text-align:left;white-space:pre\">NULL</td></tr><tr><td style=\"text-align:left;white-space:pre\">2</td><td style=\"text-align:left;white-space:pre\">Gavia immer</td><td style=\"text-align:left;white-space:pre\">Great Northern Loon</td><td style=\"text-align:left;white-space:pre\">NULL</td><td style=\"text-align:left;white-space:pre\">NULL</td></tr><tr><td style=\"text-align:left;white-space:pre\">3</td><td style=\"text-align:left;white-space:pre\">Aix sponsa</td><td style=\"text-align:left;white-space:pre\">Wood Duck</td><td style=\"text-align:left;white-space:pre\">NULL</td><td style=\"text-align:left;white-space:pre\">NULL</td></tr><tr><td style=\"text-align:left;white-space:pre\">4</td><td style=\"text-align:left;white-space:pre\">Chordeiles minor</td><td style=\"text-align:left;white-space:pre\">Common Nighthawk</td><td style=\"text-align:left;white-space:pre\">NULL</td><td style=\"text-align:left;white-space:pre\">NULL</td></tr><tr><td style=\"text-align:left;white-space:pre\">5</td><td style=\"text-align:left;white-space:pre\">Sitta carolinensis</td><td style=\"text-align:left;white-space:pre\"> White-breasted Nuthatch</td><td style=\"text-align:left;white-space:pre\">NULL</td><td style=\"text-align:left;white-space:pre\">NULL</td></tr><tr><td style=\"text-align:left;white-space:pre\">6</td><td style=\"text-align:left;white-space:pre\">Apteryx mantelli</td><td style=\"text-align:left;white-space:pre\">North Island Brown Kiwi</td><td style=\"text-align:left;white-space:pre\">NULL</td><td style=\"text-align:left;white-space:pre\">NULL</td></tr></table></body></html>"
      ]
     },
     "metadata": {},
     "output_type": "display_data"
    }
   ],
   "source": [
    "SELECT * FROM birds_new;"
   ]
  },
  {
   "cell_type": "code",
   "execution_count": 10,
   "id": "raising-peoples",
   "metadata": {},
   "outputs": [
    {
     "data": {
      "text/html": [
       "<html><body><table border=\"1\"><tr><th style=\"text-align:left;white-space:pre\">Field</th><th style=\"text-align:left;white-space:pre\">Type</th><th style=\"text-align:left;white-space:pre\">Null</th><th style=\"text-align:left;white-space:pre\">Key</th><th style=\"text-align:left;white-space:pre\">Default</th><th style=\"text-align:left;white-space:pre\">Extra</th></tr><tr><td style=\"text-align:left;white-space:pre\">bird_id</td><td style=\"text-align:left;white-space:pre\">int(11)</td><td style=\"text-align:left;white-space:pre\">NO</td><td style=\"text-align:left;white-space:pre\">PRI</td><td style=\"text-align:left;white-space:pre\">NULL</td><td style=\"text-align:left;white-space:pre\">auto_increment</td></tr><tr><td style=\"text-align:left;white-space:pre\">scientific_name</td><td style=\"text-align:left;white-space:pre\">varchar(255)</td><td style=\"text-align:left;white-space:pre\">YES</td><td style=\"text-align:left;white-space:pre\">UNI</td><td style=\"text-align:left;white-space:pre\">NULL</td><td style=\"text-align:left;white-space:pre\"></td></tr><tr><td style=\"text-align:left;white-space:pre\">common_name</td><td style=\"text-align:left;white-space:pre\">varchar(50)</td><td style=\"text-align:left;white-space:pre\">YES</td><td style=\"text-align:left;white-space:pre\"></td><td style=\"text-align:left;white-space:pre\">NULL</td><td style=\"text-align:left;white-space:pre\"></td></tr><tr><td style=\"text-align:left;white-space:pre\">family_id</td><td style=\"text-align:left;white-space:pre\">int(11)</td><td style=\"text-align:left;white-space:pre\">YES</td><td style=\"text-align:left;white-space:pre\"></td><td style=\"text-align:left;white-space:pre\">NULL</td><td style=\"text-align:left;white-space:pre\"></td></tr><tr><td style=\"text-align:left;white-space:pre\">description</td><td style=\"text-align:left;white-space:pre\">text</td><td style=\"text-align:left;white-space:pre\">YES</td><td style=\"text-align:left;white-space:pre\"></td><td style=\"text-align:left;white-space:pre\">NULL</td><td style=\"text-align:left;white-space:pre\"></td></tr></table></body></html>"
      ]
     },
     "metadata": {},
     "output_type": "display_data"
    }
   ],
   "source": [
    "DESCRIBE birds_new;"
   ]
  },
  {
   "cell_type": "markdown",
   "id": "royal-discipline",
   "metadata": {},
   "source": [
    "Otra forma de crear una copia de la tabla"
   ]
  },
  {
   "cell_type": "code",
   "execution_count": 11,
   "id": "marine-narrow",
   "metadata": {},
   "outputs": [
    {
     "data": {
      "text/html": [
       "Query OK"
      ]
     },
     "metadata": {},
     "output_type": "display_data"
    }
   ],
   "source": [
    "CREATE TABLE  birds_new_alternative\n",
    "SELECT * FROM rookery.birds;"
   ]
  },
  {
   "cell_type": "code",
   "execution_count": 12,
   "id": "adverse-accordance",
   "metadata": {},
   "outputs": [
    {
     "data": {
      "text/html": [
       "<html><body><table border=\"1\"><tr><th style=\"text-align:left;white-space:pre\">Field</th><th style=\"text-align:left;white-space:pre\">Type</th><th style=\"text-align:left;white-space:pre\">Null</th><th style=\"text-align:left;white-space:pre\">Key</th><th style=\"text-align:left;white-space:pre\">Default</th><th style=\"text-align:left;white-space:pre\">Extra</th></tr><tr><td style=\"text-align:left;white-space:pre\">bird_id</td><td style=\"text-align:left;white-space:pre\">int(11)</td><td style=\"text-align:left;white-space:pre\">NO</td><td style=\"text-align:left;white-space:pre\"></td><td style=\"text-align:left;white-space:pre\">0</td><td style=\"text-align:left;white-space:pre\"></td></tr><tr><td style=\"text-align:left;white-space:pre\">scientific_name</td><td style=\"text-align:left;white-space:pre\">varchar(255)</td><td style=\"text-align:left;white-space:pre\">YES</td><td style=\"text-align:left;white-space:pre\"></td><td style=\"text-align:left;white-space:pre\">NULL</td><td style=\"text-align:left;white-space:pre\"></td></tr><tr><td style=\"text-align:left;white-space:pre\">common_name</td><td style=\"text-align:left;white-space:pre\">varchar(50)</td><td style=\"text-align:left;white-space:pre\">YES</td><td style=\"text-align:left;white-space:pre\"></td><td style=\"text-align:left;white-space:pre\">NULL</td><td style=\"text-align:left;white-space:pre\"></td></tr><tr><td style=\"text-align:left;white-space:pre\">family_id</td><td style=\"text-align:left;white-space:pre\">int(11)</td><td style=\"text-align:left;white-space:pre\">YES</td><td style=\"text-align:left;white-space:pre\"></td><td style=\"text-align:left;white-space:pre\">NULL</td><td style=\"text-align:left;white-space:pre\"></td></tr><tr><td style=\"text-align:left;white-space:pre\">description</td><td style=\"text-align:left;white-space:pre\">text</td><td style=\"text-align:left;white-space:pre\">YES</td><td style=\"text-align:left;white-space:pre\"></td><td style=\"text-align:left;white-space:pre\">NULL</td><td style=\"text-align:left;white-space:pre\"></td></tr></table></body></html>"
      ]
     },
     "metadata": {},
     "output_type": "display_data"
    }
   ],
   "source": [
    "DESCRIBE birds_new_alternative;"
   ]
  },
  {
   "cell_type": "code",
   "execution_count": 13,
   "id": "former-kingdom",
   "metadata": {},
   "outputs": [
    {
     "data": {
      "text/html": [
       "Query OK"
      ]
     },
     "metadata": {},
     "output_type": "display_data"
    }
   ],
   "source": [
    "DROP TABLE  birds_new_alternative;"
   ]
  },
  {
   "cell_type": "code",
   "execution_count": 14,
   "id": "frozen-company",
   "metadata": {},
   "outputs": [
    {
     "data": {
      "text/html": [
       "Query OK"
      ]
     },
     "metadata": {},
     "output_type": "display_data"
    }
   ],
   "source": [
    "ALTER TABLE birds_new\n",
    "ADD COLUMN wing_id CHAR(2);"
   ]
  },
  {
   "cell_type": "code",
   "execution_count": 15,
   "id": "hollywood-sword",
   "metadata": {},
   "outputs": [
    {
     "data": {
      "text/html": [
       "<html><body><table border=\"1\"><tr><th style=\"text-align:left;white-space:pre\">Field</th><th style=\"text-align:left;white-space:pre\">Type</th><th style=\"text-align:left;white-space:pre\">Null</th><th style=\"text-align:left;white-space:pre\">Key</th><th style=\"text-align:left;white-space:pre\">Default</th><th style=\"text-align:left;white-space:pre\">Extra</th></tr><tr><td style=\"text-align:left;white-space:pre\">bird_id</td><td style=\"text-align:left;white-space:pre\">int(11)</td><td style=\"text-align:left;white-space:pre\">NO</td><td style=\"text-align:left;white-space:pre\">PRI</td><td style=\"text-align:left;white-space:pre\">NULL</td><td style=\"text-align:left;white-space:pre\">auto_increment</td></tr><tr><td style=\"text-align:left;white-space:pre\">scientific_name</td><td style=\"text-align:left;white-space:pre\">varchar(255)</td><td style=\"text-align:left;white-space:pre\">YES</td><td style=\"text-align:left;white-space:pre\">UNI</td><td style=\"text-align:left;white-space:pre\">NULL</td><td style=\"text-align:left;white-space:pre\"></td></tr><tr><td style=\"text-align:left;white-space:pre\">common_name</td><td style=\"text-align:left;white-space:pre\">varchar(50)</td><td style=\"text-align:left;white-space:pre\">YES</td><td style=\"text-align:left;white-space:pre\"></td><td style=\"text-align:left;white-space:pre\">NULL</td><td style=\"text-align:left;white-space:pre\"></td></tr><tr><td style=\"text-align:left;white-space:pre\">family_id</td><td style=\"text-align:left;white-space:pre\">int(11)</td><td style=\"text-align:left;white-space:pre\">YES</td><td style=\"text-align:left;white-space:pre\"></td><td style=\"text-align:left;white-space:pre\">NULL</td><td style=\"text-align:left;white-space:pre\"></td></tr><tr><td style=\"text-align:left;white-space:pre\">description</td><td style=\"text-align:left;white-space:pre\">text</td><td style=\"text-align:left;white-space:pre\">YES</td><td style=\"text-align:left;white-space:pre\"></td><td style=\"text-align:left;white-space:pre\">NULL</td><td style=\"text-align:left;white-space:pre\"></td></tr><tr><td style=\"text-align:left;white-space:pre\">wing_id</td><td style=\"text-align:left;white-space:pre\">char(2)</td><td style=\"text-align:left;white-space:pre\">YES</td><td style=\"text-align:left;white-space:pre\"></td><td style=\"text-align:left;white-space:pre\">NULL</td><td style=\"text-align:left;white-space:pre\"></td></tr></table></body></html>"
      ]
     },
     "metadata": {},
     "output_type": "display_data"
    }
   ],
   "source": [
    "DESCRIBE birds_new;"
   ]
  },
  {
   "cell_type": "code",
   "execution_count": 16,
   "id": "living-quarter",
   "metadata": {},
   "outputs": [
    {
     "data": {
      "text/html": [
       "Query OK"
      ]
     },
     "metadata": {},
     "output_type": "display_data"
    }
   ],
   "source": [
    "ALTER TABLE  birds_new\n",
    "DROP COLUMN wing_id;"
   ]
  },
  {
   "cell_type": "code",
   "execution_count": 17,
   "id": "billion-rebate",
   "metadata": {},
   "outputs": [
    {
     "data": {
      "text/html": [
       "<html><body><table border=\"1\"><tr><th style=\"text-align:left;white-space:pre\">Field</th><th style=\"text-align:left;white-space:pre\">Type</th><th style=\"text-align:left;white-space:pre\">Null</th><th style=\"text-align:left;white-space:pre\">Key</th><th style=\"text-align:left;white-space:pre\">Default</th><th style=\"text-align:left;white-space:pre\">Extra</th></tr><tr><td style=\"text-align:left;white-space:pre\">bird_id</td><td style=\"text-align:left;white-space:pre\">int(11)</td><td style=\"text-align:left;white-space:pre\">NO</td><td style=\"text-align:left;white-space:pre\">PRI</td><td style=\"text-align:left;white-space:pre\">NULL</td><td style=\"text-align:left;white-space:pre\">auto_increment</td></tr><tr><td style=\"text-align:left;white-space:pre\">scientific_name</td><td style=\"text-align:left;white-space:pre\">varchar(255)</td><td style=\"text-align:left;white-space:pre\">YES</td><td style=\"text-align:left;white-space:pre\">UNI</td><td style=\"text-align:left;white-space:pre\">NULL</td><td style=\"text-align:left;white-space:pre\"></td></tr><tr><td style=\"text-align:left;white-space:pre\">common_name</td><td style=\"text-align:left;white-space:pre\">varchar(50)</td><td style=\"text-align:left;white-space:pre\">YES</td><td style=\"text-align:left;white-space:pre\"></td><td style=\"text-align:left;white-space:pre\">NULL</td><td style=\"text-align:left;white-space:pre\"></td></tr><tr><td style=\"text-align:left;white-space:pre\">family_id</td><td style=\"text-align:left;white-space:pre\">int(11)</td><td style=\"text-align:left;white-space:pre\">YES</td><td style=\"text-align:left;white-space:pre\"></td><td style=\"text-align:left;white-space:pre\">NULL</td><td style=\"text-align:left;white-space:pre\"></td></tr><tr><td style=\"text-align:left;white-space:pre\">description</td><td style=\"text-align:left;white-space:pre\">text</td><td style=\"text-align:left;white-space:pre\">YES</td><td style=\"text-align:left;white-space:pre\"></td><td style=\"text-align:left;white-space:pre\">NULL</td><td style=\"text-align:left;white-space:pre\"></td></tr></table></body></html>"
      ]
     },
     "metadata": {},
     "output_type": "display_data"
    }
   ],
   "source": [
    "DESCRIBE birds_new;"
   ]
  },
  {
   "cell_type": "code",
   "execution_count": 18,
   "id": "certified-producer",
   "metadata": {},
   "outputs": [
    {
     "data": {
      "text/html": [
       "Query OK"
      ]
     },
     "metadata": {},
     "output_type": "display_data"
    }
   ],
   "source": [
    "ALTER TABLE birds_new \n",
    "ADD COLUMN wing_id CHAR(2) AFTER family_id;"
   ]
  },
  {
   "cell_type": "code",
   "execution_count": 19,
   "id": "sought-nicholas",
   "metadata": {},
   "outputs": [
    {
     "data": {
      "text/html": [
       "<html><body><table border=\"1\"><tr><th style=\"text-align:left;white-space:pre\">Field</th><th style=\"text-align:left;white-space:pre\">Type</th><th style=\"text-align:left;white-space:pre\">Null</th><th style=\"text-align:left;white-space:pre\">Key</th><th style=\"text-align:left;white-space:pre\">Default</th><th style=\"text-align:left;white-space:pre\">Extra</th></tr><tr><td style=\"text-align:left;white-space:pre\">bird_id</td><td style=\"text-align:left;white-space:pre\">int(11)</td><td style=\"text-align:left;white-space:pre\">NO</td><td style=\"text-align:left;white-space:pre\">PRI</td><td style=\"text-align:left;white-space:pre\">NULL</td><td style=\"text-align:left;white-space:pre\">auto_increment</td></tr><tr><td style=\"text-align:left;white-space:pre\">scientific_name</td><td style=\"text-align:left;white-space:pre\">varchar(255)</td><td style=\"text-align:left;white-space:pre\">YES</td><td style=\"text-align:left;white-space:pre\">UNI</td><td style=\"text-align:left;white-space:pre\">NULL</td><td style=\"text-align:left;white-space:pre\"></td></tr><tr><td style=\"text-align:left;white-space:pre\">common_name</td><td style=\"text-align:left;white-space:pre\">varchar(50)</td><td style=\"text-align:left;white-space:pre\">YES</td><td style=\"text-align:left;white-space:pre\"></td><td style=\"text-align:left;white-space:pre\">NULL</td><td style=\"text-align:left;white-space:pre\"></td></tr><tr><td style=\"text-align:left;white-space:pre\">family_id</td><td style=\"text-align:left;white-space:pre\">int(11)</td><td style=\"text-align:left;white-space:pre\">YES</td><td style=\"text-align:left;white-space:pre\"></td><td style=\"text-align:left;white-space:pre\">NULL</td><td style=\"text-align:left;white-space:pre\"></td></tr><tr><td style=\"text-align:left;white-space:pre\">wing_id</td><td style=\"text-align:left;white-space:pre\">char(2)</td><td style=\"text-align:left;white-space:pre\">YES</td><td style=\"text-align:left;white-space:pre\"></td><td style=\"text-align:left;white-space:pre\">NULL</td><td style=\"text-align:left;white-space:pre\"></td></tr><tr><td style=\"text-align:left;white-space:pre\">description</td><td style=\"text-align:left;white-space:pre\">text</td><td style=\"text-align:left;white-space:pre\">YES</td><td style=\"text-align:left;white-space:pre\"></td><td style=\"text-align:left;white-space:pre\">NULL</td><td style=\"text-align:left;white-space:pre\"></td></tr></table></body></html>"
      ]
     },
     "metadata": {},
     "output_type": "display_data"
    }
   ],
   "source": [
    "DESCRIBE birds_new;"
   ]
  },
  {
   "cell_type": "code",
   "execution_count": 21,
   "id": "operational-midnight",
   "metadata": {},
   "outputs": [
    {
     "data": {
      "text/html": [
       "Query OK"
      ]
     },
     "metadata": {},
     "output_type": "display_data"
    }
   ],
   "source": [
    "ALTER TABLE birds_new\n",
    "ADD COLUMN body_id CHAR(2) AFTER wing_id,\n",
    "ADD COLUMN bill_id CHAR(2) AFTER body_id,\n",
    "ADD COLUMN endangered BIT DEFAULT b'1' AFTER bill_id,\n",
    "CHANGE COLUMN common_name common_name VARCHAR(255);\n"
   ]
  },
  {
   "cell_type": "code",
   "execution_count": 22,
   "id": "ethical-locking",
   "metadata": {},
   "outputs": [
    {
     "data": {
      "text/html": [
       "<html><body><table border=\"1\"><tr><th style=\"text-align:left;white-space:pre\">Field</th><th style=\"text-align:left;white-space:pre\">Type</th><th style=\"text-align:left;white-space:pre\">Null</th><th style=\"text-align:left;white-space:pre\">Key</th><th style=\"text-align:left;white-space:pre\">Default</th><th style=\"text-align:left;white-space:pre\">Extra</th></tr><tr><td style=\"text-align:left;white-space:pre\">bird_id</td><td style=\"text-align:left;white-space:pre\">int(11)</td><td style=\"text-align:left;white-space:pre\">NO</td><td style=\"text-align:left;white-space:pre\">PRI</td><td style=\"text-align:left;white-space:pre\">NULL</td><td style=\"text-align:left;white-space:pre\">auto_increment</td></tr><tr><td style=\"text-align:left;white-space:pre\">scientific_name</td><td style=\"text-align:left;white-space:pre\">varchar(255)</td><td style=\"text-align:left;white-space:pre\">YES</td><td style=\"text-align:left;white-space:pre\">UNI</td><td style=\"text-align:left;white-space:pre\">NULL</td><td style=\"text-align:left;white-space:pre\"></td></tr><tr><td style=\"text-align:left;white-space:pre\">common_name</td><td style=\"text-align:left;white-space:pre\">varchar(255)</td><td style=\"text-align:left;white-space:pre\">YES</td><td style=\"text-align:left;white-space:pre\"></td><td style=\"text-align:left;white-space:pre\">NULL</td><td style=\"text-align:left;white-space:pre\"></td></tr><tr><td style=\"text-align:left;white-space:pre\">family_id</td><td style=\"text-align:left;white-space:pre\">int(11)</td><td style=\"text-align:left;white-space:pre\">YES</td><td style=\"text-align:left;white-space:pre\"></td><td style=\"text-align:left;white-space:pre\">NULL</td><td style=\"text-align:left;white-space:pre\"></td></tr><tr><td style=\"text-align:left;white-space:pre\">wing_id</td><td style=\"text-align:left;white-space:pre\">char(2)</td><td style=\"text-align:left;white-space:pre\">YES</td><td style=\"text-align:left;white-space:pre\"></td><td style=\"text-align:left;white-space:pre\">NULL</td><td style=\"text-align:left;white-space:pre\"></td></tr><tr><td style=\"text-align:left;white-space:pre\">body_id</td><td style=\"text-align:left;white-space:pre\">char(2)</td><td style=\"text-align:left;white-space:pre\">YES</td><td style=\"text-align:left;white-space:pre\"></td><td style=\"text-align:left;white-space:pre\">NULL</td><td style=\"text-align:left;white-space:pre\"></td></tr><tr><td style=\"text-align:left;white-space:pre\">bill_id</td><td style=\"text-align:left;white-space:pre\">char(2)</td><td style=\"text-align:left;white-space:pre\">YES</td><td style=\"text-align:left;white-space:pre\"></td><td style=\"text-align:left;white-space:pre\">NULL</td><td style=\"text-align:left;white-space:pre\"></td></tr><tr><td style=\"text-align:left;white-space:pre\">endangered</td><td style=\"text-align:left;white-space:pre\">bit(1)</td><td style=\"text-align:left;white-space:pre\">YES</td><td style=\"text-align:left;white-space:pre\"></td><td style=\"text-align:left;white-space:pre\">b'1'</td><td style=\"text-align:left;white-space:pre\"></td></tr><tr><td style=\"text-align:left;white-space:pre\">description</td><td style=\"text-align:left;white-space:pre\">text</td><td style=\"text-align:left;white-space:pre\">YES</td><td style=\"text-align:left;white-space:pre\"></td><td style=\"text-align:left;white-space:pre\">NULL</td><td style=\"text-align:left;white-space:pre\"></td></tr></table></body></html>"
      ]
     },
     "metadata": {},
     "output_type": "display_data"
    }
   ],
   "source": [
    "DESCRIBE birds_new;"
   ]
  },
  {
   "cell_type": "code",
   "execution_count": 23,
   "id": "planned-sustainability",
   "metadata": {},
   "outputs": [
    {
     "data": {
      "text/html": [
       "<html><body><table border=\"1\"><tr><th style=\"text-align:left;white-space:pre\">bird_id</th><th style=\"text-align:left;white-space:pre\">scientific_name</th><th style=\"text-align:left;white-space:pre\">common_name</th><th style=\"text-align:left;white-space:pre\">family_id</th><th style=\"text-align:left;white-space:pre\">wing_id</th><th style=\"text-align:left;white-space:pre\">body_id</th><th style=\"text-align:left;white-space:pre\">bill_id</th><th style=\"text-align:left;white-space:pre\">endangered</th><th style=\"text-align:left;white-space:pre\">description</th></tr><tr><td style=\"text-align:left;white-space:pre\">1</td><td style=\"text-align:left;white-space:pre\">Charadrius vociferus</td><td style=\"text-align:left;white-space:pre\">Killdeer</td><td style=\"text-align:left;white-space:pre\">NULL</td><td style=\"text-align:left;white-space:pre\">NULL</td><td style=\"text-align:left;white-space:pre\">NULL</td><td style=\"text-align:left;white-space:pre\">NULL</td><td style=\"text-align:left;white-space:pre\"></td><td style=\"text-align:left;white-space:pre\">NULL</td></tr><tr><td style=\"text-align:left;white-space:pre\">2</td><td style=\"text-align:left;white-space:pre\">Gavia immer</td><td style=\"text-align:left;white-space:pre\">Great Northern Loon</td><td style=\"text-align:left;white-space:pre\">NULL</td><td style=\"text-align:left;white-space:pre\">NULL</td><td style=\"text-align:left;white-space:pre\">NULL</td><td style=\"text-align:left;white-space:pre\">NULL</td><td style=\"text-align:left;white-space:pre\"></td><td style=\"text-align:left;white-space:pre\">NULL</td></tr><tr><td style=\"text-align:left;white-space:pre\">3</td><td style=\"text-align:left;white-space:pre\">Aix sponsa</td><td style=\"text-align:left;white-space:pre\">Wood Duck</td><td style=\"text-align:left;white-space:pre\">NULL</td><td style=\"text-align:left;white-space:pre\">NULL</td><td style=\"text-align:left;white-space:pre\">NULL</td><td style=\"text-align:left;white-space:pre\">NULL</td><td style=\"text-align:left;white-space:pre\"></td><td style=\"text-align:left;white-space:pre\">NULL</td></tr><tr><td style=\"text-align:left;white-space:pre\">4</td><td style=\"text-align:left;white-space:pre\">Chordeiles minor</td><td style=\"text-align:left;white-space:pre\">Common Nighthawk</td><td style=\"text-align:left;white-space:pre\">NULL</td><td style=\"text-align:left;white-space:pre\">NULL</td><td style=\"text-align:left;white-space:pre\">NULL</td><td style=\"text-align:left;white-space:pre\">NULL</td><td style=\"text-align:left;white-space:pre\"></td><td style=\"text-align:left;white-space:pre\">NULL</td></tr><tr><td style=\"text-align:left;white-space:pre\">5</td><td style=\"text-align:left;white-space:pre\">Sitta carolinensis</td><td style=\"text-align:left;white-space:pre\"> White-breasted Nuthatch</td><td style=\"text-align:left;white-space:pre\">NULL</td><td style=\"text-align:left;white-space:pre\">NULL</td><td style=\"text-align:left;white-space:pre\">NULL</td><td style=\"text-align:left;white-space:pre\">NULL</td><td style=\"text-align:left;white-space:pre\"></td><td style=\"text-align:left;white-space:pre\">NULL</td></tr><tr><td style=\"text-align:left;white-space:pre\">6</td><td style=\"text-align:left;white-space:pre\">Apteryx mantelli</td><td style=\"text-align:left;white-space:pre\">North Island Brown Kiwi</td><td style=\"text-align:left;white-space:pre\">NULL</td><td style=\"text-align:left;white-space:pre\">NULL</td><td style=\"text-align:left;white-space:pre\">NULL</td><td style=\"text-align:left;white-space:pre\">NULL</td><td style=\"text-align:left;white-space:pre\"></td><td style=\"text-align:left;white-space:pre\">NULL</td></tr></table></body></html>"
      ]
     },
     "metadata": {},
     "output_type": "display_data"
    }
   ],
   "source": [
    "SELECT * FROM birds_new;"
   ]
  },
  {
   "cell_type": "code",
   "execution_count": 28,
   "id": "every-intensity",
   "metadata": {},
   "outputs": [
    {
     "data": {
      "text/html": [
       "Query OK"
      ]
     },
     "metadata": {},
     "output_type": "display_data"
    }
   ],
   "source": [
    "UPDATE birds_new SET endangered = 0\n",
    "WHERE bird_id IN(1,2,4,5);"
   ]
  },
  {
   "cell_type": "code",
   "execution_count": 29,
   "id": "cutting-locator",
   "metadata": {},
   "outputs": [
    {
     "data": {
      "text/html": [
       "<html><body><table border=\"1\"><tr><th style=\"text-align:left;white-space:pre\">bird_id</th><th style=\"text-align:left;white-space:pre\">scientific_name</th><th style=\"text-align:left;white-space:pre\">common_name</th><th style=\"text-align:left;white-space:pre\">family_id</th><th style=\"text-align:left;white-space:pre\">wing_id</th><th style=\"text-align:left;white-space:pre\">body_id</th><th style=\"text-align:left;white-space:pre\">bill_id</th><th style=\"text-align:left;white-space:pre\">endangered</th><th style=\"text-align:left;white-space:pre\">description</th></tr><tr><td style=\"text-align:left;white-space:pre\">1</td><td style=\"text-align:left;white-space:pre\">Charadrius vociferus</td><td style=\"text-align:left;white-space:pre\">Killdeer</td><td style=\"text-align:left;white-space:pre\">NULL</td><td style=\"text-align:left;white-space:pre\">NULL</td><td style=\"text-align:left;white-space:pre\">NULL</td><td style=\"text-align:left;white-space:pre\">NULL</td><td style=\"text-align:left;white-space:pre\"> </td><td style=\"text-align:left;white-space:pre\">NULL</td></tr><tr><td style=\"text-align:left;white-space:pre\">2</td><td style=\"text-align:left;white-space:pre\">Gavia immer</td><td style=\"text-align:left;white-space:pre\">Great Northern Loon</td><td style=\"text-align:left;white-space:pre\">NULL</td><td style=\"text-align:left;white-space:pre\">NULL</td><td style=\"text-align:left;white-space:pre\">NULL</td><td style=\"text-align:left;white-space:pre\">NULL</td><td style=\"text-align:left;white-space:pre\"> </td><td style=\"text-align:left;white-space:pre\">NULL</td></tr><tr><td style=\"text-align:left;white-space:pre\">3</td><td style=\"text-align:left;white-space:pre\">Aix sponsa</td><td style=\"text-align:left;white-space:pre\">Wood Duck</td><td style=\"text-align:left;white-space:pre\">NULL</td><td style=\"text-align:left;white-space:pre\">NULL</td><td style=\"text-align:left;white-space:pre\">NULL</td><td style=\"text-align:left;white-space:pre\">NULL</td><td style=\"text-align:left;white-space:pre\"></td><td style=\"text-align:left;white-space:pre\">NULL</td></tr><tr><td style=\"text-align:left;white-space:pre\">4</td><td style=\"text-align:left;white-space:pre\">Chordeiles minor</td><td style=\"text-align:left;white-space:pre\">Common Nighthawk</td><td style=\"text-align:left;white-space:pre\">NULL</td><td style=\"text-align:left;white-space:pre\">NULL</td><td style=\"text-align:left;white-space:pre\">NULL</td><td style=\"text-align:left;white-space:pre\">NULL</td><td style=\"text-align:left;white-space:pre\"> </td><td style=\"text-align:left;white-space:pre\">NULL</td></tr><tr><td style=\"text-align:left;white-space:pre\">5</td><td style=\"text-align:left;white-space:pre\">Sitta carolinensis</td><td style=\"text-align:left;white-space:pre\"> White-breasted Nuthatch</td><td style=\"text-align:left;white-space:pre\">NULL</td><td style=\"text-align:left;white-space:pre\">NULL</td><td style=\"text-align:left;white-space:pre\">NULL</td><td style=\"text-align:left;white-space:pre\">NULL</td><td style=\"text-align:left;white-space:pre\"> </td><td style=\"text-align:left;white-space:pre\">NULL</td></tr><tr><td style=\"text-align:left;white-space:pre\">6</td><td style=\"text-align:left;white-space:pre\">Apteryx mantelli</td><td style=\"text-align:left;white-space:pre\">North Island Brown Kiwi</td><td style=\"text-align:left;white-space:pre\">NULL</td><td style=\"text-align:left;white-space:pre\">NULL</td><td style=\"text-align:left;white-space:pre\">NULL</td><td style=\"text-align:left;white-space:pre\">NULL</td><td style=\"text-align:left;white-space:pre\"></td><td style=\"text-align:left;white-space:pre\">NULL</td></tr></table></body></html>"
      ]
     },
     "metadata": {},
     "output_type": "display_data"
    }
   ],
   "source": [
    "SELECT * FROM birds_new;"
   ]
  },
  {
   "cell_type": "code",
   "execution_count": 32,
   "id": "renewable-intensity",
   "metadata": {},
   "outputs": [
    {
     "data": {
      "text/html": [
       "Query OK"
      ]
     },
     "metadata": {},
     "output_type": "display_data"
    }
   ],
   "source": [
    "UPDATE birds_new SET endangered = 1;"
   ]
  },
  {
   "cell_type": "code",
   "execution_count": 33,
   "id": "separated-hundred",
   "metadata": {},
   "outputs": [
    {
     "data": {
      "text/html": [
       "Stage: 2 of 2 'Enabling keys'      0% of stage done\r",
       "                                                   \r"
      ]
     },
     "metadata": {},
     "output_type": "display_data"
    }
   ],
   "source": [
    "ALTER TABLE birds_new\n",
    "MODIFY COLUMN endangered ENUM('Extinct',\n",
    "'Extinct in Wild',\n",
    "'Threatened - Critically Endangered',\n",
    "'Threatened - Endangered',\n",
    "'Threatened - Vulnerable',\n",
    "'Lower Risk - Conservation Dependent',\n",
    "'Lower Risk - Near Threatened',\n",
    "'Lower Risk - Least Concern')\n",
    "AFTER family_id;"
   ]
  },
  {
   "cell_type": "code",
   "execution_count": 34,
   "id": "guided-quilt",
   "metadata": {},
   "outputs": [
    {
     "data": {
      "text/html": [
       "<html><body><table border=\"1\"><tr><th style=\"text-align:left;white-space:pre\">bird_id</th><th style=\"text-align:left;white-space:pre\">scientific_name</th><th style=\"text-align:left;white-space:pre\">common_name</th><th style=\"text-align:left;white-space:pre\">family_id</th><th style=\"text-align:left;white-space:pre\">endangered</th><th style=\"text-align:left;white-space:pre\">wing_id</th><th style=\"text-align:left;white-space:pre\">body_id</th><th style=\"text-align:left;white-space:pre\">bill_id</th><th style=\"text-align:left;white-space:pre\">description</th></tr><tr><td style=\"text-align:left;white-space:pre\">1</td><td style=\"text-align:left;white-space:pre\">Charadrius vociferus</td><td style=\"text-align:left;white-space:pre\">Killdeer</td><td style=\"text-align:left;white-space:pre\">NULL</td><td style=\"text-align:left;white-space:pre\">Extinct</td><td style=\"text-align:left;white-space:pre\">NULL</td><td style=\"text-align:left;white-space:pre\">NULL</td><td style=\"text-align:left;white-space:pre\">NULL</td><td style=\"text-align:left;white-space:pre\">NULL</td></tr><tr><td style=\"text-align:left;white-space:pre\">2</td><td style=\"text-align:left;white-space:pre\">Gavia immer</td><td style=\"text-align:left;white-space:pre\">Great Northern Loon</td><td style=\"text-align:left;white-space:pre\">NULL</td><td style=\"text-align:left;white-space:pre\">Extinct</td><td style=\"text-align:left;white-space:pre\">NULL</td><td style=\"text-align:left;white-space:pre\">NULL</td><td style=\"text-align:left;white-space:pre\">NULL</td><td style=\"text-align:left;white-space:pre\">NULL</td></tr><tr><td style=\"text-align:left;white-space:pre\">3</td><td style=\"text-align:left;white-space:pre\">Aix sponsa</td><td style=\"text-align:left;white-space:pre\">Wood Duck</td><td style=\"text-align:left;white-space:pre\">NULL</td><td style=\"text-align:left;white-space:pre\">Extinct</td><td style=\"text-align:left;white-space:pre\">NULL</td><td style=\"text-align:left;white-space:pre\">NULL</td><td style=\"text-align:left;white-space:pre\">NULL</td><td style=\"text-align:left;white-space:pre\">NULL</td></tr><tr><td style=\"text-align:left;white-space:pre\">4</td><td style=\"text-align:left;white-space:pre\">Chordeiles minor</td><td style=\"text-align:left;white-space:pre\">Common Nighthawk</td><td style=\"text-align:left;white-space:pre\">NULL</td><td style=\"text-align:left;white-space:pre\">Extinct</td><td style=\"text-align:left;white-space:pre\">NULL</td><td style=\"text-align:left;white-space:pre\">NULL</td><td style=\"text-align:left;white-space:pre\">NULL</td><td style=\"text-align:left;white-space:pre\">NULL</td></tr><tr><td style=\"text-align:left;white-space:pre\">5</td><td style=\"text-align:left;white-space:pre\">Sitta carolinensis</td><td style=\"text-align:left;white-space:pre\"> White-breasted Nuthatch</td><td style=\"text-align:left;white-space:pre\">NULL</td><td style=\"text-align:left;white-space:pre\">Extinct</td><td style=\"text-align:left;white-space:pre\">NULL</td><td style=\"text-align:left;white-space:pre\">NULL</td><td style=\"text-align:left;white-space:pre\">NULL</td><td style=\"text-align:left;white-space:pre\">NULL</td></tr><tr><td style=\"text-align:left;white-space:pre\">6</td><td style=\"text-align:left;white-space:pre\">Apteryx mantelli</td><td style=\"text-align:left;white-space:pre\">North Island Brown Kiwi</td><td style=\"text-align:left;white-space:pre\">NULL</td><td style=\"text-align:left;white-space:pre\">Extinct</td><td style=\"text-align:left;white-space:pre\">NULL</td><td style=\"text-align:left;white-space:pre\">NULL</td><td style=\"text-align:left;white-space:pre\">NULL</td><td style=\"text-align:left;white-space:pre\">NULL</td></tr></table></body></html>"
      ]
     },
     "metadata": {},
     "output_type": "display_data"
    }
   ],
   "source": [
    "SELECT *FROM birds_new;"
   ]
  },
  {
   "cell_type": "code",
   "execution_count": 35,
   "id": "tested-polls",
   "metadata": {},
   "outputs": [
    {
     "data": {
      "text/html": [
       "Query OK"
      ]
     },
     "metadata": {},
     "output_type": "display_data"
    }
   ],
   "source": [
    "UPDATE birds_new\n",
    "SET endangered = 7; "
   ]
  },
  {
   "cell_type": "code",
   "execution_count": 36,
   "id": "injured-stephen",
   "metadata": {},
   "outputs": [
    {
     "data": {
      "text/html": [
       "<html><body><table border=\"1\"><tr><th style=\"text-align:left;white-space:pre\">bird_id</th><th style=\"text-align:left;white-space:pre\">scientific_name</th><th style=\"text-align:left;white-space:pre\">common_name</th><th style=\"text-align:left;white-space:pre\">family_id</th><th style=\"text-align:left;white-space:pre\">endangered</th><th style=\"text-align:left;white-space:pre\">wing_id</th><th style=\"text-align:left;white-space:pre\">body_id</th><th style=\"text-align:left;white-space:pre\">bill_id</th><th style=\"text-align:left;white-space:pre\">description</th></tr><tr><td style=\"text-align:left;white-space:pre\">1</td><td style=\"text-align:left;white-space:pre\">Charadrius vociferus</td><td style=\"text-align:left;white-space:pre\">Killdeer</td><td style=\"text-align:left;white-space:pre\">NULL</td><td style=\"text-align:left;white-space:pre\">Lower Risk - Near Threatened</td><td style=\"text-align:left;white-space:pre\">NULL</td><td style=\"text-align:left;white-space:pre\">NULL</td><td style=\"text-align:left;white-space:pre\">NULL</td><td style=\"text-align:left;white-space:pre\">NULL</td></tr><tr><td style=\"text-align:left;white-space:pre\">2</td><td style=\"text-align:left;white-space:pre\">Gavia immer</td><td style=\"text-align:left;white-space:pre\">Great Northern Loon</td><td style=\"text-align:left;white-space:pre\">NULL</td><td style=\"text-align:left;white-space:pre\">Lower Risk - Near Threatened</td><td style=\"text-align:left;white-space:pre\">NULL</td><td style=\"text-align:left;white-space:pre\">NULL</td><td style=\"text-align:left;white-space:pre\">NULL</td><td style=\"text-align:left;white-space:pre\">NULL</td></tr><tr><td style=\"text-align:left;white-space:pre\">3</td><td style=\"text-align:left;white-space:pre\">Aix sponsa</td><td style=\"text-align:left;white-space:pre\">Wood Duck</td><td style=\"text-align:left;white-space:pre\">NULL</td><td style=\"text-align:left;white-space:pre\">Lower Risk - Near Threatened</td><td style=\"text-align:left;white-space:pre\">NULL</td><td style=\"text-align:left;white-space:pre\">NULL</td><td style=\"text-align:left;white-space:pre\">NULL</td><td style=\"text-align:left;white-space:pre\">NULL</td></tr><tr><td style=\"text-align:left;white-space:pre\">4</td><td style=\"text-align:left;white-space:pre\">Chordeiles minor</td><td style=\"text-align:left;white-space:pre\">Common Nighthawk</td><td style=\"text-align:left;white-space:pre\">NULL</td><td style=\"text-align:left;white-space:pre\">Lower Risk - Near Threatened</td><td style=\"text-align:left;white-space:pre\">NULL</td><td style=\"text-align:left;white-space:pre\">NULL</td><td style=\"text-align:left;white-space:pre\">NULL</td><td style=\"text-align:left;white-space:pre\">NULL</td></tr><tr><td style=\"text-align:left;white-space:pre\">5</td><td style=\"text-align:left;white-space:pre\">Sitta carolinensis</td><td style=\"text-align:left;white-space:pre\"> White-breasted Nuthatch</td><td style=\"text-align:left;white-space:pre\">NULL</td><td style=\"text-align:left;white-space:pre\">Lower Risk - Near Threatened</td><td style=\"text-align:left;white-space:pre\">NULL</td><td style=\"text-align:left;white-space:pre\">NULL</td><td style=\"text-align:left;white-space:pre\">NULL</td><td style=\"text-align:left;white-space:pre\">NULL</td></tr><tr><td style=\"text-align:left;white-space:pre\">6</td><td style=\"text-align:left;white-space:pre\">Apteryx mantelli</td><td style=\"text-align:left;white-space:pre\">North Island Brown Kiwi</td><td style=\"text-align:left;white-space:pre\">NULL</td><td style=\"text-align:left;white-space:pre\">Lower Risk - Near Threatened</td><td style=\"text-align:left;white-space:pre\">NULL</td><td style=\"text-align:left;white-space:pre\">NULL</td><td style=\"text-align:left;white-space:pre\">NULL</td><td style=\"text-align:left;white-space:pre\">NULL</td></tr></table></body></html>"
      ]
     },
     "metadata": {},
     "output_type": "display_data"
    }
   ],
   "source": [
    "SELECT *FROM birds_new;"
   ]
  },
  {
   "cell_type": "code",
   "execution_count": 37,
   "id": "focused-dairy",
   "metadata": {},
   "outputs": [
    {
     "data": {
      "text/html": [
       "Query OK"
      ]
     },
     "metadata": {},
     "output_type": "display_data"
    }
   ],
   "source": [
    "USE birdwatchers;"
   ]
  },
  {
   "cell_type": "code",
   "execution_count": 43,
   "id": "general-blanket",
   "metadata": {},
   "outputs": [
    {
     "data": {
      "text/html": [
       "Query OK"
      ]
     },
     "metadata": {},
     "output_type": "display_data"
    }
   ],
   "source": [
    "CREATE TABLE surveys(survey_id INT AUTO_INCREMENT KEY,\n",
    "survey_name VARCHAR(255));\n",
    "\n",
    "CREATE TABLE survey_questions\n",
    "(question_id INT AUTO_INCREMENT KEY,\n",
    "survey_id INT,\n",
    "question VARCHAR(255),\n",
    "choices BLOB);\n",
    "\n",
    "CREATE TABLE survey_answers\n",
    "(answer_id INT AUTO_INCREMENT KEY,\n",
    "human_id INT,\n",
    "question_id INT,\n",
    "date_answered DATETIME,\n",
    "answer VARCHAR(255));"
   ]
  },
  {
   "cell_type": "code",
   "execution_count": 44,
   "id": "theoretical-maximum",
   "metadata": {},
   "outputs": [
    {
     "data": {
      "text/html": [
       "<html><body><table border=\"1\"><tr><th style=\"text-align:left;white-space:pre\">Tables_in_birdwatchers</th></tr><tr><td style=\"text-align:left;white-space:pre\">humans</td></tr><tr><td style=\"text-align:left;white-space:pre\">survey_answers</td></tr><tr><td style=\"text-align:left;white-space:pre\">survey_questions</td></tr><tr><td style=\"text-align:left;white-space:pre\">surveys</td></tr></table></body></html>"
      ]
     },
     "metadata": {},
     "output_type": "display_data"
    }
   ],
   "source": [
    "SHOW TABLES;"
   ]
  },
  {
   "cell_type": "code",
   "execution_count": 45,
   "id": "level-addiction",
   "metadata": {},
   "outputs": [
    {
     "data": {
      "text/html": [
       "Query OK"
      ]
     },
     "metadata": {},
     "output_type": "display_data"
    }
   ],
   "source": [
    "INSERT INTO surveys (survey_name)\n",
    "VALUES(\"Favorite Birding Location\");"
   ]
  },
  {
   "cell_type": "code",
   "execution_count": 46,
   "id": "settled-ministry",
   "metadata": {},
   "outputs": [
    {
     "data": {
      "text/html": [
       "<html><body><table border=\"1\"><tr><th style=\"text-align:left;white-space:pre\">survey_id</th><th style=\"text-align:left;white-space:pre\">survey_name</th></tr><tr><td style=\"text-align:left;white-space:pre\">1</td><td style=\"text-align:left;white-space:pre\">Favorite Birding Location</td></tr></table></body></html>"
      ]
     },
     "metadata": {},
     "output_type": "display_data"
    }
   ],
   "source": [
    "SELECT * FROM surveys;"
   ]
  },
  {
   "cell_type": "code",
   "execution_count": 47,
   "id": "greenhouse-karen",
   "metadata": {},
   "outputs": [
    {
     "data": {
      "text/html": [
       "<html><body><table border=\"1\"><tr><th style=\"text-align:left;white-space:pre\">Field</th><th style=\"text-align:left;white-space:pre\">Type</th><th style=\"text-align:left;white-space:pre\">Null</th><th style=\"text-align:left;white-space:pre\">Key</th><th style=\"text-align:left;white-space:pre\">Default</th><th style=\"text-align:left;white-space:pre\">Extra</th></tr><tr><td style=\"text-align:left;white-space:pre\">survey_id</td><td style=\"text-align:left;white-space:pre\">int(11)</td><td style=\"text-align:left;white-space:pre\">NO</td><td style=\"text-align:left;white-space:pre\">PRI</td><td style=\"text-align:left;white-space:pre\">NULL</td><td style=\"text-align:left;white-space:pre\">auto_increment</td></tr><tr><td style=\"text-align:left;white-space:pre\">survey_name</td><td style=\"text-align:left;white-space:pre\">varchar(255)</td><td style=\"text-align:left;white-space:pre\">YES</td><td style=\"text-align:left;white-space:pre\"></td><td style=\"text-align:left;white-space:pre\">NULL</td><td style=\"text-align:left;white-space:pre\"></td></tr></table></body></html>"
      ]
     },
     "metadata": {},
     "output_type": "display_data"
    }
   ],
   "source": [
    "DESCRIBE surveys;"
   ]
  },
  {
   "cell_type": "code",
   "execution_count": 49,
   "id": "front-vanilla",
   "metadata": {},
   "outputs": [
    {
     "data": {
      "text/html": [
       "<html><body><table border=\"1\"><tr><th style=\"text-align:left;white-space:pre\">Field</th><th style=\"text-align:left;white-space:pre\">Type</th><th style=\"text-align:left;white-space:pre\">Null</th><th style=\"text-align:left;white-space:pre\">Key</th><th style=\"text-align:left;white-space:pre\">Default</th><th style=\"text-align:left;white-space:pre\">Extra</th></tr><tr><td style=\"text-align:left;white-space:pre\">question_id</td><td style=\"text-align:left;white-space:pre\">int(11)</td><td style=\"text-align:left;white-space:pre\">NO</td><td style=\"text-align:left;white-space:pre\">PRI</td><td style=\"text-align:left;white-space:pre\">NULL</td><td style=\"text-align:left;white-space:pre\">auto_increment</td></tr><tr><td style=\"text-align:left;white-space:pre\">survey_id</td><td style=\"text-align:left;white-space:pre\">int(11)</td><td style=\"text-align:left;white-space:pre\">YES</td><td style=\"text-align:left;white-space:pre\"></td><td style=\"text-align:left;white-space:pre\">NULL</td><td style=\"text-align:left;white-space:pre\"></td></tr><tr><td style=\"text-align:left;white-space:pre\">question</td><td style=\"text-align:left;white-space:pre\">varchar(255)</td><td style=\"text-align:left;white-space:pre\">YES</td><td style=\"text-align:left;white-space:pre\"></td><td style=\"text-align:left;white-space:pre\">NULL</td><td style=\"text-align:left;white-space:pre\"></td></tr><tr><td style=\"text-align:left;white-space:pre\">choices</td><td style=\"text-align:left;white-space:pre\">blob</td><td style=\"text-align:left;white-space:pre\">YES</td><td style=\"text-align:left;white-space:pre\"></td><td style=\"text-align:left;white-space:pre\">NULL</td><td style=\"text-align:left;white-space:pre\"></td></tr></table></body></html>"
      ]
     },
     "metadata": {},
     "output_type": "display_data"
    }
   ],
   "source": [
    "DESCRIBE survey_questions;"
   ]
  },
  {
   "cell_type": "code",
   "execution_count": 51,
   "id": "rental-ability",
   "metadata": {},
   "outputs": [
    {
     "data": {
      "text/html": [
       "Query OK"
      ]
     },
     "metadata": {},
     "output_type": "display_data"
    }
   ],
   "source": [
    "INSERT INTO survey_questions\n",
    "(survey_id, question, choices)\n",
    "VALUES(LAST_INSERT_ID(), \n",
    "\"What's your favorite setting for bird-watching?\",\n",
    "COLUMN_CREATE('1', 'forest', '2', 'shore', '3', 'backyard')); "
   ]
  },
  {
   "cell_type": "code",
   "execution_count": 53,
   "id": "blank-nerve",
   "metadata": {},
   "outputs": [
    {
     "data": {
      "text/html": [
       "<html><body><table border=\"1\"><tr><th style=\"text-align:left;white-space:pre\">survey_id</th><th style=\"text-align:left;white-space:pre\">survey_name</th></tr><tr><td style=\"text-align:left;white-space:pre\">1</td><td style=\"text-align:left;white-space:pre\">Favorite Birding Location</td></tr></table></body></html>"
      ]
     },
     "metadata": {},
     "output_type": "display_data"
    }
   ],
   "source": [
    "SELECT * FROM surveys;"
   ]
  },
  {
   "cell_type": "code",
   "execution_count": 54,
   "id": "regular-belize",
   "metadata": {},
   "outputs": [
    {
     "data": {
      "text/html": [
       "Query OK"
      ]
     },
     "metadata": {},
     "output_type": "display_data"
    }
   ],
   "source": [
    "INSERT INTO surveys (survey_name)\n",
    "VALUES(\"Preferred Birds\");\n",
    "INSERT INTO survey_questions\n",
    "(survey_id, question, choices)\n",
    "VALUES(LAST_INSERT_ID(),\n",
    "\"Which type of birds do you like best?\",\n",
    "COLUMN_CREATE('1', 'perching', '2', 'shore', '3', 'fowl', '4', 'rapture') );"
   ]
  },
  {
   "cell_type": "code",
   "execution_count": 55,
   "id": "joint-envelope",
   "metadata": {},
   "outputs": [
    {
     "data": {
      "text/html": [
       "<html><body><table border=\"1\"><tr><th style=\"text-align:left;white-space:pre\">survey_id</th><th style=\"text-align:left;white-space:pre\">survey_name</th></tr><tr><td style=\"text-align:left;white-space:pre\">1</td><td style=\"text-align:left;white-space:pre\">Favorite Birding Location</td></tr><tr><td style=\"text-align:left;white-space:pre\">2</td><td style=\"text-align:left;white-space:pre\">Preferred Birds</td></tr></table></body></html>"
      ]
     },
     "metadata": {},
     "output_type": "display_data"
    }
   ],
   "source": [
    "SELECT * FROM surveys;"
   ]
  },
  {
   "cell_type": "code",
   "execution_count": 60,
   "id": "organizational-indiana",
   "metadata": {},
   "outputs": [
    {
     "data": {
      "text/html": [
       "<html><body><table border=\"1\"><tr><th style=\"text-align:left;white-space:pre\">Location</th></tr><tr><td style=\"text-align:left;white-space:pre\">backyard</td></tr></table></body></html>"
      ]
     },
     "metadata": {},
     "output_type": "display_data"
    }
   ],
   "source": [
    "SELECT COLUMN_GET(choices, 3 AS CHAR)\n",
    "AS 'Location'\n",
    "FROM survey_questions\n",
    "WHERE survey_id = 1;"
   ]
  },
  {
   "cell_type": "code",
   "execution_count": 61,
   "id": "welcome-texture",
   "metadata": {},
   "outputs": [
    {
     "data": {
      "text/html": [
       "Query OK"
      ]
     },
     "metadata": {},
     "output_type": "display_data"
    }
   ],
   "source": [
    "SELECT * FROM survey_answers;"
   ]
  },
  {
   "cell_type": "code",
   "execution_count": 63,
   "id": "measured-conducting",
   "metadata": {},
   "outputs": [
    {
     "data": {
      "text/html": [
       "<html><body><table border=\"1\"><tr><th style=\"text-align:left;white-space:pre\">Field</th><th style=\"text-align:left;white-space:pre\">Type</th><th style=\"text-align:left;white-space:pre\">Null</th><th style=\"text-align:left;white-space:pre\">Key</th><th style=\"text-align:left;white-space:pre\">Default</th><th style=\"text-align:left;white-space:pre\">Extra</th></tr><tr><td style=\"text-align:left;white-space:pre\">answer_id</td><td style=\"text-align:left;white-space:pre\">int(11)</td><td style=\"text-align:left;white-space:pre\">NO</td><td style=\"text-align:left;white-space:pre\">PRI</td><td style=\"text-align:left;white-space:pre\">NULL</td><td style=\"text-align:left;white-space:pre\">auto_increment</td></tr><tr><td style=\"text-align:left;white-space:pre\">human_id</td><td style=\"text-align:left;white-space:pre\">int(11)</td><td style=\"text-align:left;white-space:pre\">YES</td><td style=\"text-align:left;white-space:pre\"></td><td style=\"text-align:left;white-space:pre\">NULL</td><td style=\"text-align:left;white-space:pre\"></td></tr><tr><td style=\"text-align:left;white-space:pre\">question_id</td><td style=\"text-align:left;white-space:pre\">int(11)</td><td style=\"text-align:left;white-space:pre\">YES</td><td style=\"text-align:left;white-space:pre\"></td><td style=\"text-align:left;white-space:pre\">NULL</td><td style=\"text-align:left;white-space:pre\"></td></tr><tr><td style=\"text-align:left;white-space:pre\">date_answered</td><td style=\"text-align:left;white-space:pre\">datetime</td><td style=\"text-align:left;white-space:pre\">YES</td><td style=\"text-align:left;white-space:pre\"></td><td style=\"text-align:left;white-space:pre\">NULL</td><td style=\"text-align:left;white-space:pre\"></td></tr><tr><td style=\"text-align:left;white-space:pre\">answer</td><td style=\"text-align:left;white-space:pre\">varchar(255)</td><td style=\"text-align:left;white-space:pre\">YES</td><td style=\"text-align:left;white-space:pre\"></td><td style=\"text-align:left;white-space:pre\">NULL</td><td style=\"text-align:left;white-space:pre\"></td></tr></table></body></html>"
      ]
     },
     "metadata": {},
     "output_type": "display_data"
    }
   ],
   "source": [
    "DESCRIBE survey_answers;"
   ]
  },
  {
   "cell_type": "code",
   "execution_count": 64,
   "id": "ancient-momentum",
   "metadata": {},
   "outputs": [
    {
     "data": {
      "text/html": [
       "Query OK"
      ]
     },
     "metadata": {},
     "output_type": "display_data"
    }
   ],
   "source": [
    "INSERT INTO survey_answers\n",
    "(human_id, question_id, date_answered, answer)\n",
    "VALUES\n",
    "(29, 1, NOW(), 2),\n",
    "(29, 2, NOW(), 2),\n",
    "(35, 1, NOW(), 1),\n",
    "(35, 2, NOW(), 1),\n",
    "(26, 1, NOW(), 2),\n",
    "(26, 2, NOW(), 1),\n",
    "(27, 1, NOW(), 2),\n",
    "(27, 2, NOW(), 4),\n",
    "(16, 1, NOW(), 3),\n",
    "(3, 1, NOW(), 1),\n",
    "(3, 2, NOW(), 1);"
   ]
  },
  {
   "cell_type": "code",
   "execution_count": 65,
   "id": "psychological-flower",
   "metadata": {},
   "outputs": [
    {
     "data": {
      "text/html": [
       "<html><body><table border=\"1\"><tr><th style=\"text-align:left;white-space:pre\">answer_id</th><th style=\"text-align:left;white-space:pre\">human_id</th><th style=\"text-align:left;white-space:pre\">question_id</th><th style=\"text-align:left;white-space:pre\">date_answered</th><th style=\"text-align:left;white-space:pre\">answer</th></tr><tr><td style=\"text-align:left;white-space:pre\">1</td><td style=\"text-align:left;white-space:pre\">29</td><td style=\"text-align:left;white-space:pre\">1</td><td style=\"text-align:left;white-space:pre\">2021-04-04 18:51:54</td><td style=\"text-align:left;white-space:pre\">2</td></tr><tr><td style=\"text-align:left;white-space:pre\">2</td><td style=\"text-align:left;white-space:pre\">29</td><td style=\"text-align:left;white-space:pre\">2</td><td style=\"text-align:left;white-space:pre\">2021-04-04 18:51:54</td><td style=\"text-align:left;white-space:pre\">2</td></tr><tr><td style=\"text-align:left;white-space:pre\">3</td><td style=\"text-align:left;white-space:pre\">35</td><td style=\"text-align:left;white-space:pre\">1</td><td style=\"text-align:left;white-space:pre\">2021-04-04 18:51:54</td><td style=\"text-align:left;white-space:pre\">1</td></tr><tr><td style=\"text-align:left;white-space:pre\">4</td><td style=\"text-align:left;white-space:pre\">35</td><td style=\"text-align:left;white-space:pre\">2</td><td style=\"text-align:left;white-space:pre\">2021-04-04 18:51:54</td><td style=\"text-align:left;white-space:pre\">1</td></tr><tr><td style=\"text-align:left;white-space:pre\">5</td><td style=\"text-align:left;white-space:pre\">26</td><td style=\"text-align:left;white-space:pre\">1</td><td style=\"text-align:left;white-space:pre\">2021-04-04 18:51:54</td><td style=\"text-align:left;white-space:pre\">2</td></tr><tr><td style=\"text-align:left;white-space:pre\">6</td><td style=\"text-align:left;white-space:pre\">26</td><td style=\"text-align:left;white-space:pre\">2</td><td style=\"text-align:left;white-space:pre\">2021-04-04 18:51:54</td><td style=\"text-align:left;white-space:pre\">1</td></tr><tr><td style=\"text-align:left;white-space:pre\">7</td><td style=\"text-align:left;white-space:pre\">27</td><td style=\"text-align:left;white-space:pre\">1</td><td style=\"text-align:left;white-space:pre\">2021-04-04 18:51:54</td><td style=\"text-align:left;white-space:pre\">2</td></tr><tr><td style=\"text-align:left;white-space:pre\">8</td><td style=\"text-align:left;white-space:pre\">27</td><td style=\"text-align:left;white-space:pre\">2</td><td style=\"text-align:left;white-space:pre\">2021-04-04 18:51:54</td><td style=\"text-align:left;white-space:pre\">4</td></tr><tr><td style=\"text-align:left;white-space:pre\">9</td><td style=\"text-align:left;white-space:pre\">16</td><td style=\"text-align:left;white-space:pre\">1</td><td style=\"text-align:left;white-space:pre\">2021-04-04 18:51:54</td><td style=\"text-align:left;white-space:pre\">3</td></tr><tr><td style=\"text-align:left;white-space:pre\">10</td><td style=\"text-align:left;white-space:pre\">3</td><td style=\"text-align:left;white-space:pre\">1</td><td style=\"text-align:left;white-space:pre\">2021-04-04 18:51:54</td><td style=\"text-align:left;white-space:pre\">1</td></tr><tr><td style=\"text-align:left;white-space:pre\">11</td><td style=\"text-align:left;white-space:pre\">3</td><td style=\"text-align:left;white-space:pre\">2</td><td style=\"text-align:left;white-space:pre\">2021-04-04 18:51:54</td><td style=\"text-align:left;white-space:pre\">1</td></tr></table></body></html>"
      ]
     },
     "metadata": {},
     "output_type": "display_data"
    }
   ],
   "source": [
    "SELECT * FROM survey_answers;"
   ]
  },
  {
   "cell_type": "code",
   "execution_count": 66,
   "id": "retained-rwanda",
   "metadata": {},
   "outputs": [
    {
     "data": {
      "text/html": [
       "<html><body><table border=\"1\"><tr><th style=\"text-align:left;white-space:pre\">Birding site</th><th style=\"text-align:left;white-space:pre\">Votes</th></tr><tr><td style=\"text-align:left;white-space:pre\">forest</td><td style=\"text-align:left;white-space:pre\">2</td></tr><tr><td style=\"text-align:left;white-space:pre\">shore</td><td style=\"text-align:left;white-space:pre\">3</td></tr><tr><td style=\"text-align:left;white-space:pre\">backyard</td><td style=\"text-align:left;white-space:pre\">1</td></tr><tr><td style=\"text-align:left;white-space:pre\">total</td><td style=\"text-align:left;white-space:pre\">6</td></tr></table></body></html>"
      ]
     },
     "metadata": {},
     "output_type": "display_data"
    }
   ],
   "source": [
    "SELECT IFNULL(COLUMN_GET(choices, answer AS CHAR), 'total')\n",
    "AS 'Birding site', COUNT(*) AS 'Votes'\n",
    "FROM survey_answers\n",
    "JOIN survey_questions USING(question_id)\n",
    "WHERE survey_id=1\n",
    "AND question_id =1\n",
    "GROUP BY answer WITH ROLLUP;"
   ]
  },
  {
   "cell_type": "code",
   "execution_count": 67,
   "id": "single-equality",
   "metadata": {},
   "outputs": [
    {
     "data": {
      "text/html": [
       "Query OK"
      ]
     },
     "metadata": {},
     "output_type": "display_data"
    }
   ],
   "source": [
    "CREATE TABLE rookery.conservation_status\n",
    "(status_id INT AUTO_INCREMENT PRIMARY KEY,\n",
    "conservation_category CHAR(10),\n",
    "conservation_state CHAR(25) );"
   ]
  },
  {
   "cell_type": "code",
   "execution_count": 68,
   "id": "dependent-constitutional",
   "metadata": {},
   "outputs": [
    {
     "data": {
      "text/html": [
       "<html><body><table border=\"1\"><tr><th style=\"text-align:left;white-space:pre\">Field</th><th style=\"text-align:left;white-space:pre\">Type</th><th style=\"text-align:left;white-space:pre\">Null</th><th style=\"text-align:left;white-space:pre\">Key</th><th style=\"text-align:left;white-space:pre\">Default</th><th style=\"text-align:left;white-space:pre\">Extra</th></tr><tr><td style=\"text-align:left;white-space:pre\">status_id</td><td style=\"text-align:left;white-space:pre\">int(11)</td><td style=\"text-align:left;white-space:pre\">NO</td><td style=\"text-align:left;white-space:pre\">PRI</td><td style=\"text-align:left;white-space:pre\">NULL</td><td style=\"text-align:left;white-space:pre\">auto_increment</td></tr><tr><td style=\"text-align:left;white-space:pre\">conservation_category</td><td style=\"text-align:left;white-space:pre\">char(10)</td><td style=\"text-align:left;white-space:pre\">YES</td><td style=\"text-align:left;white-space:pre\"></td><td style=\"text-align:left;white-space:pre\">NULL</td><td style=\"text-align:left;white-space:pre\"></td></tr><tr><td style=\"text-align:left;white-space:pre\">conservation_state</td><td style=\"text-align:left;white-space:pre\">char(25)</td><td style=\"text-align:left;white-space:pre\">YES</td><td style=\"text-align:left;white-space:pre\"></td><td style=\"text-align:left;white-space:pre\">NULL</td><td style=\"text-align:left;white-space:pre\"></td></tr></table></body></html>"
      ]
     },
     "metadata": {},
     "output_type": "display_data"
    }
   ],
   "source": [
    "DESCRIBE rookery.conservation_status;"
   ]
  },
  {
   "cell_type": "code",
   "execution_count": 69,
   "id": "therapeutic-privacy",
   "metadata": {},
   "outputs": [
    {
     "data": {
      "text/html": [
       "Query OK"
      ]
     },
     "metadata": {},
     "output_type": "display_data"
    }
   ],
   "source": [
    "INSERT INTO rookery.conservation_status\n",
    "(conservation_category, conservation_state)\n",
    "VALUES('Extinct','Extinct'),\n",
    "('Extinct','Extinct in Wild'),\n",
    "('Threatened','Critically Endangered'),\n",
    "('Threatened','Endangered'),\n",
    "('Threatened','Vulnerable'),\n",
    "('Lower Risk','Conservation Dependent'),\n",
    "('Lower Risk','Near Threatened'),\n",
    "('Lower Risk','Least Concern');"
   ]
  },
  {
   "cell_type": "code",
   "execution_count": 71,
   "id": "institutional-candidate",
   "metadata": {},
   "outputs": [
    {
     "data": {
      "text/html": [
       "<html><body><table border=\"1\"><tr><th style=\"text-align:left;white-space:pre\">status_id</th><th style=\"text-align:left;white-space:pre\">conservation_category</th><th style=\"text-align:left;white-space:pre\">conservation_state</th></tr><tr><td style=\"text-align:left;white-space:pre\">1</td><td style=\"text-align:left;white-space:pre\">Extinct</td><td style=\"text-align:left;white-space:pre\">Extinct</td></tr><tr><td style=\"text-align:left;white-space:pre\">2</td><td style=\"text-align:left;white-space:pre\">Extinct</td><td style=\"text-align:left;white-space:pre\">Extinct in Wild</td></tr><tr><td style=\"text-align:left;white-space:pre\">3</td><td style=\"text-align:left;white-space:pre\">Threatened</td><td style=\"text-align:left;white-space:pre\">Critically Endangered</td></tr><tr><td style=\"text-align:left;white-space:pre\">4</td><td style=\"text-align:left;white-space:pre\">Threatened</td><td style=\"text-align:left;white-space:pre\">Endangered</td></tr><tr><td style=\"text-align:left;white-space:pre\">5</td><td style=\"text-align:left;white-space:pre\">Threatened</td><td style=\"text-align:left;white-space:pre\">Vulnerable</td></tr><tr><td style=\"text-align:left;white-space:pre\">6</td><td style=\"text-align:left;white-space:pre\">Lower Risk</td><td style=\"text-align:left;white-space:pre\">Conservation Dependent</td></tr><tr><td style=\"text-align:left;white-space:pre\">7</td><td style=\"text-align:left;white-space:pre\">Lower Risk</td><td style=\"text-align:left;white-space:pre\">Near Threatened</td></tr><tr><td style=\"text-align:left;white-space:pre\">8</td><td style=\"text-align:left;white-space:pre\">Lower Risk</td><td style=\"text-align:left;white-space:pre\">Least Concern</td></tr></table></body></html>"
      ]
     },
     "metadata": {},
     "output_type": "display_data"
    }
   ],
   "source": [
    "SELECT * FROM rookery.conservation_status;"
   ]
  },
  {
   "cell_type": "code",
   "execution_count": 73,
   "id": "approved-first",
   "metadata": {},
   "outputs": [
    {
     "data": {
      "text/html": [
       "Query OK"
      ]
     },
     "metadata": {},
     "output_type": "display_data"
    }
   ],
   "source": [
    "USE test;"
   ]
  },
  {
   "cell_type": "code",
   "execution_count": 74,
   "id": "north-conditioning",
   "metadata": {},
   "outputs": [
    {
     "data": {
      "text/html": [
       "Stage: 2 of 2 'Enabling keys'      0% of stage done\r",
       "                                                   \r"
      ]
     },
     "metadata": {},
     "output_type": "display_data"
    }
   ],
   "source": [
    "ALTER TABLE birds_new\n",
    "CHANGE COLUMN endangered conservation_status_id INT DEFAULT 8;"
   ]
  },
  {
   "cell_type": "code",
   "execution_count": 75,
   "id": "mighty-sussex",
   "metadata": {},
   "outputs": [
    {
     "data": {
      "text/html": [
       "<html><body><table border=\"1\"><tr><th style=\"text-align:left;white-space:pre\">bird_id</th><th style=\"text-align:left;white-space:pre\">scientific_name</th><th style=\"text-align:left;white-space:pre\">common_name</th><th style=\"text-align:left;white-space:pre\">family_id</th><th style=\"text-align:left;white-space:pre\">conservation_status_id</th><th style=\"text-align:left;white-space:pre\">wing_id</th><th style=\"text-align:left;white-space:pre\">body_id</th><th style=\"text-align:left;white-space:pre\">bill_id</th><th style=\"text-align:left;white-space:pre\">description</th></tr><tr><td style=\"text-align:left;white-space:pre\">1</td><td style=\"text-align:left;white-space:pre\">Charadrius vociferus</td><td style=\"text-align:left;white-space:pre\">Killdeer</td><td style=\"text-align:left;white-space:pre\">NULL</td><td style=\"text-align:left;white-space:pre\">7</td><td style=\"text-align:left;white-space:pre\">NULL</td><td style=\"text-align:left;white-space:pre\">NULL</td><td style=\"text-align:left;white-space:pre\">NULL</td><td style=\"text-align:left;white-space:pre\">NULL</td></tr><tr><td style=\"text-align:left;white-space:pre\">2</td><td style=\"text-align:left;white-space:pre\">Gavia immer</td><td style=\"text-align:left;white-space:pre\">Great Northern Loon</td><td style=\"text-align:left;white-space:pre\">NULL</td><td style=\"text-align:left;white-space:pre\">7</td><td style=\"text-align:left;white-space:pre\">NULL</td><td style=\"text-align:left;white-space:pre\">NULL</td><td style=\"text-align:left;white-space:pre\">NULL</td><td style=\"text-align:left;white-space:pre\">NULL</td></tr><tr><td style=\"text-align:left;white-space:pre\">3</td><td style=\"text-align:left;white-space:pre\">Aix sponsa</td><td style=\"text-align:left;white-space:pre\">Wood Duck</td><td style=\"text-align:left;white-space:pre\">NULL</td><td style=\"text-align:left;white-space:pre\">7</td><td style=\"text-align:left;white-space:pre\">NULL</td><td style=\"text-align:left;white-space:pre\">NULL</td><td style=\"text-align:left;white-space:pre\">NULL</td><td style=\"text-align:left;white-space:pre\">NULL</td></tr><tr><td style=\"text-align:left;white-space:pre\">4</td><td style=\"text-align:left;white-space:pre\">Chordeiles minor</td><td style=\"text-align:left;white-space:pre\">Common Nighthawk</td><td style=\"text-align:left;white-space:pre\">NULL</td><td style=\"text-align:left;white-space:pre\">7</td><td style=\"text-align:left;white-space:pre\">NULL</td><td style=\"text-align:left;white-space:pre\">NULL</td><td style=\"text-align:left;white-space:pre\">NULL</td><td style=\"text-align:left;white-space:pre\">NULL</td></tr><tr><td style=\"text-align:left;white-space:pre\">5</td><td style=\"text-align:left;white-space:pre\">Sitta carolinensis</td><td style=\"text-align:left;white-space:pre\"> White-breasted Nuthatch</td><td style=\"text-align:left;white-space:pre\">NULL</td><td style=\"text-align:left;white-space:pre\">7</td><td style=\"text-align:left;white-space:pre\">NULL</td><td style=\"text-align:left;white-space:pre\">NULL</td><td style=\"text-align:left;white-space:pre\">NULL</td><td style=\"text-align:left;white-space:pre\">NULL</td></tr><tr><td style=\"text-align:left;white-space:pre\">6</td><td style=\"text-align:left;white-space:pre\">Apteryx mantelli</td><td style=\"text-align:left;white-space:pre\">North Island Brown Kiwi</td><td style=\"text-align:left;white-space:pre\">NULL</td><td style=\"text-align:left;white-space:pre\">7</td><td style=\"text-align:left;white-space:pre\">NULL</td><td style=\"text-align:left;white-space:pre\">NULL</td><td style=\"text-align:left;white-space:pre\">NULL</td><td style=\"text-align:left;white-space:pre\">NULL</td></tr></table></body></html>"
      ]
     },
     "metadata": {},
     "output_type": "display_data"
    }
   ],
   "source": [
    "SELECT * FROM birds_new;"
   ]
  },
  {
   "cell_type": "code",
   "execution_count": 76,
   "id": "cosmetic-brown",
   "metadata": {},
   "outputs": [
    {
     "data": {
      "text/html": [
       "Query OK"
      ]
     },
     "metadata": {},
     "output_type": "display_data"
    }
   ],
   "source": [
    "ALTER TABLE birds_new\n",
    "ALTER conservation_status_id SET DEFAULT 7;"
   ]
  },
  {
   "cell_type": "code",
   "execution_count": 77,
   "id": "forced-plain",
   "metadata": {},
   "outputs": [
    {
     "data": {
      "text/html": [
       "<html><body><table border=\"1\"><tr><th style=\"text-align:left;white-space:pre\">bird_id</th><th style=\"text-align:left;white-space:pre\">scientific_name</th><th style=\"text-align:left;white-space:pre\">common_name</th><th style=\"text-align:left;white-space:pre\">family_id</th><th style=\"text-align:left;white-space:pre\">conservation_status_id</th><th style=\"text-align:left;white-space:pre\">wing_id</th><th style=\"text-align:left;white-space:pre\">body_id</th><th style=\"text-align:left;white-space:pre\">bill_id</th><th style=\"text-align:left;white-space:pre\">description</th></tr><tr><td style=\"text-align:left;white-space:pre\">1</td><td style=\"text-align:left;white-space:pre\">Charadrius vociferus</td><td style=\"text-align:left;white-space:pre\">Killdeer</td><td style=\"text-align:left;white-space:pre\">NULL</td><td style=\"text-align:left;white-space:pre\">7</td><td style=\"text-align:left;white-space:pre\">NULL</td><td style=\"text-align:left;white-space:pre\">NULL</td><td style=\"text-align:left;white-space:pre\">NULL</td><td style=\"text-align:left;white-space:pre\">NULL</td></tr><tr><td style=\"text-align:left;white-space:pre\">2</td><td style=\"text-align:left;white-space:pre\">Gavia immer</td><td style=\"text-align:left;white-space:pre\">Great Northern Loon</td><td style=\"text-align:left;white-space:pre\">NULL</td><td style=\"text-align:left;white-space:pre\">7</td><td style=\"text-align:left;white-space:pre\">NULL</td><td style=\"text-align:left;white-space:pre\">NULL</td><td style=\"text-align:left;white-space:pre\">NULL</td><td style=\"text-align:left;white-space:pre\">NULL</td></tr><tr><td style=\"text-align:left;white-space:pre\">3</td><td style=\"text-align:left;white-space:pre\">Aix sponsa</td><td style=\"text-align:left;white-space:pre\">Wood Duck</td><td style=\"text-align:left;white-space:pre\">NULL</td><td style=\"text-align:left;white-space:pre\">7</td><td style=\"text-align:left;white-space:pre\">NULL</td><td style=\"text-align:left;white-space:pre\">NULL</td><td style=\"text-align:left;white-space:pre\">NULL</td><td style=\"text-align:left;white-space:pre\">NULL</td></tr><tr><td style=\"text-align:left;white-space:pre\">4</td><td style=\"text-align:left;white-space:pre\">Chordeiles minor</td><td style=\"text-align:left;white-space:pre\">Common Nighthawk</td><td style=\"text-align:left;white-space:pre\">NULL</td><td style=\"text-align:left;white-space:pre\">7</td><td style=\"text-align:left;white-space:pre\">NULL</td><td style=\"text-align:left;white-space:pre\">NULL</td><td style=\"text-align:left;white-space:pre\">NULL</td><td style=\"text-align:left;white-space:pre\">NULL</td></tr><tr><td style=\"text-align:left;white-space:pre\">5</td><td style=\"text-align:left;white-space:pre\">Sitta carolinensis</td><td style=\"text-align:left;white-space:pre\"> White-breasted Nuthatch</td><td style=\"text-align:left;white-space:pre\">NULL</td><td style=\"text-align:left;white-space:pre\">7</td><td style=\"text-align:left;white-space:pre\">NULL</td><td style=\"text-align:left;white-space:pre\">NULL</td><td style=\"text-align:left;white-space:pre\">NULL</td><td style=\"text-align:left;white-space:pre\">NULL</td></tr><tr><td style=\"text-align:left;white-space:pre\">6</td><td style=\"text-align:left;white-space:pre\">Apteryx mantelli</td><td style=\"text-align:left;white-space:pre\">North Island Brown Kiwi</td><td style=\"text-align:left;white-space:pre\">NULL</td><td style=\"text-align:left;white-space:pre\">7</td><td style=\"text-align:left;white-space:pre\">NULL</td><td style=\"text-align:left;white-space:pre\">NULL</td><td style=\"text-align:left;white-space:pre\">NULL</td><td style=\"text-align:left;white-space:pre\">NULL</td></tr></table></body></html>"
      ]
     },
     "metadata": {},
     "output_type": "display_data"
    }
   ],
   "source": [
    "SELECT * FROM birds_new;"
   ]
  },
  {
   "cell_type": "code",
   "execution_count": 78,
   "id": "cross-ecuador",
   "metadata": {},
   "outputs": [
    {
     "data": {
      "text/html": [
       "Query OK"
      ]
     },
     "metadata": {},
     "output_type": "display_data"
    }
   ],
   "source": [
    "ALTER TABLE birds_new\n",
    "ALTER conservation_status_id DROP DEFAULT;"
   ]
  },
  {
   "cell_type": "code",
   "execution_count": 79,
   "id": "alien-browser",
   "metadata": {},
   "outputs": [
    {
     "data": {
      "text/html": [
       "<html><body><table border=\"1\"><tr><th style=\"text-align:left;white-space:pre\">bird_id</th><th style=\"text-align:left;white-space:pre\">scientific_name</th><th style=\"text-align:left;white-space:pre\">common_name</th><th style=\"text-align:left;white-space:pre\">family_id</th><th style=\"text-align:left;white-space:pre\">conservation_status_id</th><th style=\"text-align:left;white-space:pre\">wing_id</th><th style=\"text-align:left;white-space:pre\">body_id</th><th style=\"text-align:left;white-space:pre\">bill_id</th><th style=\"text-align:left;white-space:pre\">description</th></tr><tr><td style=\"text-align:left;white-space:pre\">1</td><td style=\"text-align:left;white-space:pre\">Charadrius vociferus</td><td style=\"text-align:left;white-space:pre\">Killdeer</td><td style=\"text-align:left;white-space:pre\">NULL</td><td style=\"text-align:left;white-space:pre\">7</td><td style=\"text-align:left;white-space:pre\">NULL</td><td style=\"text-align:left;white-space:pre\">NULL</td><td style=\"text-align:left;white-space:pre\">NULL</td><td style=\"text-align:left;white-space:pre\">NULL</td></tr><tr><td style=\"text-align:left;white-space:pre\">2</td><td style=\"text-align:left;white-space:pre\">Gavia immer</td><td style=\"text-align:left;white-space:pre\">Great Northern Loon</td><td style=\"text-align:left;white-space:pre\">NULL</td><td style=\"text-align:left;white-space:pre\">7</td><td style=\"text-align:left;white-space:pre\">NULL</td><td style=\"text-align:left;white-space:pre\">NULL</td><td style=\"text-align:left;white-space:pre\">NULL</td><td style=\"text-align:left;white-space:pre\">NULL</td></tr><tr><td style=\"text-align:left;white-space:pre\">3</td><td style=\"text-align:left;white-space:pre\">Aix sponsa</td><td style=\"text-align:left;white-space:pre\">Wood Duck</td><td style=\"text-align:left;white-space:pre\">NULL</td><td style=\"text-align:left;white-space:pre\">7</td><td style=\"text-align:left;white-space:pre\">NULL</td><td style=\"text-align:left;white-space:pre\">NULL</td><td style=\"text-align:left;white-space:pre\">NULL</td><td style=\"text-align:left;white-space:pre\">NULL</td></tr><tr><td style=\"text-align:left;white-space:pre\">4</td><td style=\"text-align:left;white-space:pre\">Chordeiles minor</td><td style=\"text-align:left;white-space:pre\">Common Nighthawk</td><td style=\"text-align:left;white-space:pre\">NULL</td><td style=\"text-align:left;white-space:pre\">7</td><td style=\"text-align:left;white-space:pre\">NULL</td><td style=\"text-align:left;white-space:pre\">NULL</td><td style=\"text-align:left;white-space:pre\">NULL</td><td style=\"text-align:left;white-space:pre\">NULL</td></tr><tr><td style=\"text-align:left;white-space:pre\">5</td><td style=\"text-align:left;white-space:pre\">Sitta carolinensis</td><td style=\"text-align:left;white-space:pre\"> White-breasted Nuthatch</td><td style=\"text-align:left;white-space:pre\">NULL</td><td style=\"text-align:left;white-space:pre\">7</td><td style=\"text-align:left;white-space:pre\">NULL</td><td style=\"text-align:left;white-space:pre\">NULL</td><td style=\"text-align:left;white-space:pre\">NULL</td><td style=\"text-align:left;white-space:pre\">NULL</td></tr><tr><td style=\"text-align:left;white-space:pre\">6</td><td style=\"text-align:left;white-space:pre\">Apteryx mantelli</td><td style=\"text-align:left;white-space:pre\">North Island Brown Kiwi</td><td style=\"text-align:left;white-space:pre\">NULL</td><td style=\"text-align:left;white-space:pre\">7</td><td style=\"text-align:left;white-space:pre\">NULL</td><td style=\"text-align:left;white-space:pre\">NULL</td><td style=\"text-align:left;white-space:pre\">NULL</td><td style=\"text-align:left;white-space:pre\">NULL</td></tr></table></body></html>"
      ]
     },
     "metadata": {},
     "output_type": "display_data"
    }
   ],
   "source": [
    "SELECT * FROM birds_new;"
   ]
  },
  {
   "cell_type": "code",
   "execution_count": 80,
   "id": "legendary-illinois",
   "metadata": {},
   "outputs": [
    {
     "data": {
      "text/html": [
       "<html><body><table border=\"1\"><tr><th style=\"text-align:left;white-space:pre\">Field</th><th style=\"text-align:left;white-space:pre\">Type</th><th style=\"text-align:left;white-space:pre\">Null</th><th style=\"text-align:left;white-space:pre\">Key</th><th style=\"text-align:left;white-space:pre\">Default</th><th style=\"text-align:left;white-space:pre\">Extra</th></tr><tr><td style=\"text-align:left;white-space:pre\">bird_id</td><td style=\"text-align:left;white-space:pre\">int(11)</td><td style=\"text-align:left;white-space:pre\">NO</td><td style=\"text-align:left;white-space:pre\">PRI</td><td style=\"text-align:left;white-space:pre\">NULL</td><td style=\"text-align:left;white-space:pre\">auto_increment</td></tr><tr><td style=\"text-align:left;white-space:pre\">scientific_name</td><td style=\"text-align:left;white-space:pre\">varchar(255)</td><td style=\"text-align:left;white-space:pre\">YES</td><td style=\"text-align:left;white-space:pre\">UNI</td><td style=\"text-align:left;white-space:pre\">NULL</td><td style=\"text-align:left;white-space:pre\"></td></tr><tr><td style=\"text-align:left;white-space:pre\">common_name</td><td style=\"text-align:left;white-space:pre\">varchar(255)</td><td style=\"text-align:left;white-space:pre\">YES</td><td style=\"text-align:left;white-space:pre\"></td><td style=\"text-align:left;white-space:pre\">NULL</td><td style=\"text-align:left;white-space:pre\"></td></tr><tr><td style=\"text-align:left;white-space:pre\">family_id</td><td style=\"text-align:left;white-space:pre\">int(11)</td><td style=\"text-align:left;white-space:pre\">YES</td><td style=\"text-align:left;white-space:pre\"></td><td style=\"text-align:left;white-space:pre\">NULL</td><td style=\"text-align:left;white-space:pre\"></td></tr><tr><td style=\"text-align:left;white-space:pre\">conservation_status_id</td><td style=\"text-align:left;white-space:pre\">int(11)</td><td style=\"text-align:left;white-space:pre\">YES</td><td style=\"text-align:left;white-space:pre\"></td><td style=\"text-align:left;white-space:pre\">NULL</td><td style=\"text-align:left;white-space:pre\"></td></tr><tr><td style=\"text-align:left;white-space:pre\">wing_id</td><td style=\"text-align:left;white-space:pre\">char(2)</td><td style=\"text-align:left;white-space:pre\">YES</td><td style=\"text-align:left;white-space:pre\"></td><td style=\"text-align:left;white-space:pre\">NULL</td><td style=\"text-align:left;white-space:pre\"></td></tr><tr><td style=\"text-align:left;white-space:pre\">body_id</td><td style=\"text-align:left;white-space:pre\">char(2)</td><td style=\"text-align:left;white-space:pre\">YES</td><td style=\"text-align:left;white-space:pre\"></td><td style=\"text-align:left;white-space:pre\">NULL</td><td style=\"text-align:left;white-space:pre\"></td></tr><tr><td style=\"text-align:left;white-space:pre\">bill_id</td><td style=\"text-align:left;white-space:pre\">char(2)</td><td style=\"text-align:left;white-space:pre\">YES</td><td style=\"text-align:left;white-space:pre\"></td><td style=\"text-align:left;white-space:pre\">NULL</td><td style=\"text-align:left;white-space:pre\"></td></tr><tr><td style=\"text-align:left;white-space:pre\">description</td><td style=\"text-align:left;white-space:pre\">text</td><td style=\"text-align:left;white-space:pre\">YES</td><td style=\"text-align:left;white-space:pre\"></td><td style=\"text-align:left;white-space:pre\">NULL</td><td style=\"text-align:left;white-space:pre\"></td></tr></table></body></html>"
      ]
     },
     "metadata": {},
     "output_type": "display_data"
    }
   ],
   "source": [
    "DESCRIBE birds_new;"
   ]
  },
  {
   "cell_type": "code",
   "execution_count": 81,
   "id": "yellow-bridge",
   "metadata": {},
   "outputs": [
    {
     "data": {
      "text/html": [
       "<html><body><table border=\"1\"><tr><th style=\"text-align:left;white-space:pre\">auto_increment</th></tr><tr><td style=\"text-align:left;white-space:pre\">7</td></tr></table></body></html>"
      ]
     },
     "metadata": {},
     "output_type": "display_data"
    }
   ],
   "source": [
    "SELECT auto_increment\n",
    "FROM information_schema.tables\n",
    "WHERE table_name = 'birds';"
   ]
  },
  {
   "cell_type": "code",
   "execution_count": 82,
   "id": "exotic-slope",
   "metadata": {},
   "outputs": [
    {
     "data": {
      "text/html": [
       "Query OK"
      ]
     },
     "metadata": {},
     "output_type": "display_data"
    }
   ],
   "source": [
    "USE rookery\n",
    "ALTER TABLE birds\n",
    "AUTO_INCREMENT = 10;"
   ]
  },
  {
   "cell_type": "code",
   "execution_count": 83,
   "id": "earlier-twist",
   "metadata": {},
   "outputs": [
    {
     "data": {
      "text/html": [
       "<html><body><table border=\"1\"><tr><th style=\"text-align:left;white-space:pre\">bird_id</th><th style=\"text-align:left;white-space:pre\">scientific_name</th><th style=\"text-align:left;white-space:pre\">common_name</th><th style=\"text-align:left;white-space:pre\">family_id</th><th style=\"text-align:left;white-space:pre\">description</th></tr><tr><td style=\"text-align:left;white-space:pre\">1</td><td style=\"text-align:left;white-space:pre\">Charadrius vociferus</td><td style=\"text-align:left;white-space:pre\">Killdeer</td><td style=\"text-align:left;white-space:pre\">NULL</td><td style=\"text-align:left;white-space:pre\">NULL</td></tr><tr><td style=\"text-align:left;white-space:pre\">2</td><td style=\"text-align:left;white-space:pre\">Gavia immer</td><td style=\"text-align:left;white-space:pre\">Great Northern Loon</td><td style=\"text-align:left;white-space:pre\">NULL</td><td style=\"text-align:left;white-space:pre\">NULL</td></tr><tr><td style=\"text-align:left;white-space:pre\">3</td><td style=\"text-align:left;white-space:pre\">Aix sponsa</td><td style=\"text-align:left;white-space:pre\">Wood Duck</td><td style=\"text-align:left;white-space:pre\">NULL</td><td style=\"text-align:left;white-space:pre\">NULL</td></tr><tr><td style=\"text-align:left;white-space:pre\">4</td><td style=\"text-align:left;white-space:pre\">Chordeiles minor</td><td style=\"text-align:left;white-space:pre\">Common Nighthawk</td><td style=\"text-align:left;white-space:pre\">NULL</td><td style=\"text-align:left;white-space:pre\">NULL</td></tr><tr><td style=\"text-align:left;white-space:pre\">5</td><td style=\"text-align:left;white-space:pre\">Sitta carolinensis</td><td style=\"text-align:left;white-space:pre\"> White-breasted Nuthatch</td><td style=\"text-align:left;white-space:pre\">NULL</td><td style=\"text-align:left;white-space:pre\">NULL</td></tr><tr><td style=\"text-align:left;white-space:pre\">6</td><td style=\"text-align:left;white-space:pre\">Apteryx mantelli</td><td style=\"text-align:left;white-space:pre\">North Island Brown Kiwi</td><td style=\"text-align:left;white-space:pre\">NULL</td><td style=\"text-align:left;white-space:pre\">NULL</td></tr></table></body></html>"
      ]
     },
     "metadata": {},
     "output_type": "display_data"
    }
   ],
   "source": [
    "SELECT * FROM birds;"
   ]
  },
  {
   "cell_type": "code",
   "execution_count": 84,
   "id": "beginning-boating",
   "metadata": {},
   "outputs": [
    {
     "data": {
      "text/html": [
       "Query OK"
      ]
     },
     "metadata": {},
     "output_type": "display_data"
    }
   ],
   "source": [
    "CREATE TABLE birds_new LIKE birds;"
   ]
  },
  {
   "cell_type": "code",
   "execution_count": 85,
   "id": "certain-rapid",
   "metadata": {},
   "outputs": [
    {
     "data": {
      "text/html": [
       "<html><body><table border=\"1\"><tr><th style=\"text-align:left;white-space:pre\">Field</th><th style=\"text-align:left;white-space:pre\">Type</th><th style=\"text-align:left;white-space:pre\">Null</th><th style=\"text-align:left;white-space:pre\">Key</th><th style=\"text-align:left;white-space:pre\">Default</th><th style=\"text-align:left;white-space:pre\">Extra</th></tr><tr><td style=\"text-align:left;white-space:pre\">bird_id</td><td style=\"text-align:left;white-space:pre\">int(11)</td><td style=\"text-align:left;white-space:pre\">NO</td><td style=\"text-align:left;white-space:pre\">PRI</td><td style=\"text-align:left;white-space:pre\">NULL</td><td style=\"text-align:left;white-space:pre\">auto_increment</td></tr><tr><td style=\"text-align:left;white-space:pre\">scientific_name</td><td style=\"text-align:left;white-space:pre\">varchar(255)</td><td style=\"text-align:left;white-space:pre\">YES</td><td style=\"text-align:left;white-space:pre\">UNI</td><td style=\"text-align:left;white-space:pre\">NULL</td><td style=\"text-align:left;white-space:pre\"></td></tr><tr><td style=\"text-align:left;white-space:pre\">common_name</td><td style=\"text-align:left;white-space:pre\">varchar(50)</td><td style=\"text-align:left;white-space:pre\">YES</td><td style=\"text-align:left;white-space:pre\"></td><td style=\"text-align:left;white-space:pre\">NULL</td><td style=\"text-align:left;white-space:pre\"></td></tr><tr><td style=\"text-align:left;white-space:pre\">family_id</td><td style=\"text-align:left;white-space:pre\">int(11)</td><td style=\"text-align:left;white-space:pre\">YES</td><td style=\"text-align:left;white-space:pre\"></td><td style=\"text-align:left;white-space:pre\">NULL</td><td style=\"text-align:left;white-space:pre\"></td></tr><tr><td style=\"text-align:left;white-space:pre\">description</td><td style=\"text-align:left;white-space:pre\">text</td><td style=\"text-align:left;white-space:pre\">YES</td><td style=\"text-align:left;white-space:pre\"></td><td style=\"text-align:left;white-space:pre\">NULL</td><td style=\"text-align:left;white-space:pre\"></td></tr></table></body></html>"
      ]
     },
     "metadata": {},
     "output_type": "display_data"
    }
   ],
   "source": [
    "DESCRIBE birds_new; "
   ]
  },
  {
   "cell_type": "code",
   "execution_count": 86,
   "id": "anonymous-marketplace",
   "metadata": {},
   "outputs": [
    {
     "data": {
      "text/html": [
       "Query OK"
      ]
     },
     "metadata": {},
     "output_type": "display_data"
    }
   ],
   "source": [
    "SELECT * FROM birds_new;"
   ]
  },
  {
   "cell_type": "code",
   "execution_count": 87,
   "id": "wanted-reflection",
   "metadata": {},
   "outputs": [
    {
     "data": {
      "text/html": [
       "<html><body><table border=\"1\"><tr><th style=\"text-align:left;white-space:pre\">Field</th><th style=\"text-align:left;white-space:pre\">Type</th><th style=\"text-align:left;white-space:pre\">Null</th><th style=\"text-align:left;white-space:pre\">Key</th><th style=\"text-align:left;white-space:pre\">Default</th><th style=\"text-align:left;white-space:pre\">Extra</th></tr><tr><td style=\"text-align:left;white-space:pre\">bird_id</td><td style=\"text-align:left;white-space:pre\">int(11)</td><td style=\"text-align:left;white-space:pre\">NO</td><td style=\"text-align:left;white-space:pre\">PRI</td><td style=\"text-align:left;white-space:pre\">NULL</td><td style=\"text-align:left;white-space:pre\">auto_increment</td></tr><tr><td style=\"text-align:left;white-space:pre\">scientific_name</td><td style=\"text-align:left;white-space:pre\">varchar(255)</td><td style=\"text-align:left;white-space:pre\">YES</td><td style=\"text-align:left;white-space:pre\">UNI</td><td style=\"text-align:left;white-space:pre\">NULL</td><td style=\"text-align:left;white-space:pre\"></td></tr><tr><td style=\"text-align:left;white-space:pre\">common_name</td><td style=\"text-align:left;white-space:pre\">varchar(50)</td><td style=\"text-align:left;white-space:pre\">YES</td><td style=\"text-align:left;white-space:pre\"></td><td style=\"text-align:left;white-space:pre\">NULL</td><td style=\"text-align:left;white-space:pre\"></td></tr><tr><td style=\"text-align:left;white-space:pre\">family_id</td><td style=\"text-align:left;white-space:pre\">int(11)</td><td style=\"text-align:left;white-space:pre\">YES</td><td style=\"text-align:left;white-space:pre\"></td><td style=\"text-align:left;white-space:pre\">NULL</td><td style=\"text-align:left;white-space:pre\"></td></tr><tr><td style=\"text-align:left;white-space:pre\">description</td><td style=\"text-align:left;white-space:pre\">text</td><td style=\"text-align:left;white-space:pre\">YES</td><td style=\"text-align:left;white-space:pre\"></td><td style=\"text-align:left;white-space:pre\">NULL</td><td style=\"text-align:left;white-space:pre\"></td></tr></table></body></html>"
      ]
     },
     "metadata": {},
     "output_type": "display_data"
    }
   ],
   "source": [
    "DESCRIBE birds;"
   ]
  },
  {
   "cell_type": "code",
   "execution_count": 88,
   "id": "abandoned-attitude",
   "metadata": {},
   "outputs": [
    {
     "data": {
      "text/html": [
       "Query OK"
      ]
     },
     "metadata": {},
     "output_type": "display_data"
    }
   ],
   "source": [
    "ALTER TABLE birds_new\n",
    "AUTO_INCREMENT = 6;"
   ]
  },
  {
   "cell_type": "code",
   "execution_count": 89,
   "id": "adequate-conservative",
   "metadata": {},
   "outputs": [
    {
     "data": {
      "text/html": [
       "Query OK"
      ]
     },
     "metadata": {},
     "output_type": "display_data"
    }
   ],
   "source": [
    "SELECT * FROM birds_new;"
   ]
  },
  {
   "cell_type": "code",
   "execution_count": 90,
   "id": "internal-semiconductor",
   "metadata": {},
   "outputs": [
    {
     "data": {
      "text/html": [
       "Query OK"
      ]
     },
     "metadata": {},
     "output_type": "display_data"
    }
   ],
   "source": [
    "CREATE TABLE birds_details\n",
    "SELECT bird_id, description\n",
    "FROM birds;"
   ]
  },
  {
   "cell_type": "code",
   "execution_count": 91,
   "id": "comprehensive-anthony",
   "metadata": {},
   "outputs": [
    {
     "data": {
      "text/html": [
       "<html><body><table border=\"1\"><tr><th style=\"text-align:left;white-space:pre\">bird_id</th><th style=\"text-align:left;white-space:pre\">description</th></tr><tr><td style=\"text-align:left;white-space:pre\">1</td><td style=\"text-align:left;white-space:pre\">NULL</td></tr><tr><td style=\"text-align:left;white-space:pre\">2</td><td style=\"text-align:left;white-space:pre\">NULL</td></tr><tr><td style=\"text-align:left;white-space:pre\">3</td><td style=\"text-align:left;white-space:pre\">NULL</td></tr><tr><td style=\"text-align:left;white-space:pre\">4</td><td style=\"text-align:left;white-space:pre\">NULL</td></tr><tr><td style=\"text-align:left;white-space:pre\">5</td><td style=\"text-align:left;white-space:pre\">NULL</td></tr><tr><td style=\"text-align:left;white-space:pre\">6</td><td style=\"text-align:left;white-space:pre\">NULL</td></tr></table></body></html>"
      ]
     },
     "metadata": {},
     "output_type": "display_data"
    }
   ],
   "source": [
    "SELECT * FROM birds_details;"
   ]
  },
  {
   "cell_type": "code",
   "execution_count": 92,
   "id": "sweet-twenty",
   "metadata": {},
   "outputs": [
    {
     "data": {
      "text/html": [
       "<html><body><table border=\"1\"><tr><th style=\"text-align:left;white-space:pre\">Field</th><th style=\"text-align:left;white-space:pre\">Type</th><th style=\"text-align:left;white-space:pre\">Null</th><th style=\"text-align:left;white-space:pre\">Key</th><th style=\"text-align:left;white-space:pre\">Default</th><th style=\"text-align:left;white-space:pre\">Extra</th></tr><tr><td style=\"text-align:left;white-space:pre\">bird_id</td><td style=\"text-align:left;white-space:pre\">int(11)</td><td style=\"text-align:left;white-space:pre\">NO</td><td style=\"text-align:left;white-space:pre\"></td><td style=\"text-align:left;white-space:pre\">0</td><td style=\"text-align:left;white-space:pre\"></td></tr><tr><td style=\"text-align:left;white-space:pre\">description</td><td style=\"text-align:left;white-space:pre\">text</td><td style=\"text-align:left;white-space:pre\">YES</td><td style=\"text-align:left;white-space:pre\"></td><td style=\"text-align:left;white-space:pre\">NULL</td><td style=\"text-align:left;white-space:pre\"></td></tr></table></body></html>"
      ]
     },
     "metadata": {},
     "output_type": "display_data"
    }
   ],
   "source": [
    "DESCRIBE birds_details;"
   ]
  },
  {
   "cell_type": "code",
   "execution_count": 93,
   "id": "dutch-wisconsin",
   "metadata": {},
   "outputs": [
    {
     "data": {
      "text/html": [
       "<html><body><table border=\"1\"><tr><th style=\"text-align:left;white-space:pre\">bird_id</th><th style=\"text-align:left;white-space:pre\">scientific_name</th><th style=\"text-align:left;white-space:pre\">common_name</th><th style=\"text-align:left;white-space:pre\">family_id</th><th style=\"text-align:left;white-space:pre\">description</th></tr><tr><td style=\"text-align:left;white-space:pre\">1</td><td style=\"text-align:left;white-space:pre\">Charadrius vociferus</td><td style=\"text-align:left;white-space:pre\">Killdeer</td><td style=\"text-align:left;white-space:pre\">NULL</td><td style=\"text-align:left;white-space:pre\">NULL</td></tr><tr><td style=\"text-align:left;white-space:pre\">2</td><td style=\"text-align:left;white-space:pre\">Gavia immer</td><td style=\"text-align:left;white-space:pre\">Great Northern Loon</td><td style=\"text-align:left;white-space:pre\">NULL</td><td style=\"text-align:left;white-space:pre\">NULL</td></tr><tr><td style=\"text-align:left;white-space:pre\">3</td><td style=\"text-align:left;white-space:pre\">Aix sponsa</td><td style=\"text-align:left;white-space:pre\">Wood Duck</td><td style=\"text-align:left;white-space:pre\">NULL</td><td style=\"text-align:left;white-space:pre\">NULL</td></tr><tr><td style=\"text-align:left;white-space:pre\">4</td><td style=\"text-align:left;white-space:pre\">Chordeiles minor</td><td style=\"text-align:left;white-space:pre\">Common Nighthawk</td><td style=\"text-align:left;white-space:pre\">NULL</td><td style=\"text-align:left;white-space:pre\">NULL</td></tr><tr><td style=\"text-align:left;white-space:pre\">5</td><td style=\"text-align:left;white-space:pre\">Sitta carolinensis</td><td style=\"text-align:left;white-space:pre\"> White-breasted Nuthatch</td><td style=\"text-align:left;white-space:pre\">NULL</td><td style=\"text-align:left;white-space:pre\">NULL</td></tr><tr><td style=\"text-align:left;white-space:pre\">6</td><td style=\"text-align:left;white-space:pre\">Apteryx mantelli</td><td style=\"text-align:left;white-space:pre\">North Island Brown Kiwi</td><td style=\"text-align:left;white-space:pre\">NULL</td><td style=\"text-align:left;white-space:pre\">NULL</td></tr></table></body></html>"
      ]
     },
     "metadata": {},
     "output_type": "display_data"
    }
   ],
   "source": [
    "SELECT * FROM birds;"
   ]
  },
  {
   "cell_type": "code",
   "execution_count": 94,
   "id": "optical-saint",
   "metadata": {},
   "outputs": [
    {
     "data": {
      "text/html": [
       "Query OK"
      ]
     },
     "metadata": {},
     "output_type": "display_data"
    }
   ],
   "source": [
    "ALTER TABLE birds\n",
    "DROP COLUMN description;"
   ]
  },
  {
   "cell_type": "code",
   "execution_count": 95,
   "id": "underlying-thailand",
   "metadata": {},
   "outputs": [
    {
     "data": {
      "text/html": [
       "<html><body><table border=\"1\"><tr><th style=\"text-align:left;white-space:pre\">bird_id</th><th style=\"text-align:left;white-space:pre\">scientific_name</th><th style=\"text-align:left;white-space:pre\">common_name</th><th style=\"text-align:left;white-space:pre\">family_id</th></tr><tr><td style=\"text-align:left;white-space:pre\">1</td><td style=\"text-align:left;white-space:pre\">Charadrius vociferus</td><td style=\"text-align:left;white-space:pre\">Killdeer</td><td style=\"text-align:left;white-space:pre\">NULL</td></tr><tr><td style=\"text-align:left;white-space:pre\">2</td><td style=\"text-align:left;white-space:pre\">Gavia immer</td><td style=\"text-align:left;white-space:pre\">Great Northern Loon</td><td style=\"text-align:left;white-space:pre\">NULL</td></tr><tr><td style=\"text-align:left;white-space:pre\">3</td><td style=\"text-align:left;white-space:pre\">Aix sponsa</td><td style=\"text-align:left;white-space:pre\">Wood Duck</td><td style=\"text-align:left;white-space:pre\">NULL</td></tr><tr><td style=\"text-align:left;white-space:pre\">4</td><td style=\"text-align:left;white-space:pre\">Chordeiles minor</td><td style=\"text-align:left;white-space:pre\">Common Nighthawk</td><td style=\"text-align:left;white-space:pre\">NULL</td></tr><tr><td style=\"text-align:left;white-space:pre\">5</td><td style=\"text-align:left;white-space:pre\">Sitta carolinensis</td><td style=\"text-align:left;white-space:pre\"> White-breasted Nuthatch</td><td style=\"text-align:left;white-space:pre\">NULL</td></tr><tr><td style=\"text-align:left;white-space:pre\">6</td><td style=\"text-align:left;white-space:pre\">Apteryx mantelli</td><td style=\"text-align:left;white-space:pre\">North Island Brown Kiwi</td><td style=\"text-align:left;white-space:pre\">NULL</td></tr></table></body></html>"
      ]
     },
     "metadata": {},
     "output_type": "display_data"
    }
   ],
   "source": [
    "SELECT * FROM birds;"
   ]
  },
  {
   "cell_type": "code",
   "execution_count": 97,
   "id": "involved-oasis",
   "metadata": {},
   "outputs": [
    {
     "data": {
      "text/html": [
       "Query OK"
      ]
     },
     "metadata": {},
     "output_type": "display_data"
    }
   ],
   "source": [
    "RENAME TABLE rookery.birds TO rookery.birds_old,\n",
    "test.birds_new TO rookery.birds;"
   ]
  },
  {
   "cell_type": "code",
   "execution_count": 98,
   "id": "spatial-hypothetical",
   "metadata": {},
   "outputs": [
    {
     "data": {
      "text/html": [
       "<html><body><table border=\"1\"><tr><th style=\"text-align:left;white-space:pre\">Tables_in_rookery (birds%)</th></tr><tr><td style=\"text-align:left;white-space:pre\">birds</td></tr><tr><td style=\"text-align:left;white-space:pre\">birds_details</td></tr><tr><td style=\"text-align:left;white-space:pre\">birds_new</td></tr><tr><td style=\"text-align:left;white-space:pre\">birds_old</td></tr></table></body></html>"
      ]
     },
     "metadata": {},
     "output_type": "display_data"
    }
   ],
   "source": [
    "SHOW TABLES IN rookery LIKE 'birds%';"
   ]
  },
  {
   "cell_type": "code",
   "execution_count": 99,
   "id": "foster-mount",
   "metadata": {},
   "outputs": [
    {
     "data": {
      "text/html": [
       "Query OK"
      ]
     },
     "metadata": {},
     "output_type": "display_data"
    }
   ],
   "source": [
    "DROP TABLE birds_old;"
   ]
  },
  {
   "cell_type": "code",
   "execution_count": 100,
   "id": "listed-thermal",
   "metadata": {},
   "outputs": [
    {
     "data": {
      "text/html": [
       "<html><body><table border=\"1\"><tr><th style=\"text-align:left;white-space:pre\">Tables_in_rookery (birds%)</th></tr><tr><td style=\"text-align:left;white-space:pre\">birds</td></tr><tr><td style=\"text-align:left;white-space:pre\">birds_details</td></tr><tr><td style=\"text-align:left;white-space:pre\">birds_new</td></tr></table></body></html>"
      ]
     },
     "metadata": {},
     "output_type": "display_data"
    }
   ],
   "source": [
    "SHOW TABLES IN rookery LIKE 'birds%';"
   ]
  },
  {
   "cell_type": "code",
   "execution_count": 106,
   "id": "paperback-hamburg",
   "metadata": {},
   "outputs": [
    {
     "data": {
      "text/html": [
       "Query OK"
      ]
     },
     "metadata": {},
     "output_type": "display_data"
    }
   ],
   "source": [
    "DROP TABLE IF EXISTS apache_countries;\n",
    "CREATE TABLE apache_countries(\n",
    "  code1 char(2) DEFAULT NULL,\n",
    "  code2 char(2) DEFAULT NULL,\n",
    "  code3 char(3) DEFAULT NULL,\n",
    "  country_name varchar(255) DEFAULT NULL,\n",
    "  country_name_italian varchar(255) DEFAULT NULL,\n",
    "  KEY code1 (code1),\n",
    "  KEY code2 (code2)\n",
    ") ENGINE=MyISAM DEFAULT CHARSET=latin1;\n"
   ]
  },
  {
   "cell_type": "code",
   "execution_count": 107,
   "id": "steady-father",
   "metadata": {},
   "outputs": [
    {
     "data": {
      "text/html": [
       "Query OK"
      ]
     },
     "metadata": {},
     "output_type": "display_data"
    }
   ],
   "source": [
    "LOCK TABLES apache_countries WRITE;\n",
    "INSERT INTO apache_countries VALUES ('af','AF','AFG','Afghanistan','Afghanistan'),('ax','AX','ALA','Ã…land',NULL),('al','AL','ALB','Albania','Albania'),('dz','DZ','DZA','Algeria','Algeria'),('as','AS','ASM','American Samoa','Samoa Americane'),('ad','AD','AND','Andorra','Andorra'),('ao','AO','AGO','Angola','Angola'),('ai','AI','AIA','Anguilla','Anguilla'),('aq',NULL,NULL,'Antarctica',NULL),('ag','AG','ATG','Antigua and Barbuda','Antigua e Barbuda'),('ar','AR','ARG','Argentina','Argentina'),('am','AM','ARM','Armenia','Armenia'),('aw','AW','ABW','Aruba','Aruba'),('ac',NULL,NULL,'Ascension Island',NULL),('au','AU','AUS','Australia','Australia'),('at','AT','AUT','Austria','Austria'),('az','AZ','AZE','Azerbaijan','Azerbaijan'),('bs','BS','BHS','Bahamas','Bahamas'),('bh','BH','BHR','Bahrain','Bahrain'),('bd','BD','BGD','Bangladesh','Bangladesh'),('bb','BB','BRB','Barbados','Barbados'),('by','BY','BLR','Belarus','Bielorussia'),('be','BE','BEL','Belgium','Belgio'),('bz','BZ','BLZ','Belize','Belize'),('bj','BJ','BEN','Benin','Benin'),('bm','BM','BMU','Bermuda','Bermuda'),('bt','BT','BTN','Bhutan','Bhutan'),('bo','BO','BOL','Bolivia','Bolivia'),('ba','BA','BIH','Bosnia and Herzegovina','Bosnia-Erzegovina'),('bw','BW','BWA','Botswana','Botswana'),('bv',NULL,NULL,'Bouvet Island',NULL),('br','BR','BRA','Brazil','Brasile'),('vg','IO','VGB','British Virgin Islands','Isole Vergini Britanniche'),('io',NULL,NULL,'British Indian Ocean Territory',NULL),('bn','BN','BRN','Brunei Darussalam','Brunei Darussalam'),('bg','BG','BGR','Bulgaria','Bulgaria'),('bf','BF','BFA','Burkina Faso','Burkina Faso'),('bi','BI','BDI','Burundi','Burundi'),('kh','KH','KHM','Cambodia','Cambogia'),('cm','CM','CMR','Cameroon','Camerun'),('ca','CA','CAN','Canada','Canada'),('cv','CV','CPV','Cape Verde','Capo Verde'),('ky','KY','CYM','Cayman Islands','Isole Cayman'),('cf','CF','CAF','Central African Republic','Repubblica Centroafricana'),('td','TD','TCD','Chad','Ciad'),('cl','CL','CHL','Chile','Cile'),('cn','CN','CHN','China','Cina'),('cx',NULL,NULL,'Christmas Island',NULL),('cc',NULL,NULL,'Cocos (Keeling) Island',NULL),('co','CO','COL','Colombia','Colombia'),('km','KM','COM','Comoros','Comore'),('cg','CG','COG','Republic of Congo','Repubblica del Congo'),('cd','CD','COD','Democratic Republic of Congo','Repubblica Democratica del Congo'),('ck','CK','COK','Cook Islands','Isole Cook'),('cr','CR','CRI','Costa Rica','Costa Rica'),('ci','CI','CIV','Cote d\\'Ivoire','Costa d\\'Avorio'),('hr','HR','HRV','Croatia','Croazia'),('cu','CU','CUB','Cuba','Cuba'),('cy','CY','CYP','Cyprus','Cipro'),('cz','CZ','CZE','Czech Republic','Repubblica Ceca'),('dk','DK','DNK','Denmark','Danimarca'),('dj','DJ','DJI','Djibouti','Gibuti'),('dm','DM','DMA','Dominica','Dominica'),('do','DO','DOM','Dominican Republic','Repubblica Dominicana'),('ec','EC','ECU','Ecuador','Ecuador'),('eg','EG','EGY','Egypt','Egitto'),('sv','SV','SLV','El Salvador','El Salvador'),('gq','GQ','GNQ','Equatorial Guinea','Guinea Equatoriale'),('er','ER','ERI','Eritrea','Eritrea'),('ee','EE','EST','Estonia','Estonia'),('et','ET','ETH','Ethiopia','Etiopia'),('fk','FK','FLK','Falkland Islands (Malvinas)','Isole Falkland'),('fo','FO','FRO','Faroe Islands','Isole Faroe'),('fj','FJ','FJI','Fiji','Fiji'),('fi','FI','FIN','Finland','Finlandia'),('fr','FR','FRA','France','Francia'),('gf','GF','GUF','French Guiana','Guyana Francese'),('pf','PF','PYF','French Polynesia','Polinesia Francese'),('tf',NULL,NULL,'French Southern Territories',NULL),('ga','GA','GAB','Gabon','Gabon'),('gm','GM','GMB','Gambia','Gambia'),('ge','GE','GEO','Georgia','Georgia'),('de','DE','DEU','Germany','Germania'),('gh','GH','GHA','Ghana','Ghana'),('gi','GI','GIB','Gibraltar','Gibilterra'),('gr','GR','GRC','Greece','Grecia'),('gl','GL','GRL','Greenland','Groenlandia'),('gd','GD','GRD','Grenada','Grenada'),('gp','GP','GLP','Guadeloupe','Guadalupa'),('gu','GU','GUM','Guam','Guam'),('gt','GT','GTM','Guatemala','Guatemala'),('gg','GG','GGY','Guernsey',NULL),('gn','GN','GIN','Guinea','Guinea'),('gw','GW','GNB','Guinea-Bissau','Guinea-Bissau'),('gy','GY','GUY','Guyana','Guyana'),('ht','HT','HTI','Haiti','Haiti'),('hm',NULL,NULL,'Heard and McDonald Islands',NULL),('hn','HN','HND','Honduras','Honduras'),('hk','HK','HKG','Hong Kong','Hong Kong'),('hu','HU','HUN','Hungary','Ungheria'),('is','IS','ISL','Iceland','Islanda'),('in','IN','IND','India','India'),('id','ID','IDN','Indonesia','Indonesia'),('ir','IR','IRN','Iran','Iran'),('iq','IQ','IRQ','Iraq','Iraq'),('ie','IE','IRL','Ireland','Eire'),('im','IM','IMN','Isle of Man','Isola di Man'),('il','IL','ISR','Israel','Israele'),('it','IT','ITA','Italy','Italia'),('jm','JM','JAM','Jamaica','Giamaica'),('jp','JP','JPN','Japan','Giappone'),('je','JE','JEY','Jersey',NULL),('jo','JO','JOR','Jordan','Giordania'),('kz','KZ','KAZ','Kazakhstan','Kazakistan'),('ke','KE','KEN','Kenya','Kenya'),('ki','KI','KIR','Kiribati','Kiribati'),('kp','KP','PRK','North Korea','Corea del Nord'),('kr','KR','KOR','South Korea','Corea del Sud'),('kw','KW','KWT','Kuwait','Kuwait'),('kg','KG','KGZ','Kyrgyzstan','Kirghizistan'),('la','LA','LAO','Laos','Laos'),('lv','LV','LVA','Latvia','Lettonia'),('lb','LB','LBN','Lebanon','Libano'),('ls','LS','LSO','Lesotho','Lesotho'),('lr','LR','LBR','Liberia','Liberia'),('ly','LY','LBY','Libya','Libia'),('li','LI','LIE','Liechtenstein','Liechtenstein'),('lt','LT','LTU','Lithuania','Lituania'),('lu','LU','LUX','Luxembourg','Lussemburgo'),('mo','MO','MAC','Macau','Macao'),('mk','MK','MKD','Macedonia','Macedonia'),('mg','MG','MDG','Madagascar','Madagascar'),('mw','MW','MWI','Malawi','Malawi'),('my','MY','MYS','Malaysia','Malesia'),('mv','MV','MDV','Maldives','Maldive'),('ml','ML','MLI','Mali','Mali'),('mt','MT','MLT','Malta','Malta'),('mh','MH','MHL','Marshall Islands','Isole Marshall'),('mq','MQ','MTQ','Martinique','Martinica'),('mr','MR','MRT','Mauritania','Mauritania'),('mu','MU','MUS','Mauritius','Mauritius'),('yt','YT','MYT','Mayotte','Mayotte'),('mx','MX','MEX','Mexico','Messico'),('fm','FM','FSM','Micronesia','Stati Federati della Micronesia'),('md','MD','MDA','Moldova','Moldavia'),('mc','MC','MCO','Monaco','Monaco'),('mn','MN','MNG','Mongolia','Mongolia'),('ms','MS','MSR','Montserrat','Montserrat'),('ma','MA','MAR','Morocco','Marocco'),('mz','MZ','MOZ','Mozambique','Mozambico'),('mm','MM','MMR','Myanmar','Myanmar'),('na','NA','NAM','Namibia','Namibia'),('nr','NR','NRU','Nauru','Nauru'),('np','NP','NPL','Nepal','Nepal'),('nl','NL','NLD','Netherlands','Paesi Bassi'),('an','AN','ANT','Netherlands Antilles','Antille Olandesi'),('nc','NC','NCL','New Caledonia','Nuova Caledonia'),('nz','NZ','NZL','New Zealand','Nuova Zelanda'),('ni','NI','NIC','Nicaragua','Nicaragua'),('nu','NU','NIU','Niue','Niue'),('ne','NE','NER','Niger','Niger'),('ng','NG','NGA','Nigeria','Nigeria'),('nf','NF','NFK','Norfolk Island','Isola Norfolk'),('mp','MP','MNP','Northern Mariana Islands','Isole Marianne Settentrionali'),('no','NO','NOR','Norway','Norvegia'),('om','OM','OMN','Oman','Oman'),('pk','PK','PAK','Pakistan','Pakistan'),('pw','PW','PLW','Palau','Palau'),('ps','PS','PSE','Occupied Palestinian Territory','Territori Palestinesi Occupati'),('pa','PA','PAN','Panama','PanamÃ¡'),('pg','PG','PNG','Papua New Guinea','Papua Nuova Guinea'),('py','PY','PRY','Paraguay','Paraguay'),('pe','PE','PER','Peru','PerÃ¹'),('ph','PH','PHL','Philippines','Filippine'),('pn','PN','PCN','Pitcairn Island','Pitcairn'),('pl','PL','POL','Poland','Polonia'),('pt','PT','PRT','Portugal','Portogallo'),('pr','PR','PRI','Puerto Rico','Porto Rico'),('qa','QA','QAT','Qatar','Qatar'),('re','RE','REU','Reunion','Reunion'),('ro','RO','ROU','Romania','Romania'),('ru','RU','RUS','Russia','Federazione Russa'),('rw','RW','RWA','Rwanda','Ruanda'),('sh','SH','SHN','Saint Helena','Sant\\'Elena'),('kn','KN','KNA','Saint Kitts and Nevis','Saint Kitts e Nevis'),('lc','LC','LCA','Saint Lucia','Santa Lucia'),('pm','PM','SPM','Saint Pierre and Miquelon','Saint Pierre e Miquelon'),('vc','VC','VCT','Saint Vincent and the Grenadines','Saint Vincent e Grenadine'),('ws','WS','WSM','Samoa','Samoa'),('sm','SM','SMR','San Marino','San Marino'),('st','ST','STP','Sao Tome and Principe','Sao Tome e Principe'),('sa','SA','SAU','Saudia Arabia','Arabia Saudita'),('sn','SN','SEN','Senegal','Senegal'),('cs','CS','SCG','Serbia',NULL),('sc','SC','SYC','Seychelles','Seychelles'),('sl','SL','SLE','Sierra Leone','Sierra Leone'),('sg','SG','SGP','Singapore','Singapore'),('sk','SK','SVK','Slovakia','Slovacchia'),('si','SI','SVN','Slovenia','Slovenia'),('sb','SB','SLB','Solomon Islands','Isole Solomon'),('so','SO','SOM','Somalia','Somalia'),('za','ZA','ZAF','South Africa','Sudafrica'),('gs',NULL,NULL,'South Georgia and the South Sandwich Islands',NULL),('es','ES','ESP','Spain','Spagna'),('lk','LK','LKA','Sri Lanka','Sri Lanka'),('sd','SD','SDN','Sudan','Sudan'),('sr','SR','SUR','Suriname','Suriname'),('sj','SJ','SJM','Svalbard and Jan Mayen Islands','Svalbard e Jan Mayen'),('sz','SZ','SWZ','Swaziland','Swaziland'),('se','SE','SWE','Sweden','Svezia'),('ch','CH','CHE','Switzerland','Svizzera'),('sy','SY','SYR','Syria','Siria'),('tw','TW','TWN','Taiwan','Taiwan'),('tj','TJ','TJK','Tajikistan','Tagikistan'),('tz','TZ','TZA','Tanzania','Tanzania'),('th','TH','THA','Thailand','Thailandia'),('tp','TL','TLS','Timor-Leste','Timor Est'),('tg','TG','TGO','Togo','Togo'),('tk',NULL,NULL,'Tokelau',NULL),('to','TO','TON','Tonga','Tonga'),('tt','TT','TTO','Trinidad and Tobago','Trinidad e Tobago'),('tn','TN','TUN','Tunisia','Tunisia'),('tr','TR','TUR','Turkey','Turchia'),('tm','TM','TKM','Turkmenistan','Turkmenistan'),('tc','TC','TCA','Turks and Caicos Islands','Isole Turks e Caicos'),('tv','TV','TUV','Tuvalu','Tuvalu'),('ug','UG','UGA','Uganda','Uganda'),('ua','UA','UKR','Ukraine','Ucraina'),('ae','AE','ARE','United Arab Emirates','Emirati Arabi Uniti'),('uk','GB','GBR','United Kingdom','Regno Unito'),('us','US','USA','United States of America','Stati Uniti d\\'America'),('vi','VI','VIR','United States Virgin Islands','Isole Vergini Americane'),('uy','UY','URY','Uruguay','Uruguay'),('um',NULL,NULL,'US Minor Outlying Islands',NULL),('su','SU','SUN','USSR',NULL),('uz','UZ','UZB','Uzbekistan','Uzbekistan'),('vu','VU','VUT','Vanuatu','Vanuatu'),('va','VA','VAT','Vatican City State (Holy See)','CittÃ  del Vaticano'),('ve','VE','VEN','Venezuela','Venezuela'),('vn','VN','VNM','Vietnam','Vietnam'),('wf','WF','WLF','Wallis and Futuna Islands','Wallis e Futuna'),('eh','EH','ESH','Western Sahara','Sahara Occidentale'),('ye','YE','YEM','Yemen','Yemen'),('yu','YU','YUG','Yugoslavia',NULL),('zm','ZM','ZMB','Zambia','Zambia'),('zw','ZW','ZWE','Zimbabwe','Zimbabwe');\n",
    "UNLOCK TABLES;\n"
   ]
  },
  {
   "cell_type": "code",
   "execution_count": 108,
   "id": "dominican-skirt",
   "metadata": {},
   "outputs": [
    {
     "data": {
      "text/html": [
       "<html><body><table border=\"1\"><tr><th style=\"text-align:left;white-space:pre\">code1</th><th style=\"text-align:left;white-space:pre\">code2</th><th style=\"text-align:left;white-space:pre\">code3</th><th style=\"text-align:left;white-space:pre\">country_name</th><th style=\"text-align:left;white-space:pre\">country_name_italian</th></tr><tr><td style=\"text-align:left;white-space:pre\">af</td><td style=\"text-align:left;white-space:pre\">AF</td><td style=\"text-align:left;white-space:pre\">AFG</td><td style=\"text-align:left;white-space:pre\">Afghanistan</td><td style=\"text-align:left;white-space:pre\">Afghanistan</td></tr><tr><td style=\"text-align:left;white-space:pre\">ax</td><td style=\"text-align:left;white-space:pre\">AX</td><td style=\"text-align:left;white-space:pre\">ALA</td><td style=\"text-align:left;white-space:pre\">Ã…land</td><td style=\"text-align:left;white-space:pre\">NULL</td></tr><tr><td style=\"text-align:left;white-space:pre\">al</td><td style=\"text-align:left;white-space:pre\">AL</td><td style=\"text-align:left;white-space:pre\">ALB</td><td style=\"text-align:left;white-space:pre\">Albania</td><td style=\"text-align:left;white-space:pre\">Albania</td></tr><tr><td style=\"text-align:left;white-space:pre\">dz</td><td style=\"text-align:left;white-space:pre\">DZ</td><td style=\"text-align:left;white-space:pre\">DZA</td><td style=\"text-align:left;white-space:pre\">Algeria</td><td style=\"text-align:left;white-space:pre\">Algeria</td></tr><tr><td style=\"text-align:left;white-space:pre\">as</td><td style=\"text-align:left;white-space:pre\">AS</td><td style=\"text-align:left;white-space:pre\">ASM</td><td style=\"text-align:left;white-space:pre\">American Samoa</td><td style=\"text-align:left;white-space:pre\">Samoa Americane</td></tr><tr><td style=\"text-align:left;white-space:pre\">ad</td><td style=\"text-align:left;white-space:pre\">AD</td><td style=\"text-align:left;white-space:pre\">AND</td><td style=\"text-align:left;white-space:pre\">Andorra</td><td style=\"text-align:left;white-space:pre\">Andorra</td></tr><tr><td style=\"text-align:left;white-space:pre\">ao</td><td style=\"text-align:left;white-space:pre\">AO</td><td style=\"text-align:left;white-space:pre\">AGO</td><td style=\"text-align:left;white-space:pre\">Angola</td><td style=\"text-align:left;white-space:pre\">Angola</td></tr><tr><td style=\"text-align:left;white-space:pre\">ai</td><td style=\"text-align:left;white-space:pre\">AI</td><td style=\"text-align:left;white-space:pre\">AIA</td><td style=\"text-align:left;white-space:pre\">Anguilla</td><td style=\"text-align:left;white-space:pre\">Anguilla</td></tr><tr><td style=\"text-align:left;white-space:pre\">aq</td><td style=\"text-align:left;white-space:pre\">NULL</td><td style=\"text-align:left;white-space:pre\">NULL</td><td style=\"text-align:left;white-space:pre\">Antarctica</td><td style=\"text-align:left;white-space:pre\">NULL</td></tr><tr><td style=\"text-align:left;white-space:pre\">ag</td><td style=\"text-align:left;white-space:pre\">AG</td><td style=\"text-align:left;white-space:pre\">ATG</td><td style=\"text-align:left;white-space:pre\">Antigua and Barbuda</td><td style=\"text-align:left;white-space:pre\">Antigua e Barbuda</td></tr><tr><td style=\"text-align:left;white-space:pre\">ar</td><td style=\"text-align:left;white-space:pre\">AR</td><td style=\"text-align:left;white-space:pre\">ARG</td><td style=\"text-align:left;white-space:pre\">Argentina</td><td style=\"text-align:left;white-space:pre\">Argentina</td></tr><tr><td style=\"text-align:left;white-space:pre\">am</td><td style=\"text-align:left;white-space:pre\">AM</td><td style=\"text-align:left;white-space:pre\">ARM</td><td style=\"text-align:left;white-space:pre\">Armenia</td><td style=\"text-align:left;white-space:pre\">Armenia</td></tr><tr><td style=\"text-align:left;white-space:pre\">aw</td><td style=\"text-align:left;white-space:pre\">AW</td><td style=\"text-align:left;white-space:pre\">ABW</td><td style=\"text-align:left;white-space:pre\">Aruba</td><td style=\"text-align:left;white-space:pre\">Aruba</td></tr><tr><td style=\"text-align:left;white-space:pre\">ac</td><td style=\"text-align:left;white-space:pre\">NULL</td><td style=\"text-align:left;white-space:pre\">NULL</td><td style=\"text-align:left;white-space:pre\">Ascension Island</td><td style=\"text-align:left;white-space:pre\">NULL</td></tr><tr><td style=\"text-align:left;white-space:pre\">au</td><td style=\"text-align:left;white-space:pre\">AU</td><td style=\"text-align:left;white-space:pre\">AUS</td><td style=\"text-align:left;white-space:pre\">Australia</td><td style=\"text-align:left;white-space:pre\">Australia</td></tr><tr><td style=\"text-align:left;white-space:pre\">at</td><td style=\"text-align:left;white-space:pre\">AT</td><td style=\"text-align:left;white-space:pre\">AUT</td><td style=\"text-align:left;white-space:pre\">Austria</td><td style=\"text-align:left;white-space:pre\">Austria</td></tr><tr><td style=\"text-align:left;white-space:pre\">az</td><td style=\"text-align:left;white-space:pre\">AZ</td><td style=\"text-align:left;white-space:pre\">AZE</td><td style=\"text-align:left;white-space:pre\">Azerbaijan</td><td style=\"text-align:left;white-space:pre\">Azerbaijan</td></tr><tr><td style=\"text-align:left;white-space:pre\">bs</td><td style=\"text-align:left;white-space:pre\">BS</td><td style=\"text-align:left;white-space:pre\">BHS</td><td style=\"text-align:left;white-space:pre\">Bahamas</td><td style=\"text-align:left;white-space:pre\">Bahamas</td></tr><tr><td style=\"text-align:left;white-space:pre\">bh</td><td style=\"text-align:left;white-space:pre\">BH</td><td style=\"text-align:left;white-space:pre\">BHR</td><td style=\"text-align:left;white-space:pre\">Bahrain</td><td style=\"text-align:left;white-space:pre\">Bahrain</td></tr><tr><td style=\"text-align:left;white-space:pre\">bd</td><td style=\"text-align:left;white-space:pre\">BD</td><td style=\"text-align:left;white-space:pre\">BGD</td><td style=\"text-align:left;white-space:pre\">Bangladesh</td><td style=\"text-align:left;white-space:pre\">Bangladesh</td></tr><tr><td style=\"text-align:left;white-space:pre\">bb</td><td style=\"text-align:left;white-space:pre\">BB</td><td style=\"text-align:left;white-space:pre\">BRB</td><td style=\"text-align:left;white-space:pre\">Barbados</td><td style=\"text-align:left;white-space:pre\">Barbados</td></tr><tr><td style=\"text-align:left;white-space:pre\">by</td><td style=\"text-align:left;white-space:pre\">BY</td><td style=\"text-align:left;white-space:pre\">BLR</td><td style=\"text-align:left;white-space:pre\">Belarus</td><td style=\"text-align:left;white-space:pre\">Bielorussia</td></tr><tr><td style=\"text-align:left;white-space:pre\">be</td><td style=\"text-align:left;white-space:pre\">BE</td><td style=\"text-align:left;white-space:pre\">BEL</td><td style=\"text-align:left;white-space:pre\">Belgium</td><td style=\"text-align:left;white-space:pre\">Belgio</td></tr><tr><td style=\"text-align:left;white-space:pre\">bz</td><td style=\"text-align:left;white-space:pre\">BZ</td><td style=\"text-align:left;white-space:pre\">BLZ</td><td style=\"text-align:left;white-space:pre\">Belize</td><td style=\"text-align:left;white-space:pre\">Belize</td></tr><tr><td style=\"text-align:left;white-space:pre\">bj</td><td style=\"text-align:left;white-space:pre\">BJ</td><td style=\"text-align:left;white-space:pre\">BEN</td><td style=\"text-align:left;white-space:pre\">Benin</td><td style=\"text-align:left;white-space:pre\">Benin</td></tr><tr><td style=\"text-align:left;white-space:pre\">bm</td><td style=\"text-align:left;white-space:pre\">BM</td><td style=\"text-align:left;white-space:pre\">BMU</td><td style=\"text-align:left;white-space:pre\">Bermuda</td><td style=\"text-align:left;white-space:pre\">Bermuda</td></tr><tr><td style=\"text-align:left;white-space:pre\">bt</td><td style=\"text-align:left;white-space:pre\">BT</td><td style=\"text-align:left;white-space:pre\">BTN</td><td style=\"text-align:left;white-space:pre\">Bhutan</td><td style=\"text-align:left;white-space:pre\">Bhutan</td></tr><tr><td style=\"text-align:left;white-space:pre\">bo</td><td style=\"text-align:left;white-space:pre\">BO</td><td style=\"text-align:left;white-space:pre\">BOL</td><td style=\"text-align:left;white-space:pre\">Bolivia</td><td style=\"text-align:left;white-space:pre\">Bolivia</td></tr><tr><td style=\"text-align:left;white-space:pre\">ba</td><td style=\"text-align:left;white-space:pre\">BA</td><td style=\"text-align:left;white-space:pre\">BIH</td><td style=\"text-align:left;white-space:pre\">Bosnia and Herzegovina</td><td style=\"text-align:left;white-space:pre\">Bosnia-Erzegovina</td></tr><tr><td style=\"text-align:left;white-space:pre\">bw</td><td style=\"text-align:left;white-space:pre\">BW</td><td style=\"text-align:left;white-space:pre\">BWA</td><td style=\"text-align:left;white-space:pre\">Botswana</td><td style=\"text-align:left;white-space:pre\">Botswana</td></tr><tr><td style=\"text-align:left;white-space:pre\">bv</td><td style=\"text-align:left;white-space:pre\">NULL</td><td style=\"text-align:left;white-space:pre\">NULL</td><td style=\"text-align:left;white-space:pre\">Bouvet Island</td><td style=\"text-align:left;white-space:pre\">NULL</td></tr><tr><td style=\"text-align:left;white-space:pre\">br</td><td style=\"text-align:left;white-space:pre\">BR</td><td style=\"text-align:left;white-space:pre\">BRA</td><td style=\"text-align:left;white-space:pre\">Brazil</td><td style=\"text-align:left;white-space:pre\">Brasile</td></tr><tr><td style=\"text-align:left;white-space:pre\">vg</td><td style=\"text-align:left;white-space:pre\">IO</td><td style=\"text-align:left;white-space:pre\">VGB</td><td style=\"text-align:left;white-space:pre\">British Virgin Islands</td><td style=\"text-align:left;white-space:pre\">Isole Vergini Britanniche</td></tr><tr><td style=\"text-align:left;white-space:pre\">io</td><td style=\"text-align:left;white-space:pre\">NULL</td><td style=\"text-align:left;white-space:pre\">NULL</td><td style=\"text-align:left;white-space:pre\">British Indian Ocean Territory</td><td style=\"text-align:left;white-space:pre\">NULL</td></tr><tr><td style=\"text-align:left;white-space:pre\">bn</td><td style=\"text-align:left;white-space:pre\">BN</td><td style=\"text-align:left;white-space:pre\">BRN</td><td style=\"text-align:left;white-space:pre\">Brunei Darussalam</td><td style=\"text-align:left;white-space:pre\">Brunei Darussalam</td></tr><tr><td style=\"text-align:left;white-space:pre\">bg</td><td style=\"text-align:left;white-space:pre\">BG</td><td style=\"text-align:left;white-space:pre\">BGR</td><td style=\"text-align:left;white-space:pre\">Bulgaria</td><td style=\"text-align:left;white-space:pre\">Bulgaria</td></tr><tr><td style=\"text-align:left;white-space:pre\">bf</td><td style=\"text-align:left;white-space:pre\">BF</td><td style=\"text-align:left;white-space:pre\">BFA</td><td style=\"text-align:left;white-space:pre\">Burkina Faso</td><td style=\"text-align:left;white-space:pre\">Burkina Faso</td></tr><tr><td style=\"text-align:left;white-space:pre\">bi</td><td style=\"text-align:left;white-space:pre\">BI</td><td style=\"text-align:left;white-space:pre\">BDI</td><td style=\"text-align:left;white-space:pre\">Burundi</td><td style=\"text-align:left;white-space:pre\">Burundi</td></tr><tr><td style=\"text-align:left;white-space:pre\">kh</td><td style=\"text-align:left;white-space:pre\">KH</td><td style=\"text-align:left;white-space:pre\">KHM</td><td style=\"text-align:left;white-space:pre\">Cambodia</td><td style=\"text-align:left;white-space:pre\">Cambogia</td></tr><tr><td style=\"text-align:left;white-space:pre\">cm</td><td style=\"text-align:left;white-space:pre\">CM</td><td style=\"text-align:left;white-space:pre\">CMR</td><td style=\"text-align:left;white-space:pre\">Cameroon</td><td style=\"text-align:left;white-space:pre\">Camerun</td></tr><tr><td style=\"text-align:left;white-space:pre\">ca</td><td style=\"text-align:left;white-space:pre\">CA</td><td style=\"text-align:left;white-space:pre\">CAN</td><td style=\"text-align:left;white-space:pre\">Canada</td><td style=\"text-align:left;white-space:pre\">Canada</td></tr><tr><td style=\"text-align:left;white-space:pre\">cv</td><td style=\"text-align:left;white-space:pre\">CV</td><td style=\"text-align:left;white-space:pre\">CPV</td><td style=\"text-align:left;white-space:pre\">Cape Verde</td><td style=\"text-align:left;white-space:pre\">Capo Verde</td></tr><tr><td style=\"text-align:left;white-space:pre\">ky</td><td style=\"text-align:left;white-space:pre\">KY</td><td style=\"text-align:left;white-space:pre\">CYM</td><td style=\"text-align:left;white-space:pre\">Cayman Islands</td><td style=\"text-align:left;white-space:pre\">Isole Cayman</td></tr><tr><td style=\"text-align:left;white-space:pre\">cf</td><td style=\"text-align:left;white-space:pre\">CF</td><td style=\"text-align:left;white-space:pre\">CAF</td><td style=\"text-align:left;white-space:pre\">Central African Republic</td><td style=\"text-align:left;white-space:pre\">Repubblica Centroafricana</td></tr><tr><td style=\"text-align:left;white-space:pre\">td</td><td style=\"text-align:left;white-space:pre\">TD</td><td style=\"text-align:left;white-space:pre\">TCD</td><td style=\"text-align:left;white-space:pre\">Chad</td><td style=\"text-align:left;white-space:pre\">Ciad</td></tr><tr><td style=\"text-align:left;white-space:pre\">cl</td><td style=\"text-align:left;white-space:pre\">CL</td><td style=\"text-align:left;white-space:pre\">CHL</td><td style=\"text-align:left;white-space:pre\">Chile</td><td style=\"text-align:left;white-space:pre\">Cile</td></tr><tr><td style=\"text-align:left;white-space:pre\">cn</td><td style=\"text-align:left;white-space:pre\">CN</td><td style=\"text-align:left;white-space:pre\">CHN</td><td style=\"text-align:left;white-space:pre\">China</td><td style=\"text-align:left;white-space:pre\">Cina</td></tr><tr><td style=\"text-align:left;white-space:pre\">cx</td><td style=\"text-align:left;white-space:pre\">NULL</td><td style=\"text-align:left;white-space:pre\">NULL</td><td style=\"text-align:left;white-space:pre\">Christmas Island</td><td style=\"text-align:left;white-space:pre\">NULL</td></tr><tr><td style=\"text-align:left;white-space:pre\">cc</td><td style=\"text-align:left;white-space:pre\">NULL</td><td style=\"text-align:left;white-space:pre\">NULL</td><td style=\"text-align:left;white-space:pre\">Cocos (Keeling) Island</td><td style=\"text-align:left;white-space:pre\">NULL</td></tr><tr><td style=\"text-align:left;white-space:pre\">co</td><td style=\"text-align:left;white-space:pre\">CO</td><td style=\"text-align:left;white-space:pre\">COL</td><td style=\"text-align:left;white-space:pre\">Colombia</td><td style=\"text-align:left;white-space:pre\">Colombia</td></tr><tr><td style=\"text-align:left;white-space:pre\">km</td><td style=\"text-align:left;white-space:pre\">KM</td><td style=\"text-align:left;white-space:pre\">COM</td><td style=\"text-align:left;white-space:pre\">Comoros</td><td style=\"text-align:left;white-space:pre\">Comore</td></tr><tr><td style=\"text-align:left;white-space:pre\">cg</td><td style=\"text-align:left;white-space:pre\">CG</td><td style=\"text-align:left;white-space:pre\">COG</td><td style=\"text-align:left;white-space:pre\">Republic of Congo</td><td style=\"text-align:left;white-space:pre\">Repubblica del Congo</td></tr><tr><td style=\"text-align:left;white-space:pre\">cd</td><td style=\"text-align:left;white-space:pre\">CD</td><td style=\"text-align:left;white-space:pre\">COD</td><td style=\"text-align:left;white-space:pre\">Democratic Republic of Congo</td><td style=\"text-align:left;white-space:pre\">Repubblica Democratica del Congo</td></tr><tr><td style=\"text-align:left;white-space:pre\">ck</td><td style=\"text-align:left;white-space:pre\">CK</td><td style=\"text-align:left;white-space:pre\">COK</td><td style=\"text-align:left;white-space:pre\">Cook Islands</td><td style=\"text-align:left;white-space:pre\">Isole Cook</td></tr><tr><td style=\"text-align:left;white-space:pre\">cr</td><td style=\"text-align:left;white-space:pre\">CR</td><td style=\"text-align:left;white-space:pre\">CRI</td><td style=\"text-align:left;white-space:pre\">Costa Rica</td><td style=\"text-align:left;white-space:pre\">Costa Rica</td></tr><tr><td style=\"text-align:left;white-space:pre\">ci</td><td style=\"text-align:left;white-space:pre\">CI</td><td style=\"text-align:left;white-space:pre\">CIV</td><td style=\"text-align:left;white-space:pre\">Cote d'Ivoire</td><td style=\"text-align:left;white-space:pre\">Costa d'Avorio</td></tr><tr><td style=\"text-align:left;white-space:pre\">hr</td><td style=\"text-align:left;white-space:pre\">HR</td><td style=\"text-align:left;white-space:pre\">HRV</td><td style=\"text-align:left;white-space:pre\">Croatia</td><td style=\"text-align:left;white-space:pre\">Croazia</td></tr><tr><td style=\"text-align:left;white-space:pre\">cu</td><td style=\"text-align:left;white-space:pre\">CU</td><td style=\"text-align:left;white-space:pre\">CUB</td><td style=\"text-align:left;white-space:pre\">Cuba</td><td style=\"text-align:left;white-space:pre\">Cuba</td></tr><tr><td style=\"text-align:left;white-space:pre\">cy</td><td style=\"text-align:left;white-space:pre\">CY</td><td style=\"text-align:left;white-space:pre\">CYP</td><td style=\"text-align:left;white-space:pre\">Cyprus</td><td style=\"text-align:left;white-space:pre\">Cipro</td></tr><tr><td style=\"text-align:left;white-space:pre\">cz</td><td style=\"text-align:left;white-space:pre\">CZ</td><td style=\"text-align:left;white-space:pre\">CZE</td><td style=\"text-align:left;white-space:pre\">Czech Republic</td><td style=\"text-align:left;white-space:pre\">Repubblica Ceca</td></tr><tr><td style=\"text-align:left;white-space:pre\">dk</td><td style=\"text-align:left;white-space:pre\">DK</td><td style=\"text-align:left;white-space:pre\">DNK</td><td style=\"text-align:left;white-space:pre\">Denmark</td><td style=\"text-align:left;white-space:pre\">Danimarca</td></tr><tr><td style=\"text-align:left;white-space:pre\">dj</td><td style=\"text-align:left;white-space:pre\">DJ</td><td style=\"text-align:left;white-space:pre\">DJI</td><td style=\"text-align:left;white-space:pre\">Djibouti</td><td style=\"text-align:left;white-space:pre\">Gibuti</td></tr><tr><td style=\"text-align:left;white-space:pre\">dm</td><td style=\"text-align:left;white-space:pre\">DM</td><td style=\"text-align:left;white-space:pre\">DMA</td><td style=\"text-align:left;white-space:pre\">Dominica</td><td style=\"text-align:left;white-space:pre\">Dominica</td></tr><tr><td style=\"text-align:left;white-space:pre\">do</td><td style=\"text-align:left;white-space:pre\">DO</td><td style=\"text-align:left;white-space:pre\">DOM</td><td style=\"text-align:left;white-space:pre\">Dominican Republic</td><td style=\"text-align:left;white-space:pre\">Repubblica Dominicana</td></tr><tr><td style=\"text-align:left;white-space:pre\">ec</td><td style=\"text-align:left;white-space:pre\">EC</td><td style=\"text-align:left;white-space:pre\">ECU</td><td style=\"text-align:left;white-space:pre\">Ecuador</td><td style=\"text-align:left;white-space:pre\">Ecuador</td></tr><tr><td style=\"text-align:left;white-space:pre\">eg</td><td style=\"text-align:left;white-space:pre\">EG</td><td style=\"text-align:left;white-space:pre\">EGY</td><td style=\"text-align:left;white-space:pre\">Egypt</td><td style=\"text-align:left;white-space:pre\">Egitto</td></tr><tr><td style=\"text-align:left;white-space:pre\">sv</td><td style=\"text-align:left;white-space:pre\">SV</td><td style=\"text-align:left;white-space:pre\">SLV</td><td style=\"text-align:left;white-space:pre\">El Salvador</td><td style=\"text-align:left;white-space:pre\">El Salvador</td></tr><tr><td style=\"text-align:left;white-space:pre\">gq</td><td style=\"text-align:left;white-space:pre\">GQ</td><td style=\"text-align:left;white-space:pre\">GNQ</td><td style=\"text-align:left;white-space:pre\">Equatorial Guinea</td><td style=\"text-align:left;white-space:pre\">Guinea Equatoriale</td></tr><tr><td style=\"text-align:left;white-space:pre\">er</td><td style=\"text-align:left;white-space:pre\">ER</td><td style=\"text-align:left;white-space:pre\">ERI</td><td style=\"text-align:left;white-space:pre\">Eritrea</td><td style=\"text-align:left;white-space:pre\">Eritrea</td></tr><tr><td style=\"text-align:left;white-space:pre\">ee</td><td style=\"text-align:left;white-space:pre\">EE</td><td style=\"text-align:left;white-space:pre\">EST</td><td style=\"text-align:left;white-space:pre\">Estonia</td><td style=\"text-align:left;white-space:pre\">Estonia</td></tr><tr><td style=\"text-align:left;white-space:pre\">et</td><td style=\"text-align:left;white-space:pre\">ET</td><td style=\"text-align:left;white-space:pre\">ETH</td><td style=\"text-align:left;white-space:pre\">Ethiopia</td><td style=\"text-align:left;white-space:pre\">Etiopia</td></tr><tr><td style=\"text-align:left;white-space:pre\">fk</td><td style=\"text-align:left;white-space:pre\">FK</td><td style=\"text-align:left;white-space:pre\">FLK</td><td style=\"text-align:left;white-space:pre\">Falkland Islands (Malvinas)</td><td style=\"text-align:left;white-space:pre\">Isole Falkland</td></tr><tr><td style=\"text-align:left;white-space:pre\">fo</td><td style=\"text-align:left;white-space:pre\">FO</td><td style=\"text-align:left;white-space:pre\">FRO</td><td style=\"text-align:left;white-space:pre\">Faroe Islands</td><td style=\"text-align:left;white-space:pre\">Isole Faroe</td></tr><tr><td style=\"text-align:left;white-space:pre\">fj</td><td style=\"text-align:left;white-space:pre\">FJ</td><td style=\"text-align:left;white-space:pre\">FJI</td><td style=\"text-align:left;white-space:pre\">Fiji</td><td style=\"text-align:left;white-space:pre\">Fiji</td></tr><tr><td style=\"text-align:left;white-space:pre\">fi</td><td style=\"text-align:left;white-space:pre\">FI</td><td style=\"text-align:left;white-space:pre\">FIN</td><td style=\"text-align:left;white-space:pre\">Finland</td><td style=\"text-align:left;white-space:pre\">Finlandia</td></tr><tr><td style=\"text-align:left;white-space:pre\">fr</td><td style=\"text-align:left;white-space:pre\">FR</td><td style=\"text-align:left;white-space:pre\">FRA</td><td style=\"text-align:left;white-space:pre\">France</td><td style=\"text-align:left;white-space:pre\">Francia</td></tr><tr><td style=\"text-align:left;white-space:pre\">gf</td><td style=\"text-align:left;white-space:pre\">GF</td><td style=\"text-align:left;white-space:pre\">GUF</td><td style=\"text-align:left;white-space:pre\">French Guiana</td><td style=\"text-align:left;white-space:pre\">Guyana Francese</td></tr><tr><td style=\"text-align:left;white-space:pre\">pf</td><td style=\"text-align:left;white-space:pre\">PF</td><td style=\"text-align:left;white-space:pre\">PYF</td><td style=\"text-align:left;white-space:pre\">French Polynesia</td><td style=\"text-align:left;white-space:pre\">Polinesia Francese</td></tr><tr><td style=\"text-align:left;white-space:pre\">tf</td><td style=\"text-align:left;white-space:pre\">NULL</td><td style=\"text-align:left;white-space:pre\">NULL</td><td style=\"text-align:left;white-space:pre\">French Southern Territories</td><td style=\"text-align:left;white-space:pre\">NULL</td></tr><tr><td style=\"text-align:left;white-space:pre\">ga</td><td style=\"text-align:left;white-space:pre\">GA</td><td style=\"text-align:left;white-space:pre\">GAB</td><td style=\"text-align:left;white-space:pre\">Gabon</td><td style=\"text-align:left;white-space:pre\">Gabon</td></tr><tr><td style=\"text-align:left;white-space:pre\">gm</td><td style=\"text-align:left;white-space:pre\">GM</td><td style=\"text-align:left;white-space:pre\">GMB</td><td style=\"text-align:left;white-space:pre\">Gambia</td><td style=\"text-align:left;white-space:pre\">Gambia</td></tr><tr><td style=\"text-align:left;white-space:pre\">ge</td><td style=\"text-align:left;white-space:pre\">GE</td><td style=\"text-align:left;white-space:pre\">GEO</td><td style=\"text-align:left;white-space:pre\">Georgia</td><td style=\"text-align:left;white-space:pre\">Georgia</td></tr><tr><td style=\"text-align:left;white-space:pre\">de</td><td style=\"text-align:left;white-space:pre\">DE</td><td style=\"text-align:left;white-space:pre\">DEU</td><td style=\"text-align:left;white-space:pre\">Germany</td><td style=\"text-align:left;white-space:pre\">Germania</td></tr><tr><td style=\"text-align:left;white-space:pre\">gh</td><td style=\"text-align:left;white-space:pre\">GH</td><td style=\"text-align:left;white-space:pre\">GHA</td><td style=\"text-align:left;white-space:pre\">Ghana</td><td style=\"text-align:left;white-space:pre\">Ghana</td></tr><tr><td style=\"text-align:left;white-space:pre\">gi</td><td style=\"text-align:left;white-space:pre\">GI</td><td style=\"text-align:left;white-space:pre\">GIB</td><td style=\"text-align:left;white-space:pre\">Gibraltar</td><td style=\"text-align:left;white-space:pre\">Gibilterra</td></tr><tr><td style=\"text-align:left;white-space:pre\">gr</td><td style=\"text-align:left;white-space:pre\">GR</td><td style=\"text-align:left;white-space:pre\">GRC</td><td style=\"text-align:left;white-space:pre\">Greece</td><td style=\"text-align:left;white-space:pre\">Grecia</td></tr><tr><td style=\"text-align:left;white-space:pre\">gl</td><td style=\"text-align:left;white-space:pre\">GL</td><td style=\"text-align:left;white-space:pre\">GRL</td><td style=\"text-align:left;white-space:pre\">Greenland</td><td style=\"text-align:left;white-space:pre\">Groenlandia</td></tr><tr><td style=\"text-align:left;white-space:pre\">gd</td><td style=\"text-align:left;white-space:pre\">GD</td><td style=\"text-align:left;white-space:pre\">GRD</td><td style=\"text-align:left;white-space:pre\">Grenada</td><td style=\"text-align:left;white-space:pre\">Grenada</td></tr><tr><td style=\"text-align:left;white-space:pre\">gp</td><td style=\"text-align:left;white-space:pre\">GP</td><td style=\"text-align:left;white-space:pre\">GLP</td><td style=\"text-align:left;white-space:pre\">Guadeloupe</td><td style=\"text-align:left;white-space:pre\">Guadalupa</td></tr><tr><td style=\"text-align:left;white-space:pre\">gu</td><td style=\"text-align:left;white-space:pre\">GU</td><td style=\"text-align:left;white-space:pre\">GUM</td><td style=\"text-align:left;white-space:pre\">Guam</td><td style=\"text-align:left;white-space:pre\">Guam</td></tr><tr><td style=\"text-align:left;white-space:pre\">gt</td><td style=\"text-align:left;white-space:pre\">GT</td><td style=\"text-align:left;white-space:pre\">GTM</td><td style=\"text-align:left;white-space:pre\">Guatemala</td><td style=\"text-align:left;white-space:pre\">Guatemala</td></tr><tr><td style=\"text-align:left;white-space:pre\">gg</td><td style=\"text-align:left;white-space:pre\">GG</td><td style=\"text-align:left;white-space:pre\">GGY</td><td style=\"text-align:left;white-space:pre\">Guernsey</td><td style=\"text-align:left;white-space:pre\">NULL</td></tr><tr><td style=\"text-align:left;white-space:pre\">gn</td><td style=\"text-align:left;white-space:pre\">GN</td><td style=\"text-align:left;white-space:pre\">GIN</td><td style=\"text-align:left;white-space:pre\">Guinea</td><td style=\"text-align:left;white-space:pre\">Guinea</td></tr><tr><td style=\"text-align:left;white-space:pre\">gw</td><td style=\"text-align:left;white-space:pre\">GW</td><td style=\"text-align:left;white-space:pre\">GNB</td><td style=\"text-align:left;white-space:pre\">Guinea-Bissau</td><td style=\"text-align:left;white-space:pre\">Guinea-Bissau</td></tr><tr><td style=\"text-align:left;white-space:pre\">gy</td><td style=\"text-align:left;white-space:pre\">GY</td><td style=\"text-align:left;white-space:pre\">GUY</td><td style=\"text-align:left;white-space:pre\">Guyana</td><td style=\"text-align:left;white-space:pre\">Guyana</td></tr><tr><td style=\"text-align:left;white-space:pre\">ht</td><td style=\"text-align:left;white-space:pre\">HT</td><td style=\"text-align:left;white-space:pre\">HTI</td><td style=\"text-align:left;white-space:pre\">Haiti</td><td style=\"text-align:left;white-space:pre\">Haiti</td></tr><tr><td style=\"text-align:left;white-space:pre\">hm</td><td style=\"text-align:left;white-space:pre\">NULL</td><td style=\"text-align:left;white-space:pre\">NULL</td><td style=\"text-align:left;white-space:pre\">Heard and McDonald Islands</td><td style=\"text-align:left;white-space:pre\">NULL</td></tr><tr><td style=\"text-align:left;white-space:pre\">hn</td><td style=\"text-align:left;white-space:pre\">HN</td><td style=\"text-align:left;white-space:pre\">HND</td><td style=\"text-align:left;white-space:pre\">Honduras</td><td style=\"text-align:left;white-space:pre\">Honduras</td></tr><tr><td style=\"text-align:left;white-space:pre\">hk</td><td style=\"text-align:left;white-space:pre\">HK</td><td style=\"text-align:left;white-space:pre\">HKG</td><td style=\"text-align:left;white-space:pre\">Hong Kong</td><td style=\"text-align:left;white-space:pre\">Hong Kong</td></tr><tr><td style=\"text-align:left;white-space:pre\">hu</td><td style=\"text-align:left;white-space:pre\">HU</td><td style=\"text-align:left;white-space:pre\">HUN</td><td style=\"text-align:left;white-space:pre\">Hungary</td><td style=\"text-align:left;white-space:pre\">Ungheria</td></tr><tr><td style=\"text-align:left;white-space:pre\">is</td><td style=\"text-align:left;white-space:pre\">IS</td><td style=\"text-align:left;white-space:pre\">ISL</td><td style=\"text-align:left;white-space:pre\">Iceland</td><td style=\"text-align:left;white-space:pre\">Islanda</td></tr><tr><td style=\"text-align:left;white-space:pre\">in</td><td style=\"text-align:left;white-space:pre\">IN</td><td style=\"text-align:left;white-space:pre\">IND</td><td style=\"text-align:left;white-space:pre\">India</td><td style=\"text-align:left;white-space:pre\">India</td></tr><tr><td style=\"text-align:left;white-space:pre\">id</td><td style=\"text-align:left;white-space:pre\">ID</td><td style=\"text-align:left;white-space:pre\">IDN</td><td style=\"text-align:left;white-space:pre\">Indonesia</td><td style=\"text-align:left;white-space:pre\">Indonesia</td></tr><tr><td style=\"text-align:left;white-space:pre\">ir</td><td style=\"text-align:left;white-space:pre\">IR</td><td style=\"text-align:left;white-space:pre\">IRN</td><td style=\"text-align:left;white-space:pre\">Iran</td><td style=\"text-align:left;white-space:pre\">Iran</td></tr><tr><td style=\"text-align:left;white-space:pre\">iq</td><td style=\"text-align:left;white-space:pre\">IQ</td><td style=\"text-align:left;white-space:pre\">IRQ</td><td style=\"text-align:left;white-space:pre\">Iraq</td><td style=\"text-align:left;white-space:pre\">Iraq</td></tr><tr><td style=\"text-align:left;white-space:pre\">ie</td><td style=\"text-align:left;white-space:pre\">IE</td><td style=\"text-align:left;white-space:pre\">IRL</td><td style=\"text-align:left;white-space:pre\">Ireland</td><td style=\"text-align:left;white-space:pre\">Eire</td></tr><tr><td style=\"text-align:left;white-space:pre\">im</td><td style=\"text-align:left;white-space:pre\">IM</td><td style=\"text-align:left;white-space:pre\">IMN</td><td style=\"text-align:left;white-space:pre\">Isle of Man</td><td style=\"text-align:left;white-space:pre\">Isola di Man</td></tr><tr><td style=\"text-align:left;white-space:pre\">il</td><td style=\"text-align:left;white-space:pre\">IL</td><td style=\"text-align:left;white-space:pre\">ISR</td><td style=\"text-align:left;white-space:pre\">Israel</td><td style=\"text-align:left;white-space:pre\">Israele</td></tr><tr><td style=\"text-align:left;white-space:pre\">it</td><td style=\"text-align:left;white-space:pre\">IT</td><td style=\"text-align:left;white-space:pre\">ITA</td><td style=\"text-align:left;white-space:pre\">Italy</td><td style=\"text-align:left;white-space:pre\">Italia</td></tr><tr><td style=\"text-align:left;white-space:pre\">jm</td><td style=\"text-align:left;white-space:pre\">JM</td><td style=\"text-align:left;white-space:pre\">JAM</td><td style=\"text-align:left;white-space:pre\">Jamaica</td><td style=\"text-align:left;white-space:pre\">Giamaica</td></tr><tr><td style=\"text-align:left;white-space:pre\">jp</td><td style=\"text-align:left;white-space:pre\">JP</td><td style=\"text-align:left;white-space:pre\">JPN</td><td style=\"text-align:left;white-space:pre\">Japan</td><td style=\"text-align:left;white-space:pre\">Giappone</td></tr><tr><td style=\"text-align:left;white-space:pre\">je</td><td style=\"text-align:left;white-space:pre\">JE</td><td style=\"text-align:left;white-space:pre\">JEY</td><td style=\"text-align:left;white-space:pre\">Jersey</td><td style=\"text-align:left;white-space:pre\">NULL</td></tr><tr><td style=\"text-align:left;white-space:pre\">jo</td><td style=\"text-align:left;white-space:pre\">JO</td><td style=\"text-align:left;white-space:pre\">JOR</td><td style=\"text-align:left;white-space:pre\">Jordan</td><td style=\"text-align:left;white-space:pre\">Giordania</td></tr><tr><td style=\"text-align:left;white-space:pre\">kz</td><td style=\"text-align:left;white-space:pre\">KZ</td><td style=\"text-align:left;white-space:pre\">KAZ</td><td style=\"text-align:left;white-space:pre\">Kazakhstan</td><td style=\"text-align:left;white-space:pre\">Kazakistan</td></tr><tr><td style=\"text-align:left;white-space:pre\">ke</td><td style=\"text-align:left;white-space:pre\">KE</td><td style=\"text-align:left;white-space:pre\">KEN</td><td style=\"text-align:left;white-space:pre\">Kenya</td><td style=\"text-align:left;white-space:pre\">Kenya</td></tr><tr><td style=\"text-align:left;white-space:pre\">ki</td><td style=\"text-align:left;white-space:pre\">KI</td><td style=\"text-align:left;white-space:pre\">KIR</td><td style=\"text-align:left;white-space:pre\">Kiribati</td><td style=\"text-align:left;white-space:pre\">Kiribati</td></tr><tr><td style=\"text-align:left;white-space:pre\">kp</td><td style=\"text-align:left;white-space:pre\">KP</td><td style=\"text-align:left;white-space:pre\">PRK</td><td style=\"text-align:left;white-space:pre\">North Korea</td><td style=\"text-align:left;white-space:pre\">Corea del Nord</td></tr><tr><td style=\"text-align:left;white-space:pre\">kr</td><td style=\"text-align:left;white-space:pre\">KR</td><td style=\"text-align:left;white-space:pre\">KOR</td><td style=\"text-align:left;white-space:pre\">South Korea</td><td style=\"text-align:left;white-space:pre\">Corea del Sud</td></tr><tr><td style=\"text-align:left;white-space:pre\">kw</td><td style=\"text-align:left;white-space:pre\">KW</td><td style=\"text-align:left;white-space:pre\">KWT</td><td style=\"text-align:left;white-space:pre\">Kuwait</td><td style=\"text-align:left;white-space:pre\">Kuwait</td></tr><tr><td style=\"text-align:left;white-space:pre\">kg</td><td style=\"text-align:left;white-space:pre\">KG</td><td style=\"text-align:left;white-space:pre\">KGZ</td><td style=\"text-align:left;white-space:pre\">Kyrgyzstan</td><td style=\"text-align:left;white-space:pre\">Kirghizistan</td></tr><tr><td style=\"text-align:left;white-space:pre\">la</td><td style=\"text-align:left;white-space:pre\">LA</td><td style=\"text-align:left;white-space:pre\">LAO</td><td style=\"text-align:left;white-space:pre\">Laos</td><td style=\"text-align:left;white-space:pre\">Laos</td></tr><tr><td style=\"text-align:left;white-space:pre\">lv</td><td style=\"text-align:left;white-space:pre\">LV</td><td style=\"text-align:left;white-space:pre\">LVA</td><td style=\"text-align:left;white-space:pre\">Latvia</td><td style=\"text-align:left;white-space:pre\">Lettonia</td></tr><tr><td style=\"text-align:left;white-space:pre\">lb</td><td style=\"text-align:left;white-space:pre\">LB</td><td style=\"text-align:left;white-space:pre\">LBN</td><td style=\"text-align:left;white-space:pre\">Lebanon</td><td style=\"text-align:left;white-space:pre\">Libano</td></tr><tr><td style=\"text-align:left;white-space:pre\">ls</td><td style=\"text-align:left;white-space:pre\">LS</td><td style=\"text-align:left;white-space:pre\">LSO</td><td style=\"text-align:left;white-space:pre\">Lesotho</td><td style=\"text-align:left;white-space:pre\">Lesotho</td></tr><tr><td style=\"text-align:left;white-space:pre\">lr</td><td style=\"text-align:left;white-space:pre\">LR</td><td style=\"text-align:left;white-space:pre\">LBR</td><td style=\"text-align:left;white-space:pre\">Liberia</td><td style=\"text-align:left;white-space:pre\">Liberia</td></tr><tr><td style=\"text-align:left;white-space:pre\">ly</td><td style=\"text-align:left;white-space:pre\">LY</td><td style=\"text-align:left;white-space:pre\">LBY</td><td style=\"text-align:left;white-space:pre\">Libya</td><td style=\"text-align:left;white-space:pre\">Libia</td></tr><tr><td style=\"text-align:left;white-space:pre\">li</td><td style=\"text-align:left;white-space:pre\">LI</td><td style=\"text-align:left;white-space:pre\">LIE</td><td style=\"text-align:left;white-space:pre\">Liechtenstein</td><td style=\"text-align:left;white-space:pre\">Liechtenstein</td></tr><tr><td style=\"text-align:left;white-space:pre\">lt</td><td style=\"text-align:left;white-space:pre\">LT</td><td style=\"text-align:left;white-space:pre\">LTU</td><td style=\"text-align:left;white-space:pre\">Lithuania</td><td style=\"text-align:left;white-space:pre\">Lituania</td></tr><tr><td style=\"text-align:left;white-space:pre\">lu</td><td style=\"text-align:left;white-space:pre\">LU</td><td style=\"text-align:left;white-space:pre\">LUX</td><td style=\"text-align:left;white-space:pre\">Luxembourg</td><td style=\"text-align:left;white-space:pre\">Lussemburgo</td></tr><tr><td style=\"text-align:left;white-space:pre\">mo</td><td style=\"text-align:left;white-space:pre\">MO</td><td style=\"text-align:left;white-space:pre\">MAC</td><td style=\"text-align:left;white-space:pre\">Macau</td><td style=\"text-align:left;white-space:pre\">Macao</td></tr><tr><td style=\"text-align:left;white-space:pre\">mk</td><td style=\"text-align:left;white-space:pre\">MK</td><td style=\"text-align:left;white-space:pre\">MKD</td><td style=\"text-align:left;white-space:pre\">Macedonia</td><td style=\"text-align:left;white-space:pre\">Macedonia</td></tr><tr><td style=\"text-align:left;white-space:pre\">mg</td><td style=\"text-align:left;white-space:pre\">MG</td><td style=\"text-align:left;white-space:pre\">MDG</td><td style=\"text-align:left;white-space:pre\">Madagascar</td><td style=\"text-align:left;white-space:pre\">Madagascar</td></tr><tr><td style=\"text-align:left;white-space:pre\">mw</td><td style=\"text-align:left;white-space:pre\">MW</td><td style=\"text-align:left;white-space:pre\">MWI</td><td style=\"text-align:left;white-space:pre\">Malawi</td><td style=\"text-align:left;white-space:pre\">Malawi</td></tr><tr><td style=\"text-align:left;white-space:pre\">my</td><td style=\"text-align:left;white-space:pre\">MY</td><td style=\"text-align:left;white-space:pre\">MYS</td><td style=\"text-align:left;white-space:pre\">Malaysia</td><td style=\"text-align:left;white-space:pre\">Malesia</td></tr><tr><td style=\"text-align:left;white-space:pre\">mv</td><td style=\"text-align:left;white-space:pre\">MV</td><td style=\"text-align:left;white-space:pre\">MDV</td><td style=\"text-align:left;white-space:pre\">Maldives</td><td style=\"text-align:left;white-space:pre\">Maldive</td></tr><tr><td style=\"text-align:left;white-space:pre\">ml</td><td style=\"text-align:left;white-space:pre\">ML</td><td style=\"text-align:left;white-space:pre\">MLI</td><td style=\"text-align:left;white-space:pre\">Mali</td><td style=\"text-align:left;white-space:pre\">Mali</td></tr><tr><td style=\"text-align:left;white-space:pre\">mt</td><td style=\"text-align:left;white-space:pre\">MT</td><td style=\"text-align:left;white-space:pre\">MLT</td><td style=\"text-align:left;white-space:pre\">Malta</td><td style=\"text-align:left;white-space:pre\">Malta</td></tr><tr><td style=\"text-align:left;white-space:pre\">mh</td><td style=\"text-align:left;white-space:pre\">MH</td><td style=\"text-align:left;white-space:pre\">MHL</td><td style=\"text-align:left;white-space:pre\">Marshall Islands</td><td style=\"text-align:left;white-space:pre\">Isole Marshall</td></tr><tr><td style=\"text-align:left;white-space:pre\">mq</td><td style=\"text-align:left;white-space:pre\">MQ</td><td style=\"text-align:left;white-space:pre\">MTQ</td><td style=\"text-align:left;white-space:pre\">Martinique</td><td style=\"text-align:left;white-space:pre\">Martinica</td></tr><tr><td style=\"text-align:left;white-space:pre\">mr</td><td style=\"text-align:left;white-space:pre\">MR</td><td style=\"text-align:left;white-space:pre\">MRT</td><td style=\"text-align:left;white-space:pre\">Mauritania</td><td style=\"text-align:left;white-space:pre\">Mauritania</td></tr><tr><td style=\"text-align:left;white-space:pre\">mu</td><td style=\"text-align:left;white-space:pre\">MU</td><td style=\"text-align:left;white-space:pre\">MUS</td><td style=\"text-align:left;white-space:pre\">Mauritius</td><td style=\"text-align:left;white-space:pre\">Mauritius</td></tr><tr><td style=\"text-align:left;white-space:pre\">yt</td><td style=\"text-align:left;white-space:pre\">YT</td><td style=\"text-align:left;white-space:pre\">MYT</td><td style=\"text-align:left;white-space:pre\">Mayotte</td><td style=\"text-align:left;white-space:pre\">Mayotte</td></tr><tr><td style=\"text-align:left;white-space:pre\">mx</td><td style=\"text-align:left;white-space:pre\">MX</td><td style=\"text-align:left;white-space:pre\">MEX</td><td style=\"text-align:left;white-space:pre\">Mexico</td><td style=\"text-align:left;white-space:pre\">Messico</td></tr><tr><td style=\"text-align:left;white-space:pre\">fm</td><td style=\"text-align:left;white-space:pre\">FM</td><td style=\"text-align:left;white-space:pre\">FSM</td><td style=\"text-align:left;white-space:pre\">Micronesia</td><td style=\"text-align:left;white-space:pre\">Stati Federati della Micronesia</td></tr><tr><td style=\"text-align:left;white-space:pre\">md</td><td style=\"text-align:left;white-space:pre\">MD</td><td style=\"text-align:left;white-space:pre\">MDA</td><td style=\"text-align:left;white-space:pre\">Moldova</td><td style=\"text-align:left;white-space:pre\">Moldavia</td></tr><tr><td style=\"text-align:left;white-space:pre\">mc</td><td style=\"text-align:left;white-space:pre\">MC</td><td style=\"text-align:left;white-space:pre\">MCO</td><td style=\"text-align:left;white-space:pre\">Monaco</td><td style=\"text-align:left;white-space:pre\">Monaco</td></tr><tr><td style=\"text-align:left;white-space:pre\">mn</td><td style=\"text-align:left;white-space:pre\">MN</td><td style=\"text-align:left;white-space:pre\">MNG</td><td style=\"text-align:left;white-space:pre\">Mongolia</td><td style=\"text-align:left;white-space:pre\">Mongolia</td></tr><tr><td style=\"text-align:left;white-space:pre\">ms</td><td style=\"text-align:left;white-space:pre\">MS</td><td style=\"text-align:left;white-space:pre\">MSR</td><td style=\"text-align:left;white-space:pre\">Montserrat</td><td style=\"text-align:left;white-space:pre\">Montserrat</td></tr><tr><td style=\"text-align:left;white-space:pre\">ma</td><td style=\"text-align:left;white-space:pre\">MA</td><td style=\"text-align:left;white-space:pre\">MAR</td><td style=\"text-align:left;white-space:pre\">Morocco</td><td style=\"text-align:left;white-space:pre\">Marocco</td></tr><tr><td style=\"text-align:left;white-space:pre\">mz</td><td style=\"text-align:left;white-space:pre\">MZ</td><td style=\"text-align:left;white-space:pre\">MOZ</td><td style=\"text-align:left;white-space:pre\">Mozambique</td><td style=\"text-align:left;white-space:pre\">Mozambico</td></tr><tr><td style=\"text-align:left;white-space:pre\">mm</td><td style=\"text-align:left;white-space:pre\">MM</td><td style=\"text-align:left;white-space:pre\">MMR</td><td style=\"text-align:left;white-space:pre\">Myanmar</td><td style=\"text-align:left;white-space:pre\">Myanmar</td></tr><tr><td style=\"text-align:left;white-space:pre\">na</td><td style=\"text-align:left;white-space:pre\">NA</td><td style=\"text-align:left;white-space:pre\">NAM</td><td style=\"text-align:left;white-space:pre\">Namibia</td><td style=\"text-align:left;white-space:pre\">Namibia</td></tr><tr><td style=\"text-align:left;white-space:pre\">nr</td><td style=\"text-align:left;white-space:pre\">NR</td><td style=\"text-align:left;white-space:pre\">NRU</td><td style=\"text-align:left;white-space:pre\">Nauru</td><td style=\"text-align:left;white-space:pre\">Nauru</td></tr><tr><td style=\"text-align:left;white-space:pre\">np</td><td style=\"text-align:left;white-space:pre\">NP</td><td style=\"text-align:left;white-space:pre\">NPL</td><td style=\"text-align:left;white-space:pre\">Nepal</td><td style=\"text-align:left;white-space:pre\">Nepal</td></tr><tr><td style=\"text-align:left;white-space:pre\">nl</td><td style=\"text-align:left;white-space:pre\">NL</td><td style=\"text-align:left;white-space:pre\">NLD</td><td style=\"text-align:left;white-space:pre\">Netherlands</td><td style=\"text-align:left;white-space:pre\">Paesi Bassi</td></tr><tr><td style=\"text-align:left;white-space:pre\">an</td><td style=\"text-align:left;white-space:pre\">AN</td><td style=\"text-align:left;white-space:pre\">ANT</td><td style=\"text-align:left;white-space:pre\">Netherlands Antilles</td><td style=\"text-align:left;white-space:pre\">Antille Olandesi</td></tr><tr><td style=\"text-align:left;white-space:pre\">nc</td><td style=\"text-align:left;white-space:pre\">NC</td><td style=\"text-align:left;white-space:pre\">NCL</td><td style=\"text-align:left;white-space:pre\">New Caledonia</td><td style=\"text-align:left;white-space:pre\">Nuova Caledonia</td></tr><tr><td style=\"text-align:left;white-space:pre\">nz</td><td style=\"text-align:left;white-space:pre\">NZ</td><td style=\"text-align:left;white-space:pre\">NZL</td><td style=\"text-align:left;white-space:pre\">New Zealand</td><td style=\"text-align:left;white-space:pre\">Nuova Zelanda</td></tr><tr><td style=\"text-align:left;white-space:pre\">ni</td><td style=\"text-align:left;white-space:pre\">NI</td><td style=\"text-align:left;white-space:pre\">NIC</td><td style=\"text-align:left;white-space:pre\">Nicaragua</td><td style=\"text-align:left;white-space:pre\">Nicaragua</td></tr><tr><td style=\"text-align:left;white-space:pre\">nu</td><td style=\"text-align:left;white-space:pre\">NU</td><td style=\"text-align:left;white-space:pre\">NIU</td><td style=\"text-align:left;white-space:pre\">Niue</td><td style=\"text-align:left;white-space:pre\">Niue</td></tr><tr><td style=\"text-align:left;white-space:pre\">ne</td><td style=\"text-align:left;white-space:pre\">NE</td><td style=\"text-align:left;white-space:pre\">NER</td><td style=\"text-align:left;white-space:pre\">Niger</td><td style=\"text-align:left;white-space:pre\">Niger</td></tr><tr><td style=\"text-align:left;white-space:pre\">ng</td><td style=\"text-align:left;white-space:pre\">NG</td><td style=\"text-align:left;white-space:pre\">NGA</td><td style=\"text-align:left;white-space:pre\">Nigeria</td><td style=\"text-align:left;white-space:pre\">Nigeria</td></tr><tr><td style=\"text-align:left;white-space:pre\">nf</td><td style=\"text-align:left;white-space:pre\">NF</td><td style=\"text-align:left;white-space:pre\">NFK</td><td style=\"text-align:left;white-space:pre\">Norfolk Island</td><td style=\"text-align:left;white-space:pre\">Isola Norfolk</td></tr><tr><td style=\"text-align:left;white-space:pre\">mp</td><td style=\"text-align:left;white-space:pre\">MP</td><td style=\"text-align:left;white-space:pre\">MNP</td><td style=\"text-align:left;white-space:pre\">Northern Mariana Islands</td><td style=\"text-align:left;white-space:pre\">Isole Marianne Settentrionali</td></tr><tr><td style=\"text-align:left;white-space:pre\">no</td><td style=\"text-align:left;white-space:pre\">NO</td><td style=\"text-align:left;white-space:pre\">NOR</td><td style=\"text-align:left;white-space:pre\">Norway</td><td style=\"text-align:left;white-space:pre\">Norvegia</td></tr><tr><td style=\"text-align:left;white-space:pre\">om</td><td style=\"text-align:left;white-space:pre\">OM</td><td style=\"text-align:left;white-space:pre\">OMN</td><td style=\"text-align:left;white-space:pre\">Oman</td><td style=\"text-align:left;white-space:pre\">Oman</td></tr><tr><td style=\"text-align:left;white-space:pre\">pk</td><td style=\"text-align:left;white-space:pre\">PK</td><td style=\"text-align:left;white-space:pre\">PAK</td><td style=\"text-align:left;white-space:pre\">Pakistan</td><td style=\"text-align:left;white-space:pre\">Pakistan</td></tr><tr><td style=\"text-align:left;white-space:pre\">pw</td><td style=\"text-align:left;white-space:pre\">PW</td><td style=\"text-align:left;white-space:pre\">PLW</td><td style=\"text-align:left;white-space:pre\">Palau</td><td style=\"text-align:left;white-space:pre\">Palau</td></tr><tr><td style=\"text-align:left;white-space:pre\">ps</td><td style=\"text-align:left;white-space:pre\">PS</td><td style=\"text-align:left;white-space:pre\">PSE</td><td style=\"text-align:left;white-space:pre\">Occupied Palestinian Territory</td><td style=\"text-align:left;white-space:pre\">Territori Palestinesi Occupati</td></tr><tr><td style=\"text-align:left;white-space:pre\">pa</td><td style=\"text-align:left;white-space:pre\">PA</td><td style=\"text-align:left;white-space:pre\">PAN</td><td style=\"text-align:left;white-space:pre\">Panama</td><td style=\"text-align:left;white-space:pre\">PanamÃ¡</td></tr><tr><td style=\"text-align:left;white-space:pre\">pg</td><td style=\"text-align:left;white-space:pre\">PG</td><td style=\"text-align:left;white-space:pre\">PNG</td><td style=\"text-align:left;white-space:pre\">Papua New Guinea</td><td style=\"text-align:left;white-space:pre\">Papua Nuova Guinea</td></tr><tr><td style=\"text-align:left;white-space:pre\">py</td><td style=\"text-align:left;white-space:pre\">PY</td><td style=\"text-align:left;white-space:pre\">PRY</td><td style=\"text-align:left;white-space:pre\">Paraguay</td><td style=\"text-align:left;white-space:pre\">Paraguay</td></tr><tr><td style=\"text-align:left;white-space:pre\">pe</td><td style=\"text-align:left;white-space:pre\">PE</td><td style=\"text-align:left;white-space:pre\">PER</td><td style=\"text-align:left;white-space:pre\">Peru</td><td style=\"text-align:left;white-space:pre\">PerÃ¹</td></tr><tr><td style=\"text-align:left;white-space:pre\">ph</td><td style=\"text-align:left;white-space:pre\">PH</td><td style=\"text-align:left;white-space:pre\">PHL</td><td style=\"text-align:left;white-space:pre\">Philippines</td><td style=\"text-align:left;white-space:pre\">Filippine</td></tr><tr><td style=\"text-align:left;white-space:pre\">pn</td><td style=\"text-align:left;white-space:pre\">PN</td><td style=\"text-align:left;white-space:pre\">PCN</td><td style=\"text-align:left;white-space:pre\">Pitcairn Island</td><td style=\"text-align:left;white-space:pre\">Pitcairn</td></tr><tr><td style=\"text-align:left;white-space:pre\">pl</td><td style=\"text-align:left;white-space:pre\">PL</td><td style=\"text-align:left;white-space:pre\">POL</td><td style=\"text-align:left;white-space:pre\">Poland</td><td style=\"text-align:left;white-space:pre\">Polonia</td></tr><tr><td style=\"text-align:left;white-space:pre\">pt</td><td style=\"text-align:left;white-space:pre\">PT</td><td style=\"text-align:left;white-space:pre\">PRT</td><td style=\"text-align:left;white-space:pre\">Portugal</td><td style=\"text-align:left;white-space:pre\">Portogallo</td></tr><tr><td style=\"text-align:left;white-space:pre\">pr</td><td style=\"text-align:left;white-space:pre\">PR</td><td style=\"text-align:left;white-space:pre\">PRI</td><td style=\"text-align:left;white-space:pre\">Puerto Rico</td><td style=\"text-align:left;white-space:pre\">Porto Rico</td></tr><tr><td style=\"text-align:left;white-space:pre\">qa</td><td style=\"text-align:left;white-space:pre\">QA</td><td style=\"text-align:left;white-space:pre\">QAT</td><td style=\"text-align:left;white-space:pre\">Qatar</td><td style=\"text-align:left;white-space:pre\">Qatar</td></tr><tr><td style=\"text-align:left;white-space:pre\">re</td><td style=\"text-align:left;white-space:pre\">RE</td><td style=\"text-align:left;white-space:pre\">REU</td><td style=\"text-align:left;white-space:pre\">Reunion</td><td style=\"text-align:left;white-space:pre\">Reunion</td></tr><tr><td style=\"text-align:left;white-space:pre\">ro</td><td style=\"text-align:left;white-space:pre\">RO</td><td style=\"text-align:left;white-space:pre\">ROU</td><td style=\"text-align:left;white-space:pre\">Romania</td><td style=\"text-align:left;white-space:pre\">Romania</td></tr><tr><td style=\"text-align:left;white-space:pre\">ru</td><td style=\"text-align:left;white-space:pre\">RU</td><td style=\"text-align:left;white-space:pre\">RUS</td><td style=\"text-align:left;white-space:pre\">Russia</td><td style=\"text-align:left;white-space:pre\">Federazione Russa</td></tr><tr><td style=\"text-align:left;white-space:pre\">rw</td><td style=\"text-align:left;white-space:pre\">RW</td><td style=\"text-align:left;white-space:pre\">RWA</td><td style=\"text-align:left;white-space:pre\">Rwanda</td><td style=\"text-align:left;white-space:pre\">Ruanda</td></tr><tr><td style=\"text-align:left;white-space:pre\">sh</td><td style=\"text-align:left;white-space:pre\">SH</td><td style=\"text-align:left;white-space:pre\">SHN</td><td style=\"text-align:left;white-space:pre\">Saint Helena</td><td style=\"text-align:left;white-space:pre\">Sant'Elena</td></tr><tr><td style=\"text-align:left;white-space:pre\">kn</td><td style=\"text-align:left;white-space:pre\">KN</td><td style=\"text-align:left;white-space:pre\">KNA</td><td style=\"text-align:left;white-space:pre\">Saint Kitts and Nevis</td><td style=\"text-align:left;white-space:pre\">Saint Kitts e Nevis</td></tr><tr><td style=\"text-align:left;white-space:pre\">lc</td><td style=\"text-align:left;white-space:pre\">LC</td><td style=\"text-align:left;white-space:pre\">LCA</td><td style=\"text-align:left;white-space:pre\">Saint Lucia</td><td style=\"text-align:left;white-space:pre\">Santa Lucia</td></tr><tr><td style=\"text-align:left;white-space:pre\">pm</td><td style=\"text-align:left;white-space:pre\">PM</td><td style=\"text-align:left;white-space:pre\">SPM</td><td style=\"text-align:left;white-space:pre\">Saint Pierre and Miquelon</td><td style=\"text-align:left;white-space:pre\">Saint Pierre e Miquelon</td></tr><tr><td style=\"text-align:left;white-space:pre\">vc</td><td style=\"text-align:left;white-space:pre\">VC</td><td style=\"text-align:left;white-space:pre\">VCT</td><td style=\"text-align:left;white-space:pre\">Saint Vincent and the Grenadines</td><td style=\"text-align:left;white-space:pre\">Saint Vincent e Grenadine</td></tr><tr><td style=\"text-align:left;white-space:pre\">ws</td><td style=\"text-align:left;white-space:pre\">WS</td><td style=\"text-align:left;white-space:pre\">WSM</td><td style=\"text-align:left;white-space:pre\">Samoa</td><td style=\"text-align:left;white-space:pre\">Samoa</td></tr><tr><td style=\"text-align:left;white-space:pre\">sm</td><td style=\"text-align:left;white-space:pre\">SM</td><td style=\"text-align:left;white-space:pre\">SMR</td><td style=\"text-align:left;white-space:pre\">San Marino</td><td style=\"text-align:left;white-space:pre\">San Marino</td></tr><tr><td style=\"text-align:left;white-space:pre\">st</td><td style=\"text-align:left;white-space:pre\">ST</td><td style=\"text-align:left;white-space:pre\">STP</td><td style=\"text-align:left;white-space:pre\">Sao Tome and Principe</td><td style=\"text-align:left;white-space:pre\">Sao Tome e Principe</td></tr><tr><td style=\"text-align:left;white-space:pre\">sa</td><td style=\"text-align:left;white-space:pre\">SA</td><td style=\"text-align:left;white-space:pre\">SAU</td><td style=\"text-align:left;white-space:pre\">Saudia Arabia</td><td style=\"text-align:left;white-space:pre\">Arabia Saudita</td></tr><tr><td style=\"text-align:left;white-space:pre\">sn</td><td style=\"text-align:left;white-space:pre\">SN</td><td style=\"text-align:left;white-space:pre\">SEN</td><td style=\"text-align:left;white-space:pre\">Senegal</td><td style=\"text-align:left;white-space:pre\">Senegal</td></tr><tr><td style=\"text-align:left;white-space:pre\">cs</td><td style=\"text-align:left;white-space:pre\">CS</td><td style=\"text-align:left;white-space:pre\">SCG</td><td style=\"text-align:left;white-space:pre\">Serbia</td><td style=\"text-align:left;white-space:pre\">NULL</td></tr><tr><td style=\"text-align:left;white-space:pre\">sc</td><td style=\"text-align:left;white-space:pre\">SC</td><td style=\"text-align:left;white-space:pre\">SYC</td><td style=\"text-align:left;white-space:pre\">Seychelles</td><td style=\"text-align:left;white-space:pre\">Seychelles</td></tr><tr><td style=\"text-align:left;white-space:pre\">sl</td><td style=\"text-align:left;white-space:pre\">SL</td><td style=\"text-align:left;white-space:pre\">SLE</td><td style=\"text-align:left;white-space:pre\">Sierra Leone</td><td style=\"text-align:left;white-space:pre\">Sierra Leone</td></tr><tr><td style=\"text-align:left;white-space:pre\">sg</td><td style=\"text-align:left;white-space:pre\">SG</td><td style=\"text-align:left;white-space:pre\">SGP</td><td style=\"text-align:left;white-space:pre\">Singapore</td><td style=\"text-align:left;white-space:pre\">Singapore</td></tr><tr><td style=\"text-align:left;white-space:pre\">sk</td><td style=\"text-align:left;white-space:pre\">SK</td><td style=\"text-align:left;white-space:pre\">SVK</td><td style=\"text-align:left;white-space:pre\">Slovakia</td><td style=\"text-align:left;white-space:pre\">Slovacchia</td></tr><tr><td style=\"text-align:left;white-space:pre\">si</td><td style=\"text-align:left;white-space:pre\">SI</td><td style=\"text-align:left;white-space:pre\">SVN</td><td style=\"text-align:left;white-space:pre\">Slovenia</td><td style=\"text-align:left;white-space:pre\">Slovenia</td></tr><tr><td style=\"text-align:left;white-space:pre\">sb</td><td style=\"text-align:left;white-space:pre\">SB</td><td style=\"text-align:left;white-space:pre\">SLB</td><td style=\"text-align:left;white-space:pre\">Solomon Islands</td><td style=\"text-align:left;white-space:pre\">Isole Solomon</td></tr><tr><td style=\"text-align:left;white-space:pre\">so</td><td style=\"text-align:left;white-space:pre\">SO</td><td style=\"text-align:left;white-space:pre\">SOM</td><td style=\"text-align:left;white-space:pre\">Somalia</td><td style=\"text-align:left;white-space:pre\">Somalia</td></tr><tr><td style=\"text-align:left;white-space:pre\">za</td><td style=\"text-align:left;white-space:pre\">ZA</td><td style=\"text-align:left;white-space:pre\">ZAF</td><td style=\"text-align:left;white-space:pre\">South Africa</td><td style=\"text-align:left;white-space:pre\">Sudafrica</td></tr><tr><td style=\"text-align:left;white-space:pre\">gs</td><td style=\"text-align:left;white-space:pre\">NULL</td><td style=\"text-align:left;white-space:pre\">NULL</td><td style=\"text-align:left;white-space:pre\">South Georgia and the South Sandwich Islands</td><td style=\"text-align:left;white-space:pre\">NULL</td></tr><tr><td style=\"text-align:left;white-space:pre\">es</td><td style=\"text-align:left;white-space:pre\">ES</td><td style=\"text-align:left;white-space:pre\">ESP</td><td style=\"text-align:left;white-space:pre\">Spain</td><td style=\"text-align:left;white-space:pre\">Spagna</td></tr><tr><td style=\"text-align:left;white-space:pre\">lk</td><td style=\"text-align:left;white-space:pre\">LK</td><td style=\"text-align:left;white-space:pre\">LKA</td><td style=\"text-align:left;white-space:pre\">Sri Lanka</td><td style=\"text-align:left;white-space:pre\">Sri Lanka</td></tr><tr><td style=\"text-align:left;white-space:pre\">sd</td><td style=\"text-align:left;white-space:pre\">SD</td><td style=\"text-align:left;white-space:pre\">SDN</td><td style=\"text-align:left;white-space:pre\">Sudan</td><td style=\"text-align:left;white-space:pre\">Sudan</td></tr><tr><td style=\"text-align:left;white-space:pre\">sr</td><td style=\"text-align:left;white-space:pre\">SR</td><td style=\"text-align:left;white-space:pre\">SUR</td><td style=\"text-align:left;white-space:pre\">Suriname</td><td style=\"text-align:left;white-space:pre\">Suriname</td></tr><tr><td style=\"text-align:left;white-space:pre\">sj</td><td style=\"text-align:left;white-space:pre\">SJ</td><td style=\"text-align:left;white-space:pre\">SJM</td><td style=\"text-align:left;white-space:pre\">Svalbard and Jan Mayen Islands</td><td style=\"text-align:left;white-space:pre\">Svalbard e Jan Mayen</td></tr><tr><td style=\"text-align:left;white-space:pre\">sz</td><td style=\"text-align:left;white-space:pre\">SZ</td><td style=\"text-align:left;white-space:pre\">SWZ</td><td style=\"text-align:left;white-space:pre\">Swaziland</td><td style=\"text-align:left;white-space:pre\">Swaziland</td></tr><tr><td style=\"text-align:left;white-space:pre\">se</td><td style=\"text-align:left;white-space:pre\">SE</td><td style=\"text-align:left;white-space:pre\">SWE</td><td style=\"text-align:left;white-space:pre\">Sweden</td><td style=\"text-align:left;white-space:pre\">Svezia</td></tr><tr><td style=\"text-align:left;white-space:pre\">ch</td><td style=\"text-align:left;white-space:pre\">CH</td><td style=\"text-align:left;white-space:pre\">CHE</td><td style=\"text-align:left;white-space:pre\">Switzerland</td><td style=\"text-align:left;white-space:pre\">Svizzera</td></tr><tr><td style=\"text-align:left;white-space:pre\">sy</td><td style=\"text-align:left;white-space:pre\">SY</td><td style=\"text-align:left;white-space:pre\">SYR</td><td style=\"text-align:left;white-space:pre\">Syria</td><td style=\"text-align:left;white-space:pre\">Siria</td></tr><tr><td style=\"text-align:left;white-space:pre\">tw</td><td style=\"text-align:left;white-space:pre\">TW</td><td style=\"text-align:left;white-space:pre\">TWN</td><td style=\"text-align:left;white-space:pre\">Taiwan</td><td style=\"text-align:left;white-space:pre\">Taiwan</td></tr><tr><td style=\"text-align:left;white-space:pre\">tj</td><td style=\"text-align:left;white-space:pre\">TJ</td><td style=\"text-align:left;white-space:pre\">TJK</td><td style=\"text-align:left;white-space:pre\">Tajikistan</td><td style=\"text-align:left;white-space:pre\">Tagikistan</td></tr><tr><td style=\"text-align:left;white-space:pre\">tz</td><td style=\"text-align:left;white-space:pre\">TZ</td><td style=\"text-align:left;white-space:pre\">TZA</td><td style=\"text-align:left;white-space:pre\">Tanzania</td><td style=\"text-align:left;white-space:pre\">Tanzania</td></tr><tr><td style=\"text-align:left;white-space:pre\">th</td><td style=\"text-align:left;white-space:pre\">TH</td><td style=\"text-align:left;white-space:pre\">THA</td><td style=\"text-align:left;white-space:pre\">Thailand</td><td style=\"text-align:left;white-space:pre\">Thailandia</td></tr><tr><td style=\"text-align:left;white-space:pre\">tp</td><td style=\"text-align:left;white-space:pre\">TL</td><td style=\"text-align:left;white-space:pre\">TLS</td><td style=\"text-align:left;white-space:pre\">Timor-Leste</td><td style=\"text-align:left;white-space:pre\">Timor Est</td></tr><tr><td style=\"text-align:left;white-space:pre\">tg</td><td style=\"text-align:left;white-space:pre\">TG</td><td style=\"text-align:left;white-space:pre\">TGO</td><td style=\"text-align:left;white-space:pre\">Togo</td><td style=\"text-align:left;white-space:pre\">Togo</td></tr><tr><td style=\"text-align:left;white-space:pre\">tk</td><td style=\"text-align:left;white-space:pre\">NULL</td><td style=\"text-align:left;white-space:pre\">NULL</td><td style=\"text-align:left;white-space:pre\">Tokelau</td><td style=\"text-align:left;white-space:pre\">NULL</td></tr><tr><td style=\"text-align:left;white-space:pre\">to</td><td style=\"text-align:left;white-space:pre\">TO</td><td style=\"text-align:left;white-space:pre\">TON</td><td style=\"text-align:left;white-space:pre\">Tonga</td><td style=\"text-align:left;white-space:pre\">Tonga</td></tr><tr><td style=\"text-align:left;white-space:pre\">tt</td><td style=\"text-align:left;white-space:pre\">TT</td><td style=\"text-align:left;white-space:pre\">TTO</td><td style=\"text-align:left;white-space:pre\">Trinidad and Tobago</td><td style=\"text-align:left;white-space:pre\">Trinidad e Tobago</td></tr><tr><td style=\"text-align:left;white-space:pre\">tn</td><td style=\"text-align:left;white-space:pre\">TN</td><td style=\"text-align:left;white-space:pre\">TUN</td><td style=\"text-align:left;white-space:pre\">Tunisia</td><td style=\"text-align:left;white-space:pre\">Tunisia</td></tr><tr><td style=\"text-align:left;white-space:pre\">tr</td><td style=\"text-align:left;white-space:pre\">TR</td><td style=\"text-align:left;white-space:pre\">TUR</td><td style=\"text-align:left;white-space:pre\">Turkey</td><td style=\"text-align:left;white-space:pre\">Turchia</td></tr><tr><td style=\"text-align:left;white-space:pre\">tm</td><td style=\"text-align:left;white-space:pre\">TM</td><td style=\"text-align:left;white-space:pre\">TKM</td><td style=\"text-align:left;white-space:pre\">Turkmenistan</td><td style=\"text-align:left;white-space:pre\">Turkmenistan</td></tr><tr><td style=\"text-align:left;white-space:pre\">tc</td><td style=\"text-align:left;white-space:pre\">TC</td><td style=\"text-align:left;white-space:pre\">TCA</td><td style=\"text-align:left;white-space:pre\">Turks and Caicos Islands</td><td style=\"text-align:left;white-space:pre\">Isole Turks e Caicos</td></tr><tr><td style=\"text-align:left;white-space:pre\">tv</td><td style=\"text-align:left;white-space:pre\">TV</td><td style=\"text-align:left;white-space:pre\">TUV</td><td style=\"text-align:left;white-space:pre\">Tuvalu</td><td style=\"text-align:left;white-space:pre\">Tuvalu</td></tr><tr><td style=\"text-align:left;white-space:pre\">ug</td><td style=\"text-align:left;white-space:pre\">UG</td><td style=\"text-align:left;white-space:pre\">UGA</td><td style=\"text-align:left;white-space:pre\">Uganda</td><td style=\"text-align:left;white-space:pre\">Uganda</td></tr><tr><td style=\"text-align:left;white-space:pre\">ua</td><td style=\"text-align:left;white-space:pre\">UA</td><td style=\"text-align:left;white-space:pre\">UKR</td><td style=\"text-align:left;white-space:pre\">Ukraine</td><td style=\"text-align:left;white-space:pre\">Ucraina</td></tr><tr><td style=\"text-align:left;white-space:pre\">ae</td><td style=\"text-align:left;white-space:pre\">AE</td><td style=\"text-align:left;white-space:pre\">ARE</td><td style=\"text-align:left;white-space:pre\">United Arab Emirates</td><td style=\"text-align:left;white-space:pre\">Emirati Arabi Uniti</td></tr><tr><td style=\"text-align:left;white-space:pre\">uk</td><td style=\"text-align:left;white-space:pre\">GB</td><td style=\"text-align:left;white-space:pre\">GBR</td><td style=\"text-align:left;white-space:pre\">United Kingdom</td><td style=\"text-align:left;white-space:pre\">Regno Unito</td></tr><tr><td style=\"text-align:left;white-space:pre\">us</td><td style=\"text-align:left;white-space:pre\">US</td><td style=\"text-align:left;white-space:pre\">USA</td><td style=\"text-align:left;white-space:pre\">United States of America</td><td style=\"text-align:left;white-space:pre\">Stati Uniti d'America</td></tr><tr><td style=\"text-align:left;white-space:pre\">vi</td><td style=\"text-align:left;white-space:pre\">VI</td><td style=\"text-align:left;white-space:pre\">VIR</td><td style=\"text-align:left;white-space:pre\">United States Virgin Islands</td><td style=\"text-align:left;white-space:pre\">Isole Vergini Americane</td></tr><tr><td style=\"text-align:left;white-space:pre\">uy</td><td style=\"text-align:left;white-space:pre\">UY</td><td style=\"text-align:left;white-space:pre\">URY</td><td style=\"text-align:left;white-space:pre\">Uruguay</td><td style=\"text-align:left;white-space:pre\">Uruguay</td></tr><tr><td style=\"text-align:left;white-space:pre\">um</td><td style=\"text-align:left;white-space:pre\">NULL</td><td style=\"text-align:left;white-space:pre\">NULL</td><td style=\"text-align:left;white-space:pre\">US Minor Outlying Islands</td><td style=\"text-align:left;white-space:pre\">NULL</td></tr><tr><td style=\"text-align:left;white-space:pre\">su</td><td style=\"text-align:left;white-space:pre\">SU</td><td style=\"text-align:left;white-space:pre\">SUN</td><td style=\"text-align:left;white-space:pre\">USSR</td><td style=\"text-align:left;white-space:pre\">NULL</td></tr><tr><td style=\"text-align:left;white-space:pre\">uz</td><td style=\"text-align:left;white-space:pre\">UZ</td><td style=\"text-align:left;white-space:pre\">UZB</td><td style=\"text-align:left;white-space:pre\">Uzbekistan</td><td style=\"text-align:left;white-space:pre\">Uzbekistan</td></tr><tr><td style=\"text-align:left;white-space:pre\">vu</td><td style=\"text-align:left;white-space:pre\">VU</td><td style=\"text-align:left;white-space:pre\">VUT</td><td style=\"text-align:left;white-space:pre\">Vanuatu</td><td style=\"text-align:left;white-space:pre\">Vanuatu</td></tr><tr><td style=\"text-align:left;white-space:pre\">va</td><td style=\"text-align:left;white-space:pre\">VA</td><td style=\"text-align:left;white-space:pre\">VAT</td><td style=\"text-align:left;white-space:pre\">Vatican City State (Holy See)</td><td style=\"text-align:left;white-space:pre\">CittÃ  del Vaticano</td></tr><tr><td style=\"text-align:left;white-space:pre\">ve</td><td style=\"text-align:left;white-space:pre\">VE</td><td style=\"text-align:left;white-space:pre\">VEN</td><td style=\"text-align:left;white-space:pre\">Venezuela</td><td style=\"text-align:left;white-space:pre\">Venezuela</td></tr><tr><td style=\"text-align:left;white-space:pre\">vn</td><td style=\"text-align:left;white-space:pre\">VN</td><td style=\"text-align:left;white-space:pre\">VNM</td><td style=\"text-align:left;white-space:pre\">Vietnam</td><td style=\"text-align:left;white-space:pre\">Vietnam</td></tr><tr><td style=\"text-align:left;white-space:pre\">wf</td><td style=\"text-align:left;white-space:pre\">WF</td><td style=\"text-align:left;white-space:pre\">WLF</td><td style=\"text-align:left;white-space:pre\">Wallis and Futuna Islands</td><td style=\"text-align:left;white-space:pre\">Wallis e Futuna</td></tr><tr><td style=\"text-align:left;white-space:pre\">eh</td><td style=\"text-align:left;white-space:pre\">EH</td><td style=\"text-align:left;white-space:pre\">ESH</td><td style=\"text-align:left;white-space:pre\">Western Sahara</td><td style=\"text-align:left;white-space:pre\">Sahara Occidentale</td></tr><tr><td style=\"text-align:left;white-space:pre\">ye</td><td style=\"text-align:left;white-space:pre\">YE</td><td style=\"text-align:left;white-space:pre\">YEM</td><td style=\"text-align:left;white-space:pre\">Yemen</td><td style=\"text-align:left;white-space:pre\">Yemen</td></tr><tr><td style=\"text-align:left;white-space:pre\">yu</td><td style=\"text-align:left;white-space:pre\">YU</td><td style=\"text-align:left;white-space:pre\">YUG</td><td style=\"text-align:left;white-space:pre\">Yugoslavia</td><td style=\"text-align:left;white-space:pre\">NULL</td></tr><tr><td style=\"text-align:left;white-space:pre\">zm</td><td style=\"text-align:left;white-space:pre\">ZM</td><td style=\"text-align:left;white-space:pre\">ZMB</td><td style=\"text-align:left;white-space:pre\">Zambia</td><td style=\"text-align:left;white-space:pre\">Zambia</td></tr><tr><td style=\"text-align:left;white-space:pre\">zw</td><td style=\"text-align:left;white-space:pre\">ZW</td><td style=\"text-align:left;white-space:pre\">ZWE</td><td style=\"text-align:left;white-space:pre\">Zimbabwe</td><td style=\"text-align:left;white-space:pre\">Zimbabwe</td></tr></table></body></html>"
      ]
     },
     "metadata": {},
     "output_type": "display_data"
    }
   ],
   "source": [
    "SELECT * FROM apache_countries;"
   ]
  },
  {
   "cell_type": "code",
   "execution_count": 109,
   "id": "deadly-representative",
   "metadata": {},
   "outputs": [
    {
     "data": {
      "text/html": [
       "<html><body><table border=\"1\"><tr><th style=\"text-align:left;white-space:pre\">code1</th><th style=\"text-align:left;white-space:pre\">code2</th><th style=\"text-align:left;white-space:pre\">code3</th><th style=\"text-align:left;white-space:pre\">country_name</th><th style=\"text-align:left;white-space:pre\">country_name_italian</th></tr><tr><td style=\"text-align:left;white-space:pre\">af</td><td style=\"text-align:left;white-space:pre\">AF</td><td style=\"text-align:left;white-space:pre\">AFG</td><td style=\"text-align:left;white-space:pre\">Afghanistan</td><td style=\"text-align:left;white-space:pre\">Afghanistan</td></tr><tr><td style=\"text-align:left;white-space:pre\">ax</td><td style=\"text-align:left;white-space:pre\">AX</td><td style=\"text-align:left;white-space:pre\">ALA</td><td style=\"text-align:left;white-space:pre\">Ã…land</td><td style=\"text-align:left;white-space:pre\">NULL</td></tr><tr><td style=\"text-align:left;white-space:pre\">al</td><td style=\"text-align:left;white-space:pre\">AL</td><td style=\"text-align:left;white-space:pre\">ALB</td><td style=\"text-align:left;white-space:pre\">Albania</td><td style=\"text-align:left;white-space:pre\">Albania</td></tr><tr><td style=\"text-align:left;white-space:pre\">dz</td><td style=\"text-align:left;white-space:pre\">DZ</td><td style=\"text-align:left;white-space:pre\">DZA</td><td style=\"text-align:left;white-space:pre\">Algeria</td><td style=\"text-align:left;white-space:pre\">Algeria</td></tr><tr><td style=\"text-align:left;white-space:pre\">as</td><td style=\"text-align:left;white-space:pre\">AS</td><td style=\"text-align:left;white-space:pre\">ASM</td><td style=\"text-align:left;white-space:pre\">American Samoa</td><td style=\"text-align:left;white-space:pre\">Samoa Americane</td></tr></table></body></html>"
      ]
     },
     "metadata": {},
     "output_type": "display_data"
    }
   ],
   "source": [
    "SELECT * FROM apache_countries\n",
    "LIMIT 5;"
   ]
  },
  {
   "cell_type": "code",
   "execution_count": 110,
   "id": "hollow-musical",
   "metadata": {},
   "outputs": [
    {
     "data": {
      "text/html": [
       "Stage: 2 of 3 'Sorting'      0% of stage done\r",
       "Stage: 3 of 3 'Enabling keys'      0% of stage done\r",
       "                                                   \r"
      ]
     },
     "metadata": {},
     "output_type": "display_data"
    }
   ],
   "source": [
    "ALTER TABLE apache_countries\n",
    "ORDER BY code1;"
   ]
  },
  {
   "cell_type": "code",
   "execution_count": 112,
   "id": "knowing-score",
   "metadata": {},
   "outputs": [
    {
     "data": {
      "text/html": [
       "<html><body><table border=\"1\"><tr><th style=\"text-align:left;white-space:pre\">code1</th><th style=\"text-align:left;white-space:pre\">code2</th><th style=\"text-align:left;white-space:pre\">code3</th><th style=\"text-align:left;white-space:pre\">country_name</th><th style=\"text-align:left;white-space:pre\">country_name_italian</th></tr><tr><td style=\"text-align:left;white-space:pre\">ac</td><td style=\"text-align:left;white-space:pre\">NULL</td><td style=\"text-align:left;white-space:pre\">NULL</td><td style=\"text-align:left;white-space:pre\">Ascension Island</td><td style=\"text-align:left;white-space:pre\">NULL</td></tr><tr><td style=\"text-align:left;white-space:pre\">ad</td><td style=\"text-align:left;white-space:pre\">AD</td><td style=\"text-align:left;white-space:pre\">AND</td><td style=\"text-align:left;white-space:pre\">Andorra</td><td style=\"text-align:left;white-space:pre\">Andorra</td></tr><tr><td style=\"text-align:left;white-space:pre\">ae</td><td style=\"text-align:left;white-space:pre\">AE</td><td style=\"text-align:left;white-space:pre\">ARE</td><td style=\"text-align:left;white-space:pre\">United Arab Emirates</td><td style=\"text-align:left;white-space:pre\">Emirati Arabi Uniti</td></tr><tr><td style=\"text-align:left;white-space:pre\">af</td><td style=\"text-align:left;white-space:pre\">AF</td><td style=\"text-align:left;white-space:pre\">AFG</td><td style=\"text-align:left;white-space:pre\">Afghanistan</td><td style=\"text-align:left;white-space:pre\">Afghanistan</td></tr><tr><td style=\"text-align:left;white-space:pre\">ag</td><td style=\"text-align:left;white-space:pre\">AG</td><td style=\"text-align:left;white-space:pre\">ATG</td><td style=\"text-align:left;white-space:pre\">Antigua and Barbuda</td><td style=\"text-align:left;white-space:pre\">Antigua e Barbuda</td></tr><tr><td style=\"text-align:left;white-space:pre\">ai</td><td style=\"text-align:left;white-space:pre\">AI</td><td style=\"text-align:left;white-space:pre\">AIA</td><td style=\"text-align:left;white-space:pre\">Anguilla</td><td style=\"text-align:left;white-space:pre\">Anguilla</td></tr><tr><td style=\"text-align:left;white-space:pre\">al</td><td style=\"text-align:left;white-space:pre\">AL</td><td style=\"text-align:left;white-space:pre\">ALB</td><td style=\"text-align:left;white-space:pre\">Albania</td><td style=\"text-align:left;white-space:pre\">Albania</td></tr><tr><td style=\"text-align:left;white-space:pre\">am</td><td style=\"text-align:left;white-space:pre\">AM</td><td style=\"text-align:left;white-space:pre\">ARM</td><td style=\"text-align:left;white-space:pre\">Armenia</td><td style=\"text-align:left;white-space:pre\">Armenia</td></tr><tr><td style=\"text-align:left;white-space:pre\">an</td><td style=\"text-align:left;white-space:pre\">AN</td><td style=\"text-align:left;white-space:pre\">ANT</td><td style=\"text-align:left;white-space:pre\">Netherlands Antilles</td><td style=\"text-align:left;white-space:pre\">Antille Olandesi</td></tr><tr><td style=\"text-align:left;white-space:pre\">ao</td><td style=\"text-align:left;white-space:pre\">AO</td><td style=\"text-align:left;white-space:pre\">AGO</td><td style=\"text-align:left;white-space:pre\">Angola</td><td style=\"text-align:left;white-space:pre\">Angola</td></tr><tr><td style=\"text-align:left;white-space:pre\">aq</td><td style=\"text-align:left;white-space:pre\">NULL</td><td style=\"text-align:left;white-space:pre\">NULL</td><td style=\"text-align:left;white-space:pre\">Antarctica</td><td style=\"text-align:left;white-space:pre\">NULL</td></tr><tr><td style=\"text-align:left;white-space:pre\">ar</td><td style=\"text-align:left;white-space:pre\">AR</td><td style=\"text-align:left;white-space:pre\">ARG</td><td style=\"text-align:left;white-space:pre\">Argentina</td><td style=\"text-align:left;white-space:pre\">Argentina</td></tr><tr><td style=\"text-align:left;white-space:pre\">as</td><td style=\"text-align:left;white-space:pre\">AS</td><td style=\"text-align:left;white-space:pre\">ASM</td><td style=\"text-align:left;white-space:pre\">American Samoa</td><td style=\"text-align:left;white-space:pre\">Samoa Americane</td></tr><tr><td style=\"text-align:left;white-space:pre\">at</td><td style=\"text-align:left;white-space:pre\">AT</td><td style=\"text-align:left;white-space:pre\">AUT</td><td style=\"text-align:left;white-space:pre\">Austria</td><td style=\"text-align:left;white-space:pre\">Austria</td></tr><tr><td style=\"text-align:left;white-space:pre\">au</td><td style=\"text-align:left;white-space:pre\">AU</td><td style=\"text-align:left;white-space:pre\">AUS</td><td style=\"text-align:left;white-space:pre\">Australia</td><td style=\"text-align:left;white-space:pre\">Australia</td></tr><tr><td style=\"text-align:left;white-space:pre\">aw</td><td style=\"text-align:left;white-space:pre\">AW</td><td style=\"text-align:left;white-space:pre\">ABW</td><td style=\"text-align:left;white-space:pre\">Aruba</td><td style=\"text-align:left;white-space:pre\">Aruba</td></tr><tr><td style=\"text-align:left;white-space:pre\">ax</td><td style=\"text-align:left;white-space:pre\">AX</td><td style=\"text-align:left;white-space:pre\">ALA</td><td style=\"text-align:left;white-space:pre\">Ã…land</td><td style=\"text-align:left;white-space:pre\">NULL</td></tr><tr><td style=\"text-align:left;white-space:pre\">az</td><td style=\"text-align:left;white-space:pre\">AZ</td><td style=\"text-align:left;white-space:pre\">AZE</td><td style=\"text-align:left;white-space:pre\">Azerbaijan</td><td style=\"text-align:left;white-space:pre\">Azerbaijan</td></tr><tr><td style=\"text-align:left;white-space:pre\">ba</td><td style=\"text-align:left;white-space:pre\">BA</td><td style=\"text-align:left;white-space:pre\">BIH</td><td style=\"text-align:left;white-space:pre\">Bosnia and Herzegovina</td><td style=\"text-align:left;white-space:pre\">Bosnia-Erzegovina</td></tr><tr><td style=\"text-align:left;white-space:pre\">bb</td><td style=\"text-align:left;white-space:pre\">BB</td><td style=\"text-align:left;white-space:pre\">BRB</td><td style=\"text-align:left;white-space:pre\">Barbados</td><td style=\"text-align:left;white-space:pre\">Barbados</td></tr><tr><td style=\"text-align:left;white-space:pre\">bd</td><td style=\"text-align:left;white-space:pre\">BD</td><td style=\"text-align:left;white-space:pre\">BGD</td><td style=\"text-align:left;white-space:pre\">Bangladesh</td><td style=\"text-align:left;white-space:pre\">Bangladesh</td></tr><tr><td style=\"text-align:left;white-space:pre\">be</td><td style=\"text-align:left;white-space:pre\">BE</td><td style=\"text-align:left;white-space:pre\">BEL</td><td style=\"text-align:left;white-space:pre\">Belgium</td><td style=\"text-align:left;white-space:pre\">Belgio</td></tr><tr><td style=\"text-align:left;white-space:pre\">bf</td><td style=\"text-align:left;white-space:pre\">BF</td><td style=\"text-align:left;white-space:pre\">BFA</td><td style=\"text-align:left;white-space:pre\">Burkina Faso</td><td style=\"text-align:left;white-space:pre\">Burkina Faso</td></tr><tr><td style=\"text-align:left;white-space:pre\">bg</td><td style=\"text-align:left;white-space:pre\">BG</td><td style=\"text-align:left;white-space:pre\">BGR</td><td style=\"text-align:left;white-space:pre\">Bulgaria</td><td style=\"text-align:left;white-space:pre\">Bulgaria</td></tr><tr><td style=\"text-align:left;white-space:pre\">bh</td><td style=\"text-align:left;white-space:pre\">BH</td><td style=\"text-align:left;white-space:pre\">BHR</td><td style=\"text-align:left;white-space:pre\">Bahrain</td><td style=\"text-align:left;white-space:pre\">Bahrain</td></tr><tr><td style=\"text-align:left;white-space:pre\">bi</td><td style=\"text-align:left;white-space:pre\">BI</td><td style=\"text-align:left;white-space:pre\">BDI</td><td style=\"text-align:left;white-space:pre\">Burundi</td><td style=\"text-align:left;white-space:pre\">Burundi</td></tr><tr><td style=\"text-align:left;white-space:pre\">bj</td><td style=\"text-align:left;white-space:pre\">BJ</td><td style=\"text-align:left;white-space:pre\">BEN</td><td style=\"text-align:left;white-space:pre\">Benin</td><td style=\"text-align:left;white-space:pre\">Benin</td></tr><tr><td style=\"text-align:left;white-space:pre\">bm</td><td style=\"text-align:left;white-space:pre\">BM</td><td style=\"text-align:left;white-space:pre\">BMU</td><td style=\"text-align:left;white-space:pre\">Bermuda</td><td style=\"text-align:left;white-space:pre\">Bermuda</td></tr><tr><td style=\"text-align:left;white-space:pre\">bn</td><td style=\"text-align:left;white-space:pre\">BN</td><td style=\"text-align:left;white-space:pre\">BRN</td><td style=\"text-align:left;white-space:pre\">Brunei Darussalam</td><td style=\"text-align:left;white-space:pre\">Brunei Darussalam</td></tr><tr><td style=\"text-align:left;white-space:pre\">bo</td><td style=\"text-align:left;white-space:pre\">BO</td><td style=\"text-align:left;white-space:pre\">BOL</td><td style=\"text-align:left;white-space:pre\">Bolivia</td><td style=\"text-align:left;white-space:pre\">Bolivia</td></tr><tr><td style=\"text-align:left;white-space:pre\">br</td><td style=\"text-align:left;white-space:pre\">BR</td><td style=\"text-align:left;white-space:pre\">BRA</td><td style=\"text-align:left;white-space:pre\">Brazil</td><td style=\"text-align:left;white-space:pre\">Brasile</td></tr><tr><td style=\"text-align:left;white-space:pre\">bs</td><td style=\"text-align:left;white-space:pre\">BS</td><td style=\"text-align:left;white-space:pre\">BHS</td><td style=\"text-align:left;white-space:pre\">Bahamas</td><td style=\"text-align:left;white-space:pre\">Bahamas</td></tr><tr><td style=\"text-align:left;white-space:pre\">bt</td><td style=\"text-align:left;white-space:pre\">BT</td><td style=\"text-align:left;white-space:pre\">BTN</td><td style=\"text-align:left;white-space:pre\">Bhutan</td><td style=\"text-align:left;white-space:pre\">Bhutan</td></tr><tr><td style=\"text-align:left;white-space:pre\">bv</td><td style=\"text-align:left;white-space:pre\">NULL</td><td style=\"text-align:left;white-space:pre\">NULL</td><td style=\"text-align:left;white-space:pre\">Bouvet Island</td><td style=\"text-align:left;white-space:pre\">NULL</td></tr><tr><td style=\"text-align:left;white-space:pre\">bw</td><td style=\"text-align:left;white-space:pre\">BW</td><td style=\"text-align:left;white-space:pre\">BWA</td><td style=\"text-align:left;white-space:pre\">Botswana</td><td style=\"text-align:left;white-space:pre\">Botswana</td></tr><tr><td style=\"text-align:left;white-space:pre\">by</td><td style=\"text-align:left;white-space:pre\">BY</td><td style=\"text-align:left;white-space:pre\">BLR</td><td style=\"text-align:left;white-space:pre\">Belarus</td><td style=\"text-align:left;white-space:pre\">Bielorussia</td></tr><tr><td style=\"text-align:left;white-space:pre\">bz</td><td style=\"text-align:left;white-space:pre\">BZ</td><td style=\"text-align:left;white-space:pre\">BLZ</td><td style=\"text-align:left;white-space:pre\">Belize</td><td style=\"text-align:left;white-space:pre\">Belize</td></tr><tr><td style=\"text-align:left;white-space:pre\">ca</td><td style=\"text-align:left;white-space:pre\">CA</td><td style=\"text-align:left;white-space:pre\">CAN</td><td style=\"text-align:left;white-space:pre\">Canada</td><td style=\"text-align:left;white-space:pre\">Canada</td></tr><tr><td style=\"text-align:left;white-space:pre\">cc</td><td style=\"text-align:left;white-space:pre\">NULL</td><td style=\"text-align:left;white-space:pre\">NULL</td><td style=\"text-align:left;white-space:pre\">Cocos (Keeling) Island</td><td style=\"text-align:left;white-space:pre\">NULL</td></tr><tr><td style=\"text-align:left;white-space:pre\">cd</td><td style=\"text-align:left;white-space:pre\">CD</td><td style=\"text-align:left;white-space:pre\">COD</td><td style=\"text-align:left;white-space:pre\">Democratic Republic of Congo</td><td style=\"text-align:left;white-space:pre\">Repubblica Democratica del Congo</td></tr><tr><td style=\"text-align:left;white-space:pre\">cf</td><td style=\"text-align:left;white-space:pre\">CF</td><td style=\"text-align:left;white-space:pre\">CAF</td><td style=\"text-align:left;white-space:pre\">Central African Republic</td><td style=\"text-align:left;white-space:pre\">Repubblica Centroafricana</td></tr><tr><td style=\"text-align:left;white-space:pre\">cg</td><td style=\"text-align:left;white-space:pre\">CG</td><td style=\"text-align:left;white-space:pre\">COG</td><td style=\"text-align:left;white-space:pre\">Republic of Congo</td><td style=\"text-align:left;white-space:pre\">Repubblica del Congo</td></tr><tr><td style=\"text-align:left;white-space:pre\">ch</td><td style=\"text-align:left;white-space:pre\">CH</td><td style=\"text-align:left;white-space:pre\">CHE</td><td style=\"text-align:left;white-space:pre\">Switzerland</td><td style=\"text-align:left;white-space:pre\">Svizzera</td></tr><tr><td style=\"text-align:left;white-space:pre\">ci</td><td style=\"text-align:left;white-space:pre\">CI</td><td style=\"text-align:left;white-space:pre\">CIV</td><td style=\"text-align:left;white-space:pre\">Cote d'Ivoire</td><td style=\"text-align:left;white-space:pre\">Costa d'Avorio</td></tr><tr><td style=\"text-align:left;white-space:pre\">ck</td><td style=\"text-align:left;white-space:pre\">CK</td><td style=\"text-align:left;white-space:pre\">COK</td><td style=\"text-align:left;white-space:pre\">Cook Islands</td><td style=\"text-align:left;white-space:pre\">Isole Cook</td></tr><tr><td style=\"text-align:left;white-space:pre\">cl</td><td style=\"text-align:left;white-space:pre\">CL</td><td style=\"text-align:left;white-space:pre\">CHL</td><td style=\"text-align:left;white-space:pre\">Chile</td><td style=\"text-align:left;white-space:pre\">Cile</td></tr><tr><td style=\"text-align:left;white-space:pre\">cm</td><td style=\"text-align:left;white-space:pre\">CM</td><td style=\"text-align:left;white-space:pre\">CMR</td><td style=\"text-align:left;white-space:pre\">Cameroon</td><td style=\"text-align:left;white-space:pre\">Camerun</td></tr><tr><td style=\"text-align:left;white-space:pre\">cn</td><td style=\"text-align:left;white-space:pre\">CN</td><td style=\"text-align:left;white-space:pre\">CHN</td><td style=\"text-align:left;white-space:pre\">China</td><td style=\"text-align:left;white-space:pre\">Cina</td></tr><tr><td style=\"text-align:left;white-space:pre\">co</td><td style=\"text-align:left;white-space:pre\">CO</td><td style=\"text-align:left;white-space:pre\">COL</td><td style=\"text-align:left;white-space:pre\">Colombia</td><td style=\"text-align:left;white-space:pre\">Colombia</td></tr><tr><td style=\"text-align:left;white-space:pre\">cr</td><td style=\"text-align:left;white-space:pre\">CR</td><td style=\"text-align:left;white-space:pre\">CRI</td><td style=\"text-align:left;white-space:pre\">Costa Rica</td><td style=\"text-align:left;white-space:pre\">Costa Rica</td></tr><tr><td style=\"text-align:left;white-space:pre\">cs</td><td style=\"text-align:left;white-space:pre\">CS</td><td style=\"text-align:left;white-space:pre\">SCG</td><td style=\"text-align:left;white-space:pre\">Serbia</td><td style=\"text-align:left;white-space:pre\">NULL</td></tr><tr><td style=\"text-align:left;white-space:pre\">cu</td><td style=\"text-align:left;white-space:pre\">CU</td><td style=\"text-align:left;white-space:pre\">CUB</td><td style=\"text-align:left;white-space:pre\">Cuba</td><td style=\"text-align:left;white-space:pre\">Cuba</td></tr><tr><td style=\"text-align:left;white-space:pre\">cv</td><td style=\"text-align:left;white-space:pre\">CV</td><td style=\"text-align:left;white-space:pre\">CPV</td><td style=\"text-align:left;white-space:pre\">Cape Verde</td><td style=\"text-align:left;white-space:pre\">Capo Verde</td></tr><tr><td style=\"text-align:left;white-space:pre\">cx</td><td style=\"text-align:left;white-space:pre\">NULL</td><td style=\"text-align:left;white-space:pre\">NULL</td><td style=\"text-align:left;white-space:pre\">Christmas Island</td><td style=\"text-align:left;white-space:pre\">NULL</td></tr><tr><td style=\"text-align:left;white-space:pre\">cy</td><td style=\"text-align:left;white-space:pre\">CY</td><td style=\"text-align:left;white-space:pre\">CYP</td><td style=\"text-align:left;white-space:pre\">Cyprus</td><td style=\"text-align:left;white-space:pre\">Cipro</td></tr><tr><td style=\"text-align:left;white-space:pre\">cz</td><td style=\"text-align:left;white-space:pre\">CZ</td><td style=\"text-align:left;white-space:pre\">CZE</td><td style=\"text-align:left;white-space:pre\">Czech Republic</td><td style=\"text-align:left;white-space:pre\">Repubblica Ceca</td></tr><tr><td style=\"text-align:left;white-space:pre\">de</td><td style=\"text-align:left;white-space:pre\">DE</td><td style=\"text-align:left;white-space:pre\">DEU</td><td style=\"text-align:left;white-space:pre\">Germany</td><td style=\"text-align:left;white-space:pre\">Germania</td></tr><tr><td style=\"text-align:left;white-space:pre\">dj</td><td style=\"text-align:left;white-space:pre\">DJ</td><td style=\"text-align:left;white-space:pre\">DJI</td><td style=\"text-align:left;white-space:pre\">Djibouti</td><td style=\"text-align:left;white-space:pre\">Gibuti</td></tr><tr><td style=\"text-align:left;white-space:pre\">dk</td><td style=\"text-align:left;white-space:pre\">DK</td><td style=\"text-align:left;white-space:pre\">DNK</td><td style=\"text-align:left;white-space:pre\">Denmark</td><td style=\"text-align:left;white-space:pre\">Danimarca</td></tr><tr><td style=\"text-align:left;white-space:pre\">dm</td><td style=\"text-align:left;white-space:pre\">DM</td><td style=\"text-align:left;white-space:pre\">DMA</td><td style=\"text-align:left;white-space:pre\">Dominica</td><td style=\"text-align:left;white-space:pre\">Dominica</td></tr><tr><td style=\"text-align:left;white-space:pre\">do</td><td style=\"text-align:left;white-space:pre\">DO</td><td style=\"text-align:left;white-space:pre\">DOM</td><td style=\"text-align:left;white-space:pre\">Dominican Republic</td><td style=\"text-align:left;white-space:pre\">Repubblica Dominicana</td></tr><tr><td style=\"text-align:left;white-space:pre\">dz</td><td style=\"text-align:left;white-space:pre\">DZ</td><td style=\"text-align:left;white-space:pre\">DZA</td><td style=\"text-align:left;white-space:pre\">Algeria</td><td style=\"text-align:left;white-space:pre\">Algeria</td></tr><tr><td style=\"text-align:left;white-space:pre\">ec</td><td style=\"text-align:left;white-space:pre\">EC</td><td style=\"text-align:left;white-space:pre\">ECU</td><td style=\"text-align:left;white-space:pre\">Ecuador</td><td style=\"text-align:left;white-space:pre\">Ecuador</td></tr><tr><td style=\"text-align:left;white-space:pre\">ee</td><td style=\"text-align:left;white-space:pre\">EE</td><td style=\"text-align:left;white-space:pre\">EST</td><td style=\"text-align:left;white-space:pre\">Estonia</td><td style=\"text-align:left;white-space:pre\">Estonia</td></tr><tr><td style=\"text-align:left;white-space:pre\">eg</td><td style=\"text-align:left;white-space:pre\">EG</td><td style=\"text-align:left;white-space:pre\">EGY</td><td style=\"text-align:left;white-space:pre\">Egypt</td><td style=\"text-align:left;white-space:pre\">Egitto</td></tr><tr><td style=\"text-align:left;white-space:pre\">eh</td><td style=\"text-align:left;white-space:pre\">EH</td><td style=\"text-align:left;white-space:pre\">ESH</td><td style=\"text-align:left;white-space:pre\">Western Sahara</td><td style=\"text-align:left;white-space:pre\">Sahara Occidentale</td></tr><tr><td style=\"text-align:left;white-space:pre\">er</td><td style=\"text-align:left;white-space:pre\">ER</td><td style=\"text-align:left;white-space:pre\">ERI</td><td style=\"text-align:left;white-space:pre\">Eritrea</td><td style=\"text-align:left;white-space:pre\">Eritrea</td></tr><tr><td style=\"text-align:left;white-space:pre\">es</td><td style=\"text-align:left;white-space:pre\">ES</td><td style=\"text-align:left;white-space:pre\">ESP</td><td style=\"text-align:left;white-space:pre\">Spain</td><td style=\"text-align:left;white-space:pre\">Spagna</td></tr><tr><td style=\"text-align:left;white-space:pre\">et</td><td style=\"text-align:left;white-space:pre\">ET</td><td style=\"text-align:left;white-space:pre\">ETH</td><td style=\"text-align:left;white-space:pre\">Ethiopia</td><td style=\"text-align:left;white-space:pre\">Etiopia</td></tr><tr><td style=\"text-align:left;white-space:pre\">fi</td><td style=\"text-align:left;white-space:pre\">FI</td><td style=\"text-align:left;white-space:pre\">FIN</td><td style=\"text-align:left;white-space:pre\">Finland</td><td style=\"text-align:left;white-space:pre\">Finlandia</td></tr><tr><td style=\"text-align:left;white-space:pre\">fj</td><td style=\"text-align:left;white-space:pre\">FJ</td><td style=\"text-align:left;white-space:pre\">FJI</td><td style=\"text-align:left;white-space:pre\">Fiji</td><td style=\"text-align:left;white-space:pre\">Fiji</td></tr><tr><td style=\"text-align:left;white-space:pre\">fk</td><td style=\"text-align:left;white-space:pre\">FK</td><td style=\"text-align:left;white-space:pre\">FLK</td><td style=\"text-align:left;white-space:pre\">Falkland Islands (Malvinas)</td><td style=\"text-align:left;white-space:pre\">Isole Falkland</td></tr><tr><td style=\"text-align:left;white-space:pre\">fm</td><td style=\"text-align:left;white-space:pre\">FM</td><td style=\"text-align:left;white-space:pre\">FSM</td><td style=\"text-align:left;white-space:pre\">Micronesia</td><td style=\"text-align:left;white-space:pre\">Stati Federati della Micronesia</td></tr><tr><td style=\"text-align:left;white-space:pre\">fo</td><td style=\"text-align:left;white-space:pre\">FO</td><td style=\"text-align:left;white-space:pre\">FRO</td><td style=\"text-align:left;white-space:pre\">Faroe Islands</td><td style=\"text-align:left;white-space:pre\">Isole Faroe</td></tr><tr><td style=\"text-align:left;white-space:pre\">fr</td><td style=\"text-align:left;white-space:pre\">FR</td><td style=\"text-align:left;white-space:pre\">FRA</td><td style=\"text-align:left;white-space:pre\">France</td><td style=\"text-align:left;white-space:pre\">Francia</td></tr><tr><td style=\"text-align:left;white-space:pre\">ga</td><td style=\"text-align:left;white-space:pre\">GA</td><td style=\"text-align:left;white-space:pre\">GAB</td><td style=\"text-align:left;white-space:pre\">Gabon</td><td style=\"text-align:left;white-space:pre\">Gabon</td></tr><tr><td style=\"text-align:left;white-space:pre\">gd</td><td style=\"text-align:left;white-space:pre\">GD</td><td style=\"text-align:left;white-space:pre\">GRD</td><td style=\"text-align:left;white-space:pre\">Grenada</td><td style=\"text-align:left;white-space:pre\">Grenada</td></tr><tr><td style=\"text-align:left;white-space:pre\">ge</td><td style=\"text-align:left;white-space:pre\">GE</td><td style=\"text-align:left;white-space:pre\">GEO</td><td style=\"text-align:left;white-space:pre\">Georgia</td><td style=\"text-align:left;white-space:pre\">Georgia</td></tr><tr><td style=\"text-align:left;white-space:pre\">gf</td><td style=\"text-align:left;white-space:pre\">GF</td><td style=\"text-align:left;white-space:pre\">GUF</td><td style=\"text-align:left;white-space:pre\">French Guiana</td><td style=\"text-align:left;white-space:pre\">Guyana Francese</td></tr><tr><td style=\"text-align:left;white-space:pre\">gg</td><td style=\"text-align:left;white-space:pre\">GG</td><td style=\"text-align:left;white-space:pre\">GGY</td><td style=\"text-align:left;white-space:pre\">Guernsey</td><td style=\"text-align:left;white-space:pre\">NULL</td></tr><tr><td style=\"text-align:left;white-space:pre\">gh</td><td style=\"text-align:left;white-space:pre\">GH</td><td style=\"text-align:left;white-space:pre\">GHA</td><td style=\"text-align:left;white-space:pre\">Ghana</td><td style=\"text-align:left;white-space:pre\">Ghana</td></tr><tr><td style=\"text-align:left;white-space:pre\">gi</td><td style=\"text-align:left;white-space:pre\">GI</td><td style=\"text-align:left;white-space:pre\">GIB</td><td style=\"text-align:left;white-space:pre\">Gibraltar</td><td style=\"text-align:left;white-space:pre\">Gibilterra</td></tr><tr><td style=\"text-align:left;white-space:pre\">gl</td><td style=\"text-align:left;white-space:pre\">GL</td><td style=\"text-align:left;white-space:pre\">GRL</td><td style=\"text-align:left;white-space:pre\">Greenland</td><td style=\"text-align:left;white-space:pre\">Groenlandia</td></tr><tr><td style=\"text-align:left;white-space:pre\">gm</td><td style=\"text-align:left;white-space:pre\">GM</td><td style=\"text-align:left;white-space:pre\">GMB</td><td style=\"text-align:left;white-space:pre\">Gambia</td><td style=\"text-align:left;white-space:pre\">Gambia</td></tr><tr><td style=\"text-align:left;white-space:pre\">gn</td><td style=\"text-align:left;white-space:pre\">GN</td><td style=\"text-align:left;white-space:pre\">GIN</td><td style=\"text-align:left;white-space:pre\">Guinea</td><td style=\"text-align:left;white-space:pre\">Guinea</td></tr><tr><td style=\"text-align:left;white-space:pre\">gp</td><td style=\"text-align:left;white-space:pre\">GP</td><td style=\"text-align:left;white-space:pre\">GLP</td><td style=\"text-align:left;white-space:pre\">Guadeloupe</td><td style=\"text-align:left;white-space:pre\">Guadalupa</td></tr><tr><td style=\"text-align:left;white-space:pre\">gq</td><td style=\"text-align:left;white-space:pre\">GQ</td><td style=\"text-align:left;white-space:pre\">GNQ</td><td style=\"text-align:left;white-space:pre\">Equatorial Guinea</td><td style=\"text-align:left;white-space:pre\">Guinea Equatoriale</td></tr><tr><td style=\"text-align:left;white-space:pre\">gr</td><td style=\"text-align:left;white-space:pre\">GR</td><td style=\"text-align:left;white-space:pre\">GRC</td><td style=\"text-align:left;white-space:pre\">Greece</td><td style=\"text-align:left;white-space:pre\">Grecia</td></tr><tr><td style=\"text-align:left;white-space:pre\">gs</td><td style=\"text-align:left;white-space:pre\">NULL</td><td style=\"text-align:left;white-space:pre\">NULL</td><td style=\"text-align:left;white-space:pre\">South Georgia and the South Sandwich Islands</td><td style=\"text-align:left;white-space:pre\">NULL</td></tr><tr><td style=\"text-align:left;white-space:pre\">gt</td><td style=\"text-align:left;white-space:pre\">GT</td><td style=\"text-align:left;white-space:pre\">GTM</td><td style=\"text-align:left;white-space:pre\">Guatemala</td><td style=\"text-align:left;white-space:pre\">Guatemala</td></tr><tr><td style=\"text-align:left;white-space:pre\">gu</td><td style=\"text-align:left;white-space:pre\">GU</td><td style=\"text-align:left;white-space:pre\">GUM</td><td style=\"text-align:left;white-space:pre\">Guam</td><td style=\"text-align:left;white-space:pre\">Guam</td></tr><tr><td style=\"text-align:left;white-space:pre\">gw</td><td style=\"text-align:left;white-space:pre\">GW</td><td style=\"text-align:left;white-space:pre\">GNB</td><td style=\"text-align:left;white-space:pre\">Guinea-Bissau</td><td style=\"text-align:left;white-space:pre\">Guinea-Bissau</td></tr><tr><td style=\"text-align:left;white-space:pre\">gy</td><td style=\"text-align:left;white-space:pre\">GY</td><td style=\"text-align:left;white-space:pre\">GUY</td><td style=\"text-align:left;white-space:pre\">Guyana</td><td style=\"text-align:left;white-space:pre\">Guyana</td></tr><tr><td style=\"text-align:left;white-space:pre\">hk</td><td style=\"text-align:left;white-space:pre\">HK</td><td style=\"text-align:left;white-space:pre\">HKG</td><td style=\"text-align:left;white-space:pre\">Hong Kong</td><td style=\"text-align:left;white-space:pre\">Hong Kong</td></tr><tr><td style=\"text-align:left;white-space:pre\">hm</td><td style=\"text-align:left;white-space:pre\">NULL</td><td style=\"text-align:left;white-space:pre\">NULL</td><td style=\"text-align:left;white-space:pre\">Heard and McDonald Islands</td><td style=\"text-align:left;white-space:pre\">NULL</td></tr><tr><td style=\"text-align:left;white-space:pre\">hn</td><td style=\"text-align:left;white-space:pre\">HN</td><td style=\"text-align:left;white-space:pre\">HND</td><td style=\"text-align:left;white-space:pre\">Honduras</td><td style=\"text-align:left;white-space:pre\">Honduras</td></tr><tr><td style=\"text-align:left;white-space:pre\">hr</td><td style=\"text-align:left;white-space:pre\">HR</td><td style=\"text-align:left;white-space:pre\">HRV</td><td style=\"text-align:left;white-space:pre\">Croatia</td><td style=\"text-align:left;white-space:pre\">Croazia</td></tr><tr><td style=\"text-align:left;white-space:pre\">ht</td><td style=\"text-align:left;white-space:pre\">HT</td><td style=\"text-align:left;white-space:pre\">HTI</td><td style=\"text-align:left;white-space:pre\">Haiti</td><td style=\"text-align:left;white-space:pre\">Haiti</td></tr><tr><td style=\"text-align:left;white-space:pre\">hu</td><td style=\"text-align:left;white-space:pre\">HU</td><td style=\"text-align:left;white-space:pre\">HUN</td><td style=\"text-align:left;white-space:pre\">Hungary</td><td style=\"text-align:left;white-space:pre\">Ungheria</td></tr><tr><td style=\"text-align:left;white-space:pre\">id</td><td style=\"text-align:left;white-space:pre\">ID</td><td style=\"text-align:left;white-space:pre\">IDN</td><td style=\"text-align:left;white-space:pre\">Indonesia</td><td style=\"text-align:left;white-space:pre\">Indonesia</td></tr><tr><td style=\"text-align:left;white-space:pre\">ie</td><td style=\"text-align:left;white-space:pre\">IE</td><td style=\"text-align:left;white-space:pre\">IRL</td><td style=\"text-align:left;white-space:pre\">Ireland</td><td style=\"text-align:left;white-space:pre\">Eire</td></tr><tr><td style=\"text-align:left;white-space:pre\">il</td><td style=\"text-align:left;white-space:pre\">IL</td><td style=\"text-align:left;white-space:pre\">ISR</td><td style=\"text-align:left;white-space:pre\">Israel</td><td style=\"text-align:left;white-space:pre\">Israele</td></tr><tr><td style=\"text-align:left;white-space:pre\">im</td><td style=\"text-align:left;white-space:pre\">IM</td><td style=\"text-align:left;white-space:pre\">IMN</td><td style=\"text-align:left;white-space:pre\">Isle of Man</td><td style=\"text-align:left;white-space:pre\">Isola di Man</td></tr><tr><td style=\"text-align:left;white-space:pre\">in</td><td style=\"text-align:left;white-space:pre\">IN</td><td style=\"text-align:left;white-space:pre\">IND</td><td style=\"text-align:left;white-space:pre\">India</td><td style=\"text-align:left;white-space:pre\">India</td></tr><tr><td style=\"text-align:left;white-space:pre\">io</td><td style=\"text-align:left;white-space:pre\">NULL</td><td style=\"text-align:left;white-space:pre\">NULL</td><td style=\"text-align:left;white-space:pre\">British Indian Ocean Territory</td><td style=\"text-align:left;white-space:pre\">NULL</td></tr><tr><td style=\"text-align:left;white-space:pre\">iq</td><td style=\"text-align:left;white-space:pre\">IQ</td><td style=\"text-align:left;white-space:pre\">IRQ</td><td style=\"text-align:left;white-space:pre\">Iraq</td><td style=\"text-align:left;white-space:pre\">Iraq</td></tr><tr><td style=\"text-align:left;white-space:pre\">ir</td><td style=\"text-align:left;white-space:pre\">IR</td><td style=\"text-align:left;white-space:pre\">IRN</td><td style=\"text-align:left;white-space:pre\">Iran</td><td style=\"text-align:left;white-space:pre\">Iran</td></tr><tr><td style=\"text-align:left;white-space:pre\">is</td><td style=\"text-align:left;white-space:pre\">IS</td><td style=\"text-align:left;white-space:pre\">ISL</td><td style=\"text-align:left;white-space:pre\">Iceland</td><td style=\"text-align:left;white-space:pre\">Islanda</td></tr><tr><td style=\"text-align:left;white-space:pre\">it</td><td style=\"text-align:left;white-space:pre\">IT</td><td style=\"text-align:left;white-space:pre\">ITA</td><td style=\"text-align:left;white-space:pre\">Italy</td><td style=\"text-align:left;white-space:pre\">Italia</td></tr><tr><td style=\"text-align:left;white-space:pre\">je</td><td style=\"text-align:left;white-space:pre\">JE</td><td style=\"text-align:left;white-space:pre\">JEY</td><td style=\"text-align:left;white-space:pre\">Jersey</td><td style=\"text-align:left;white-space:pre\">NULL</td></tr><tr><td style=\"text-align:left;white-space:pre\">jm</td><td style=\"text-align:left;white-space:pre\">JM</td><td style=\"text-align:left;white-space:pre\">JAM</td><td style=\"text-align:left;white-space:pre\">Jamaica</td><td style=\"text-align:left;white-space:pre\">Giamaica</td></tr><tr><td style=\"text-align:left;white-space:pre\">jo</td><td style=\"text-align:left;white-space:pre\">JO</td><td style=\"text-align:left;white-space:pre\">JOR</td><td style=\"text-align:left;white-space:pre\">Jordan</td><td style=\"text-align:left;white-space:pre\">Giordania</td></tr><tr><td style=\"text-align:left;white-space:pre\">jp</td><td style=\"text-align:left;white-space:pre\">JP</td><td style=\"text-align:left;white-space:pre\">JPN</td><td style=\"text-align:left;white-space:pre\">Japan</td><td style=\"text-align:left;white-space:pre\">Giappone</td></tr><tr><td style=\"text-align:left;white-space:pre\">ke</td><td style=\"text-align:left;white-space:pre\">KE</td><td style=\"text-align:left;white-space:pre\">KEN</td><td style=\"text-align:left;white-space:pre\">Kenya</td><td style=\"text-align:left;white-space:pre\">Kenya</td></tr><tr><td style=\"text-align:left;white-space:pre\">kg</td><td style=\"text-align:left;white-space:pre\">KG</td><td style=\"text-align:left;white-space:pre\">KGZ</td><td style=\"text-align:left;white-space:pre\">Kyrgyzstan</td><td style=\"text-align:left;white-space:pre\">Kirghizistan</td></tr><tr><td style=\"text-align:left;white-space:pre\">kh</td><td style=\"text-align:left;white-space:pre\">KH</td><td style=\"text-align:left;white-space:pre\">KHM</td><td style=\"text-align:left;white-space:pre\">Cambodia</td><td style=\"text-align:left;white-space:pre\">Cambogia</td></tr><tr><td style=\"text-align:left;white-space:pre\">ki</td><td style=\"text-align:left;white-space:pre\">KI</td><td style=\"text-align:left;white-space:pre\">KIR</td><td style=\"text-align:left;white-space:pre\">Kiribati</td><td style=\"text-align:left;white-space:pre\">Kiribati</td></tr><tr><td style=\"text-align:left;white-space:pre\">km</td><td style=\"text-align:left;white-space:pre\">KM</td><td style=\"text-align:left;white-space:pre\">COM</td><td style=\"text-align:left;white-space:pre\">Comoros</td><td style=\"text-align:left;white-space:pre\">Comore</td></tr><tr><td style=\"text-align:left;white-space:pre\">kn</td><td style=\"text-align:left;white-space:pre\">KN</td><td style=\"text-align:left;white-space:pre\">KNA</td><td style=\"text-align:left;white-space:pre\">Saint Kitts and Nevis</td><td style=\"text-align:left;white-space:pre\">Saint Kitts e Nevis</td></tr><tr><td style=\"text-align:left;white-space:pre\">kp</td><td style=\"text-align:left;white-space:pre\">KP</td><td style=\"text-align:left;white-space:pre\">PRK</td><td style=\"text-align:left;white-space:pre\">North Korea</td><td style=\"text-align:left;white-space:pre\">Corea del Nord</td></tr><tr><td style=\"text-align:left;white-space:pre\">kr</td><td style=\"text-align:left;white-space:pre\">KR</td><td style=\"text-align:left;white-space:pre\">KOR</td><td style=\"text-align:left;white-space:pre\">South Korea</td><td style=\"text-align:left;white-space:pre\">Corea del Sud</td></tr><tr><td style=\"text-align:left;white-space:pre\">kw</td><td style=\"text-align:left;white-space:pre\">KW</td><td style=\"text-align:left;white-space:pre\">KWT</td><td style=\"text-align:left;white-space:pre\">Kuwait</td><td style=\"text-align:left;white-space:pre\">Kuwait</td></tr><tr><td style=\"text-align:left;white-space:pre\">ky</td><td style=\"text-align:left;white-space:pre\">KY</td><td style=\"text-align:left;white-space:pre\">CYM</td><td style=\"text-align:left;white-space:pre\">Cayman Islands</td><td style=\"text-align:left;white-space:pre\">Isole Cayman</td></tr><tr><td style=\"text-align:left;white-space:pre\">kz</td><td style=\"text-align:left;white-space:pre\">KZ</td><td style=\"text-align:left;white-space:pre\">KAZ</td><td style=\"text-align:left;white-space:pre\">Kazakhstan</td><td style=\"text-align:left;white-space:pre\">Kazakistan</td></tr><tr><td style=\"text-align:left;white-space:pre\">la</td><td style=\"text-align:left;white-space:pre\">LA</td><td style=\"text-align:left;white-space:pre\">LAO</td><td style=\"text-align:left;white-space:pre\">Laos</td><td style=\"text-align:left;white-space:pre\">Laos</td></tr><tr><td style=\"text-align:left;white-space:pre\">lb</td><td style=\"text-align:left;white-space:pre\">LB</td><td style=\"text-align:left;white-space:pre\">LBN</td><td style=\"text-align:left;white-space:pre\">Lebanon</td><td style=\"text-align:left;white-space:pre\">Libano</td></tr><tr><td style=\"text-align:left;white-space:pre\">lc</td><td style=\"text-align:left;white-space:pre\">LC</td><td style=\"text-align:left;white-space:pre\">LCA</td><td style=\"text-align:left;white-space:pre\">Saint Lucia</td><td style=\"text-align:left;white-space:pre\">Santa Lucia</td></tr><tr><td style=\"text-align:left;white-space:pre\">li</td><td style=\"text-align:left;white-space:pre\">LI</td><td style=\"text-align:left;white-space:pre\">LIE</td><td style=\"text-align:left;white-space:pre\">Liechtenstein</td><td style=\"text-align:left;white-space:pre\">Liechtenstein</td></tr><tr><td style=\"text-align:left;white-space:pre\">lk</td><td style=\"text-align:left;white-space:pre\">LK</td><td style=\"text-align:left;white-space:pre\">LKA</td><td style=\"text-align:left;white-space:pre\">Sri Lanka</td><td style=\"text-align:left;white-space:pre\">Sri Lanka</td></tr><tr><td style=\"text-align:left;white-space:pre\">lr</td><td style=\"text-align:left;white-space:pre\">LR</td><td style=\"text-align:left;white-space:pre\">LBR</td><td style=\"text-align:left;white-space:pre\">Liberia</td><td style=\"text-align:left;white-space:pre\">Liberia</td></tr><tr><td style=\"text-align:left;white-space:pre\">ls</td><td style=\"text-align:left;white-space:pre\">LS</td><td style=\"text-align:left;white-space:pre\">LSO</td><td style=\"text-align:left;white-space:pre\">Lesotho</td><td style=\"text-align:left;white-space:pre\">Lesotho</td></tr><tr><td style=\"text-align:left;white-space:pre\">lt</td><td style=\"text-align:left;white-space:pre\">LT</td><td style=\"text-align:left;white-space:pre\">LTU</td><td style=\"text-align:left;white-space:pre\">Lithuania</td><td style=\"text-align:left;white-space:pre\">Lituania</td></tr><tr><td style=\"text-align:left;white-space:pre\">lu</td><td style=\"text-align:left;white-space:pre\">LU</td><td style=\"text-align:left;white-space:pre\">LUX</td><td style=\"text-align:left;white-space:pre\">Luxembourg</td><td style=\"text-align:left;white-space:pre\">Lussemburgo</td></tr><tr><td style=\"text-align:left;white-space:pre\">lv</td><td style=\"text-align:left;white-space:pre\">LV</td><td style=\"text-align:left;white-space:pre\">LVA</td><td style=\"text-align:left;white-space:pre\">Latvia</td><td style=\"text-align:left;white-space:pre\">Lettonia</td></tr><tr><td style=\"text-align:left;white-space:pre\">ly</td><td style=\"text-align:left;white-space:pre\">LY</td><td style=\"text-align:left;white-space:pre\">LBY</td><td style=\"text-align:left;white-space:pre\">Libya</td><td style=\"text-align:left;white-space:pre\">Libia</td></tr><tr><td style=\"text-align:left;white-space:pre\">ma</td><td style=\"text-align:left;white-space:pre\">MA</td><td style=\"text-align:left;white-space:pre\">MAR</td><td style=\"text-align:left;white-space:pre\">Morocco</td><td style=\"text-align:left;white-space:pre\">Marocco</td></tr><tr><td style=\"text-align:left;white-space:pre\">mc</td><td style=\"text-align:left;white-space:pre\">MC</td><td style=\"text-align:left;white-space:pre\">MCO</td><td style=\"text-align:left;white-space:pre\">Monaco</td><td style=\"text-align:left;white-space:pre\">Monaco</td></tr><tr><td style=\"text-align:left;white-space:pre\">md</td><td style=\"text-align:left;white-space:pre\">MD</td><td style=\"text-align:left;white-space:pre\">MDA</td><td style=\"text-align:left;white-space:pre\">Moldova</td><td style=\"text-align:left;white-space:pre\">Moldavia</td></tr><tr><td style=\"text-align:left;white-space:pre\">mg</td><td style=\"text-align:left;white-space:pre\">MG</td><td style=\"text-align:left;white-space:pre\">MDG</td><td style=\"text-align:left;white-space:pre\">Madagascar</td><td style=\"text-align:left;white-space:pre\">Madagascar</td></tr><tr><td style=\"text-align:left;white-space:pre\">mh</td><td style=\"text-align:left;white-space:pre\">MH</td><td style=\"text-align:left;white-space:pre\">MHL</td><td style=\"text-align:left;white-space:pre\">Marshall Islands</td><td style=\"text-align:left;white-space:pre\">Isole Marshall</td></tr><tr><td style=\"text-align:left;white-space:pre\">mk</td><td style=\"text-align:left;white-space:pre\">MK</td><td style=\"text-align:left;white-space:pre\">MKD</td><td style=\"text-align:left;white-space:pre\">Macedonia</td><td style=\"text-align:left;white-space:pre\">Macedonia</td></tr><tr><td style=\"text-align:left;white-space:pre\">ml</td><td style=\"text-align:left;white-space:pre\">ML</td><td style=\"text-align:left;white-space:pre\">MLI</td><td style=\"text-align:left;white-space:pre\">Mali</td><td style=\"text-align:left;white-space:pre\">Mali</td></tr><tr><td style=\"text-align:left;white-space:pre\">mm</td><td style=\"text-align:left;white-space:pre\">MM</td><td style=\"text-align:left;white-space:pre\">MMR</td><td style=\"text-align:left;white-space:pre\">Myanmar</td><td style=\"text-align:left;white-space:pre\">Myanmar</td></tr><tr><td style=\"text-align:left;white-space:pre\">mn</td><td style=\"text-align:left;white-space:pre\">MN</td><td style=\"text-align:left;white-space:pre\">MNG</td><td style=\"text-align:left;white-space:pre\">Mongolia</td><td style=\"text-align:left;white-space:pre\">Mongolia</td></tr><tr><td style=\"text-align:left;white-space:pre\">mo</td><td style=\"text-align:left;white-space:pre\">MO</td><td style=\"text-align:left;white-space:pre\">MAC</td><td style=\"text-align:left;white-space:pre\">Macau</td><td style=\"text-align:left;white-space:pre\">Macao</td></tr><tr><td style=\"text-align:left;white-space:pre\">mp</td><td style=\"text-align:left;white-space:pre\">MP</td><td style=\"text-align:left;white-space:pre\">MNP</td><td style=\"text-align:left;white-space:pre\">Northern Mariana Islands</td><td style=\"text-align:left;white-space:pre\">Isole Marianne Settentrionali</td></tr><tr><td style=\"text-align:left;white-space:pre\">mq</td><td style=\"text-align:left;white-space:pre\">MQ</td><td style=\"text-align:left;white-space:pre\">MTQ</td><td style=\"text-align:left;white-space:pre\">Martinique</td><td style=\"text-align:left;white-space:pre\">Martinica</td></tr><tr><td style=\"text-align:left;white-space:pre\">mr</td><td style=\"text-align:left;white-space:pre\">MR</td><td style=\"text-align:left;white-space:pre\">MRT</td><td style=\"text-align:left;white-space:pre\">Mauritania</td><td style=\"text-align:left;white-space:pre\">Mauritania</td></tr><tr><td style=\"text-align:left;white-space:pre\">ms</td><td style=\"text-align:left;white-space:pre\">MS</td><td style=\"text-align:left;white-space:pre\">MSR</td><td style=\"text-align:left;white-space:pre\">Montserrat</td><td style=\"text-align:left;white-space:pre\">Montserrat</td></tr><tr><td style=\"text-align:left;white-space:pre\">mt</td><td style=\"text-align:left;white-space:pre\">MT</td><td style=\"text-align:left;white-space:pre\">MLT</td><td style=\"text-align:left;white-space:pre\">Malta</td><td style=\"text-align:left;white-space:pre\">Malta</td></tr><tr><td style=\"text-align:left;white-space:pre\">mu</td><td style=\"text-align:left;white-space:pre\">MU</td><td style=\"text-align:left;white-space:pre\">MUS</td><td style=\"text-align:left;white-space:pre\">Mauritius</td><td style=\"text-align:left;white-space:pre\">Mauritius</td></tr><tr><td style=\"text-align:left;white-space:pre\">mv</td><td style=\"text-align:left;white-space:pre\">MV</td><td style=\"text-align:left;white-space:pre\">MDV</td><td style=\"text-align:left;white-space:pre\">Maldives</td><td style=\"text-align:left;white-space:pre\">Maldive</td></tr><tr><td style=\"text-align:left;white-space:pre\">mw</td><td style=\"text-align:left;white-space:pre\">MW</td><td style=\"text-align:left;white-space:pre\">MWI</td><td style=\"text-align:left;white-space:pre\">Malawi</td><td style=\"text-align:left;white-space:pre\">Malawi</td></tr><tr><td style=\"text-align:left;white-space:pre\">mx</td><td style=\"text-align:left;white-space:pre\">MX</td><td style=\"text-align:left;white-space:pre\">MEX</td><td style=\"text-align:left;white-space:pre\">Mexico</td><td style=\"text-align:left;white-space:pre\">Messico</td></tr><tr><td style=\"text-align:left;white-space:pre\">my</td><td style=\"text-align:left;white-space:pre\">MY</td><td style=\"text-align:left;white-space:pre\">MYS</td><td style=\"text-align:left;white-space:pre\">Malaysia</td><td style=\"text-align:left;white-space:pre\">Malesia</td></tr><tr><td style=\"text-align:left;white-space:pre\">mz</td><td style=\"text-align:left;white-space:pre\">MZ</td><td style=\"text-align:left;white-space:pre\">MOZ</td><td style=\"text-align:left;white-space:pre\">Mozambique</td><td style=\"text-align:left;white-space:pre\">Mozambico</td></tr><tr><td style=\"text-align:left;white-space:pre\">na</td><td style=\"text-align:left;white-space:pre\">NA</td><td style=\"text-align:left;white-space:pre\">NAM</td><td style=\"text-align:left;white-space:pre\">Namibia</td><td style=\"text-align:left;white-space:pre\">Namibia</td></tr><tr><td style=\"text-align:left;white-space:pre\">nc</td><td style=\"text-align:left;white-space:pre\">NC</td><td style=\"text-align:left;white-space:pre\">NCL</td><td style=\"text-align:left;white-space:pre\">New Caledonia</td><td style=\"text-align:left;white-space:pre\">Nuova Caledonia</td></tr><tr><td style=\"text-align:left;white-space:pre\">ne</td><td style=\"text-align:left;white-space:pre\">NE</td><td style=\"text-align:left;white-space:pre\">NER</td><td style=\"text-align:left;white-space:pre\">Niger</td><td style=\"text-align:left;white-space:pre\">Niger</td></tr><tr><td style=\"text-align:left;white-space:pre\">nf</td><td style=\"text-align:left;white-space:pre\">NF</td><td style=\"text-align:left;white-space:pre\">NFK</td><td style=\"text-align:left;white-space:pre\">Norfolk Island</td><td style=\"text-align:left;white-space:pre\">Isola Norfolk</td></tr><tr><td style=\"text-align:left;white-space:pre\">ng</td><td style=\"text-align:left;white-space:pre\">NG</td><td style=\"text-align:left;white-space:pre\">NGA</td><td style=\"text-align:left;white-space:pre\">Nigeria</td><td style=\"text-align:left;white-space:pre\">Nigeria</td></tr><tr><td style=\"text-align:left;white-space:pre\">ni</td><td style=\"text-align:left;white-space:pre\">NI</td><td style=\"text-align:left;white-space:pre\">NIC</td><td style=\"text-align:left;white-space:pre\">Nicaragua</td><td style=\"text-align:left;white-space:pre\">Nicaragua</td></tr><tr><td style=\"text-align:left;white-space:pre\">nl</td><td style=\"text-align:left;white-space:pre\">NL</td><td style=\"text-align:left;white-space:pre\">NLD</td><td style=\"text-align:left;white-space:pre\">Netherlands</td><td style=\"text-align:left;white-space:pre\">Paesi Bassi</td></tr><tr><td style=\"text-align:left;white-space:pre\">no</td><td style=\"text-align:left;white-space:pre\">NO</td><td style=\"text-align:left;white-space:pre\">NOR</td><td style=\"text-align:left;white-space:pre\">Norway</td><td style=\"text-align:left;white-space:pre\">Norvegia</td></tr><tr><td style=\"text-align:left;white-space:pre\">np</td><td style=\"text-align:left;white-space:pre\">NP</td><td style=\"text-align:left;white-space:pre\">NPL</td><td style=\"text-align:left;white-space:pre\">Nepal</td><td style=\"text-align:left;white-space:pre\">Nepal</td></tr><tr><td style=\"text-align:left;white-space:pre\">nr</td><td style=\"text-align:left;white-space:pre\">NR</td><td style=\"text-align:left;white-space:pre\">NRU</td><td style=\"text-align:left;white-space:pre\">Nauru</td><td style=\"text-align:left;white-space:pre\">Nauru</td></tr><tr><td style=\"text-align:left;white-space:pre\">nu</td><td style=\"text-align:left;white-space:pre\">NU</td><td style=\"text-align:left;white-space:pre\">NIU</td><td style=\"text-align:left;white-space:pre\">Niue</td><td style=\"text-align:left;white-space:pre\">Niue</td></tr><tr><td style=\"text-align:left;white-space:pre\">nz</td><td style=\"text-align:left;white-space:pre\">NZ</td><td style=\"text-align:left;white-space:pre\">NZL</td><td style=\"text-align:left;white-space:pre\">New Zealand</td><td style=\"text-align:left;white-space:pre\">Nuova Zelanda</td></tr><tr><td style=\"text-align:left;white-space:pre\">om</td><td style=\"text-align:left;white-space:pre\">OM</td><td style=\"text-align:left;white-space:pre\">OMN</td><td style=\"text-align:left;white-space:pre\">Oman</td><td style=\"text-align:left;white-space:pre\">Oman</td></tr><tr><td style=\"text-align:left;white-space:pre\">pa</td><td style=\"text-align:left;white-space:pre\">PA</td><td style=\"text-align:left;white-space:pre\">PAN</td><td style=\"text-align:left;white-space:pre\">Panama</td><td style=\"text-align:left;white-space:pre\">PanamÃ¡</td></tr><tr><td style=\"text-align:left;white-space:pre\">pe</td><td style=\"text-align:left;white-space:pre\">PE</td><td style=\"text-align:left;white-space:pre\">PER</td><td style=\"text-align:left;white-space:pre\">Peru</td><td style=\"text-align:left;white-space:pre\">PerÃ¹</td></tr><tr><td style=\"text-align:left;white-space:pre\">pf</td><td style=\"text-align:left;white-space:pre\">PF</td><td style=\"text-align:left;white-space:pre\">PYF</td><td style=\"text-align:left;white-space:pre\">French Polynesia</td><td style=\"text-align:left;white-space:pre\">Polinesia Francese</td></tr><tr><td style=\"text-align:left;white-space:pre\">pg</td><td style=\"text-align:left;white-space:pre\">PG</td><td style=\"text-align:left;white-space:pre\">PNG</td><td style=\"text-align:left;white-space:pre\">Papua New Guinea</td><td style=\"text-align:left;white-space:pre\">Papua Nuova Guinea</td></tr><tr><td style=\"text-align:left;white-space:pre\">ph</td><td style=\"text-align:left;white-space:pre\">PH</td><td style=\"text-align:left;white-space:pre\">PHL</td><td style=\"text-align:left;white-space:pre\">Philippines</td><td style=\"text-align:left;white-space:pre\">Filippine</td></tr><tr><td style=\"text-align:left;white-space:pre\">pk</td><td style=\"text-align:left;white-space:pre\">PK</td><td style=\"text-align:left;white-space:pre\">PAK</td><td style=\"text-align:left;white-space:pre\">Pakistan</td><td style=\"text-align:left;white-space:pre\">Pakistan</td></tr><tr><td style=\"text-align:left;white-space:pre\">pl</td><td style=\"text-align:left;white-space:pre\">PL</td><td style=\"text-align:left;white-space:pre\">POL</td><td style=\"text-align:left;white-space:pre\">Poland</td><td style=\"text-align:left;white-space:pre\">Polonia</td></tr><tr><td style=\"text-align:left;white-space:pre\">pm</td><td style=\"text-align:left;white-space:pre\">PM</td><td style=\"text-align:left;white-space:pre\">SPM</td><td style=\"text-align:left;white-space:pre\">Saint Pierre and Miquelon</td><td style=\"text-align:left;white-space:pre\">Saint Pierre e Miquelon</td></tr><tr><td style=\"text-align:left;white-space:pre\">pn</td><td style=\"text-align:left;white-space:pre\">PN</td><td style=\"text-align:left;white-space:pre\">PCN</td><td style=\"text-align:left;white-space:pre\">Pitcairn Island</td><td style=\"text-align:left;white-space:pre\">Pitcairn</td></tr><tr><td style=\"text-align:left;white-space:pre\">pr</td><td style=\"text-align:left;white-space:pre\">PR</td><td style=\"text-align:left;white-space:pre\">PRI</td><td style=\"text-align:left;white-space:pre\">Puerto Rico</td><td style=\"text-align:left;white-space:pre\">Porto Rico</td></tr><tr><td style=\"text-align:left;white-space:pre\">ps</td><td style=\"text-align:left;white-space:pre\">PS</td><td style=\"text-align:left;white-space:pre\">PSE</td><td style=\"text-align:left;white-space:pre\">Occupied Palestinian Territory</td><td style=\"text-align:left;white-space:pre\">Territori Palestinesi Occupati</td></tr><tr><td style=\"text-align:left;white-space:pre\">pt</td><td style=\"text-align:left;white-space:pre\">PT</td><td style=\"text-align:left;white-space:pre\">PRT</td><td style=\"text-align:left;white-space:pre\">Portugal</td><td style=\"text-align:left;white-space:pre\">Portogallo</td></tr><tr><td style=\"text-align:left;white-space:pre\">pw</td><td style=\"text-align:left;white-space:pre\">PW</td><td style=\"text-align:left;white-space:pre\">PLW</td><td style=\"text-align:left;white-space:pre\">Palau</td><td style=\"text-align:left;white-space:pre\">Palau</td></tr><tr><td style=\"text-align:left;white-space:pre\">py</td><td style=\"text-align:left;white-space:pre\">PY</td><td style=\"text-align:left;white-space:pre\">PRY</td><td style=\"text-align:left;white-space:pre\">Paraguay</td><td style=\"text-align:left;white-space:pre\">Paraguay</td></tr><tr><td style=\"text-align:left;white-space:pre\">qa</td><td style=\"text-align:left;white-space:pre\">QA</td><td style=\"text-align:left;white-space:pre\">QAT</td><td style=\"text-align:left;white-space:pre\">Qatar</td><td style=\"text-align:left;white-space:pre\">Qatar</td></tr><tr><td style=\"text-align:left;white-space:pre\">re</td><td style=\"text-align:left;white-space:pre\">RE</td><td style=\"text-align:left;white-space:pre\">REU</td><td style=\"text-align:left;white-space:pre\">Reunion</td><td style=\"text-align:left;white-space:pre\">Reunion</td></tr><tr><td style=\"text-align:left;white-space:pre\">ro</td><td style=\"text-align:left;white-space:pre\">RO</td><td style=\"text-align:left;white-space:pre\">ROU</td><td style=\"text-align:left;white-space:pre\">Romania</td><td style=\"text-align:left;white-space:pre\">Romania</td></tr><tr><td style=\"text-align:left;white-space:pre\">ru</td><td style=\"text-align:left;white-space:pre\">RU</td><td style=\"text-align:left;white-space:pre\">RUS</td><td style=\"text-align:left;white-space:pre\">Russia</td><td style=\"text-align:left;white-space:pre\">Federazione Russa</td></tr><tr><td style=\"text-align:left;white-space:pre\">rw</td><td style=\"text-align:left;white-space:pre\">RW</td><td style=\"text-align:left;white-space:pre\">RWA</td><td style=\"text-align:left;white-space:pre\">Rwanda</td><td style=\"text-align:left;white-space:pre\">Ruanda</td></tr><tr><td style=\"text-align:left;white-space:pre\">sa</td><td style=\"text-align:left;white-space:pre\">SA</td><td style=\"text-align:left;white-space:pre\">SAU</td><td style=\"text-align:left;white-space:pre\">Saudia Arabia</td><td style=\"text-align:left;white-space:pre\">Arabia Saudita</td></tr><tr><td style=\"text-align:left;white-space:pre\">sb</td><td style=\"text-align:left;white-space:pre\">SB</td><td style=\"text-align:left;white-space:pre\">SLB</td><td style=\"text-align:left;white-space:pre\">Solomon Islands</td><td style=\"text-align:left;white-space:pre\">Isole Solomon</td></tr><tr><td style=\"text-align:left;white-space:pre\">sc</td><td style=\"text-align:left;white-space:pre\">SC</td><td style=\"text-align:left;white-space:pre\">SYC</td><td style=\"text-align:left;white-space:pre\">Seychelles</td><td style=\"text-align:left;white-space:pre\">Seychelles</td></tr><tr><td style=\"text-align:left;white-space:pre\">sd</td><td style=\"text-align:left;white-space:pre\">SD</td><td style=\"text-align:left;white-space:pre\">SDN</td><td style=\"text-align:left;white-space:pre\">Sudan</td><td style=\"text-align:left;white-space:pre\">Sudan</td></tr><tr><td style=\"text-align:left;white-space:pre\">se</td><td style=\"text-align:left;white-space:pre\">SE</td><td style=\"text-align:left;white-space:pre\">SWE</td><td style=\"text-align:left;white-space:pre\">Sweden</td><td style=\"text-align:left;white-space:pre\">Svezia</td></tr><tr><td style=\"text-align:left;white-space:pre\">sg</td><td style=\"text-align:left;white-space:pre\">SG</td><td style=\"text-align:left;white-space:pre\">SGP</td><td style=\"text-align:left;white-space:pre\">Singapore</td><td style=\"text-align:left;white-space:pre\">Singapore</td></tr><tr><td style=\"text-align:left;white-space:pre\">sh</td><td style=\"text-align:left;white-space:pre\">SH</td><td style=\"text-align:left;white-space:pre\">SHN</td><td style=\"text-align:left;white-space:pre\">Saint Helena</td><td style=\"text-align:left;white-space:pre\">Sant'Elena</td></tr><tr><td style=\"text-align:left;white-space:pre\">si</td><td style=\"text-align:left;white-space:pre\">SI</td><td style=\"text-align:left;white-space:pre\">SVN</td><td style=\"text-align:left;white-space:pre\">Slovenia</td><td style=\"text-align:left;white-space:pre\">Slovenia</td></tr><tr><td style=\"text-align:left;white-space:pre\">sj</td><td style=\"text-align:left;white-space:pre\">SJ</td><td style=\"text-align:left;white-space:pre\">SJM</td><td style=\"text-align:left;white-space:pre\">Svalbard and Jan Mayen Islands</td><td style=\"text-align:left;white-space:pre\">Svalbard e Jan Mayen</td></tr><tr><td style=\"text-align:left;white-space:pre\">sk</td><td style=\"text-align:left;white-space:pre\">SK</td><td style=\"text-align:left;white-space:pre\">SVK</td><td style=\"text-align:left;white-space:pre\">Slovakia</td><td style=\"text-align:left;white-space:pre\">Slovacchia</td></tr><tr><td style=\"text-align:left;white-space:pre\">sl</td><td style=\"text-align:left;white-space:pre\">SL</td><td style=\"text-align:left;white-space:pre\">SLE</td><td style=\"text-align:left;white-space:pre\">Sierra Leone</td><td style=\"text-align:left;white-space:pre\">Sierra Leone</td></tr><tr><td style=\"text-align:left;white-space:pre\">sm</td><td style=\"text-align:left;white-space:pre\">SM</td><td style=\"text-align:left;white-space:pre\">SMR</td><td style=\"text-align:left;white-space:pre\">San Marino</td><td style=\"text-align:left;white-space:pre\">San Marino</td></tr><tr><td style=\"text-align:left;white-space:pre\">sn</td><td style=\"text-align:left;white-space:pre\">SN</td><td style=\"text-align:left;white-space:pre\">SEN</td><td style=\"text-align:left;white-space:pre\">Senegal</td><td style=\"text-align:left;white-space:pre\">Senegal</td></tr><tr><td style=\"text-align:left;white-space:pre\">so</td><td style=\"text-align:left;white-space:pre\">SO</td><td style=\"text-align:left;white-space:pre\">SOM</td><td style=\"text-align:left;white-space:pre\">Somalia</td><td style=\"text-align:left;white-space:pre\">Somalia</td></tr><tr><td style=\"text-align:left;white-space:pre\">sr</td><td style=\"text-align:left;white-space:pre\">SR</td><td style=\"text-align:left;white-space:pre\">SUR</td><td style=\"text-align:left;white-space:pre\">Suriname</td><td style=\"text-align:left;white-space:pre\">Suriname</td></tr><tr><td style=\"text-align:left;white-space:pre\">st</td><td style=\"text-align:left;white-space:pre\">ST</td><td style=\"text-align:left;white-space:pre\">STP</td><td style=\"text-align:left;white-space:pre\">Sao Tome and Principe</td><td style=\"text-align:left;white-space:pre\">Sao Tome e Principe</td></tr><tr><td style=\"text-align:left;white-space:pre\">su</td><td style=\"text-align:left;white-space:pre\">SU</td><td style=\"text-align:left;white-space:pre\">SUN</td><td style=\"text-align:left;white-space:pre\">USSR</td><td style=\"text-align:left;white-space:pre\">NULL</td></tr><tr><td style=\"text-align:left;white-space:pre\">sv</td><td style=\"text-align:left;white-space:pre\">SV</td><td style=\"text-align:left;white-space:pre\">SLV</td><td style=\"text-align:left;white-space:pre\">El Salvador</td><td style=\"text-align:left;white-space:pre\">El Salvador</td></tr><tr><td style=\"text-align:left;white-space:pre\">sy</td><td style=\"text-align:left;white-space:pre\">SY</td><td style=\"text-align:left;white-space:pre\">SYR</td><td style=\"text-align:left;white-space:pre\">Syria</td><td style=\"text-align:left;white-space:pre\">Siria</td></tr><tr><td style=\"text-align:left;white-space:pre\">sz</td><td style=\"text-align:left;white-space:pre\">SZ</td><td style=\"text-align:left;white-space:pre\">SWZ</td><td style=\"text-align:left;white-space:pre\">Swaziland</td><td style=\"text-align:left;white-space:pre\">Swaziland</td></tr><tr><td style=\"text-align:left;white-space:pre\">tc</td><td style=\"text-align:left;white-space:pre\">TC</td><td style=\"text-align:left;white-space:pre\">TCA</td><td style=\"text-align:left;white-space:pre\">Turks and Caicos Islands</td><td style=\"text-align:left;white-space:pre\">Isole Turks e Caicos</td></tr><tr><td style=\"text-align:left;white-space:pre\">td</td><td style=\"text-align:left;white-space:pre\">TD</td><td style=\"text-align:left;white-space:pre\">TCD</td><td style=\"text-align:left;white-space:pre\">Chad</td><td style=\"text-align:left;white-space:pre\">Ciad</td></tr><tr><td style=\"text-align:left;white-space:pre\">tf</td><td style=\"text-align:left;white-space:pre\">NULL</td><td style=\"text-align:left;white-space:pre\">NULL</td><td style=\"text-align:left;white-space:pre\">French Southern Territories</td><td style=\"text-align:left;white-space:pre\">NULL</td></tr><tr><td style=\"text-align:left;white-space:pre\">tg</td><td style=\"text-align:left;white-space:pre\">TG</td><td style=\"text-align:left;white-space:pre\">TGO</td><td style=\"text-align:left;white-space:pre\">Togo</td><td style=\"text-align:left;white-space:pre\">Togo</td></tr><tr><td style=\"text-align:left;white-space:pre\">th</td><td style=\"text-align:left;white-space:pre\">TH</td><td style=\"text-align:left;white-space:pre\">THA</td><td style=\"text-align:left;white-space:pre\">Thailand</td><td style=\"text-align:left;white-space:pre\">Thailandia</td></tr><tr><td style=\"text-align:left;white-space:pre\">tj</td><td style=\"text-align:left;white-space:pre\">TJ</td><td style=\"text-align:left;white-space:pre\">TJK</td><td style=\"text-align:left;white-space:pre\">Tajikistan</td><td style=\"text-align:left;white-space:pre\">Tagikistan</td></tr><tr><td style=\"text-align:left;white-space:pre\">tk</td><td style=\"text-align:left;white-space:pre\">NULL</td><td style=\"text-align:left;white-space:pre\">NULL</td><td style=\"text-align:left;white-space:pre\">Tokelau</td><td style=\"text-align:left;white-space:pre\">NULL</td></tr><tr><td style=\"text-align:left;white-space:pre\">tm</td><td style=\"text-align:left;white-space:pre\">TM</td><td style=\"text-align:left;white-space:pre\">TKM</td><td style=\"text-align:left;white-space:pre\">Turkmenistan</td><td style=\"text-align:left;white-space:pre\">Turkmenistan</td></tr><tr><td style=\"text-align:left;white-space:pre\">tn</td><td style=\"text-align:left;white-space:pre\">TN</td><td style=\"text-align:left;white-space:pre\">TUN</td><td style=\"text-align:left;white-space:pre\">Tunisia</td><td style=\"text-align:left;white-space:pre\">Tunisia</td></tr><tr><td style=\"text-align:left;white-space:pre\">to</td><td style=\"text-align:left;white-space:pre\">TO</td><td style=\"text-align:left;white-space:pre\">TON</td><td style=\"text-align:left;white-space:pre\">Tonga</td><td style=\"text-align:left;white-space:pre\">Tonga</td></tr><tr><td style=\"text-align:left;white-space:pre\">tp</td><td style=\"text-align:left;white-space:pre\">TL</td><td style=\"text-align:left;white-space:pre\">TLS</td><td style=\"text-align:left;white-space:pre\">Timor-Leste</td><td style=\"text-align:left;white-space:pre\">Timor Est</td></tr><tr><td style=\"text-align:left;white-space:pre\">tr</td><td style=\"text-align:left;white-space:pre\">TR</td><td style=\"text-align:left;white-space:pre\">TUR</td><td style=\"text-align:left;white-space:pre\">Turkey</td><td style=\"text-align:left;white-space:pre\">Turchia</td></tr><tr><td style=\"text-align:left;white-space:pre\">tt</td><td style=\"text-align:left;white-space:pre\">TT</td><td style=\"text-align:left;white-space:pre\">TTO</td><td style=\"text-align:left;white-space:pre\">Trinidad and Tobago</td><td style=\"text-align:left;white-space:pre\">Trinidad e Tobago</td></tr><tr><td style=\"text-align:left;white-space:pre\">tv</td><td style=\"text-align:left;white-space:pre\">TV</td><td style=\"text-align:left;white-space:pre\">TUV</td><td style=\"text-align:left;white-space:pre\">Tuvalu</td><td style=\"text-align:left;white-space:pre\">Tuvalu</td></tr><tr><td style=\"text-align:left;white-space:pre\">tw</td><td style=\"text-align:left;white-space:pre\">TW</td><td style=\"text-align:left;white-space:pre\">TWN</td><td style=\"text-align:left;white-space:pre\">Taiwan</td><td style=\"text-align:left;white-space:pre\">Taiwan</td></tr><tr><td style=\"text-align:left;white-space:pre\">tz</td><td style=\"text-align:left;white-space:pre\">TZ</td><td style=\"text-align:left;white-space:pre\">TZA</td><td style=\"text-align:left;white-space:pre\">Tanzania</td><td style=\"text-align:left;white-space:pre\">Tanzania</td></tr><tr><td style=\"text-align:left;white-space:pre\">ua</td><td style=\"text-align:left;white-space:pre\">UA</td><td style=\"text-align:left;white-space:pre\">UKR</td><td style=\"text-align:left;white-space:pre\">Ukraine</td><td style=\"text-align:left;white-space:pre\">Ucraina</td></tr><tr><td style=\"text-align:left;white-space:pre\">ug</td><td style=\"text-align:left;white-space:pre\">UG</td><td style=\"text-align:left;white-space:pre\">UGA</td><td style=\"text-align:left;white-space:pre\">Uganda</td><td style=\"text-align:left;white-space:pre\">Uganda</td></tr><tr><td style=\"text-align:left;white-space:pre\">uk</td><td style=\"text-align:left;white-space:pre\">GB</td><td style=\"text-align:left;white-space:pre\">GBR</td><td style=\"text-align:left;white-space:pre\">United Kingdom</td><td style=\"text-align:left;white-space:pre\">Regno Unito</td></tr><tr><td style=\"text-align:left;white-space:pre\">um</td><td style=\"text-align:left;white-space:pre\">NULL</td><td style=\"text-align:left;white-space:pre\">NULL</td><td style=\"text-align:left;white-space:pre\">US Minor Outlying Islands</td><td style=\"text-align:left;white-space:pre\">NULL</td></tr><tr><td style=\"text-align:left;white-space:pre\">us</td><td style=\"text-align:left;white-space:pre\">US</td><td style=\"text-align:left;white-space:pre\">USA</td><td style=\"text-align:left;white-space:pre\">United States of America</td><td style=\"text-align:left;white-space:pre\">Stati Uniti d'America</td></tr><tr><td style=\"text-align:left;white-space:pre\">uy</td><td style=\"text-align:left;white-space:pre\">UY</td><td style=\"text-align:left;white-space:pre\">URY</td><td style=\"text-align:left;white-space:pre\">Uruguay</td><td style=\"text-align:left;white-space:pre\">Uruguay</td></tr><tr><td style=\"text-align:left;white-space:pre\">uz</td><td style=\"text-align:left;white-space:pre\">UZ</td><td style=\"text-align:left;white-space:pre\">UZB</td><td style=\"text-align:left;white-space:pre\">Uzbekistan</td><td style=\"text-align:left;white-space:pre\">Uzbekistan</td></tr><tr><td style=\"text-align:left;white-space:pre\">va</td><td style=\"text-align:left;white-space:pre\">VA</td><td style=\"text-align:left;white-space:pre\">VAT</td><td style=\"text-align:left;white-space:pre\">Vatican City State (Holy See)</td><td style=\"text-align:left;white-space:pre\">CittÃ  del Vaticano</td></tr><tr><td style=\"text-align:left;white-space:pre\">vc</td><td style=\"text-align:left;white-space:pre\">VC</td><td style=\"text-align:left;white-space:pre\">VCT</td><td style=\"text-align:left;white-space:pre\">Saint Vincent and the Grenadines</td><td style=\"text-align:left;white-space:pre\">Saint Vincent e Grenadine</td></tr><tr><td style=\"text-align:left;white-space:pre\">ve</td><td style=\"text-align:left;white-space:pre\">VE</td><td style=\"text-align:left;white-space:pre\">VEN</td><td style=\"text-align:left;white-space:pre\">Venezuela</td><td style=\"text-align:left;white-space:pre\">Venezuela</td></tr><tr><td style=\"text-align:left;white-space:pre\">vg</td><td style=\"text-align:left;white-space:pre\">IO</td><td style=\"text-align:left;white-space:pre\">VGB</td><td style=\"text-align:left;white-space:pre\">British Virgin Islands</td><td style=\"text-align:left;white-space:pre\">Isole Vergini Britanniche</td></tr><tr><td style=\"text-align:left;white-space:pre\">vi</td><td style=\"text-align:left;white-space:pre\">VI</td><td style=\"text-align:left;white-space:pre\">VIR</td><td style=\"text-align:left;white-space:pre\">United States Virgin Islands</td><td style=\"text-align:left;white-space:pre\">Isole Vergini Americane</td></tr><tr><td style=\"text-align:left;white-space:pre\">vn</td><td style=\"text-align:left;white-space:pre\">VN</td><td style=\"text-align:left;white-space:pre\">VNM</td><td style=\"text-align:left;white-space:pre\">Vietnam</td><td style=\"text-align:left;white-space:pre\">Vietnam</td></tr><tr><td style=\"text-align:left;white-space:pre\">vu</td><td style=\"text-align:left;white-space:pre\">VU</td><td style=\"text-align:left;white-space:pre\">VUT</td><td style=\"text-align:left;white-space:pre\">Vanuatu</td><td style=\"text-align:left;white-space:pre\">Vanuatu</td></tr><tr><td style=\"text-align:left;white-space:pre\">wf</td><td style=\"text-align:left;white-space:pre\">WF</td><td style=\"text-align:left;white-space:pre\">WLF</td><td style=\"text-align:left;white-space:pre\">Wallis and Futuna Islands</td><td style=\"text-align:left;white-space:pre\">Wallis e Futuna</td></tr><tr><td style=\"text-align:left;white-space:pre\">ws</td><td style=\"text-align:left;white-space:pre\">WS</td><td style=\"text-align:left;white-space:pre\">WSM</td><td style=\"text-align:left;white-space:pre\">Samoa</td><td style=\"text-align:left;white-space:pre\">Samoa</td></tr><tr><td style=\"text-align:left;white-space:pre\">ye</td><td style=\"text-align:left;white-space:pre\">YE</td><td style=\"text-align:left;white-space:pre\">YEM</td><td style=\"text-align:left;white-space:pre\">Yemen</td><td style=\"text-align:left;white-space:pre\">Yemen</td></tr><tr><td style=\"text-align:left;white-space:pre\">yt</td><td style=\"text-align:left;white-space:pre\">YT</td><td style=\"text-align:left;white-space:pre\">MYT</td><td style=\"text-align:left;white-space:pre\">Mayotte</td><td style=\"text-align:left;white-space:pre\">Mayotte</td></tr><tr><td style=\"text-align:left;white-space:pre\">yu</td><td style=\"text-align:left;white-space:pre\">YU</td><td style=\"text-align:left;white-space:pre\">YUG</td><td style=\"text-align:left;white-space:pre\">Yugoslavia</td><td style=\"text-align:left;white-space:pre\">NULL</td></tr><tr><td style=\"text-align:left;white-space:pre\">za</td><td style=\"text-align:left;white-space:pre\">ZA</td><td style=\"text-align:left;white-space:pre\">ZAF</td><td style=\"text-align:left;white-space:pre\">South Africa</td><td style=\"text-align:left;white-space:pre\">Sudafrica</td></tr><tr><td style=\"text-align:left;white-space:pre\">zm</td><td style=\"text-align:left;white-space:pre\">ZM</td><td style=\"text-align:left;white-space:pre\">ZMB</td><td style=\"text-align:left;white-space:pre\">Zambia</td><td style=\"text-align:left;white-space:pre\">Zambia</td></tr><tr><td style=\"text-align:left;white-space:pre\">zw</td><td style=\"text-align:left;white-space:pre\">ZW</td><td style=\"text-align:left;white-space:pre\">ZWE</td><td style=\"text-align:left;white-space:pre\">Zimbabwe</td><td style=\"text-align:left;white-space:pre\">Zimbabwe</td></tr></table></body></html>"
      ]
     },
     "metadata": {},
     "output_type": "display_data"
    }
   ],
   "source": [
    "SELECT * FROM apache_countries;"
   ]
  },
  {
   "cell_type": "code",
   "execution_count": 114,
   "id": "considered-mention",
   "metadata": {},
   "outputs": [
    {
     "data": {
      "text/html": [
       "<html><body><table border=\"1\"><tr><th style=\"text-align:left;white-space:pre\">code1</th><th style=\"text-align:left;white-space:pre\">code2</th><th style=\"text-align:left;white-space:pre\">code3</th><th style=\"text-align:left;white-space:pre\">country_name</th><th style=\"text-align:left;white-space:pre\">country_name_italian</th></tr><tr><td style=\"text-align:left;white-space:pre\">ac</td><td style=\"text-align:left;white-space:pre\">NULL</td><td style=\"text-align:left;white-space:pre\">NULL</td><td style=\"text-align:left;white-space:pre\">Ascension Island</td><td style=\"text-align:left;white-space:pre\">NULL</td></tr><tr><td style=\"text-align:left;white-space:pre\">ad</td><td style=\"text-align:left;white-space:pre\">AD</td><td style=\"text-align:left;white-space:pre\">AND</td><td style=\"text-align:left;white-space:pre\">Andorra</td><td style=\"text-align:left;white-space:pre\">Andorra</td></tr><tr><td style=\"text-align:left;white-space:pre\">ae</td><td style=\"text-align:left;white-space:pre\">AE</td><td style=\"text-align:left;white-space:pre\">ARE</td><td style=\"text-align:left;white-space:pre\">United Arab Emirates</td><td style=\"text-align:left;white-space:pre\">Emirati Arabi Uniti</td></tr><tr><td style=\"text-align:left;white-space:pre\">af</td><td style=\"text-align:left;white-space:pre\">AF</td><td style=\"text-align:left;white-space:pre\">AFG</td><td style=\"text-align:left;white-space:pre\">Afghanistan</td><td style=\"text-align:left;white-space:pre\">Afghanistan</td></tr><tr><td style=\"text-align:left;white-space:pre\">ag</td><td style=\"text-align:left;white-space:pre\">AG</td><td style=\"text-align:left;white-space:pre\">ATG</td><td style=\"text-align:left;white-space:pre\">Antigua and Barbuda</td><td style=\"text-align:left;white-space:pre\">Antigua e Barbuda</td></tr></table></body></html>"
      ]
     },
     "metadata": {},
     "output_type": "display_data"
    }
   ],
   "source": [
    "SELECT * FROM\n",
    "apache_countries LIMIT 5;"
   ]
  },
  {
   "cell_type": "code",
   "execution_count": 115,
   "id": "cooperative-walnut",
   "metadata": {},
   "outputs": [
    {
     "data": {
      "text/html": [
       "<html><body><table border=\"1\"><tr><th style=\"text-align:left;white-space:pre\">code1</th><th style=\"text-align:left;white-space:pre\">code2</th><th style=\"text-align:left;white-space:pre\">code3</th><th style=\"text-align:left;white-space:pre\">country_name</th><th style=\"text-align:left;white-space:pre\">country_name_italian</th></tr><tr><td style=\"text-align:left;white-space:pre\">af</td><td style=\"text-align:left;white-space:pre\">AF</td><td style=\"text-align:left;white-space:pre\">AFG</td><td style=\"text-align:left;white-space:pre\">Afghanistan</td><td style=\"text-align:left;white-space:pre\">Afghanistan</td></tr><tr><td style=\"text-align:left;white-space:pre\">al</td><td style=\"text-align:left;white-space:pre\">AL</td><td style=\"text-align:left;white-space:pre\">ALB</td><td style=\"text-align:left;white-space:pre\">Albania</td><td style=\"text-align:left;white-space:pre\">Albania</td></tr><tr><td style=\"text-align:left;white-space:pre\">dz</td><td style=\"text-align:left;white-space:pre\">DZ</td><td style=\"text-align:left;white-space:pre\">DZA</td><td style=\"text-align:left;white-space:pre\">Algeria</td><td style=\"text-align:left;white-space:pre\">Algeria</td></tr><tr><td style=\"text-align:left;white-space:pre\">as</td><td style=\"text-align:left;white-space:pre\">AS</td><td style=\"text-align:left;white-space:pre\">ASM</td><td style=\"text-align:left;white-space:pre\">American Samoa</td><td style=\"text-align:left;white-space:pre\">Samoa Americane</td></tr><tr><td style=\"text-align:left;white-space:pre\">ad</td><td style=\"text-align:left;white-space:pre\">AD</td><td style=\"text-align:left;white-space:pre\">AND</td><td style=\"text-align:left;white-space:pre\">Andorra</td><td style=\"text-align:left;white-space:pre\">Andorra</td></tr></table></body></html>"
      ]
     },
     "metadata": {},
     "output_type": "display_data"
    }
   ],
   "source": [
    "SELECT * FROM apache_countries\n",
    "ORDER BY country_name\n",
    "LIMIT 5;"
   ]
  },
  {
   "cell_type": "code",
   "execution_count": 116,
   "id": "successful-advice",
   "metadata": {},
   "outputs": [
    {
     "name": "stderr",
     "output_type": "stream",
     "text": [
      "Multiple primary key defined\r\n",
      "\u0007\u001b(B\u001b[0;7m\u001b(B\u001b[m\n"
     ]
    }
   ],
   "source": [
    "ALTER TABLE conservation_status\n",
    "CHANGE status_id conservation_status_id INT AUTO_INCREMENT PRIMARY KEY;"
   ]
  },
  {
   "cell_type": "code",
   "execution_count": 117,
   "id": "cheap-scope",
   "metadata": {},
   "outputs": [
    {
     "data": {
      "text/html": [
       "Query OK"
      ]
     },
     "metadata": {},
     "output_type": "display_data"
    }
   ],
   "source": [
    "ALTER TABLE birdwatchers.humans\n",
    "ADD INDEX human_names (name_last, name_first);"
   ]
  },
  {
   "cell_type": "code",
   "execution_count": 118,
   "id": "comfortable-guidance",
   "metadata": {},
   "outputs": [
    {
     "data": {
      "text/html": [
       "Query OK"
      ]
     },
     "metadata": {},
     "output_type": "display_data"
    }
   ],
   "source": [
    "ALTER TABLE conservation_status\n",
    "DROP PRIMARY KEY,\n",
    "CHANGE status_id conservation_status_id INT PRIMARY KEY AUTO_INCREMENT;"
   ]
  },
  {
   "cell_type": "code",
   "execution_count": null,
   "id": "treated-lebanon",
   "metadata": {},
   "outputs": [],
   "source": []
  }
 ],
 "metadata": {
  "kernelspec": {
   "display_name": "MariaDB",
   "language": "SQL",
   "name": "mariadb_kernel"
  },
  "language_info": {
   "file_extension": ".sql",
   "mimetype": "text/plain",
   "name": "SQL"
  }
 },
 "nbformat": 4,
 "nbformat_minor": 5
}
