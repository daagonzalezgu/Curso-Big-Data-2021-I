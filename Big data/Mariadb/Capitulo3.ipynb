{
 "cells": [
  {
   "cell_type": "markdown",
   "id": "incident-vector",
   "metadata": {},
   "source": [
    "# Explorando las bases de datos"
   ]
  },
  {
   "cell_type": "markdown",
   "id": "judicial-display",
   "metadata": {},
   "source": [
    "Primero imprimimos las bases de datos "
   ]
  },
  {
   "cell_type": "code",
   "execution_count": 2,
   "id": "manufactured-policy",
   "metadata": {},
   "outputs": [
    {
     "data": {
      "text/html": [
       "<html><body><table border=\"1\"><tr><th style=\"text-align:left;white-space:pre\">Database</th></tr><tr><td style=\"text-align:left;white-space:pre\">information_schema</td></tr><tr><td style=\"text-align:left;white-space:pre\">mysql</td></tr><tr><td style=\"text-align:left;white-space:pre\">performance_schema</td></tr><tr><td style=\"text-align:left;white-space:pre\">test</td></tr></table></body></html>"
      ]
     },
     "metadata": {},
     "output_type": "display_data"
    }
   ],
   "source": [
    "SHOW DATABASES;"
   ]
  },
  {
   "cell_type": "markdown",
   "id": "mineral-heather",
   "metadata": {},
   "source": [
    "Ahora, creamos una base de datos llamada test y las imprimimos"
   ]
  },
  {
   "cell_type": "code",
   "execution_count": 5,
   "id": "parliamentary-allergy",
   "metadata": {},
   "outputs": [
    {
     "data": {
      "text/html": [
       "Query OK"
      ]
     },
     "metadata": {},
     "output_type": "display_data"
    }
   ],
   "source": [
    "CREATE DATABASE test;\n",
    "#DROP DATABASE test; #Esto elimina la base de datos;"
   ]
  },
  {
   "cell_type": "code",
   "execution_count": 6,
   "id": "demanding-projector",
   "metadata": {},
   "outputs": [
    {
     "data": {
      "text/html": [
       "<html><body><table border=\"1\"><tr><th style=\"text-align:left;white-space:pre\">Database</th></tr><tr><td style=\"text-align:left;white-space:pre\">information_schema</td></tr><tr><td style=\"text-align:left;white-space:pre\">mysql</td></tr><tr><td style=\"text-align:left;white-space:pre\">performance_schema</td></tr><tr><td style=\"text-align:left;white-space:pre\">test</td></tr></table></body></html>"
      ]
     },
     "metadata": {},
     "output_type": "display_data"
    }
   ],
   "source": [
    "SHOW DATABASES;"
   ]
  },
  {
   "cell_type": "markdown",
   "id": "judicial-improvement",
   "metadata": {},
   "source": [
    "Creamos una tabla llamada books con tres campos"
   ]
  },
  {
   "cell_type": "code",
   "execution_count": 7,
   "id": "driven-reflection",
   "metadata": {},
   "outputs": [
    {
     "data": {
      "text/html": [
       "Query OK"
      ]
     },
     "metadata": {},
     "output_type": "display_data"
    }
   ],
   "source": [
    "CREATE TABLE test.books (book_id INT, title TEXT, status INT);"
   ]
  },
  {
   "cell_type": "markdown",
   "id": "current-traveler",
   "metadata": {},
   "source": [
    "Imprimimos las tablas"
   ]
  },
  {
   "cell_type": "code",
   "execution_count": 8,
   "id": "reserved-attempt",
   "metadata": {},
   "outputs": [
    {
     "data": {
      "text/html": [
       "<html><body><table border=\"1\"><tr><th style=\"text-align:left;white-space:pre\">Tables_in_test</th></tr><tr><td style=\"text-align:left;white-space:pre\">books</td></tr></table></body></html>"
      ]
     },
     "metadata": {},
     "output_type": "display_data"
    }
   ],
   "source": [
    "SHOW TABLES FROM test;"
   ]
  },
  {
   "cell_type": "markdown",
   "id": "bigger-terminal",
   "metadata": {},
   "source": [
    "Escogemos la base de datos test"
   ]
  },
  {
   "cell_type": "code",
   "execution_count": 9,
   "id": "adjustable-buddy",
   "metadata": {},
   "outputs": [
    {
     "data": {
      "text/html": [
       "Query OK"
      ]
     },
     "metadata": {},
     "output_type": "display_data"
    }
   ],
   "source": [
    "USE test;"
   ]
  },
  {
   "cell_type": "code",
   "execution_count": 10,
   "id": "printable-driver",
   "metadata": {},
   "outputs": [
    {
     "data": {
      "text/html": [
       "<html><body><table border=\"1\"><tr><th style=\"text-align:left;white-space:pre\">Tables_in_test</th></tr><tr><td style=\"text-align:left;white-space:pre\">books</td></tr></table></body></html>"
      ]
     },
     "metadata": {},
     "output_type": "display_data"
    }
   ],
   "source": [
    "SHOW TABLES;"
   ]
  },
  {
   "cell_type": "markdown",
   "id": "favorite-liberia",
   "metadata": {},
   "source": [
    "Ahora, veamos la información de la tabla test "
   ]
  },
  {
   "cell_type": "code",
   "execution_count": 11,
   "id": "pregnant-blackjack",
   "metadata": {},
   "outputs": [
    {
     "data": {
      "text/html": [
       "<html><body><table border=\"1\"><tr><th style=\"text-align:left;white-space:pre\">Field</th><th style=\"text-align:left;white-space:pre\">Type</th><th style=\"text-align:left;white-space:pre\">Null</th><th style=\"text-align:left;white-space:pre\">Key</th><th style=\"text-align:left;white-space:pre\">Default</th><th style=\"text-align:left;white-space:pre\">Extra</th></tr><tr><td style=\"text-align:left;white-space:pre\">book_id</td><td style=\"text-align:left;white-space:pre\">int(11)</td><td style=\"text-align:left;white-space:pre\">YES</td><td style=\"text-align:left;white-space:pre\"></td><td style=\"text-align:left;white-space:pre\">NULL</td><td style=\"text-align:left;white-space:pre\"></td></tr><tr><td style=\"text-align:left;white-space:pre\">title</td><td style=\"text-align:left;white-space:pre\">text</td><td style=\"text-align:left;white-space:pre\">YES</td><td style=\"text-align:left;white-space:pre\"></td><td style=\"text-align:left;white-space:pre\">NULL</td><td style=\"text-align:left;white-space:pre\"></td></tr><tr><td style=\"text-align:left;white-space:pre\">status</td><td style=\"text-align:left;white-space:pre\">int(11)</td><td style=\"text-align:left;white-space:pre\">YES</td><td style=\"text-align:left;white-space:pre\"></td><td style=\"text-align:left;white-space:pre\">NULL</td><td style=\"text-align:left;white-space:pre\"></td></tr></table></body></html>"
      ]
     },
     "metadata": {},
     "output_type": "display_data"
    }
   ],
   "source": [
    "DESCRIBE books;"
   ]
  },
  {
   "cell_type": "markdown",
   "id": "helpful-homeless",
   "metadata": {},
   "source": [
    "Ahora insertamos datos a la tabla"
   ]
  },
  {
   "cell_type": "code",
   "execution_count": 12,
   "id": "guided-chemical",
   "metadata": {},
   "outputs": [
    {
     "data": {
      "text/html": [
       "Query OK"
      ]
     },
     "metadata": {},
     "output_type": "display_data"
    }
   ],
   "source": [
    "INSERT INTO books VALUES(100, 'Heart of Darkness',0);\n",
    "INSERT INTO books VALUES(101, 'The Catcher of the Rye',1);\n",
    "INSERT INTO books VALUES(102, 'My Antonia',0);\n"
   ]
  },
  {
   "cell_type": "markdown",
   "id": "employed-rotation",
   "metadata": {},
   "source": [
    "Para ver la tabla con los nuevos registros"
   ]
  },
  {
   "cell_type": "code",
   "execution_count": 13,
   "id": "younger-choir",
   "metadata": {},
   "outputs": [
    {
     "data": {
      "text/html": [
       "<html><body><table border=\"1\"><tr><th style=\"text-align:left;white-space:pre\">book_id</th><th style=\"text-align:left;white-space:pre\">title</th><th style=\"text-align:left;white-space:pre\">status</th></tr><tr><td style=\"text-align:left;white-space:pre\">100</td><td style=\"text-align:left;white-space:pre\">Heart of Darkness</td><td style=\"text-align:left;white-space:pre\">0</td></tr><tr><td style=\"text-align:left;white-space:pre\">101</td><td style=\"text-align:left;white-space:pre\">The Catcher of the Rye</td><td style=\"text-align:left;white-space:pre\">1</td></tr><tr><td style=\"text-align:left;white-space:pre\">102</td><td style=\"text-align:left;white-space:pre\">My Antonia</td><td style=\"text-align:left;white-space:pre\">0</td></tr></table></body></html>"
      ]
     },
     "metadata": {},
     "output_type": "display_data"
    }
   ],
   "source": [
    "SELECT * FROM books;"
   ]
  },
  {
   "cell_type": "code",
   "execution_count": 14,
   "id": "advisory-transcript",
   "metadata": {},
   "outputs": [
    {
     "data": {
      "text/html": [
       "<html><body><table border=\"1\"><tr><th style=\"text-align:left;white-space:pre\">book_id</th><th style=\"text-align:left;white-space:pre\">title</th><th style=\"text-align:left;white-space:pre\">status</th></tr><tr><td style=\"text-align:left;white-space:pre\">101</td><td style=\"text-align:left;white-space:pre\">The Catcher of the Rye</td><td style=\"text-align:left;white-space:pre\">1</td></tr></table></body></html>"
      ]
     },
     "metadata": {},
     "output_type": "display_data"
    }
   ],
   "source": [
    "SELECT * FROM books  WHERE status = 1; "
   ]
  },
  {
   "cell_type": "code",
   "execution_count": 25,
   "id": "excess-paint",
   "metadata": {},
   "outputs": [
    {
     "name": "stderr",
     "output_type": "stream",
     "text": [
      "Your SQL code doesn't end with delimiter `;`\n"
     ]
    }
   ],
   "source": [
    "SELECT * FROM books WHERE status = 0 \\G\n",
    "#Este comando no funciona en este cuaderno, pero en la terminal funciona sin problema. \n",
    "#Su salida es imprimir los resultado que tienen estatus cero por medio de filas."
   ]
  },
  {
   "cell_type": "code",
   "execution_count": 26,
   "id": "adaptive-navigation",
   "metadata": {},
   "outputs": [
    {
     "data": {
      "text/html": [
       "Query OK"
      ]
     },
     "metadata": {},
     "output_type": "display_data"
    }
   ],
   "source": [
    "UPDATE books SET status = 1 WHERE book_id = 102; "
   ]
  },
  {
   "cell_type": "code",
   "execution_count": 27,
   "id": "academic-stereo",
   "metadata": {},
   "outputs": [
    {
     "data": {
      "text/html": [
       "<html><body><table border=\"1\"><tr><th style=\"text-align:left;white-space:pre\">book_id</th><th style=\"text-align:left;white-space:pre\">title</th><th style=\"text-align:left;white-space:pre\">status</th></tr><tr><td style=\"text-align:left;white-space:pre\">100</td><td style=\"text-align:left;white-space:pre\">Heart of Darkness</td><td style=\"text-align:left;white-space:pre\">0</td></tr><tr><td style=\"text-align:left;white-space:pre\">101</td><td style=\"text-align:left;white-space:pre\">The Catcher of the Rye</td><td style=\"text-align:left;white-space:pre\">1</td></tr><tr><td style=\"text-align:left;white-space:pre\">102</td><td style=\"text-align:left;white-space:pre\">My Antonia</td><td style=\"text-align:left;white-space:pre\">1</td></tr></table></body></html>"
      ]
     },
     "metadata": {},
     "output_type": "display_data"
    }
   ],
   "source": [
    "select * from  books;"
   ]
  },
  {
   "cell_type": "code",
   "execution_count": 28,
   "id": "experimental-citizenship",
   "metadata": {},
   "outputs": [
    {
     "data": {
      "text/html": [
       "<html><body><table border=\"1\"><tr><th style=\"text-align:left;white-space:pre\">book_id</th><th style=\"text-align:left;white-space:pre\">title</th><th style=\"text-align:left;white-space:pre\">status</th></tr><tr><td style=\"text-align:left;white-space:pre\">101</td><td style=\"text-align:left;white-space:pre\">The Catcher of the Rye</td><td style=\"text-align:left;white-space:pre\">1</td></tr><tr><td style=\"text-align:left;white-space:pre\">102</td><td style=\"text-align:left;white-space:pre\">My Antonia</td><td style=\"text-align:left;white-space:pre\">1</td></tr></table></body></html>"
      ]
     },
     "metadata": {},
     "output_type": "display_data"
    }
   ],
   "source": [
    "SELECT * FROM books WHERE status = 1;"
   ]
  },
  {
   "cell_type": "code",
   "execution_count": 29,
   "id": "contrary-lyric",
   "metadata": {},
   "outputs": [
    {
     "data": {
      "text/html": [
       "Query OK"
      ]
     },
     "metadata": {},
     "output_type": "display_data"
    }
   ],
   "source": [
    "UPDATE books SET status = 0 WHERE book_id = 101; "
   ]
  },
  {
   "cell_type": "code",
   "execution_count": 30,
   "id": "moderate-basis",
   "metadata": {},
   "outputs": [
    {
     "data": {
      "text/html": [
       "<html><body><table border=\"1\"><tr><th style=\"text-align:left;white-space:pre\">book_id</th><th style=\"text-align:left;white-space:pre\">title</th><th style=\"text-align:left;white-space:pre\">status</th></tr><tr><td style=\"text-align:left;white-space:pre\">100</td><td style=\"text-align:left;white-space:pre\">Heart of Darkness</td><td style=\"text-align:left;white-space:pre\">0</td></tr><tr><td style=\"text-align:left;white-space:pre\">101</td><td style=\"text-align:left;white-space:pre\">The Catcher of the Rye</td><td style=\"text-align:left;white-space:pre\">0</td></tr></table></body></html>"
      ]
     },
     "metadata": {},
     "output_type": "display_data"
    }
   ],
   "source": [
    "SELECT * FROM books WHERE status = 0; "
   ]
  },
  {
   "cell_type": "code",
   "execution_count": 31,
   "id": "curious-moore",
   "metadata": {},
   "outputs": [
    {
     "data": {
      "text/html": [
       "Query OK"
      ]
     },
     "metadata": {},
     "output_type": "display_data"
    }
   ],
   "source": [
    "UPDATE books SET title = 'The Catcher in the Rye', status = 1 \n",
    "WHERE book_id = 101; "
   ]
  },
  {
   "cell_type": "code",
   "execution_count": 32,
   "id": "emotional-strategy",
   "metadata": {},
   "outputs": [
    {
     "data": {
      "text/html": [
       "<html><body><table border=\"1\"><tr><th style=\"text-align:left;white-space:pre\">book_id</th><th style=\"text-align:left;white-space:pre\">title</th><th style=\"text-align:left;white-space:pre\">status</th></tr><tr><td style=\"text-align:left;white-space:pre\">100</td><td style=\"text-align:left;white-space:pre\">Heart of Darkness</td><td style=\"text-align:left;white-space:pre\">0</td></tr><tr><td style=\"text-align:left;white-space:pre\">101</td><td style=\"text-align:left;white-space:pre\">The Catcher in the Rye</td><td style=\"text-align:left;white-space:pre\">1</td></tr><tr><td style=\"text-align:left;white-space:pre\">102</td><td style=\"text-align:left;white-space:pre\">My Antonia</td><td style=\"text-align:left;white-space:pre\">1</td></tr></table></body></html>"
      ]
     },
     "metadata": {},
     "output_type": "display_data"
    }
   ],
   "source": [
    "SELECT * FROM books;"
   ]
  },
  {
   "cell_type": "markdown",
   "id": "isolated-sweden",
   "metadata": {},
   "source": [
    "# Un poco de complejidad"
   ]
  },
  {
   "cell_type": "code",
   "execution_count": 33,
   "id": "mounted-harbor",
   "metadata": {},
   "outputs": [
    {
     "data": {
      "text/html": [
       "Query OK"
      ]
     },
     "metadata": {},
     "output_type": "display_data"
    }
   ],
   "source": [
    "CREATE TABLE status_names (status_id INT, status_name CHAR(8));\n",
    "INSERT INTO status_names VALUES(0,'Inactive'),(1, 'Active');"
   ]
  },
  {
   "cell_type": "code",
   "execution_count": 34,
   "id": "virtual-curtis",
   "metadata": {},
   "outputs": [
    {
     "data": {
      "text/html": [
       "<html><body><table border=\"1\"><tr><th style=\"text-align:left;white-space:pre\">status_id</th><th style=\"text-align:left;white-space:pre\">status_name</th></tr><tr><td style=\"text-align:left;white-space:pre\">0</td><td style=\"text-align:left;white-space:pre\">Inactive</td></tr><tr><td style=\"text-align:left;white-space:pre\">1</td><td style=\"text-align:left;white-space:pre\">Active</td></tr></table></body></html>"
      ]
     },
     "metadata": {},
     "output_type": "display_data"
    }
   ],
   "source": [
    "SELECT * FROM status_names;"
   ]
  },
  {
   "cell_type": "code",
   "execution_count": 35,
   "id": "studied-liver",
   "metadata": {},
   "outputs": [
    {
     "data": {
      "text/html": [
       "Query OK"
      ]
     },
     "metadata": {},
     "output_type": "display_data"
    }
   ],
   "source": [
    "UPDATE status_names SET status_name = 'Inactivo' WHERE status_id = 0;"
   ]
  },
  {
   "cell_type": "code",
   "execution_count": 36,
   "id": "enormous-bedroom",
   "metadata": {},
   "outputs": [
    {
     "data": {
      "text/html": [
       "<html><body><table border=\"1\"><tr><th style=\"text-align:left;white-space:pre\">status_id</th><th style=\"text-align:left;white-space:pre\">status_name</th></tr><tr><td style=\"text-align:left;white-space:pre\">0</td><td style=\"text-align:left;white-space:pre\">Inactivo</td></tr><tr><td style=\"text-align:left;white-space:pre\">1</td><td style=\"text-align:left;white-space:pre\">Active</td></tr></table></body></html>"
      ]
     },
     "metadata": {},
     "output_type": "display_data"
    }
   ],
   "source": [
    "SELECT * FROM status_names;"
   ]
  },
  {
   "cell_type": "code",
   "execution_count": 37,
   "id": "attached-bridal",
   "metadata": {},
   "outputs": [
    {
     "data": {
      "text/html": [
       "Query OK"
      ]
     },
     "metadata": {},
     "output_type": "display_data"
    }
   ],
   "source": [
    "UPDATE status_names SET status_name = 'Inactive' WHERE status_id = 0;"
   ]
  },
  {
   "cell_type": "code",
   "execution_count": 38,
   "id": "dental-mistress",
   "metadata": {},
   "outputs": [
    {
     "data": {
      "text/html": [
       "<html><body><table border=\"1\"><tr><th style=\"text-align:left;white-space:pre\">status_id</th><th style=\"text-align:left;white-space:pre\">status_name</th></tr><tr><td style=\"text-align:left;white-space:pre\">0</td><td style=\"text-align:left;white-space:pre\">Inactive</td></tr><tr><td style=\"text-align:left;white-space:pre\">1</td><td style=\"text-align:left;white-space:pre\">Active</td></tr></table></body></html>"
      ]
     },
     "metadata": {},
     "output_type": "display_data"
    }
   ],
   "source": [
    "SELECT * FROM status_names;"
   ]
  },
  {
   "cell_type": "code",
   "execution_count": 39,
   "id": "altered-argument",
   "metadata": {},
   "outputs": [
    {
     "data": {
      "text/html": [
       "Query OK"
      ]
     },
     "metadata": {},
     "output_type": "display_data"
    }
   ],
   "source": [
    "INSERT INTO status_names VALUES (11, 'Ac');"
   ]
  },
  {
   "cell_type": "code",
   "execution_count": 40,
   "id": "infrared-hartford",
   "metadata": {},
   "outputs": [
    {
     "data": {
      "text/html": [
       "<html><body><table border=\"1\"><tr><th style=\"text-align:left;white-space:pre\">status_id</th><th style=\"text-align:left;white-space:pre\">status_name</th></tr><tr><td style=\"text-align:left;white-space:pre\">0</td><td style=\"text-align:left;white-space:pre\">Inactive</td></tr><tr><td style=\"text-align:left;white-space:pre\">1</td><td style=\"text-align:left;white-space:pre\">Active</td></tr><tr><td style=\"text-align:left;white-space:pre\">11</td><td style=\"text-align:left;white-space:pre\">Ac</td></tr></table></body></html>"
      ]
     },
     "metadata": {},
     "output_type": "display_data"
    }
   ],
   "source": [
    "SELECT * FROM status_names;"
   ]
  },
  {
   "cell_type": "code",
   "execution_count": 41,
   "id": "limited-florida",
   "metadata": {},
   "outputs": [
    {
     "data": {
      "text/html": [
       "Query OK"
      ]
     },
     "metadata": {},
     "output_type": "display_data"
    }
   ],
   "source": [
    "DELETE FROM status_names WHERE status_id = 11; "
   ]
  },
  {
   "cell_type": "code",
   "execution_count": 42,
   "id": "civil-matthew",
   "metadata": {},
   "outputs": [
    {
     "data": {
      "text/html": [
       "<html><body><table border=\"1\"><tr><th style=\"text-align:left;white-space:pre\">status_id</th><th style=\"text-align:left;white-space:pre\">status_name</th></tr><tr><td style=\"text-align:left;white-space:pre\">0</td><td style=\"text-align:left;white-space:pre\">Inactive</td></tr><tr><td style=\"text-align:left;white-space:pre\">1</td><td style=\"text-align:left;white-space:pre\">Active</td></tr></table></body></html>"
      ]
     },
     "metadata": {},
     "output_type": "display_data"
    }
   ],
   "source": [
    "SELECT * FROM status_names;"
   ]
  },
  {
   "cell_type": "code",
   "execution_count": 43,
   "id": "agreed-speaker",
   "metadata": {},
   "outputs": [
    {
     "data": {
      "text/html": [
       "<html><body><table border=\"1\"><tr><th style=\"text-align:left;white-space:pre\">book_id</th><th style=\"text-align:left;white-space:pre\">title</th><th style=\"text-align:left;white-space:pre\">status_name</th></tr><tr><td style=\"text-align:left;white-space:pre\">100</td><td style=\"text-align:left;white-space:pre\">Heart of Darkness</td><td style=\"text-align:left;white-space:pre\">Inactive</td></tr><tr><td style=\"text-align:left;white-space:pre\">101</td><td style=\"text-align:left;white-space:pre\">The Catcher in the Rye</td><td style=\"text-align:left;white-space:pre\">Active</td></tr><tr><td style=\"text-align:left;white-space:pre\">102</td><td style=\"text-align:left;white-space:pre\">My Antonia</td><td style=\"text-align:left;white-space:pre\">Active</td></tr></table></body></html>"
      ]
     },
     "metadata": {},
     "output_type": "display_data"
    }
   ],
   "source": [
    "SELECT book_id, title, status_name\n",
    "FROM books JOIN status_names\n",
    "WHERE status = status_id; "
   ]
  },
  {
   "cell_type": "code",
   "execution_count": null,
   "id": "becoming-hygiene",
   "metadata": {},
   "outputs": [],
   "source": []
  }
 ],
 "metadata": {
  "kernelspec": {
   "display_name": "MariaDB",
   "language": "SQL",
   "name": "mariadb_kernel"
  },
  "language_info": {
   "file_extension": ".sql",
   "mimetype": "text/plain",
   "name": "SQL"
  }
 },
 "nbformat": 4,
 "nbformat_minor": 5
}
